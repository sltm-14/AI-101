{
 "cells": [
  {
   "cell_type": "markdown",
   "metadata": {},
   "source": [
    "# CII.IA\n",
    "www.ciiia.mx\n",
    "\n",
    "*AI- DATA ENGINEER*\n"
   ]
  },
  {
   "cell_type": "markdown",
   "metadata": {},
   "source": [
    "## Configurando SQL"
   ]
  },
  {
   "cell_type": "markdown",
   "metadata": {},
   "source": [
    "Existen varias opciones para configurar SQL, aquí te ofrecemos algunas de ellas:\n",
    "\n",
    "1. MySQL\n",
    "    https://dev.mysql.com/downloads/\n",
    "\n",
    "2. Postgres\n",
    "    https://www.postgresql.org/download/\n",
    "\n",
    "3. Usando un entorno en anaconda\n",
    "\n",
    "4. Docker"
   ]
  },
  {
   "cell_type": "markdown",
   "metadata": {},
   "source": [
    "### 3. Anaconda \n",
    "Esta opción te permitira ver los ejercicios directamente en jupyter notebook\n",
    "\n",
    "0. Necesitas tener algun driver ya instalado y configurado. Ej. MySQL\n",
    "\n",
    "1. Configura un entorno:\n",
    "```bash \n",
    "$ conda create -n SQLenv python=3.7 scikit-learn=0.21.2 numpy matplotlib pandas pandas-profiling jupyter ```\n",
    "2. Activa el entorno \n",
    "```bash \n",
    "conda activate SQLenv\n",
    "```\n",
    "3. Instala las siguientes bibliotecas:\n",
    "\n",
    "    * Ipython-sql que nos permitira usar los comandos %sql y  %%sql                       .\n",
    "    \n",
    "```bash\n",
    "$ conda install -c conda-forge ipython-sql```\n",
    "\n",
    "    * SQLAlchemy\n",
    "```bash \n",
    "$ conda install -c anaconda sqlalchemy\n",
    "```\n",
    "4. Instala un driver DBAPI (Python Database API Specification) para el dialecto que quieras usar. SQLAlchemy soporta varios drivers; [lista completa](https://docs.sqlalchemy.org/en/13/dialects/).  \n",
    "\n",
    "Algunos populares:\n",
    "\n",
    "| Dialect              | Driver    | Conda Install Driver                  |\n",
    "|----------------------|-----------|---------------------------------------|\n",
    "| **MySQL**               | **PyMySQL**   | **conda install -c anaconda pymysql**     |\n",
    "| PostgreeSQL           | Pyscopg2  | conda install -c conda-forge psycopg2 |\n",
    "| SQLite               | Pysqlite  | conda install -c prometeia pysqlite   |\n",
    "| Oracle               | Cx Oracle | conda install -c anaconda cx_oracle   |\n",
    "| Microsoft SQL Server | Pyodbc    | conda install -c conda-forge pyodbc   |"
   ]
  },
  {
   "cell_type": "markdown",
   "metadata": {},
   "source": [
    "### 4. DOCKER"
   ]
  },
  {
   "cell_type": "markdown",
   "metadata": {},
   "source": [
    "- Ingredients:\n",
    "    - Docker.\n",
    "    - MySQL.\n",
    "    - \\[Oracle SQL Developer + MySQL connector\\] or MySQL Workbench."
   ]
  },
  {
   "cell_type": "markdown",
   "metadata": {},
   "source": [
    "### Setup:"
   ]
  },
  {
   "cell_type": "markdown",
   "metadata": {},
   "source": [
    "- 1. [Install Docker](https://www.docker.com/products/docker-desktop) for your OS.\n",
    "- 2. Open a shell and get a [MySQL container](https://hub.docker.com/_/mysql):  \n",
    "```bash\n",
    "$ docker pull mysql\n",
    "```  \n",
    "\n",
    "- 3. Create and start an instance of the container:\n",
    "```bash\n",
    "$ docker run --name some-mysql -e MYSQL_ROOT_PASSWORD=my-secret-pw  -p <host_port>:3306 -d mysql:<tag>\n",
    "```  \n",
    "    \n",
    "    *some-mysql* $\\rightarrow$ The name of your instance.\n",
    "    \n",
    "    *my-secret-pw* $\\rightarrow$ The root password of your mysql instance.\n",
    "    \n",
    "    *:tag* $\\rightarrow$ Tag must be specified only if you are not using the last container version.\n",
    "    \n",
    "    *host_port* $\\rightarrow$ Host port that will be forwarded to the MySQL container.\n",
    "    \n",
    "    *3306* $\\rightarrow$ MySQL default port.\n",
    "    \n",
    "    > Remember: after stopping the container, for starting it again the correct command is `start`, not `run`.\n",
    "    \n",
    "- 4. Choose a graphic tool to work with the database. Note that using a graphic tool is just for comfort reasons. Everything can be done using the MySQL shell. The recommended software applications are:\n",
    "    - MySQL Workbench.\n",
    "    - Oracle SQL Developer.  \n",
    "    ___\n",
    "    - 4.0 MySQL terminal:\n",
    "        ```bash\n",
    "        $ docker exec -it some-mysql bash \n",
    "        ```\n",
    "\n",
    "        ```bash\n",
    "        $ mysql -uroot -p\n",
    "         ```\n",
    "    ___\n",
    "    - 4.1 Instructions for SQL Developer:\n",
    "        - 4.1.1 Register[<sup>1<sup>](#fn1), download and install [SQL Developer](https://www.oracle.com/database/technologies/appdev/sql-developer.html).  \n",
    "        \n",
    "        - 4.1.2 Download and install the [JDBC Driver for MySQL (Connector/J)](https://www.mysql.com/products/connector/) choose the platform independent version.\n",
    "\n",
    "        - 4.1.3 *SQL Developer $\\rightarrow$ Tools $\\rightarrow$ Preferences $\\rightarrow$ Database $\\rightarrow$ Third Party JDBC Drivers $\\rightarrow$ Add Entry $\\rightarrow$ mysql-connector-java-x.x.xx.jar*\n",
    "        \n",
    "     ___\n",
    "\n",
    "    - 4.2 Downoad and install [MySQL Workbench](https://www.mysql.com/products/workbench/).\n",
    "\n",
    "- 5. Set up a *New connection...*\n",
    "    - Name it.\n",
    "    - Username: **root**\n",
    "    - Password: *my-secret-pw*\n",
    "    - Select the MySQL tab.\n",
    "    - Hostname: **localhost**\n",
    "    - Port: *host_port*\n",
    "\n",
    "- 6. Test and connect.\n",
    "\n",
    "- 7. Run a SQL command:  \n",
    "```mysql\n",
    "SHOW DATABASES;\n",
    "```\n",
    "\n",
    "<sup>1</sup>:<span id=\"fn1\"><sub>To avoid the registration process, it can also be downloaded from another source. It should be fine as long as the hashes match.</sub></sup></span>"
   ]
  },
  {
   "cell_type": "markdown",
   "metadata": {},
   "source": [
    "___"
   ]
  },
  {
   "cell_type": "markdown",
   "metadata": {},
   "source": [
    "#### Database restoration tasks:\n",
    "1. Copy the backup file into the docker container:\n",
    "    ````bash\n",
    "    docker cp dump_exercises.sql some-mysql:/home\n",
    "    ```\n",
    "2. Create a new database.\n",
    "    ```bash\n",
    "    mysql --user=root -p -e \"CREATE DATABASE mydb\"\n",
    "    ```\n",
    "3. Restore the database information.\n",
    "    ```bash\n",
    "    mysql --user=root -p --database=mydb < /home/dump_exercises.sql\n",
    "    ```\n",
    "4. Execute:\n",
    "    ```mysql\n",
    "    USE mydb;\n",
    "    ```"
   ]
  },
  {
   "cell_type": "markdown",
   "metadata": {},
   "source": [
    "---"
   ]
  }
 ],
 "metadata": {
  "kernelspec": {
   "display_name": "Python 3",
   "language": "python",
   "name": "python3"
  },
  "language_info": {
   "codemirror_mode": {
    "name": "ipython",
    "version": 3
   },
   "file_extension": ".py",
   "mimetype": "text/x-python",
   "name": "python",
   "nbconvert_exporter": "python",
   "pygments_lexer": "ipython3",
   "version": "3.8.5"
  },
  "toc": {
   "base_numbering": 1,
   "nav_menu": {},
   "number_sections": false,
   "sideBar": true,
   "skip_h1_title": false,
   "title_cell": "Table of Contents",
   "title_sidebar": "Contents",
   "toc_cell": false,
   "toc_position": {},
   "toc_section_display": true,
   "toc_window_display": false
  }
 },
 "nbformat": 4,
 "nbformat_minor": 2
}
