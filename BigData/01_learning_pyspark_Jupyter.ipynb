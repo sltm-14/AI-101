{
 "cells": [
  {
   "cell_type": "code",
   "execution_count": 1,
   "id": "c95479e7",
   "metadata": {},
   "outputs": [
    {
     "data": {
      "text/plain": [
       "['people.csv', 'people.json', 'people.txt', 'simple_text.txt']"
      ]
     },
     "execution_count": 1,
     "metadata": {},
     "output_type": "execute_result"
    }
   ],
   "source": [
    "import os\n",
    "\n",
    "path = \"./data\"\n",
    "files = os.listdir(path)\n",
    "files"
   ]
  },
  {
   "cell_type": "code",
   "execution_count": 2,
   "id": "c97a7697",
   "metadata": {},
   "outputs": [],
   "source": [
    "import findspark\n",
    "findspark.init()"
   ]
  },
  {
   "cell_type": "code",
   "execution_count": 3,
   "id": "e8a9bee2",
   "metadata": {},
   "outputs": [],
   "source": [
    "import pyspark\n",
    "from pyspark import SparkConf, SparkContext"
   ]
  },
  {
   "cell_type": "code",
   "execution_count": 4,
   "id": "48dbda4b",
   "metadata": {},
   "outputs": [],
   "source": [
    "conf = SparkConf().setMaster('local').setAppName('myApp')\n",
    "sc = SparkContext(conf=conf)"
   ]
  },
  {
   "cell_type": "code",
   "execution_count": 5,
   "id": "2da78b7c",
   "metadata": {},
   "outputs": [
    {
     "data": {
      "text/html": [
       "\n",
       "            <div>\n",
       "                <p><b>SparkSession - in-memory</b></p>\n",
       "                \n",
       "        <div>\n",
       "            <p><b>SparkContext</b></p>\n",
       "\n",
       "            <p><a href=\"http://LAPTOP-CJKH0U6O:4041\">Spark UI</a></p>\n",
       "\n",
       "            <dl>\n",
       "              <dt>Version</dt>\n",
       "                <dd><code>v3.1.1</code></dd>\n",
       "              <dt>Master</dt>\n",
       "                <dd><code>local</code></dd>\n",
       "              <dt>AppName</dt>\n",
       "                <dd><code>myApp</code></dd>\n",
       "            </dl>\n",
       "        </div>\n",
       "        \n",
       "            </div>\n",
       "        "
      ],
      "text/plain": [
       "<pyspark.sql.session.SparkSession at 0x1320b331730>"
      ]
     },
     "execution_count": 5,
     "metadata": {},
     "output_type": "execute_result"
    }
   ],
   "source": [
    "from pyspark.sql import SparkSession\n",
    "\n",
    "spark = SparkSession.builder \\\n",
    "                    .appName(\"learnig_pyspark\") \\\n",
    "                    .config(conf=SparkConf()).getOrCreate()\n",
    "spark"
   ]
  },
  {
   "cell_type": "code",
   "execution_count": 6,
   "id": "a51c47ba",
   "metadata": {},
   "outputs": [
    {
     "name": "stdout",
     "output_type": "stream",
     "text": [
      "+--------------+----+-------+---+\n",
      "|identification|name|surname|age|\n",
      "+--------------+----+-------+---+\n",
      "|             1|John|    Doe| 29|\n",
      "|             2|Jane|    Doe| 25|\n",
      "+--------------+----+-------+---+\n",
      "\n"
     ]
    }
   ],
   "source": [
    "from pyspark.sql import Row\n",
    "\n",
    "r = [Row(identification=1,name='John',surname='Doe',age=29),\n",
    "     Row(identification=2,name='Jane',surname='Doe',age=25)]\n",
    "df_data = spark.createDataFrame(r)\n",
    "\n",
    "df_data.show()"
   ]
  },
  {
   "cell_type": "code",
   "execution_count": 7,
   "id": "fc2323b9",
   "metadata": {},
   "outputs": [
    {
     "data": {
      "text/plain": [
       "[Row(identification=1, name='John', surname='Doe', age=29),\n",
       " Row(identification=2, name='Jane', surname='Doe', age=25)]"
      ]
     },
     "execution_count": 7,
     "metadata": {},
     "output_type": "execute_result"
    }
   ],
   "source": [
    "df_data.head(3)"
   ]
  },
  {
   "cell_type": "code",
   "execution_count": 8,
   "id": "c2bd9db1",
   "metadata": {},
   "outputs": [
    {
     "data": {
      "text/plain": [
       "2"
      ]
     },
     "execution_count": 8,
     "metadata": {},
     "output_type": "execute_result"
    }
   ],
   "source": [
    "df_data.count() # cuenta el número de filas"
   ]
  },
  {
   "cell_type": "code",
   "execution_count": 9,
   "id": "95c6e193",
   "metadata": {},
   "outputs": [
    {
     "data": {
      "text/plain": [
       "['identification', 'name', 'surname', 'age']"
      ]
     },
     "execution_count": 9,
     "metadata": {},
     "output_type": "execute_result"
    }
   ],
   "source": [
    "df_data.columns # Nombre de las columnas"
   ]
  },
  {
   "cell_type": "code",
   "execution_count": 10,
   "id": "6ef376c3",
   "metadata": {},
   "outputs": [
    {
     "name": "stdout",
     "output_type": "stream",
     "text": [
      "+-----------------+--------------------+\n",
      "|       department|           employees|\n",
      "+-----------------+--------------------+\n",
      "|{1, Data Science}|[{John, Doe, john...|\n",
      "|   {2, Marketing}|[{Helena, Ster, h...|\n",
      "+-----------------+--------------------+\n",
      "\n"
     ]
    }
   ],
   "source": [
    "dept1 = Row(id=1, name=\"Data Science\")\n",
    "dept2 = Row(id=2, name=\"Marketing\")\n",
    "\n",
    "Employee = Row(\"firstname\",\"lastname\",\"email\",\"salary\")\n",
    "e1 = Employee(\"John\",\"Doe\",\"johnd@domain.de\",90000)\n",
    "e2 = Employee(\"Jone\",\"Doe\",\"janed@domain.de\",92000)\n",
    "e3 = Employee(\"Helena\",\"Ster\",\"he.st@domain.de\",100000)\n",
    "\n",
    "dwe1 = Row(department=dept1, employees=[e1,e2])\n",
    "dwe2 = Row(department=dept2, employees=[e3])\n",
    "\n",
    "dwe_seq = [dwe1, dwe2]\n",
    "dwe_df = spark.createDataFrame(dwe_seq)\n",
    "\n",
    "dwe_df.show()"
   ]
  },
  {
   "cell_type": "code",
   "execution_count": null,
   "id": "370fc43d",
   "metadata": {},
   "outputs": [],
   "source": []
  }
 ],
 "metadata": {
  "kernelspec": {
   "display_name": "Python 3",
   "language": "python",
   "name": "python3"
  },
  "language_info": {
   "codemirror_mode": {
    "name": "ipython",
    "version": 3
   },
   "file_extension": ".py",
   "mimetype": "text/x-python",
   "name": "python",
   "nbconvert_exporter": "python",
   "pygments_lexer": "ipython3",
   "version": "3.8.8"
  }
 },
 "nbformat": 4,
 "nbformat_minor": 5
}
