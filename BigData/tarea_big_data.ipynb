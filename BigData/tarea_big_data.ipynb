{
 "cells": [
  {
   "cell_type": "markdown",
   "metadata": {
    "id": "Fy5OpVpFKM0y"
   },
   "source": [
    "# RETO BIG DATA"
   ]
  },
  {
   "cell_type": "markdown",
   "metadata": {
    "id": "-23l-kOHKhNA"
   },
   "source": [
    "En este reto, estaremos haciendo varias querys con pyspark.\n",
    "Trabajaremos con la base de datos del Iris"
   ]
  },
  {
   "cell_type": "code",
   "execution_count": 1,
   "metadata": {},
   "outputs": [
    {
     "data": {
      "text/html": [
       "\n",
       "            <div>\n",
       "                <p><b>SparkSession - in-memory</b></p>\n",
       "                \n",
       "        <div>\n",
       "            <p><b>SparkContext</b></p>\n",
       "\n",
       "            <p><a href=\"http://LAPTOP-CJKH0U6O:4040\">Spark UI</a></p>\n",
       "\n",
       "            <dl>\n",
       "              <dt>Version</dt>\n",
       "                <dd><code>v3.1.1</code></dd>\n",
       "              <dt>Master</dt>\n",
       "                <dd><code>local</code></dd>\n",
       "              <dt>AppName</dt>\n",
       "                <dd><code>myApp</code></dd>\n",
       "            </dl>\n",
       "        </div>\n",
       "        \n",
       "            </div>\n",
       "        "
      ],
      "text/plain": [
       "<pyspark.sql.session.SparkSession at 0x288f06da0a0>"
      ]
     },
     "execution_count": 1,
     "metadata": {},
     "output_type": "execute_result"
    }
   ],
   "source": [
    "import findspark\n",
    "findspark.init()\n",
    "\n",
    "import pyspark\n",
    "from pyspark import SparkConf, SparkContext\n",
    "\n",
    "conf = SparkConf().setMaster('local').setAppName('myApp')\n",
    "sc = SparkContext(conf=conf)\n",
    "\n",
    "from pyspark.sql import SparkSession\n",
    "\n",
    "spark = SparkSession.builder \\\n",
    "                    .appName(\"learnig_pyspark\") \\\n",
    "                    .config(conf=SparkConf()).getOrCreate()\n",
    "spark"
   ]
  },
  {
   "cell_type": "code",
   "execution_count": 2,
   "metadata": {
    "colab": {
     "base_uri": "https://localhost:8080/"
    },
    "id": "dJiU_-rdND6o",
    "outputId": "2a593c1f-8b95-4342-a395-d158039c882c"
   },
   "outputs": [
    {
     "data": {
      "text/plain": [
       "DataFrame[sepal_length: double, sepal_width: double, petal_length: double, petal_width: double, species: string]"
      ]
     },
     "execution_count": 2,
     "metadata": {},
     "output_type": "execute_result"
    }
   ],
   "source": [
    "import pandas as pd\n",
    "from pyspark.sql import Row\n",
    "from pyspark.sql.types import StringType, IntegerType, FloatType, DoubleType, StructField, StructType\n",
    "from pyspark.sql import functions as F\n",
    "\n",
    "url_file = \"https://gist.githubusercontent.com/curran/a08a1080b88344b0c8a7/\" \\\n",
    "            \"raw/d546eaee765268bf2f487608c537c05e22e4b221/iris.csv\"\n",
    "\n",
    "iris = spark.createDataFrame(pd.read_csv(url_file))\n",
    "iris\n"
   ]
  },
  {
   "cell_type": "markdown",
   "metadata": {
    "id": "xZtpivTSfHrw"
   },
   "source": [
    "\n",
    "## **NOTA **\n",
    "```\n",
    "##recuerda que si lo quieres hacer con queries de sql tienes que hacer la vista temporal de la bdd\n",
    "iris.createOrReplaceTempView(\"iris\")\n",
    "\n",
    "## EJEMPLO QUERY\n",
    "query = \"\"\"\n",
    "SELECT *\n",
    "FROM iris\n",
    "\"\"\"\n",
    "\n",
    "spark.sql(query).show()\n",
    "```"
   ]
  },
  {
   "cell_type": "code",
   "execution_count": 3,
   "metadata": {},
   "outputs": [],
   "source": [
    "iris.createOrReplaceTempView(\"iris\")"
   ]
  },
  {
   "cell_type": "markdown",
   "metadata": {
    "id": "LIZCIo_AdLTC"
   },
   "source": [
    "# EJERCICIOS"
   ]
  },
  {
   "cell_type": "markdown",
   "metadata": {
    "id": "7jQnbs3xSH8O"
   },
   "source": [
    "### 1. ¿Cuantos registros tiene la base de datos?"
   ]
  },
  {
   "cell_type": "markdown",
   "metadata": {},
   "source": [
    "<p style=\"color:#288CE1;\">Spark SQL</p>"
   ]
  },
  {
   "cell_type": "code",
   "execution_count": 4,
   "metadata": {
    "colab": {
     "base_uri": "https://localhost:8080/"
    },
    "id": "J4uA7bC0Sp_0",
    "outputId": "71593c5f-e5e3-4c2b-c7bc-af1f7523bb6e"
   },
   "outputs": [
    {
     "data": {
      "text/plain": [
       "150"
      ]
     },
     "execution_count": 4,
     "metadata": {},
     "output_type": "execute_result"
    }
   ],
   "source": [
    "iris.count()"
   ]
  },
  {
   "cell_type": "markdown",
   "metadata": {},
   "source": [
    "<p style=\"color:#995BD8;\">SQL Query</p>"
   ]
  },
  {
   "cell_type": "code",
   "execution_count": 5,
   "metadata": {},
   "outputs": [
    {
     "name": "stdout",
     "output_type": "stream",
     "text": [
      "+--------+\n",
      "|count(1)|\n",
      "+--------+\n",
      "|     150|\n",
      "+--------+\n",
      "\n"
     ]
    }
   ],
   "source": [
    "query = \"\"\"\n",
    "SELECT count(*)\n",
    "FROM iris\n",
    "\"\"\"\n",
    "\n",
    "spark.sql(query).show()"
   ]
  },
  {
   "cell_type": "markdown",
   "metadata": {
    "id": "6Ihn8rt8ST9n"
   },
   "source": [
    "### 2. ¿Cúales son los valores min y max de cada una de las variables?"
   ]
  },
  {
   "cell_type": "markdown",
   "metadata": {},
   "source": [
    "<p style=\"color:#288CE1;\">Spark SQL</p>"
   ]
  },
  {
   "cell_type": "code",
   "execution_count": 6,
   "metadata": {},
   "outputs": [
    {
     "name": "stdout",
     "output_type": "stream",
     "text": [
      "+-----------------+-----------------+\n",
      "|max(sepal_length)|min(sepal_length)|\n",
      "+-----------------+-----------------+\n",
      "|              7.9|              4.3|\n",
      "+-----------------+-----------------+\n",
      "\n",
      "+----------------+----------------+\n",
      "|max(sepal_width)|min(sepal_width)|\n",
      "+----------------+----------------+\n",
      "|             4.4|             2.0|\n",
      "+----------------+----------------+\n",
      "\n",
      "+-----------------+-----------------+\n",
      "|max(petal_length)|min(petal_length)|\n",
      "+-----------------+-----------------+\n",
      "|              6.9|              1.0|\n",
      "+-----------------+-----------------+\n",
      "\n",
      "+----------------+----------------+\n",
      "|max(petal_width)|min(petal_width)|\n",
      "+----------------+----------------+\n",
      "|             2.5|             0.1|\n",
      "+----------------+----------------+\n",
      "\n",
      "+------------+------------+\n",
      "|max(species)|min(species)|\n",
      "+------------+------------+\n",
      "|   virginica|      setosa|\n",
      "+------------+------------+\n",
      "\n"
     ]
    }
   ],
   "source": [
    "from pyspark.sql.functions import max, min\n",
    "attributes = iris.columns\n",
    "\n",
    "for attribute in attributes:\n",
    "    iris.select([max(attribute), min(attribute)]).show()"
   ]
  },
  {
   "cell_type": "markdown",
   "metadata": {},
   "source": [
    "<p style=\"color:#995BD8;\">SQL Query</p>"
   ]
  },
  {
   "cell_type": "code",
   "execution_count": 7,
   "metadata": {},
   "outputs": [
    {
     "name": "stdout",
     "output_type": "stream",
     "text": [
      "+-----------------+-----------------+\n",
      "|max(sepal_length)|min(sepal_length)|\n",
      "+-----------------+-----------------+\n",
      "|              7.9|              4.3|\n",
      "+-----------------+-----------------+\n",
      "\n",
      "+----------------+----------------+\n",
      "|max(sepal_width)|min(sepal_width)|\n",
      "+----------------+----------------+\n",
      "|             4.4|             2.0|\n",
      "+----------------+----------------+\n",
      "\n",
      "+-----------------+-----------------+\n",
      "|max(petal_length)|min(petal_length)|\n",
      "+-----------------+-----------------+\n",
      "|              6.9|              1.0|\n",
      "+-----------------+-----------------+\n",
      "\n",
      "+----------------+----------------+\n",
      "|max(petal_width)|min(petal_width)|\n",
      "+----------------+----------------+\n",
      "|             2.5|             0.1|\n",
      "+----------------+----------------+\n",
      "\n",
      "+------------+------------+\n",
      "|max(species)|min(species)|\n",
      "+------------+------------+\n",
      "|   virginica|      setosa|\n",
      "+------------+------------+\n",
      "\n"
     ]
    }
   ],
   "source": [
    "attributes = iris.columns\n",
    "\n",
    "for attribute in attributes:\n",
    "    query = \"\"\"\n",
    "    SELECT MAX(\"\"\" + attribute + \"\"\"), MIN(\"\"\" + attribute + \"\"\")\n",
    "    FROM iris\n",
    "    \"\"\"\n",
    "\n",
    "    spark.sql(query).show()"
   ]
  },
  {
   "cell_type": "markdown",
   "metadata": {
    "id": "CGjWbrPBS39p"
   },
   "source": [
    "### 3. ¿Cúantos registros tienen un valor de sepal length mayor a 5.8? ¿corresponden a una clase en especifico?"
   ]
  },
  {
   "cell_type": "markdown",
   "metadata": {},
   "source": [
    "<p style=\"color:#703C36;\">70 registros tienen un largo de sépalo mayor a 5.8, y se encuentran en dos especies: virgínica y versicolor. </p>"
   ]
  },
  {
   "cell_type": "markdown",
   "metadata": {},
   "source": [
    " "
   ]
  },
  {
   "cell_type": "markdown",
   "metadata": {},
   "source": [
    "<p style=\"color:#288CE1;\">Spark SQL</p>"
   ]
  },
  {
   "cell_type": "code",
   "execution_count": 8,
   "metadata": {},
   "outputs": [
    {
     "data": {
      "text/plain": [
       "70"
      ]
     },
     "execution_count": 8,
     "metadata": {},
     "output_type": "execute_result"
    }
   ],
   "source": [
    "iris.filter(F.col(\"sepal_length\") > 5.8).count()"
   ]
  },
  {
   "cell_type": "code",
   "execution_count": 9,
   "metadata": {},
   "outputs": [
    {
     "name": "stdout",
     "output_type": "stream",
     "text": [
      "+----------+-----+\n",
      "|   species|count|\n",
      "+----------+-----+\n",
      "| virginica|   44|\n",
      "|versicolor|   26|\n",
      "+----------+-----+\n",
      "\n"
     ]
    }
   ],
   "source": [
    "iris.filter(F.col(\"sepal_length\") > 5.8).groupBy(\"species\").count().show()"
   ]
  },
  {
   "cell_type": "markdown",
   "metadata": {},
   "source": [
    "<p style=\"color:#995BD8;\">SQL Query</p>"
   ]
  },
  {
   "cell_type": "code",
   "execution_count": 10,
   "metadata": {},
   "outputs": [
    {
     "name": "stdout",
     "output_type": "stream",
     "text": [
      "+--------+\n",
      "|count(1)|\n",
      "+--------+\n",
      "|      70|\n",
      "+--------+\n",
      "\n"
     ]
    }
   ],
   "source": [
    "query = \"\"\"\n",
    "SELECT COUNT(*)\n",
    "FROM iris\n",
    "WHERE sepal_length > 5.8\n",
    "\"\"\"\n",
    "\n",
    "spark.sql(query).show()"
   ]
  },
  {
   "cell_type": "code",
   "execution_count": 11,
   "metadata": {},
   "outputs": [
    {
     "name": "stdout",
     "output_type": "stream",
     "text": [
      "+----------+--------+\n",
      "|   species|count(1)|\n",
      "+----------+--------+\n",
      "| virginica|      44|\n",
      "|versicolor|      26|\n",
      "+----------+--------+\n",
      "\n"
     ]
    }
   ],
   "source": [
    "query = \"\"\"\n",
    "SELECT species, COUNT(*)\n",
    "FROM iris\n",
    "WHERE sepal_length > 5.8\n",
    "GROUP BY species\n",
    "\"\"\"\n",
    "\n",
    "spark.sql(query).show()"
   ]
  },
  {
   "cell_type": "markdown",
   "metadata": {
    "id": "XwCoIS_VTfiQ"
   },
   "source": [
    "### 4. Selecciona aquellos registros cuya especie sea virginica"
   ]
  },
  {
   "cell_type": "markdown",
   "metadata": {},
   "source": [
    "<p style=\"color:#288CE1;\">Spark SQL</p>"
   ]
  },
  {
   "cell_type": "code",
   "execution_count": 12,
   "metadata": {},
   "outputs": [
    {
     "name": "stdout",
     "output_type": "stream",
     "text": [
      "+------------+-----------+------------+-----------+---------+\n",
      "|sepal_length|sepal_width|petal_length|petal_width|  species|\n",
      "+------------+-----------+------------+-----------+---------+\n",
      "|         6.3|        3.3|         6.0|        2.5|virginica|\n",
      "|         5.8|        2.7|         5.1|        1.9|virginica|\n",
      "|         7.1|        3.0|         5.9|        2.1|virginica|\n",
      "|         6.3|        2.9|         5.6|        1.8|virginica|\n",
      "|         6.5|        3.0|         5.8|        2.2|virginica|\n",
      "|         7.6|        3.0|         6.6|        2.1|virginica|\n",
      "|         4.9|        2.5|         4.5|        1.7|virginica|\n",
      "|         7.3|        2.9|         6.3|        1.8|virginica|\n",
      "|         6.7|        2.5|         5.8|        1.8|virginica|\n",
      "|         7.2|        3.6|         6.1|        2.5|virginica|\n",
      "|         6.5|        3.2|         5.1|        2.0|virginica|\n",
      "|         6.4|        2.7|         5.3|        1.9|virginica|\n",
      "|         6.8|        3.0|         5.5|        2.1|virginica|\n",
      "|         5.7|        2.5|         5.0|        2.0|virginica|\n",
      "|         5.8|        2.8|         5.1|        2.4|virginica|\n",
      "|         6.4|        3.2|         5.3|        2.3|virginica|\n",
      "|         6.5|        3.0|         5.5|        1.8|virginica|\n",
      "|         7.7|        3.8|         6.7|        2.2|virginica|\n",
      "|         7.7|        2.6|         6.9|        2.3|virginica|\n",
      "|         6.0|        2.2|         5.0|        1.5|virginica|\n",
      "+------------+-----------+------------+-----------+---------+\n",
      "only showing top 20 rows\n",
      "\n"
     ]
    }
   ],
   "source": [
    "iris.filter(F.col(\"species\") == \"virginica\").show()"
   ]
  },
  {
   "cell_type": "markdown",
   "metadata": {},
   "source": [
    "<p style=\"color:#995BD8;\">SQL Query</p>"
   ]
  },
  {
   "cell_type": "code",
   "execution_count": 13,
   "metadata": {},
   "outputs": [
    {
     "name": "stdout",
     "output_type": "stream",
     "text": [
      "+------------+-----------+------------+-----------+---------+\n",
      "|sepal_length|sepal_width|petal_length|petal_width|  species|\n",
      "+------------+-----------+------------+-----------+---------+\n",
      "|         6.3|        3.3|         6.0|        2.5|virginica|\n",
      "|         5.8|        2.7|         5.1|        1.9|virginica|\n",
      "|         7.1|        3.0|         5.9|        2.1|virginica|\n",
      "|         6.3|        2.9|         5.6|        1.8|virginica|\n",
      "|         6.5|        3.0|         5.8|        2.2|virginica|\n",
      "|         7.6|        3.0|         6.6|        2.1|virginica|\n",
      "|         4.9|        2.5|         4.5|        1.7|virginica|\n",
      "|         7.3|        2.9|         6.3|        1.8|virginica|\n",
      "|         6.7|        2.5|         5.8|        1.8|virginica|\n",
      "|         7.2|        3.6|         6.1|        2.5|virginica|\n",
      "|         6.5|        3.2|         5.1|        2.0|virginica|\n",
      "|         6.4|        2.7|         5.3|        1.9|virginica|\n",
      "|         6.8|        3.0|         5.5|        2.1|virginica|\n",
      "|         5.7|        2.5|         5.0|        2.0|virginica|\n",
      "|         5.8|        2.8|         5.1|        2.4|virginica|\n",
      "|         6.4|        3.2|         5.3|        2.3|virginica|\n",
      "|         6.5|        3.0|         5.5|        1.8|virginica|\n",
      "|         7.7|        3.8|         6.7|        2.2|virginica|\n",
      "|         7.7|        2.6|         6.9|        2.3|virginica|\n",
      "|         6.0|        2.2|         5.0|        1.5|virginica|\n",
      "+------------+-----------+------------+-----------+---------+\n",
      "only showing top 20 rows\n",
      "\n"
     ]
    }
   ],
   "source": [
    "query = \"\"\"\n",
    "SELECT *\n",
    "FROM iris\n",
    "WHERE species = \"virginica\"\n",
    "\"\"\"\n",
    "\n",
    "spark.sql(query).show()"
   ]
  },
  {
   "cell_type": "markdown",
   "metadata": {
    "id": "iRaJIy2RTo8l"
   },
   "source": [
    "### 5. ¿cúales registros tienen un petal_width menor a 1.5?"
   ]
  },
  {
   "cell_type": "markdown",
   "metadata": {},
   "source": [
    "<p style=\"color:#288CE1;\">Spark SQL</p>"
   ]
  },
  {
   "cell_type": "code",
   "execution_count": 14,
   "metadata": {},
   "outputs": [
    {
     "name": "stdout",
     "output_type": "stream",
     "text": [
      "+------------+-----------+------------+-----------+-------+\n",
      "|sepal_length|sepal_width|petal_length|petal_width|species|\n",
      "+------------+-----------+------------+-----------+-------+\n",
      "|         5.1|        3.5|         1.4|        0.2| setosa|\n",
      "|         4.9|        3.0|         1.4|        0.2| setosa|\n",
      "|         4.7|        3.2|         1.3|        0.2| setosa|\n",
      "|         4.6|        3.1|         1.5|        0.2| setosa|\n",
      "|         5.0|        3.6|         1.4|        0.2| setosa|\n",
      "|         5.4|        3.9|         1.7|        0.4| setosa|\n",
      "|         4.6|        3.4|         1.4|        0.3| setosa|\n",
      "|         5.0|        3.4|         1.5|        0.2| setosa|\n",
      "|         4.4|        2.9|         1.4|        0.2| setosa|\n",
      "|         4.9|        3.1|         1.5|        0.1| setosa|\n",
      "|         5.4|        3.7|         1.5|        0.2| setosa|\n",
      "|         4.8|        3.4|         1.6|        0.2| setosa|\n",
      "|         4.8|        3.0|         1.4|        0.1| setosa|\n",
      "|         4.3|        3.0|         1.1|        0.1| setosa|\n",
      "|         5.8|        4.0|         1.2|        0.2| setosa|\n",
      "|         5.7|        4.4|         1.5|        0.4| setosa|\n",
      "|         5.4|        3.9|         1.3|        0.4| setosa|\n",
      "|         5.1|        3.5|         1.4|        0.3| setosa|\n",
      "|         5.7|        3.8|         1.7|        0.3| setosa|\n",
      "|         5.1|        3.8|         1.5|        0.3| setosa|\n",
      "+------------+-----------+------------+-----------+-------+\n",
      "only showing top 20 rows\n",
      "\n"
     ]
    }
   ],
   "source": [
    "iris.filter(F.col(\"petal_width\") < 1.5).show()"
   ]
  },
  {
   "cell_type": "markdown",
   "metadata": {},
   "source": [
    "<p style=\"color:#995BD8;\">SQL Query</p>"
   ]
  },
  {
   "cell_type": "code",
   "execution_count": 15,
   "metadata": {
    "id": "wrg3MABadYRA"
   },
   "outputs": [
    {
     "name": "stdout",
     "output_type": "stream",
     "text": [
      "+------------+-----------+------------+-----------+-------+\n",
      "|sepal_length|sepal_width|petal_length|petal_width|species|\n",
      "+------------+-----------+------------+-----------+-------+\n",
      "|         5.1|        3.5|         1.4|        0.2| setosa|\n",
      "|         4.9|        3.0|         1.4|        0.2| setosa|\n",
      "|         4.7|        3.2|         1.3|        0.2| setosa|\n",
      "|         4.6|        3.1|         1.5|        0.2| setosa|\n",
      "|         5.0|        3.6|         1.4|        0.2| setosa|\n",
      "|         5.4|        3.9|         1.7|        0.4| setosa|\n",
      "|         4.6|        3.4|         1.4|        0.3| setosa|\n",
      "|         5.0|        3.4|         1.5|        0.2| setosa|\n",
      "|         4.4|        2.9|         1.4|        0.2| setosa|\n",
      "|         4.9|        3.1|         1.5|        0.1| setosa|\n",
      "|         5.4|        3.7|         1.5|        0.2| setosa|\n",
      "|         4.8|        3.4|         1.6|        0.2| setosa|\n",
      "|         4.8|        3.0|         1.4|        0.1| setosa|\n",
      "|         4.3|        3.0|         1.1|        0.1| setosa|\n",
      "|         5.8|        4.0|         1.2|        0.2| setosa|\n",
      "|         5.7|        4.4|         1.5|        0.4| setosa|\n",
      "|         5.4|        3.9|         1.3|        0.4| setosa|\n",
      "|         5.1|        3.5|         1.4|        0.3| setosa|\n",
      "|         5.7|        3.8|         1.7|        0.3| setosa|\n",
      "|         5.1|        3.8|         1.5|        0.3| setosa|\n",
      "+------------+-----------+------------+-----------+-------+\n",
      "only showing top 20 rows\n",
      "\n"
     ]
    }
   ],
   "source": [
    "query = \"\"\"\n",
    "SELECT *\n",
    "FROM iris\n",
    "WHERE petal_width < 1.5\n",
    "\"\"\"\n",
    "\n",
    "spark.sql(query).show()"
   ]
  },
  {
   "cell_type": "markdown",
   "metadata": {
    "id": "QHIQjh9yT9hE"
   },
   "source": [
    "### 6. Encuentra los registros que tengan un valor de petal_length entre 1.0 y 3.0"
   ]
  },
  {
   "cell_type": "markdown",
   "metadata": {},
   "source": [
    "<p style=\"color:#288CE1;\">Spark SQL</p>"
   ]
  },
  {
   "cell_type": "code",
   "execution_count": 16,
   "metadata": {},
   "outputs": [
    {
     "name": "stdout",
     "output_type": "stream",
     "text": [
      "+------------+-----------+------------+-----------+-------+\n",
      "|sepal_length|sepal_width|petal_length|petal_width|species|\n",
      "+------------+-----------+------------+-----------+-------+\n",
      "|         5.1|        3.5|         1.4|        0.2| setosa|\n",
      "|         4.9|        3.0|         1.4|        0.2| setosa|\n",
      "|         4.7|        3.2|         1.3|        0.2| setosa|\n",
      "|         4.6|        3.1|         1.5|        0.2| setosa|\n",
      "|         5.0|        3.6|         1.4|        0.2| setosa|\n",
      "|         5.4|        3.9|         1.7|        0.4| setosa|\n",
      "|         4.6|        3.4|         1.4|        0.3| setosa|\n",
      "|         5.0|        3.4|         1.5|        0.2| setosa|\n",
      "|         4.4|        2.9|         1.4|        0.2| setosa|\n",
      "|         4.9|        3.1|         1.5|        0.1| setosa|\n",
      "|         5.4|        3.7|         1.5|        0.2| setosa|\n",
      "|         4.8|        3.4|         1.6|        0.2| setosa|\n",
      "|         4.8|        3.0|         1.4|        0.1| setosa|\n",
      "|         4.3|        3.0|         1.1|        0.1| setosa|\n",
      "|         5.8|        4.0|         1.2|        0.2| setosa|\n",
      "|         5.7|        4.4|         1.5|        0.4| setosa|\n",
      "|         5.4|        3.9|         1.3|        0.4| setosa|\n",
      "|         5.1|        3.5|         1.4|        0.3| setosa|\n",
      "|         5.7|        3.8|         1.7|        0.3| setosa|\n",
      "|         5.1|        3.8|         1.5|        0.3| setosa|\n",
      "+------------+-----------+------------+-----------+-------+\n",
      "only showing top 20 rows\n",
      "\n"
     ]
    }
   ],
   "source": [
    "iris.filter(F.col(\"petal_length\").between(1,3)).show()"
   ]
  },
  {
   "cell_type": "markdown",
   "metadata": {},
   "source": [
    "<p style=\"color:#995BD8;\">SQL Query</p>"
   ]
  },
  {
   "cell_type": "code",
   "execution_count": 17,
   "metadata": {},
   "outputs": [
    {
     "name": "stdout",
     "output_type": "stream",
     "text": [
      "+------------+-----------+------------+-----------+-------+\n",
      "|sepal_length|sepal_width|petal_length|petal_width|species|\n",
      "+------------+-----------+------------+-----------+-------+\n",
      "|         5.1|        3.5|         1.4|        0.2| setosa|\n",
      "|         4.9|        3.0|         1.4|        0.2| setosa|\n",
      "|         4.7|        3.2|         1.3|        0.2| setosa|\n",
      "|         4.6|        3.1|         1.5|        0.2| setosa|\n",
      "|         5.0|        3.6|         1.4|        0.2| setosa|\n",
      "|         5.4|        3.9|         1.7|        0.4| setosa|\n",
      "|         4.6|        3.4|         1.4|        0.3| setosa|\n",
      "|         5.0|        3.4|         1.5|        0.2| setosa|\n",
      "|         4.4|        2.9|         1.4|        0.2| setosa|\n",
      "|         4.9|        3.1|         1.5|        0.1| setosa|\n",
      "|         5.4|        3.7|         1.5|        0.2| setosa|\n",
      "|         4.8|        3.4|         1.6|        0.2| setosa|\n",
      "|         4.8|        3.0|         1.4|        0.1| setosa|\n",
      "|         4.3|        3.0|         1.1|        0.1| setosa|\n",
      "|         5.8|        4.0|         1.2|        0.2| setosa|\n",
      "|         5.7|        4.4|         1.5|        0.4| setosa|\n",
      "|         5.4|        3.9|         1.3|        0.4| setosa|\n",
      "|         5.1|        3.5|         1.4|        0.3| setosa|\n",
      "|         5.7|        3.8|         1.7|        0.3| setosa|\n",
      "|         5.1|        3.8|         1.5|        0.3| setosa|\n",
      "+------------+-----------+------------+-----------+-------+\n",
      "only showing top 20 rows\n",
      "\n"
     ]
    }
   ],
   "source": [
    "query = \"\"\"\n",
    "SELECT *\n",
    "FROM iris\n",
    "WHERE petal_length > 1 AND  petal_length < 3 \n",
    "\"\"\"\n",
    "\n",
    "spark.sql(query).show()"
   ]
  },
  {
   "cell_type": "markdown",
   "metadata": {
    "id": "HVkaRs5uUIOb"
   },
   "source": [
    "### 7. ¿Cuantos registros hay de cada clase? "
   ]
  },
  {
   "cell_type": "markdown",
   "metadata": {},
   "source": [
    "<p style=\"color:#288CE1;\">Spark SQL</p>"
   ]
  },
  {
   "cell_type": "code",
   "execution_count": 18,
   "metadata": {},
   "outputs": [
    {
     "name": "stdout",
     "output_type": "stream",
     "text": [
      "+----------+-----+\n",
      "|   species|count|\n",
      "+----------+-----+\n",
      "| virginica|   50|\n",
      "|versicolor|   50|\n",
      "|    setosa|   50|\n",
      "+----------+-----+\n",
      "\n"
     ]
    }
   ],
   "source": [
    "iris.groupBy(\"species\").count().show()"
   ]
  },
  {
   "cell_type": "markdown",
   "metadata": {},
   "source": [
    "<p style=\"color:#995BD8;\">SQL Query</p>"
   ]
  },
  {
   "cell_type": "code",
   "execution_count": 19,
   "metadata": {},
   "outputs": [
    {
     "name": "stdout",
     "output_type": "stream",
     "text": [
      "+----------+--------------+\n",
      "|   species|count(species)|\n",
      "+----------+--------------+\n",
      "| virginica|            50|\n",
      "|versicolor|            50|\n",
      "|    setosa|            50|\n",
      "+----------+--------------+\n",
      "\n"
     ]
    }
   ],
   "source": [
    "query = \"\"\"\n",
    "SELECT species, COUNT(species)\n",
    "FROM iris\n",
    "GROUP BY species\n",
    "\"\"\"\n",
    "\n",
    "spark.sql(query).show()"
   ]
  },
  {
   "cell_type": "markdown",
   "metadata": {
    "id": "qRthfqYIUcod"
   },
   "source": [
    "### 8. Encuentra la clase setosa usando sus tres primeras letras"
   ]
  },
  {
   "cell_type": "markdown",
   "metadata": {},
   "source": [
    "<p style=\"color:#288CE1;\">Spark SQL</p>"
   ]
  },
  {
   "cell_type": "code",
   "execution_count": 20,
   "metadata": {},
   "outputs": [
    {
     "name": "stdout",
     "output_type": "stream",
     "text": [
      "+------------+-----------+------------+-----------+-------+\n",
      "|sepal_length|sepal_width|petal_length|petal_width|species|\n",
      "+------------+-----------+------------+-----------+-------+\n",
      "|         5.1|        3.5|         1.4|        0.2| setosa|\n",
      "|         4.9|        3.0|         1.4|        0.2| setosa|\n",
      "|         4.7|        3.2|         1.3|        0.2| setosa|\n",
      "|         4.6|        3.1|         1.5|        0.2| setosa|\n",
      "|         5.0|        3.6|         1.4|        0.2| setosa|\n",
      "|         5.4|        3.9|         1.7|        0.4| setosa|\n",
      "|         4.6|        3.4|         1.4|        0.3| setosa|\n",
      "|         5.0|        3.4|         1.5|        0.2| setosa|\n",
      "|         4.4|        2.9|         1.4|        0.2| setosa|\n",
      "|         4.9|        3.1|         1.5|        0.1| setosa|\n",
      "|         5.4|        3.7|         1.5|        0.2| setosa|\n",
      "|         4.8|        3.4|         1.6|        0.2| setosa|\n",
      "|         4.8|        3.0|         1.4|        0.1| setosa|\n",
      "|         4.3|        3.0|         1.1|        0.1| setosa|\n",
      "|         5.8|        4.0|         1.2|        0.2| setosa|\n",
      "|         5.7|        4.4|         1.5|        0.4| setosa|\n",
      "|         5.4|        3.9|         1.3|        0.4| setosa|\n",
      "|         5.1|        3.5|         1.4|        0.3| setosa|\n",
      "|         5.7|        3.8|         1.7|        0.3| setosa|\n",
      "|         5.1|        3.8|         1.5|        0.3| setosa|\n",
      "+------------+-----------+------------+-----------+-------+\n",
      "only showing top 20 rows\n",
      "\n"
     ]
    }
   ],
   "source": [
    "iris.filter( F.col(\"species\").startswith(\"set\")).show()"
   ]
  },
  {
   "cell_type": "markdown",
   "metadata": {},
   "source": [
    "<p style=\"color:#995BD8;\">SQL Query</p>"
   ]
  },
  {
   "cell_type": "code",
   "execution_count": 21,
   "metadata": {},
   "outputs": [
    {
     "name": "stdout",
     "output_type": "stream",
     "text": [
      "+------------+-----------+------------+-----------+-------+\n",
      "|sepal_length|sepal_width|petal_length|petal_width|species|\n",
      "+------------+-----------+------------+-----------+-------+\n",
      "|         5.1|        3.5|         1.4|        0.2| setosa|\n",
      "|         4.9|        3.0|         1.4|        0.2| setosa|\n",
      "|         4.7|        3.2|         1.3|        0.2| setosa|\n",
      "|         4.6|        3.1|         1.5|        0.2| setosa|\n",
      "|         5.0|        3.6|         1.4|        0.2| setosa|\n",
      "|         5.4|        3.9|         1.7|        0.4| setosa|\n",
      "|         4.6|        3.4|         1.4|        0.3| setosa|\n",
      "|         5.0|        3.4|         1.5|        0.2| setosa|\n",
      "|         4.4|        2.9|         1.4|        0.2| setosa|\n",
      "|         4.9|        3.1|         1.5|        0.1| setosa|\n",
      "|         5.4|        3.7|         1.5|        0.2| setosa|\n",
      "|         4.8|        3.4|         1.6|        0.2| setosa|\n",
      "|         4.8|        3.0|         1.4|        0.1| setosa|\n",
      "|         4.3|        3.0|         1.1|        0.1| setosa|\n",
      "|         5.8|        4.0|         1.2|        0.2| setosa|\n",
      "|         5.7|        4.4|         1.5|        0.4| setosa|\n",
      "|         5.4|        3.9|         1.3|        0.4| setosa|\n",
      "|         5.1|        3.5|         1.4|        0.3| setosa|\n",
      "|         5.7|        3.8|         1.7|        0.3| setosa|\n",
      "|         5.1|        3.8|         1.5|        0.3| setosa|\n",
      "+------------+-----------+------------+-----------+-------+\n",
      "only showing top 20 rows\n",
      "\n"
     ]
    }
   ],
   "source": [
    "query = \"\"\"\n",
    "SELECT *\n",
    "FROM iris\n",
    "WHERE species LIKE 'set%'\n",
    "\"\"\"\n",
    "\n",
    "spark.sql(query).show()"
   ]
  },
  {
   "cell_type": "markdown",
   "metadata": {
    "id": "ezWKJ-sUc1A2"
   },
   "source": [
    "### Extra: Hay una clase que se separa de las demás, ¿comparando sus diferentes variables puedes encontrarla?"
   ]
  },
  {
   "cell_type": "markdown",
   "metadata": {
    "id": "xrmQfTzWTGeK"
   },
   "source": [
    "\n",
    "<p style=\"color:#703C36;\">Setosa</p>\n",
    "    \n",
    "<p style=\"color:#703C36;\">Comparando los valores máximos y mínimos que se tiene de cada atributo por especie, se puede notar que el pétalo de la clase setosa es más pequeño tanto en ancho y largo, comparado con el de las otras especies.</p>\n",
    "\n"
   ]
  },
  {
   "cell_type": "markdown",
   "metadata": {},
   "source": [
    " "
   ]
  },
  {
   "cell_type": "markdown",
   "metadata": {},
   "source": [
    "<p style=\"color:#288CE1;\">Spark SQL</p>"
   ]
  },
  {
   "cell_type": "code",
   "execution_count": 24,
   "metadata": {},
   "outputs": [
    {
     "name": "stdout",
     "output_type": "stream",
     "text": [
      "+----------+-----------------+-----------------+\n",
      "|   species|max(sepal_length)|min(sepal_length)|\n",
      "+----------+-----------------+-----------------+\n",
      "| virginica|              7.9|              4.9|\n",
      "|versicolor|              7.0|              4.9|\n",
      "|    setosa|              5.8|              4.3|\n",
      "+----------+-----------------+-----------------+\n",
      "\n",
      "+----------+----------------+----------------+\n",
      "|   species|max(sepal_width)|min(sepal_width)|\n",
      "+----------+----------------+----------------+\n",
      "| virginica|             3.8|             2.2|\n",
      "|versicolor|             3.4|             2.0|\n",
      "|    setosa|             4.4|             2.3|\n",
      "+----------+----------------+----------------+\n",
      "\n",
      "+----------+-----------------+-----------------+\n",
      "|   species|max(petal_length)|min(petal_length)|\n",
      "+----------+-----------------+-----------------+\n",
      "| virginica|              6.9|              4.5|\n",
      "|versicolor|              5.1|              3.0|\n",
      "|    setosa|              1.9|              1.0|\n",
      "+----------+-----------------+-----------------+\n",
      "\n",
      "+----------+----------------+----------------+\n",
      "|   species|max(petal_width)|min(petal_width)|\n",
      "+----------+----------------+----------------+\n",
      "| virginica|             2.5|             1.4|\n",
      "|versicolor|             1.8|             1.0|\n",
      "|    setosa|             0.6|             0.1|\n",
      "+----------+----------------+----------------+\n",
      "\n",
      "+----------+------------+------------+\n",
      "|   species|max(species)|min(species)|\n",
      "+----------+------------+------------+\n",
      "| virginica|   virginica|   virginica|\n",
      "|versicolor|  versicolor|  versicolor|\n",
      "|    setosa|      setosa|      setosa|\n",
      "+----------+------------+------------+\n",
      "\n"
     ]
    }
   ],
   "source": [
    "from pyspark.sql.functions import max, min\n",
    "\n",
    "for attribute in attributes:\n",
    "    iris.groupBy(\"species\").agg(max(attribute), min(attribute)).show()"
   ]
  },
  {
   "cell_type": "markdown",
   "metadata": {},
   "source": [
    "<p style=\"color:#995BD8;\">SQL Query</p>"
   ]
  },
  {
   "cell_type": "code",
   "execution_count": 23,
   "metadata": {
    "id": "kc_tr4f1Tov4"
   },
   "outputs": [
    {
     "name": "stdout",
     "output_type": "stream",
     "text": [
      "+----------+-----------------+-----------------+\n",
      "|   species|max(sepal_length)|min(sepal_length)|\n",
      "+----------+-----------------+-----------------+\n",
      "| virginica|              7.9|              4.9|\n",
      "|versicolor|              7.0|              4.9|\n",
      "|    setosa|              5.8|              4.3|\n",
      "+----------+-----------------+-----------------+\n",
      "\n",
      "+----------+----------------+----------------+\n",
      "|   species|max(sepal_width)|min(sepal_width)|\n",
      "+----------+----------------+----------------+\n",
      "| virginica|             3.8|             2.2|\n",
      "|versicolor|             3.4|             2.0|\n",
      "|    setosa|             4.4|             2.3|\n",
      "+----------+----------------+----------------+\n",
      "\n",
      "+----------+-----------------+-----------------+\n",
      "|   species|max(petal_length)|min(petal_length)|\n",
      "+----------+-----------------+-----------------+\n",
      "| virginica|              6.9|              4.5|\n",
      "|versicolor|              5.1|              3.0|\n",
      "|    setosa|              1.9|              1.0|\n",
      "+----------+-----------------+-----------------+\n",
      "\n",
      "+----------+----------------+----------------+\n",
      "|   species|max(petal_width)|min(petal_width)|\n",
      "+----------+----------------+----------------+\n",
      "| virginica|             2.5|             1.4|\n",
      "|versicolor|             1.8|             1.0|\n",
      "|    setosa|             0.6|             0.1|\n",
      "+----------+----------------+----------------+\n",
      "\n",
      "+----------+------------+------------+\n",
      "|   species|max(species)|min(species)|\n",
      "+----------+------------+------------+\n",
      "| virginica|   virginica|   virginica|\n",
      "|versicolor|  versicolor|  versicolor|\n",
      "|    setosa|      setosa|      setosa|\n",
      "+----------+------------+------------+\n",
      "\n"
     ]
    }
   ],
   "source": [
    "attributes = iris.columns\n",
    "\n",
    "for attribute in attributes:\n",
    "    query = \"\"\"\n",
    "    SELECT species, MAX(\"\"\" + attribute + \"\"\"), MIN(\"\"\" + attribute + \"\"\")\n",
    "    FROM iris\n",
    "    GROUP BY species;\n",
    "    \"\"\"\n",
    "\n",
    "    spark.sql(query).show()"
   ]
  }
 ],
 "metadata": {
  "colab": {
   "name": "tarea_big_data.ipynb",
   "provenance": []
  },
  "kernelspec": {
   "display_name": "Python 3",
   "language": "python",
   "name": "python3"
  },
  "language_info": {
   "codemirror_mode": {
    "name": "ipython",
    "version": 3
   },
   "file_extension": ".py",
   "mimetype": "text/x-python",
   "name": "python",
   "nbconvert_exporter": "python",
   "pygments_lexer": "ipython3",
   "version": "3.8.8"
  }
 },
 "nbformat": 4,
 "nbformat_minor": 1
}
