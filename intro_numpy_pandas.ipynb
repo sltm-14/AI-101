{
  "nbformat": 4,
  "nbformat_minor": 0,
  "metadata": {
    "colab": {
      "name": "intro_numpy_pandas.ipynb",
      "provenance": [],
      "collapsed_sections": []
    },
    "kernelspec": {
      "name": "python3",
      "display_name": "Python 3"
    }
  },
  "cells": [
    {
      "cell_type": "markdown",
      "metadata": {
        "id": "mXIfpJcOpKLa"
      },
      "source": [
        "# Introducción a Numpy y Pandas\r\n",
        "\r\n",
        "*Numpy* es una librería de python especializada en operaciones númericas con matrices o arreglos multidimensionales.\r\n",
        "\r\n",
        "*Pandas* es una librería de python especializada en el manejo de datos organizados en tablas así como el procesamiento especializado para cálculos estadísticos y matemáticos."
      ]
    },
    {
      "cell_type": "markdown",
      "metadata": {
        "id": "g5NjvILyps2W"
      },
      "source": [
        "## Numpy\r\n",
        "\r\n",
        "La unidad básica de trabajo en Numpy son los *array*."
      ]
    },
    {
      "cell_type": "code",
      "metadata": {
        "id": "aehSL-4SprFw"
      },
      "source": [
        "# Importar numpy\r\n",
        "import numpy as np"
      ],
      "execution_count": null,
      "outputs": []
    },
    {
      "cell_type": "code",
      "metadata": {
        "id": "ZBJY3mRwp5iD"
      },
      "source": [
        "# Creando arreglos\r\n",
        "#1D\r\n",
        "a = np.array([1, 2, 3, 4, 5, 6])\r\n",
        "\r\n",
        "#2D\r\n",
        "b = np.array([[1, 2, 3, 4], [5, 6, 7, 8], [9, 10, 11, 12]])\r\n"
      ],
      "execution_count": null,
      "outputs": []
    },
    {
      "cell_type": "code",
      "metadata": {
        "id": "Tv1nsL8_qFjE"
      },
      "source": [
        "# Visualizarlos\r\n",
        "print(\"Arreglo 1D:\\n\", a)\r\n",
        "print(\"Arreglo 2D:\\n \", b)"
      ],
      "execution_count": null,
      "outputs": []
    },
    {
      "cell_type": "code",
      "metadata": {
        "id": "K7urqOSsqIWN"
      },
      "source": [
        "# Tamaño de arreglos\r\n",
        "print(a.ndim)\r\n",
        "print(a.size)\r\n",
        "print(a.shape)\r\n",
        "# ¿Qué crees que signifique cada uno de los resultados que obtuviste?\r\n",
        "# ¿Pueden obtener la misma información con el arreglo 2D?"
      ],
      "execution_count": null,
      "outputs": []
    },
    {
      "cell_type": "code",
      "metadata": {
        "id": "PaVZmPPlqkxp"
      },
      "source": [
        "# Accesando a datos individuales\r\n",
        "print(b[0])\r\n",
        "# ¿Qué parte del arreglo obtuvimos?"
      ],
      "execution_count": null,
      "outputs": []
    },
    {
      "cell_type": "code",
      "metadata": {
        "id": "2ghgxNgKrL5W"
      },
      "source": [
        "# Accesando a datos individuales\r\n",
        "print(b[0,0])\r\n",
        "# ¿Qué parte del arreglo obtuvimos?"
      ],
      "execution_count": null,
      "outputs": []
    },
    {
      "cell_type": "code",
      "metadata": {
        "id": "b9cYr0BorTP5"
      },
      "source": [
        "# Operaciones básicas\r\n",
        "# Suma\r\n",
        "a1 = np.array([[1,2],[3,4]])\r\n",
        "a2 = np.array([[5,0],[8,-3]])\r\n",
        "a3 = a1+a2\r\n",
        "print(a3)"
      ],
      "execution_count": null,
      "outputs": []
    },
    {
      "cell_type": "code",
      "metadata": {
        "id": "kwMZ7_1frmpS"
      },
      "source": [
        "# Multiplicación por escalares\r\n",
        "a4 = a1*5\r\n",
        "print(a4)"
      ],
      "execution_count": null,
      "outputs": []
    },
    {
      "cell_type": "code",
      "metadata": {
        "id": "dY3DArT1ryNo"
      },
      "source": [
        "# Operaciones adicionales\r\n",
        "print(a1.max())\r\n",
        "print(a1.min())\r\n",
        "print(a1.sum())"
      ],
      "execution_count": null,
      "outputs": []
    },
    {
      "cell_type": "code",
      "metadata": {
        "id": "ylgSLPjhr56W"
      },
      "source": [
        "# ¿Qué obtenemos con estas operaciones? ¿Que quiere decir el parametros axis?\r\n",
        "print(a1.max(axis=0))\r\n",
        "print(a1.min(axis=0))\r\n",
        "print(a1.sum(axis=0))"
      ],
      "execution_count": null,
      "outputs": []
    },
    {
      "cell_type": "code",
      "metadata": {
        "id": "U_lS2XqGsD1L"
      },
      "source": [
        "# ¿Qué obtenemos con estas operaciones? ¿Que quiere decir el parametros axis?\r\n",
        "print(a1.max(axis=1))\r\n",
        "print(a1.min(axis=1))\r\n",
        "print(a1.sum(axis=1))"
      ],
      "execution_count": null,
      "outputs": []
    },
    {
      "cell_type": "markdown",
      "metadata": {
        "id": "TK5bBHAb980E"
      },
      "source": [
        "## Pandas\n",
        "\n",
        "Una de las librerías que nos permite realizar fácilmente tareas de estadística es Pandas."
      ]
    },
    {
      "cell_type": "code",
      "metadata": {
        "id": "1WwqQFzK980F"
      },
      "source": [
        "# Importamos las librerías que ocuparemos en este ejercicio\n",
        "import pandas as pd"
      ],
      "execution_count": null,
      "outputs": []
    },
    {
      "cell_type": "markdown",
      "metadata": {
        "id": "WGJLGa_M980I"
      },
      "source": [
        "## Lectura de datos con Pandas"
      ]
    },
    {
      "cell_type": "code",
      "metadata": {
        "id": "nY7gDL-V_eCI"
      },
      "source": [
        "# Si estas usando google colab ejecutar esto\n",
        "from google.colab import files\n",
        "uploaded = files.upload()"
      ],
      "execution_count": null,
      "outputs": []
    },
    {
      "cell_type": "code",
      "metadata": {
        "id": "HG9FnMF8AIMV"
      },
      "source": [
        "# Lectura de datos con google colab\n",
        "import io\n",
        "df = pd.read_csv(io.BytesIO(uploaded['resultados_futbol.csv']))"
      ],
      "execution_count": null,
      "outputs": []
    },
    {
      "cell_type": "code",
      "metadata": {
        "id": "WF7nOl_t980I"
      },
      "source": [
        "# Lectura de datos\n",
        "df = pd.read_csv('resultados_futbol.csv')"
      ],
      "execution_count": null,
      "outputs": []
    },
    {
      "cell_type": "code",
      "metadata": {
        "id": "rkD1VfqaArdw"
      },
      "source": [
        "df"
      ],
      "execution_count": null,
      "outputs": []
    },
    {
      "cell_type": "code",
      "metadata": {
        "id": "l_UsrivU980K"
      },
      "source": [
        "# Analisis descriptivo de los datos\n",
        "df.describe()"
      ],
      "execution_count": null,
      "outputs": []
    },
    {
      "cell_type": "code",
      "metadata": {
        "id": "7MBI-qXM980M"
      },
      "source": [
        "# visualización\n",
        "df.head(10)"
      ],
      "execution_count": null,
      "outputs": []
    },
    {
      "cell_type": "code",
      "metadata": {
        "id": "FrFOWhXv980O"
      },
      "source": [
        "# Visualización\n",
        "df.tail()"
      ],
      "execution_count": null,
      "outputs": []
    },
    {
      "cell_type": "code",
      "metadata": {
        "id": "cXl4Qh6i980Q"
      },
      "source": [
        "# Filtrado de filas\n",
        "#df2 = df[df['home_team'] == 'Mexico']\n",
        "df2 = df[(df['home_team'] == 'Mexico') | (df['away_team'] == 'Mexico')]\n",
        "#df2 = df[df.home_team == 'Mexico']\n",
        "df2.head()"
      ],
      "execution_count": null,
      "outputs": []
    },
    {
      "cell_type": "code",
      "metadata": {
        "id": "OnCRuhTD980S"
      },
      "source": [
        "# Seleccionar columnas\n",
        "df2 = df[['home_team', 'home_score']]\n",
        "df2.head()"
      ],
      "execution_count": null,
      "outputs": []
    },
    {
      "cell_type": "markdown",
      "metadata": {
        "id": "Zzj_dqZa980U"
      },
      "source": [
        "## Retos"
      ]
    },
    {
      "cell_type": "markdown",
      "metadata": {
        "id": "4bdDmaNN980U"
      },
      "source": [
        "### Reto 1\n",
        "1. ¿Cuántos partidos ha jugado México como  local? ¿Cuántos como visitantes?\n",
        "2. ¿Cuál es el promedio de goles de México como visitante?\n",
        "3. ¿Cuál es el promedio de goles de México como local?\n",
        "4. ¿Cuál es el mayor número de goles anotados por México en partidos como local??\n",
        "4. ¿Cuál es el mayor número de goles anotados por México en partidos como visitante?"
      ]
    },
    {
      "cell_type": "code",
      "metadata": {
        "id": "s3fImrwZ980V"
      },
      "source": [
        "# Espacio para tu programa\n",
        "df_mx_local = df[df.home_team == 'Mexico']\n",
        "df_mx_local.shape"
      ],
      "execution_count": null,
      "outputs": []
    },
    {
      "cell_type": "code",
      "metadata": {
        "id": "ZVeXt0yHKZX5"
      },
      "source": [
        "df_mx_vis = df[df.away_team == 'Mexico']\n",
        "df_mx_vis.shape"
      ],
      "execution_count": null,
      "outputs": []
    },
    {
      "cell_type": "code",
      "metadata": {
        "id": "bta4OU1RKrrf"
      },
      "source": [
        "# Pregunta 3\n",
        "df_mx_local.home_score.mean()"
      ],
      "execution_count": null,
      "outputs": []
    },
    {
      "cell_type": "code",
      "metadata": {
        "id": "h8w4BnorLmYA"
      },
      "source": [
        "# Pregunta 4\n",
        "print(df_mx_local.home_score.max())\n",
        "print(df_mx_local.away_score.max())"
      ],
      "execution_count": null,
      "outputs": []
    },
    {
      "cell_type": "code",
      "metadata": {
        "id": "N0VMC0fjMM1R"
      },
      "source": [
        "print(df_mx_local.away_score.max())"
      ],
      "execution_count": null,
      "outputs": []
    },
    {
      "cell_type": "code",
      "metadata": {
        "id": "f7MnEbMdxTHM"
      },
      "source": [
        "df_mx_local[df_mx_local.away_score==7]"
      ],
      "execution_count": null,
      "outputs": []
    },
    {
      "cell_type": "code",
      "metadata": {
        "id": "EmBoMTCfxkCD"
      },
      "source": [
        "df[df.away_score==21]"
      ],
      "execution_count": null,
      "outputs": []
    },
    {
      "cell_type": "markdown",
      "metadata": {
        "id": "G5Mli80m980Y"
      },
      "source": [
        "### Reto 2\n",
        "Calcula el histograma de goles anotados por México como visitante."
      ]
    },
    {
      "cell_type": "code",
      "metadata": {
        "id": "mAcrfV6V980Z"
      },
      "source": [
        "# Creación histograma\n",
        "df_mx_vis.away_score.hist(bins=20)"
      ],
      "execution_count": null,
      "outputs": []
    },
    {
      "cell_type": "code",
      "metadata": {
        "id": "IZqGhJXS980c"
      },
      "source": [
        ""
      ],
      "execution_count": null,
      "outputs": []
    }
  ]
}