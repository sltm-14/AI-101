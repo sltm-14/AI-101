{
 "cells": [
  {
   "cell_type": "markdown",
   "id": "24e3eeda",
   "metadata": {},
   "source": [
    "# Data Formatting"
   ]
  },
  {
   "cell_type": "code",
   "execution_count": 1,
   "id": "9d524f5f",
   "metadata": {},
   "outputs": [
    {
     "data": {
      "image/jpeg": "[encoded data removed]",
      "text/html": [
       "\n",
       "        <iframe\n",
       "            width=\"800\"\n",
       "            height=\"500\"\n",
       "            src=\"https://www.youtube.com/embed/jJyUhC_dhrw\"\n",
       "            frameborder=\"0\"\n",
       "            allowfullscreen\n",
       "        ></iframe>\n",
       "        "
      ],
      "text/plain": [
       "<IPython.lib.display.YouTubeVideo at 0x1406a6ec160>"
      ]
     },
     "execution_count": 1,
     "metadata": {},
     "output_type": "execute_result"
    }
   ],
   "source": [
    "from IPython.display import YouTubeVideo\n",
    "YouTubeVideo('jJyUhC_dhrw', width=800, height=500 )"
   ]
  },
  {
   "cell_type": "markdown",
   "id": "da0a672a",
   "metadata": {},
   "source": [
    "<b>\n",
    "    <font size=\"+1\">\n",
    "        <p style=\"color:#EB7969;\">\n",
    "            Importing the data set\n",
    "        </p>\n",
    "    </font>\n",
    "</b>"
   ]
  },
  {
   "cell_type": "code",
   "execution_count": 2,
   "id": "83879b34",
   "metadata": {},
   "outputs": [],
   "source": [
    "import pandas as pd\n",
    "import numpy as np"
   ]
  },
  {
   "cell_type": "code",
   "execution_count": 3,
   "id": "4d4f0298",
   "metadata": {},
   "outputs": [],
   "source": [
    "pd.set_option(\"display.max_rows\", None, \"display.max_columns\", None)"
   ]
  },
  {
   "cell_type": "code",
   "execution_count": 4,
   "id": "7adeb8b7",
   "metadata": {},
   "outputs": [],
   "source": [
    "path = \"./Datasets/imports-85_NoMissingValues.csv\"\n",
    "df = pd.read_csv(path)"
   ]
  },
  {
   "cell_type": "markdown",
   "id": "7f8fbb5f",
   "metadata": {},
   "source": [
    "<font size=\"+1\">\n",
    "    <b>\n",
    "        <p style=\"color:#4496C4;\">\n",
    "            Data formatting\n",
    "        </p>\n",
    "    </b>\n",
    "</font>"
   ]
  },
  {
   "cell_type": "markdown",
   "id": "acfa798e",
   "metadata": {},
   "source": [
    "Bringing data into a common standard of expression to allow users to make a meaningful comparison."
   ]
  },
  {
   "cell_type": "markdown",
   "id": "7788783d",
   "metadata": {},
   "source": [
    "<img src=\"./img/formatting.png\" align=\"left\"/>"
   ]
  },
  {
   "cell_type": "markdown",
   "id": "c9e84c8d",
   "metadata": {},
   "source": [
    "<font size=\"+1\">\n",
    "    <b>\n",
    "        <p style=\"color:#4496C4;\">\n",
    "            Data Standarization\n",
    "        </p>\n",
    "    </b>\n",
    "</font>"
   ]
  },
  {
   "cell_type": "markdown",
   "id": "f596b0ce",
   "metadata": {},
   "source": [
    "<img src=\"./img/calculations_to_column.png\" align=\"left\"/> "
   ]
  },
  {
   "cell_type": "code",
   "execution_count": 5,
   "id": "adab8722",
   "metadata": {},
   "outputs": [],
   "source": [
    "df[\"city-mpg\"] = 253/df[\"city-mpg\"]"
   ]
  },
  {
   "cell_type": "code",
   "execution_count": 6,
   "id": "335ac542",
   "metadata": {},
   "outputs": [],
   "source": [
    "df.rename(columns = {\"city_mpg\": \"city-L/100km\"}, inplace=True)"
   ]
  },
  {
   "cell_type": "markdown",
   "id": "6856f54d",
   "metadata": {},
   "source": [
    "<font size=\"+1\">\n",
    "    <b>\n",
    "        <p style=\"color:#4496C4;\">\n",
    "            Changing data types\n",
    "        </p>\n",
    "    </b>\n",
    "</font>"
   ]
  },
  {
   "cell_type": "markdown",
   "id": "5ae3432b",
   "metadata": {},
   "source": [
    "<img src=\"./img/changing_data_types.png\" align=\"left\"/>"
   ]
  },
  {
   "cell_type": "markdown",
   "id": "dc28e324",
   "metadata": {},
   "source": [
    "<b>\n",
    "    <font size=\"+0\">\n",
    "        <p style=\"color:#90B736;\">\n",
    "            Identify data type\n",
    "        </p>\n",
    "    </font>\n",
    "</b>"
   ]
  },
  {
   "cell_type": "code",
   "execution_count": 7,
   "id": "a4397524",
   "metadata": {},
   "outputs": [
    {
     "data": {
      "text/plain": [
       "Unnamed: 0             int64\n",
       "Unnamed: 0.1           int64\n",
       "symboling              int64\n",
       "normalized-losses    float64\n",
       "make                  object\n",
       "fuel-type             object\n",
       "aspiration            object\n",
       "num-of-doors          object\n",
       "body-style            object\n",
       "drive-wheels          object\n",
       "engine-location       object\n",
       "wheel-base           float64\n",
       "length               float64\n",
       "width                float64\n",
       "height               float64\n",
       "curb-weight            int64\n",
       "engine-type           object\n",
       "num-of-cylinders      object\n",
       "engine-size            int64\n",
       "fuel-system           object\n",
       "bore                 float64\n",
       "stroke               float64\n",
       "compression-ratio    float64\n",
       "horsepower           float64\n",
       "peak-rpm             float64\n",
       "city-mpg             float64\n",
       "highway-mpg            int64\n",
       "price                float64\n",
       "dtype: object"
      ]
     },
     "execution_count": 7,
     "metadata": {},
     "output_type": "execute_result"
    }
   ],
   "source": [
    "df.dtypes"
   ]
  },
  {
   "cell_type": "markdown",
   "id": "a00dac4a",
   "metadata": {},
   "source": [
    "<b>\n",
    "    <font size=\"+0\">\n",
    "        <p style=\"color:#90B736;\">\n",
    "            Converting data type\n",
    "        </p>\n",
    "    </font>\n",
    "</b>"
   ]
  },
  {
   "cell_type": "code",
   "execution_count": 8,
   "id": "07232b59",
   "metadata": {},
   "outputs": [],
   "source": [
    "df[[\"normalized-losses\"]] = df[[\"normalized-losses\"]].astype(\"int\")\n",
    "df[[\"bore\", \"stroke\"]]    = df[[\"bore\", \"stroke\"]].astype(\"float\")\n",
    "df[[\"peak-rpm\"]]          = df[[\"peak-rpm\"]].astype(\"float\")\n",
    "df[[\"price\"]]             = df[[\"price\"]].astype(\"float\")"
   ]
  },
  {
   "cell_type": "markdown",
   "id": "cece303f",
   "metadata": {},
   "source": [
    "<b>\n",
    "    <font size=\"+1\">\n",
    "        <p style=\"color:#4496C4;\">\n",
    "            Saving the dataset\n",
    "        </p>\n",
    "    </font>\n",
    "</b>"
   ]
  },
  {
   "cell_type": "code",
   "execution_count": 9,
   "id": "5ea141a0",
   "metadata": {},
   "outputs": [],
   "source": [
    "path = \"./Datasets/imports-85_NoMissingValues_Formatted.csv\"\n",
    "df.to_csv(path)"
   ]
  }
 ],
 "metadata": {
  "kernelspec": {
   "display_name": "Python 3",
   "language": "python",
   "name": "python3"
  },
  "language_info": {
   "codemirror_mode": {
    "name": "ipython",
    "version": 3
   },
   "file_extension": ".py",
   "mimetype": "text/x-python",
   "name": "python",
   "nbconvert_exporter": "python",
   "pygments_lexer": "ipython3",
   "version": "3.8.8"
  }
 },
 "nbformat": 4,
 "nbformat_minor": 5
}
