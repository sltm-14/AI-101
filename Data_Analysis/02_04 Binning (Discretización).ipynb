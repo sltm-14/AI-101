{
 "cells": [
  {
   "cell_type": "markdown",
   "id": "39f75dc5",
   "metadata": {},
   "source": [
    "# Binning"
   ]
  },
  {
   "cell_type": "markdown",
   "id": "14b30d10",
   "metadata": {},
   "source": [
    "<ul>\n",
    "    <li>\n",
    "        Grouping values into bins\n",
    "    </li>\n",
    "    <li>\n",
    "        converts numeric into categorical variables\n",
    "    </li>\n",
    "    <li>\n",
    "        Group a set of numerical values into a set of \"bins\"\n",
    "    </li>\n",
    "</ul>"
   ]
  },
  {
   "cell_type": "code",
   "execution_count": 1,
   "id": "5f500107",
   "metadata": {},
   "outputs": [
    {
     "data": {
      "image/jpeg": "[encoded data removed]",
      "text/html": [
       "\n",
       "        <iframe\n",
       "            width=\"800\"\n",
       "            height=\"500\"\n",
       "            src=\"https://www.youtube.com/embed/uXOH7NiuxOA\"\n",
       "            frameborder=\"0\"\n",
       "            allowfullscreen\n",
       "        ></iframe>\n",
       "        "
      ],
      "text/plain": [
       "<IPython.lib.display.YouTubeVideo at 0x2c20204c3d0>"
      ]
     },
     "execution_count": 1,
     "metadata": {},
     "output_type": "execute_result"
    }
   ],
   "source": [
    "from IPython.display import YouTubeVideo\n",
    "YouTubeVideo('uXOH7NiuxOA', width=800, height=500 )"
   ]
  },
  {
   "cell_type": "markdown",
   "id": "hindu-witch",
   "metadata": {},
   "source": [
    "<b>\n",
    "    <font size=\"+0\">\n",
    "        <p style=\"color:#BB8FCE;\">\n",
    "            Importing Data set\n",
    "        </p>\n",
    "    </font>\n",
    "</b>"
   ]
  },
  {
   "cell_type": "code",
   "execution_count": 2,
   "id": "f304a586",
   "metadata": {},
   "outputs": [],
   "source": [
    "import pandas as pd\n",
    "import numpy as np"
   ]
  },
  {
   "cell_type": "code",
   "execution_count": 3,
   "id": "de641abf",
   "metadata": {},
   "outputs": [],
   "source": [
    "path = \"./Datasets/imports-85_modified.csv\"\n",
    "df = pd.read_csv(path)"
   ]
  },
  {
   "cell_type": "code",
   "execution_count": 4,
   "id": "ab03fe08",
   "metadata": {},
   "outputs": [],
   "source": [
    "df[\"price\"] = df[\"price\"].replace(\"?\",pd.NaT)\n",
    "df.dropna(subset = ['price'], axis = 0, inplace = True)\n",
    "df[\"price\"] = df[\"price\"].astype(\"int\")"
   ]
  },
  {
   "cell_type": "markdown",
   "id": "f08431ce",
   "metadata": {},
   "source": [
    "<b>\n",
    "    <font size=\"+1\">\n",
    "        <p style=\"color:#4496C4;\">\n",
    "            Binning in python\n",
    "        </p>\n",
    "    </font>\n",
    "</b>"
   ]
  },
  {
   "cell_type": "markdown",
   "id": "9932a05f",
   "metadata": {},
   "source": [
    "<img src=\"./img/binning.png\" align=\"left\"/> "
   ]
  },
  {
   "cell_type": "code",
   "execution_count": 16,
   "id": "e56ef87c",
   "metadata": {},
   "outputs": [
    {
     "data": {
      "text/plain": [
       "array([ 5118.        , 18545.33333333, 31972.66666667, 45400.        ])"
      ]
     },
     "execution_count": 16,
     "metadata": {},
     "output_type": "execute_result"
    }
   ],
   "source": [
    "bins = np.linspace( min(df[\"price\"]), max(df[\"price\"]),4 )\n",
    "bins"
   ]
  },
  {
   "cell_type": "code",
   "execution_count": 6,
   "id": "4f430ca6",
   "metadata": {},
   "outputs": [],
   "source": [
    "group_names = [\"low\", \"Medium\", \"High\"]"
   ]
  },
  {
   "cell_type": "code",
   "execution_count": 7,
   "id": "b84df30d",
   "metadata": {},
   "outputs": [],
   "source": [
    "df[\"prince-binned\"] = pd.cut(df[\"price\"], bins, labels = group_names, include_lowest = True)"
   ]
  },
  {
   "cell_type": "code",
   "execution_count": 17,
   "id": "dd07ebc2",
   "metadata": {},
   "outputs": [
    {
     "data": {
      "text/plain": [
       "0    low\n",
       "1    low\n",
       "2    low\n",
       "3    low\n",
       "4    low\n",
       "Name: prince-binned, dtype: category\n",
       "Categories (3, object): ['low' < 'Medium' < 'High']"
      ]
     },
     "execution_count": 17,
     "metadata": {},
     "output_type": "execute_result"
    }
   ],
   "source": [
    "df[\"prince-binned\"].head(5)"
   ]
  },
  {
   "cell_type": "markdown",
   "id": "69269d7c",
   "metadata": {},
   "source": [
    "<b>\n",
    "    <font size=\"+0\">\n",
    "        <p style=\"color:#5FA734;\">\n",
    "            Plotting\n",
    "        </p>\n",
    "    </font>\n",
    "</b>"
   ]
  },
  {
   "cell_type": "code",
   "execution_count": 9,
   "id": "bfdd248f",
   "metadata": {},
   "outputs": [],
   "source": [
    "import matplotlib.pyplot as plt\n",
    "%matplotlib inline"
   ]
  },
  {
   "cell_type": "code",
   "execution_count": 15,
   "id": "4107d322",
   "metadata": {},
   "outputs": [
    {
     "data": {
      "text/plain": [
       "<AxesSubplot:>"
      ]
     },
     "execution_count": 15,
     "metadata": {},
     "output_type": "execute_result"
    },
    {
     "data": {
      "image/png": "[encoded data removed]",
      "text/plain": [
       "<Figure size 432x288 with 1 Axes>"
      ]
     },
     "metadata": {
      "needs_background": "light"
     },
     "output_type": "display_data"
    }
   ],
   "source": [
    "val_counts = df[\"prince-binned\"].value_counts()\n",
    "val_counts.plot(kind = 'bar')"
   ]
  },
  {
   "cell_type": "markdown",
   "id": "47a0826e",
   "metadata": {},
   "source": [
    "<img src=\"./img/binned_data_histogram.png\" align=\"left\"/> \n"
   ]
  }
 ],
 "metadata": {
  "kernelspec": {
   "display_name": "Python 3",
   "language": "python",
   "name": "python3"
  },
  "language_info": {
   "codemirror_mode": {
    "name": "ipython",
    "version": 3
   },
   "file_extension": ".py",
   "mimetype": "text/x-python",
   "name": "python",
   "nbconvert_exporter": "python",
   "pygments_lexer": "ipython3",
   "version": "3.8.8"
  }
 },
 "nbformat": 4,
 "nbformat_minor": 5
}
