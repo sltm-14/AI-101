{
 "cells": [
  {
   "cell_type": "markdown",
   "id": "b241e74f",
   "metadata": {},
   "source": [
    "# Data Normalization"
   ]
  },
  {
   "cell_type": "markdown",
   "id": "d72dac19",
   "metadata": {},
   "source": [
    "Cambiar todos los valores a una rango distinto."
   ]
  },
  {
   "cell_type": "code",
   "execution_count": 8,
   "id": "c3e8d6f9",
   "metadata": {},
   "outputs": [
    {
     "data": {
      "image/jpeg": "[encoded data removed]",
      "text/html": [
       "\n",
       "        <iframe\n",
       "            width=\"800\"\n",
       "            height=\"500\"\n",
       "            src=\"https://www.youtube.com/embed/jIDAwTsRqg0\"\n",
       "            frameborder=\"0\"\n",
       "            allowfullscreen\n",
       "        ></iframe>\n",
       "        "
      ],
      "text/plain": [
       "<IPython.lib.display.YouTubeVideo at 0x1884525dd30>"
      ]
     },
     "execution_count": 8,
     "metadata": {},
     "output_type": "execute_result"
    }
   ],
   "source": [
    "from IPython.display import YouTubeVideo\n",
    "YouTubeVideo('jIDAwTsRqg0', width=800, height=500 )"
   ]
  },
  {
   "cell_type": "markdown",
   "id": "0ad55459",
   "metadata": {},
   "source": [
    "<b>\n",
    "    <font size=\"+1\">\n",
    "        <p style=\"color:#4496C4;\">\n",
    "            Uniforming data\n",
    "        </p>\n",
    "    </font>\n",
    "</b>"
   ]
  },
  {
   "cell_type": "markdown",
   "id": "1c017a91",
   "metadata": {},
   "source": [
    "Agregar rangos a los valores para crear uniformidad.\n"
   ]
  },
  {
   "cell_type": "markdown",
   "id": "be445ea9",
   "metadata": {},
   "source": [
    "<img src=\"./img/uniforming_features_with_ranges_.png\" align=\"left\"/> "
   ]
  },
  {
   "cell_type": "markdown",
   "id": "25d80a4f",
   "metadata": {},
   "source": [
    "<font size=\"+1\">\n",
    "    <b>\n",
    "        <p style=\"color:#4496C4;\">\n",
    "            Methods for normalizing data\n",
    "        </p>\n",
    "    </b>\n",
    "</font>"
   ]
  },
  {
   "cell_type": "markdown",
   "id": "847aca9f",
   "metadata": {},
   "source": [
    "<b>\n",
    "    <font size=\"+0\">\n",
    "        <p style=\"color:#5FA734;\">\n",
    "            Simple Feature scaling\n",
    "        </p>\n",
    "    </font>\n",
    "</b>"
   ]
  },
  {
   "cell_type": "markdown",
   "id": "0a842956",
   "metadata": {},
   "source": [
    "<img src=\"./img/simple_feature_scaling_method.png\" align=\"left\"/> "
   ]
  },
  {
   "cell_type": "markdown",
   "id": "90df23a6",
   "metadata": {},
   "source": [
    "df[\"length\"] = df[\"length\"]/df[\"length\"].max()"
   ]
  },
  {
   "cell_type": "markdown",
   "id": "69dafc77",
   "metadata": {},
   "source": [
    "<img src=\"./img/simple_feature_scaling_method_example.png\" align=\"left\"/>"
   ]
  },
  {
   "cell_type": "markdown",
   "id": "d2030fdf",
   "metadata": {},
   "source": [
    "<b>\n",
    "    <font size=\"+0\">\n",
    "        <p style=\"color:#5FA734;\">\n",
    "            Min-Max Method\n",
    "        </p>\n",
    "    </font>\n",
    "</b>"
   ]
  },
  {
   "cell_type": "markdown",
   "id": "6f1ec09e",
   "metadata": {},
   "source": [
    "<img src=\"./img/min_max_method.png\" align=\"left\"/> "
   ]
  },
  {
   "cell_type": "markdown",
   "id": "195afd21",
   "metadata": {},
   "source": [
    "df[\"length\"] = (df[\"length\"]-df[\"length\"].min()) / \n",
    "               (df[\"length\"].max()-df[\"lenegth\"].min())"
   ]
  },
  {
   "cell_type": "markdown",
   "id": "ddd924b9",
   "metadata": {},
   "source": [
    "<img src=\"./img/min_max_method_example.png\" align=\"left\"/> "
   ]
  },
  {
   "cell_type": "markdown",
   "id": "67edc35b",
   "metadata": {},
   "source": [
    "<b>\n",
    "    <font size=\"+0\">\n",
    "        <p style=\"color:#5FA734;\">\n",
    "            Z-Score Method\n",
    "        </p>\n",
    "    </font>\n",
    "</b>"
   ]
  },
  {
   "cell_type": "markdown",
   "id": "1dd814ab",
   "metadata": {},
   "source": [
    "<img src=\"./img/z_score_method.png\" align=\"left\"/> "
   ]
  },
  {
   "cell_type": "markdown",
   "id": "c686128d",
   "metadata": {},
   "source": [
    "df[\"length\"] = ( df[\"length\"]-df[\"length\"].mean() ) / df[\"length\"].std()"
   ]
  },
  {
   "cell_type": "markdown",
   "id": "f832d111",
   "metadata": {},
   "source": [
    "<img src=\"./img/z_score_method_example.png\" align=\"left\"/> "
   ]
  },
  {
   "cell_type": "code",
   "execution_count": null,
   "id": "77517bb6",
   "metadata": {},
   "outputs": [],
   "source": []
  }
 ],
 "metadata": {
  "kernelspec": {
   "display_name": "Python 3",
   "language": "python",
   "name": "python3"
  },
  "language_info": {
   "codemirror_mode": {
    "name": "ipython",
    "version": 3
   },
   "file_extension": ".py",
   "mimetype": "text/x-python",
   "name": "python",
   "nbconvert_exporter": "python",
   "pygments_lexer": "ipython3",
   "version": "3.8.8"
  }
 },
 "nbformat": 4,
 "nbformat_minor": 5
}
