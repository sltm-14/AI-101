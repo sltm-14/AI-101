{
 "cells": [
  {
   "cell_type": "code",
   "execution_count": 1,
   "id": "fc5b66b4",
   "metadata": {},
   "outputs": [],
   "source": [
    "import pandas as pd\n",
    "import numpy as np"
   ]
  },
  {
   "cell_type": "code",
   "execution_count": 2,
   "id": "4d4f0298",
   "metadata": {},
   "outputs": [],
   "source": [
    "pd.set_option(\"display.max_rows\", None, \"display.max_columns\", None)\n",
    "\n",
    "path = \"./Datasets/imports-85_modified.csv\"\n",
    "df = pd.read_csv(path)"
   ]
  },
  {
   "cell_type": "code",
   "execution_count": 3,
   "id": "bfea9479",
   "metadata": {},
   "outputs": [
    {
     "data": {
      "text/html": [
       "<style>\n",
       ".output {\n",
       "    flex-direction: row;\n",
       "}\n",
       "</style>"
      ],
      "text/plain": [
       "<IPython.core.display.HTML object>"
      ]
     },
     "execution_count": 3,
     "metadata": {},
     "output_type": "execute_result"
    }
   ],
   "source": [
    "from IPython.display import display, HTML\n",
    "\n",
    "css = \"\"\"\n",
    ".output {\n",
    "    flex-direction: row;\n",
    "}\n",
    "\"\"\"\n",
    "\n",
    "HTML('<style>{}</style>'.format(css))\n"
   ]
  },
  {
   "cell_type": "markdown",
   "id": "d1eaeb2d",
   "metadata": {},
   "source": [
    "### Video"
   ]
  },
  {
   "cell_type": "code",
   "execution_count": 4,
   "id": "861e69be",
   "metadata": {
    "collapsed": true
   },
   "outputs": [
    {
     "data": {
      "text/plain": [
       "\"\\n\\nfrom IPython.display import YouTubeVideo\\nYouTubeVideo('jJyUhC_dhrw', width=800, height=500 )\\n\\n\\n\""
      ]
     },
     "execution_count": 4,
     "metadata": {},
     "output_type": "execute_result"
    }
   ],
   "source": [
    "\"\"\"\n",
    "\n",
    "from IPython.display import YouTubeVideo\n",
    "YouTubeVideo('jJyUhC_dhrw', width=800, height=500 )\n",
    "\n",
    "\n",
    "\"\"\""
   ]
  },
  {
   "cell_type": "markdown",
   "id": "80a27974",
   "metadata": {},
   "source": [
    "<b>\n",
    "    <font size=\"+1\">\n",
    "        <p style=\"color:#4496C4;\">\n",
    "            Texto\n",
    "        </p>\n",
    "    </font>\n",
    "</b>"
   ]
  },
  {
   "cell_type": "code",
   "execution_count": 5,
   "id": "86723a31",
   "metadata": {
    "collapsed": true
   },
   "outputs": [
    {
     "data": {
      "text/plain": [
       "'\\n\\n<b>\\n    <font size=\"+1\">\\n        <p style=\"color:#4496C4;\">\\n            Texto\\n        </p>\\n    </font>\\n</b>\\n\\n\\n'"
      ]
     },
     "execution_count": 5,
     "metadata": {},
     "output_type": "execute_result"
    }
   ],
   "source": [
    "\"\"\"\n",
    "\n",
    "<b>\n",
    "    <font size=\"+1\">\n",
    "        <p style=\"color:#4496C4;\">\n",
    "            Texto\n",
    "        </p>\n",
    "    </font>\n",
    "</b>\n",
    "\n",
    "\n",
    "\"\"\""
   ]
  },
  {
   "cell_type": "markdown",
   "id": "252fe929",
   "metadata": {},
   "source": [
    "<b>\n",
    "    <font size=\"+0\">\n",
    "        <p style=\"color:#5FA734;\">\n",
    "            Texto\n",
    "        </p>\n",
    "    </font>\n",
    "</b>"
   ]
  },
  {
   "cell_type": "code",
   "execution_count": 6,
   "id": "13b60eff",
   "metadata": {
    "collapsed": true
   },
   "outputs": [
    {
     "data": {
      "text/plain": [
       "'\\n<b>\\n    <font size=\"+0\">\\n        <p style=\"color:#5FA734;\">\\n            Texto\\n        </p>\\n    </font>\\n</b>\\n\\n\\n<font size=\"+0\">\\n    <p style=\"color:#5FA734;\">\\n        Texto\\n    </p>\\n</font>\\n\\n'"
      ]
     },
     "execution_count": 6,
     "metadata": {},
     "output_type": "execute_result"
    }
   ],
   "source": [
    "\"\"\"\n",
    "<b>\n",
    "    <font size=\"+0\">\n",
    "        <p style=\"color:#5FA734;\">\n",
    "            Texto\n",
    "        </p>\n",
    "    </font>\n",
    "</b>\n",
    "\n",
    "\n",
    "<font size=\"+0\">\n",
    "    <p style=\"color:#5FA734;\">\n",
    "        Texto\n",
    "    </p>\n",
    "</font>\n",
    "\n",
    "\"\"\""
   ]
  },
  {
   "cell_type": "markdown",
   "id": "bb58259d",
   "metadata": {},
   "source": [
    "<b>\n",
    "    <font size=\"+0\">\n",
    "        <p style=\"color:#BB8FCE;\">\n",
    "            Texto\n",
    "        </p>\n",
    "    </font>\n",
    "</b>"
   ]
  },
  {
   "cell_type": "code",
   "execution_count": 7,
   "id": "10e9da97",
   "metadata": {
    "collapsed": true
   },
   "outputs": [
    {
     "data": {
      "text/plain": [
       "'\\n<b>\\n    <font size=\"+0\">\\n        <p style=\"color:#BB8FCE;\">\\n            Texto\\n        </p>\\n    </font>\\n</b>\\n\\n\\n<font size=\"+0\">\\n    <p style=\"color:#BB8FCE;\">\\n        Texto\\n    </p>\\n</font>\\n\\n'"
      ]
     },
     "execution_count": 7,
     "metadata": {},
     "output_type": "execute_result"
    }
   ],
   "source": [
    "\"\"\"\n",
    "<b>\n",
    "    <font size=\"+0\">\n",
    "        <p style=\"color:#BB8FCE;\">\n",
    "            Texto\n",
    "        </p>\n",
    "    </font>\n",
    "</b>\n",
    "\n",
    "\n",
    "<font size=\"+0\">\n",
    "    <p style=\"color:#BB8FCE;\">\n",
    "        Texto\n",
    "    </p>\n",
    "</font>\n",
    "\n",
    "\"\"\""
   ]
  },
  {
   "cell_type": "markdown",
   "id": "ba39d544",
   "metadata": {},
   "source": [
    "<b>\n",
    "    <font size=\"+0\">\n",
    "        <p style=\"color:#FA8072;\">\n",
    "            Texto\n",
    "        </p>\n",
    "    </font>\n",
    "</b>"
   ]
  },
  {
   "cell_type": "code",
   "execution_count": 8,
   "id": "0a01e86a",
   "metadata": {
    "collapsed": true
   },
   "outputs": [
    {
     "data": {
      "text/plain": [
       "'\\n\\n<b>\\n    <font size=\"+0\">\\n        <p style=\"color:#FA8072;\">\\n            Texto\\n        </p>\\n    </font>\\n</b>\\n\\n\\n<font size=\"+0\">\\n    <p style=\"color:#FA8072;\">\\n        Texto\\n    </p>\\n</font>\\n\\n'"
      ]
     },
     "execution_count": 8,
     "metadata": {},
     "output_type": "execute_result"
    }
   ],
   "source": [
    "\"\"\"\n",
    "\n",
    "<b>\n",
    "    <font size=\"+0\">\n",
    "        <p style=\"color:#FA8072;\">\n",
    "            Texto\n",
    "        </p>\n",
    "    </font>\n",
    "</b>\n",
    "\n",
    "\n",
    "<font size=\"+0\">\n",
    "    <p style=\"color:#FA8072;\">\n",
    "        Texto\n",
    "    </p>\n",
    "</font>\n",
    "\n",
    "\"\"\""
   ]
  },
  {
   "cell_type": "markdown",
   "id": "a7df3933",
   "metadata": {},
   "source": [
    "<b>\n",
    "    <font size=\"+0\">\n",
    "        <p style=\"color:#000000;\">\n",
    "            Texto\n",
    "        </p>\n",
    "    </font>\n",
    "</b>"
   ]
  },
  {
   "cell_type": "code",
   "execution_count": 9,
   "id": "6fd909ab",
   "metadata": {
    "collapsed": true
   },
   "outputs": [
    {
     "data": {
      "text/plain": [
       "'\\n\\n<b>\\n    <font size=\"+0\">\\n        <p style=\"color:#000000;\">\\n            Texto\\n        </p>\\n    </font>\\n</b>\\n\\n\\n'"
      ]
     },
     "execution_count": 9,
     "metadata": {},
     "output_type": "execute_result"
    }
   ],
   "source": [
    "\"\"\"\n",
    "\n",
    "<b>\n",
    "    <font size=\"+0\">\n",
    "        <p style=\"color:#000000;\">\n",
    "            Texto\n",
    "        </p>\n",
    "    </font>\n",
    "</b>\n",
    "\n",
    "\n",
    "\"\"\""
   ]
  },
  {
   "cell_type": "markdown",
   "id": "5e3bda4d",
   "metadata": {},
   "source": [
    "### Imagen"
   ]
  },
  {
   "cell_type": "code",
   "execution_count": 10,
   "id": "2d1133e8",
   "metadata": {
    "collapsed": true
   },
   "outputs": [
    {
     "data": {
      "text/plain": [
       "'\\n\\n<img src=\"./img/formatting.png\" align=\"left\"/>\\n\\n\\n'"
      ]
     },
     "execution_count": 10,
     "metadata": {},
     "output_type": "execute_result"
    }
   ],
   "source": [
    "\"\"\"\n",
    "\n",
    "<img src=\"./img/formatting.png\" align=\"left\"/>\n",
    "\n",
    "\n",
    "\"\"\""
   ]
  },
  {
   "cell_type": "code",
   "execution_count": null,
   "id": "8886e55b",
   "metadata": {},
   "outputs": [],
   "source": []
  }
 ],
 "metadata": {
  "kernelspec": {
   "display_name": "Python 3",
   "language": "python",
   "name": "python3"
  },
  "language_info": {
   "codemirror_mode": {
    "name": "ipython",
    "version": 3
   },
   "file_extension": ".py",
   "mimetype": "text/x-python",
   "name": "python",
   "nbconvert_exporter": "python",
   "pygments_lexer": "ipython3",
   "version": "3.8.5"
  }
 },
 "nbformat": 4,
 "nbformat_minor": 5
}
