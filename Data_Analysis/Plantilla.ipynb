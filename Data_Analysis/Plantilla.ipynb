{
 "cells": [
  {
   "cell_type": "markdown",
   "id": "d1eaeb2d",
   "metadata": {},
   "source": [
    "### Video"
   ]
  },
  {
   "cell_type": "code",
   "execution_count": null,
   "id": "861e69be",
   "metadata": {},
   "outputs": [],
   "source": [
    "\"\"\"\n",
    "\n",
    "from IPython.display import YouTubeVideo\n",
    "YouTubeVideo('jJyUhC_dhrw', width=800, height=500 )\n",
    "\n",
    "\n",
    "\"\"\""
   ]
  },
  {
   "cell_type": "markdown",
   "id": "80a27974",
   "metadata": {},
   "source": [
    "<b>\n",
    "    <font size=\"+1\">\n",
    "        <p style=\"color:#4496C4;\">\n",
    "            Texto\n",
    "        </p>\n",
    "    </font>\n",
    "</b>"
   ]
  },
  {
   "cell_type": "code",
   "execution_count": null,
   "id": "86723a31",
   "metadata": {
    "scrolled": true
   },
   "outputs": [],
   "source": [
    "\"\"\"\n",
    "\n",
    "<b>\n",
    "    <font size=\"+1\">\n",
    "        <p style=\"color:#4496C4;\">\n",
    "            Texto\n",
    "        </p>\n",
    "    </font>\n",
    "</b>\n",
    "\n",
    "\n",
    "\"\"\""
   ]
  },
  {
   "cell_type": "markdown",
   "id": "252fe929",
   "metadata": {},
   "source": [
    "<font size=\"+0\">\n",
    "    <p style=\"color:#5FA734;\">\n",
    "        Texto\n",
    "    </p>\n",
    "</font>"
   ]
  },
  {
   "cell_type": "code",
   "execution_count": null,
   "id": "13b60eff",
   "metadata": {},
   "outputs": [],
   "source": [
    "\"\"\"\n",
    "\n",
    "<b>\n",
    "    <font size=\"+0\">\n",
    "        <p style=\"color:#5FA734;\">\n",
    "            Texto\n",
    "        </p>\n",
    "    </font>\n",
    "</b>\n",
    "\n",
    "\n",
    "<font size=\"+0\">\n",
    "    <p style=\"color:#5FA734;\">\n",
    "        Texto\n",
    "    </p>\n",
    "</font>\n",
    "\n",
    "\n",
    "\"\"\""
   ]
  },
  {
   "cell_type": "markdown",
   "id": "a7df3933",
   "metadata": {},
   "source": [
    "<b>\n",
    "    <font size=\"+0\">\n",
    "        <p style=\"color:#000000;\">\n",
    "            Texto\n",
    "        </p>\n",
    "    </font>\n",
    "</b>"
   ]
  },
  {
   "cell_type": "code",
   "execution_count": null,
   "id": "6fd909ab",
   "metadata": {},
   "outputs": [],
   "source": [
    "\"\"\"\n",
    "\n",
    "<b>\n",
    "    <font size=\"+0\">\n",
    "        <p style=\"color:#000000;\">\n",
    "            Texto\n",
    "        </p>\n",
    "    </font>\n",
    "</b>\n",
    "\n",
    "\n",
    "\"\"\""
   ]
  },
  {
   "cell_type": "markdown",
   "id": "5e3bda4d",
   "metadata": {},
   "source": [
    "### Imagen"
   ]
  },
  {
   "cell_type": "code",
   "execution_count": null,
   "id": "2d1133e8",
   "metadata": {},
   "outputs": [],
   "source": [
    "\"\"\"\n",
    "\n",
    "<img src=\"./img/formatting.png\" align=\"left\"/>\n",
    "\n",
    "\n",
    "\"\"\""
   ]
  },
  {
   "cell_type": "code",
   "execution_count": null,
   "id": "8886e55b",
   "metadata": {},
   "outputs": [],
   "source": []
  }
 ],
 "metadata": {
  "kernelspec": {
   "display_name": "Python 3",
   "language": "python",
   "name": "python3"
  },
  "language_info": {
   "codemirror_mode": {
    "name": "ipython",
    "version": 3
   },
   "file_extension": ".py",
   "mimetype": "text/x-python",
   "name": "python",
   "nbconvert_exporter": "python",
   "pygments_lexer": "ipython3",
   "version": "3.8.8"
  }
 },
 "nbformat": 4,
 "nbformat_minor": 5
}
