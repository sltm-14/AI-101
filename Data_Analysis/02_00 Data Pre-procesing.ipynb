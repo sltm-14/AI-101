{
 "cells": [
  {
   "cell_type": "markdown",
   "id": "dc65f585",
   "metadata": {},
   "source": [
    "# Data Pre-procesing"
   ]
  },
  {
   "cell_type": "code",
   "execution_count": 1,
   "id": "6c9d4243",
   "metadata": {},
   "outputs": [
    {
     "data": {
      "image/jpeg": "[encoded data removed]",
      "text/html": [
       "\n",
       "        <iframe\n",
       "            width=\"800\"\n",
       "            height=\"500\"\n",
       "            src=\"https://www.youtube.com/embed/K0FKZdd7JlU\"\n",
       "            frameborder=\"0\"\n",
       "            allowfullscreen\n",
       "        ></iframe>\n",
       "        "
      ],
      "text/plain": [
       "<IPython.lib.display.YouTubeVideo at 0x23b202cb3d0>"
      ]
     },
     "execution_count": 1,
     "metadata": {},
     "output_type": "execute_result"
    }
   ],
   "source": [
    "from IPython.display import YouTubeVideo\n",
    "YouTubeVideo('K0FKZdd7JlU', width=800, height=500 )"
   ]
  },
  {
   "cell_type": "markdown",
   "id": "4ba8fc44",
   "metadata": {},
   "source": [
    "Agregar rangos a los valores para crear uniformidad\n",
    "\n",
    "uniforming_features_with_ranges"
   ]
  },
  {
   "cell_type": "markdown",
   "id": "01b09fd6",
   "metadata": {},
   "source": [
    "<b>\n",
    "    <font size=\"+1\">\n",
    "        <p style=\"color:#4496C4;\">\n",
    "            Learning Objectives\n",
    "        </p>\n",
    "    </font>\n",
    "</b>"
   ]
  },
  {
   "cell_type": "markdown",
   "id": "c2365559",
   "metadata": {},
   "source": [
    "<b>\n",
    "    <font size=\"+0\">\n",
    "        <p style=\"color:#5FA734;\">\n",
    "            Identify and Handle missing values\n",
    "        </p>\n",
    "    </font>\n",
    "</b>"
   ]
  },
  {
   "cell_type": "markdown",
   "id": "0056ff37",
   "metadata": {},
   "source": [
    "What to do when there are missing values -a data entry is empty-"
   ]
  },
  {
   "cell_type": "markdown",
   "id": "001ff0d1",
   "metadata": {},
   "source": [
    "<b>\n",
    "    <font size=\"+0\">\n",
    "        <p style=\"color:#5FA734;\">\n",
    "            Data Formatting\n",
    "        </p>\n",
    "    </font>\n",
    "</b>"
   ]
  },
  {
   "cell_type": "markdown",
   "id": "c9ce3e98",
   "metadata": {},
   "source": [
    "Methods to standarize the different units/conventions/formats that the values can have."
   ]
  },
  {
   "cell_type": "markdown",
   "id": "6a4d3d5c",
   "metadata": {},
   "source": [
    "<b>\n",
    "    <font size=\"+0\">\n",
    "        <p style=\"color:#5FA734;\">\n",
    "            Data Normalization (Centering / Scaling)\n",
    "        </p>\n",
    "    </font>\n",
    "</b>"
   ]
  },
  {
   "cell_type": "markdown",
   "id": "df6b0522",
   "metadata": {},
   "source": [
    "Bring data into a similar range for a more useful comparison."
   ]
  },
  {
   "cell_type": "markdown",
   "id": "f9cebd4a",
   "metadata": {},
   "source": [
    "<b>\n",
    "    <font size=\"+0\">\n",
    "        <p style=\"color:#5FA734;\">\n",
    "            Data Binning\n",
    "        </p>\n",
    "    </font>\n",
    "</b>"
   ]
  },
  {
   "cell_type": "markdown",
   "id": "9151a043",
   "metadata": {},
   "source": [
    "Create bigger categories for a set of numperical values. Useful for comparison between groups of data."
   ]
  },
  {
   "cell_type": "markdown",
   "id": "a5b4cd74",
   "metadata": {},
   "source": [
    "<b>\n",
    "    <font size=\"+0\">\n",
    "        <p style=\"color:#5FA734;\">\n",
    "            Turning Categorical values to numeric variables\n",
    "        </p>\n",
    "    </font>\n",
    "</b>"
   ]
  },
  {
   "cell_type": "markdown",
   "id": "686a3984",
   "metadata": {},
   "source": [
    "Conerting categorical values into numeric variables to make statistical comparisons easy."
   ]
  },
  {
   "cell_type": "markdown",
   "id": "5e8a40c8",
   "metadata": {},
   "source": [
    "<b>\n",
    "    <font size=\"+1\">\n",
    "        <p style=\"color:#4496C4;\">\n",
    "            Simple Dataframe operations\n",
    "        </p>\n",
    "    </font>\n",
    "</b>"
   ]
  },
  {
   "cell_type": "code",
   "execution_count": 2,
   "id": "bbc1f7b3",
   "metadata": {},
   "outputs": [],
   "source": [
    "import pandas as pd"
   ]
  },
  {
   "cell_type": "code",
   "execution_count": 4,
   "id": "0b32ff7b",
   "metadata": {},
   "outputs": [],
   "source": [
    "path = \"./Datasets/imports-85_modified.csv\"\n",
    "df = pd.read_csv(path)"
   ]
  },
  {
   "cell_type": "markdown",
   "id": "dafd5fe1",
   "metadata": {},
   "source": [
    "<b>\n",
    "    <font size=\"+0\">\n",
    "        <p style=\"color:#5FA734;\">\n",
    "            Access a column\n",
    "        </p>\n",
    "    </font>\n",
    "</b>"
   ]
  },
  {
   "cell_type": "code",
   "execution_count": 5,
   "id": "7d14c35e",
   "metadata": {},
   "outputs": [
    {
     "data": {
      "text/plain": [
       "0      convertible\n",
       "1      convertible\n",
       "2        hatchback\n",
       "3            sedan\n",
       "4            sedan\n",
       "          ...     \n",
       "200          sedan\n",
       "201          sedan\n",
       "202          sedan\n",
       "203          sedan\n",
       "204          sedan\n",
       "Name: body-style, Length: 205, dtype: object"
      ]
     },
     "execution_count": 5,
     "metadata": {},
     "output_type": "execute_result"
    }
   ],
   "source": [
    "df[\"body-style\"]"
   ]
  },
  {
   "cell_type": "markdown",
   "id": "52b41bf5",
   "metadata": {},
   "source": [
    "<b>\n",
    "    <font size=\"+0\">\n",
    "        <p style=\"color:#5FA734;\">\n",
    "            Add a value to each entry of one column\n",
    "        </p>\n",
    "    </font>\n",
    "</b>"
   ]
  },
  {
   "cell_type": "code",
   "execution_count": 7,
   "id": "1eb31e36",
   "metadata": {},
   "outputs": [
    {
     "data": {
      "text/plain": [
       "0    3\n",
       "1    3\n",
       "2    1\n",
       "3    2\n",
       "4    2\n",
       "Name: symboling, dtype: int64"
      ]
     },
     "execution_count": 7,
     "metadata": {},
     "output_type": "execute_result"
    }
   ],
   "source": [
    "df[\"symboling\"].head()"
   ]
  },
  {
   "cell_type": "code",
   "execution_count": 8,
   "id": "a3146844",
   "metadata": {},
   "outputs": [],
   "source": [
    "df[\"symboling\"] = df[\"symboling\"] + 1"
   ]
  },
  {
   "cell_type": "code",
   "execution_count": 9,
   "id": "40e82fa4",
   "metadata": {},
   "outputs": [
    {
     "data": {
      "text/plain": [
       "0    4\n",
       "1    4\n",
       "2    2\n",
       "3    3\n",
       "4    3\n",
       "Name: symboling, dtype: int64"
      ]
     },
     "execution_count": 9,
     "metadata": {},
     "output_type": "execute_result"
    }
   ],
   "source": [
    "df[\"symboling\"].head()"
   ]
  },
  {
   "cell_type": "code",
   "execution_count": null,
   "id": "0a6ecdac",
   "metadata": {},
   "outputs": [],
   "source": []
  }
 ],
 "metadata": {
  "kernelspec": {
   "display_name": "Python 3",
   "language": "python",
   "name": "python3"
  },
  "language_info": {
   "codemirror_mode": {
    "name": "ipython",
    "version": 3
   },
   "file_extension": ".py",
   "mimetype": "text/x-python",
   "name": "python",
   "nbconvert_exporter": "python",
   "pygments_lexer": "ipython3",
   "version": "3.8.5"
  }
 },
 "nbformat": 4,
 "nbformat_minor": 5
}
