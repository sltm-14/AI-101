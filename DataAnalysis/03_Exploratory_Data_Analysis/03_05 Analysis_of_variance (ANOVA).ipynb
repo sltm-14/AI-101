{
 "cells": [
  {
   "cell_type": "markdown",
   "id": "bb298d8c",
   "metadata": {},
   "source": [
    "# ANOVA"
   ]
  },
  {
   "cell_type": "code",
   "execution_count": 1,
   "id": "d3623560",
   "metadata": {},
   "outputs": [],
   "source": [
    "import pandas as pd\n",
    "pd.set_option(\"display.max_rows\", None, \"display.max_columns\", None)"
   ]
  },
  {
   "cell_type": "code",
   "execution_count": 2,
   "id": "771862f9",
   "metadata": {},
   "outputs": [],
   "source": [
    "path = \"./Datasets/clean_df.csv\"\n",
    "df = pd.read_csv(path)"
   ]
  },
  {
   "cell_type": "code",
   "execution_count": 3,
   "id": "8cd19d2e",
   "metadata": {},
   "outputs": [
    {
     "data": {
      "image/jpeg": "[encoded data removed]",
      "text/html": [
       "\n",
       "        <iframe\n",
       "            width=\"800\"\n",
       "            height=\"500\"\n",
       "            src=\"https://www.youtube.com/embed/wMQ5oVuXK7o\"\n",
       "            frameborder=\"0\"\n",
       "            allowfullscreen\n",
       "        ></iframe>\n",
       "        "
      ],
      "text/plain": [
       "<IPython.lib.display.YouTubeVideo at 0x18f73821be0>"
      ]
     },
     "execution_count": 3,
     "metadata": {},
     "output_type": "execute_result"
    }
   ],
   "source": [
    "from IPython.display import YouTubeVideo\n",
    "YouTubeVideo('wMQ5oVuXK7o', width=800, height=500 )"
   ]
  },
  {
   "cell_type": "markdown",
   "id": "513573e1",
   "metadata": {},
   "source": [
    "<b>\n",
    "    <font size=\"+0\">\n",
    "        <p style=\"color:#EB7969;\">\n",
    "            Done to find the correlation between different groups of a categorical variable\n",
    "        </p>\n",
    "    </font>\n",
    "</b>"
   ]
  },
  {
   "cell_type": "markdown",
   "id": "8fe3dfe0",
   "metadata": {},
   "source": [
    "Buscamos una diferencia en el precio medio de la diferentes marcas de vehículo, como Subaru y Honda"
   ]
  },
  {
   "cell_type": "markdown",
   "id": "dced1a61",
   "metadata": {},
   "source": [
    "<b>\n",
    "    <font size=\"+0\">\n",
    "        <p style=\"color:#4496C4;\">\n",
    "            What we obtain from ANOVA\n",
    "        </p>\n",
    "    </font>\n",
    "</b>"
   ]
  },
  {
   "cell_type": "markdown",
   "id": "e0012dbd",
   "metadata": {},
   "source": [
    "<b>\n",
    "    <font size=\"+0\">\n",
    "        <p style=\"color:#90B736;\">\n",
    "            F-test score\n",
    "        </p>\n",
    "    </font>\n",
    "</b>"
   ]
  },
  {
   "cell_type": "markdown",
   "id": "2992ef1a",
   "metadata": {},
   "source": [
    "Variación entre las medias del grupo de muestra dividida por la variación dentro del grupo de muestra "
   ]
  },
  {
   "cell_type": "code",
   "execution_count": 4,
   "id": "dabb0b70",
   "metadata": {},
   "outputs": [],
   "source": [
    "df_anova = df[[\"make\",\"price\"]]"
   ]
  },
  {
   "cell_type": "code",
   "execution_count": 7,
   "id": "f45ff253",
   "metadata": {},
   "outputs": [],
   "source": [
    "grouped_anova = df_anova.groupby([\"make\"])"
   ]
  },
  {
   "cell_type": "code",
   "execution_count": 10,
   "id": "272101d2",
   "metadata": {},
   "outputs": [
    {
     "ename": "ModuleNotFoundError",
     "evalue": "No module named 'statsmodels'",
     "output_type": "error",
     "traceback": [
      "\u001b[1;31m---------------------------------------------------------------------------\u001b[0m",
      "\u001b[1;31mModuleNotFoundError\u001b[0m                       Traceback (most recent call last)",
      "\u001b[1;32m<ipython-input-10-94514e44a361>\u001b[0m in \u001b[0;36m<module>\u001b[1;34m\u001b[0m\n\u001b[0;32m      1\u001b[0m \u001b[1;32mfrom\u001b[0m \u001b[0mscipy\u001b[0m \u001b[1;32mimport\u001b[0m \u001b[0mstats\u001b[0m\u001b[1;33m\u001b[0m\u001b[1;33m\u001b[0m\u001b[0m\n\u001b[1;32m----> 2\u001b[1;33m \u001b[1;32mimport\u001b[0m \u001b[0mstatsmodels\u001b[0m\u001b[1;33m.\u001b[0m\u001b[0mapi\u001b[0m \u001b[1;32mas\u001b[0m \u001b[0msm\u001b[0m\u001b[1;33m\u001b[0m\u001b[1;33m\u001b[0m\u001b[0m\n\u001b[0m\u001b[0;32m      3\u001b[0m \u001b[0manova_results_1\u001b[0m \u001b[1;33m=\u001b[0m \u001b[0mstats\u001b[0m\u001b[1;33m.\u001b[0m\u001b[0moneway\u001b[0m\u001b[1;33m(\u001b[0m\u001b[0mgrouped_anova\u001b[0m\u001b[1;33m.\u001b[0m\u001b[0mget_group\u001b[0m\u001b[1;33m(\u001b[0m\u001b[1;34m\"honda\"\u001b[0m\u001b[1;33m)\u001b[0m\u001b[1;33m[\u001b[0m\u001b[1;34m\"price\"\u001b[0m\u001b[1;33m]\u001b[0m\u001b[1;33m,\u001b[0m\u001b[0mgrouped_anova\u001b[0m\u001b[1;33m.\u001b[0m\u001b[0mget_group\u001b[0m\u001b[1;33m(\u001b[0m\u001b[1;34m\"subaru\"\u001b[0m\u001b[1;33m)\u001b[0m\u001b[1;33m[\u001b[0m\u001b[1;34m\"price\"\u001b[0m\u001b[1;33m]\u001b[0m\u001b[1;33m)\u001b[0m\u001b[1;33m\u001b[0m\u001b[1;33m\u001b[0m\u001b[0m\n",
      "\u001b[1;31mModuleNotFoundError\u001b[0m: No module named 'statsmodels'"
     ]
    }
   ],
   "source": [
    "from scipy import stats\n",
    "#import statsmodels.api as sm\n",
    "anova_results_1 = stats.oneway(grouped_anova.get_group(\"honda\")[\"price\"],grouped_anova.get_group(\"subaru\")[\"price\"])"
   ]
  },
  {
   "cell_type": "markdown",
   "id": "f6a41eb5",
   "metadata": {},
   "source": [
    "<b>\n",
    "    <font size=\"+0\">\n",
    "        <p style=\"color:#90B736;\">\n",
    "            P-Value\n",
    "        </p>\n",
    "    </font>\n",
    "</b>"
   ]
  },
  {
   "cell_type": "markdown",
   "id": "28500eaa",
   "metadata": {},
   "source": [
    "El grado deconfianza (confidence degree)"
   ]
  },
  {
   "cell_type": "code",
   "execution_count": null,
   "id": "43a7a90d",
   "metadata": {},
   "outputs": [],
   "source": []
  }
 ],
 "metadata": {
  "kernelspec": {
   "display_name": "Python 3",
   "language": "python",
   "name": "python3"
  },
  "language_info": {
   "codemirror_mode": {
    "name": "ipython",
    "version": 3
   },
   "file_extension": ".py",
   "mimetype": "text/x-python",
   "name": "python",
   "nbconvert_exporter": "python",
   "pygments_lexer": "ipython3",
   "version": "3.8.8"
  }
 },
 "nbformat": 4,
 "nbformat_minor": 5
}
