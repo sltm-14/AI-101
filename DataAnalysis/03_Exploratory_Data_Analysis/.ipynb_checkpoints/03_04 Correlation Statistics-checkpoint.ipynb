{
 "cells": [
  {
   "cell_type": "markdown",
   "id": "9b36c6e3",
   "metadata": {},
   "source": [
    "# Correlation Statistics"
   ]
  },
  {
   "cell_type": "code",
   "execution_count": 1,
   "id": "b56a5a0e",
   "metadata": {},
   "outputs": [],
   "source": [
    "import pandas as pd\n",
    "pd.set_option(\"display.max_rows\", None, \"display.max_columns\", None)"
   ]
  },
  {
   "cell_type": "code",
   "execution_count": 2,
   "id": "91fcd0a0",
   "metadata": {},
   "outputs": [],
   "source": [
    "path = \"./Datasets/clean_df.csv\"\n",
    "df = pd.read_csv(path)"
   ]
  },
  {
   "cell_type": "code",
   "execution_count": 3,
   "id": "85a67721",
   "metadata": {},
   "outputs": [
    {
     "data": {
      "image/jpeg": "[encoded data removed]",
      "text/html": [
       "\n",
       "        <iframe\n",
       "            width=\"800\"\n",
       "            height=\"500\"\n",
       "            src=\"https://www.youtube.com/embed/vv8bfD0CXHo\"\n",
       "            frameborder=\"0\"\n",
       "            allowfullscreen\n",
       "        ></iframe>\n",
       "        "
      ],
      "text/plain": [
       "<IPython.lib.display.YouTubeVideo at 0x219a4b959a0>"
      ]
     },
     "execution_count": 3,
     "metadata": {},
     "output_type": "execute_result"
    }
   ],
   "source": [
    "from IPython.display import YouTubeVideo\n",
    "YouTubeVideo('vv8bfD0CXHo', width=800, height=500 )"
   ]
  },
  {
   "cell_type": "markdown",
   "id": "e6986f8b",
   "metadata": {},
   "source": [
    "<b>\n",
    "    <font size=\"+1\">\n",
    "        <p style=\"color:#90B736;\">\n",
    "            Pearson Correlation\n",
    "        </p>\n",
    "    </font>\n",
    "</b>"
   ]
  },
  {
   "cell_type": "raw",
   "id": "81b63ddc",
   "metadata": {},
   "source": []
  },
  {
   "cell_type": "markdown",
   "id": "257dcd0b",
   "metadata": {},
   "source": [
    "Measure "
   ]
  },
  {
   "cell_type": "markdown",
   "id": "9fad2a8e",
   "metadata": {},
   "source": []
  }
 ],
 "metadata": {
  "kernelspec": {
   "display_name": "Python 3",
   "language": "python",
   "name": "python3"
  },
  "language_info": {
   "codemirror_mode": {
    "name": "ipython",
    "version": 3
   },
   "file_extension": ".py",
   "mimetype": "text/x-python",
   "name": "python",
   "nbconvert_exporter": "python",
   "pygments_lexer": "ipython3",
   "version": "3.8.8"
  }
 },
 "nbformat": 4,
 "nbformat_minor": 5
}
