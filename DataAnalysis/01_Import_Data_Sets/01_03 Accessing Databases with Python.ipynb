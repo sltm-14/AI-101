{
 "cells": [
  {
   "cell_type": "markdown",
   "id": "70df7245",
   "metadata": {},
   "source": [
    "# Accessing Databases with Python"
   ]
  },
  {
   "cell_type": "code",
   "execution_count": 1,
   "id": "140abb7c",
   "metadata": {},
   "outputs": [
    {
     "data": {
      "image/jpeg": "[encoded data removed]",
      "text/html": [
       "\n",
       "        <iframe\n",
       "            width=\"900\"\n",
       "            height=\"500\"\n",
       "            src=\"https://www.youtube.com/embed/As_UU7Ygqsg\"\n",
       "            frameborder=\"0\"\n",
       "            allowfullscreen\n",
       "        ></iframe>\n",
       "        "
      ],
      "text/plain": [
       "<IPython.lib.display.YouTubeVideo at 0x13b425dbb50>"
      ]
     },
     "execution_count": 1,
     "metadata": {},
     "output_type": "execute_result"
    }
   ],
   "source": [
    "from IPython.display import YouTubeVideo\n",
    "YouTubeVideo('As_UU7Ygqsg', width=900, height=500 )"
   ]
  },
  {
   "cell_type": "markdown",
   "id": "a24d74f2",
   "metadata": {},
   "source": [
    "### APIs"
   ]
  },
  {
   "cell_type": "markdown",
   "id": "673ec47d",
   "metadata": {},
   "source": [
    "<b>API - Application Programming Interface</b>  \n",
    "The functionas that you call to get access to the server.  "
   ]
  },
  {
   "cell_type": "markdown",
   "id": "11bd724d",
   "metadata": {},
   "source": [
    "<img src=\"./img/API_communication_with_server.png\" align=\"left\"/>"
   ]
  },
  {
   "cell_type": "markdown",
   "id": "57d6a18b",
   "metadata": {},
   "source": [
    "### DB API"
   ]
  },
  {
   "cell_type": "markdown",
   "id": "4d66132e",
   "metadata": {},
   "source": [
    "Python's API to get accessing relational databases"
   ]
  },
  {
   "cell_type": "markdown",
   "id": "9d3e1669",
   "metadata": {},
   "source": [
    "<img src=\"./img/db_api_calls_dbms.png\" align=\"left\"/>"
   ]
  },
  {
   "cell_type": "markdown",
   "id": "9991d493",
   "metadata": {},
   "source": [
    "<b>Connection:</b>  \n",
    "Used to connect to a the database and manage the transactions.  \n",
    "    \n",
    "<b>Objects:</b>  \n",
    "    \n",
    "<b>Cursor Objects:</b>  \n",
    "Used to run queries.  \n",
    "  \n",
    "<i>cursor():</i>  \n",
    "Method that returns a new cursor object using the connection.  \n",
    "  \n",
    "<i>commit():</i>  \n",
    "To commit any pending transaction to the database.  \n",
    "  \n",
    "<i>rollback():</i>  \n",
    "Causes the database to roll back to the start of any pending transaction.  \n",
    "  \n",
    "<i>close():</i>  \n",
    "Used to clode the database connection.\n",
    "    \n",
    "<b>DB Objects:</b>  \n",
    "    "
   ]
  },
  {
   "cell_type": "markdown",
   "id": "b2059fab",
   "metadata": {},
   "source": [
    "#### Code Example"
   ]
  },
  {
   "cell_type": "code",
   "execution_count": 3,
   "id": "3a7adb2a",
   "metadata": {},
   "outputs": [
    {
     "ename": "ModuleNotFoundError",
     "evalue": "No module named 'dbmodule'",
     "output_type": "error",
     "traceback": [
      "\u001b[1;31m---------------------------------------------------------------------------\u001b[0m",
      "\u001b[1;31mModuleNotFoundError\u001b[0m                       Traceback (most recent call last)",
      "\u001b[1;32m<ipython-input-3-a11a3c8ea97f>\u001b[0m in \u001b[0;36m<module>\u001b[1;34m\u001b[0m\n\u001b[0;32m      1\u001b[0m \u001b[1;32mimport\u001b[0m \u001b[0mpandas\u001b[0m \u001b[1;32mas\u001b[0m \u001b[0mpd\u001b[0m\u001b[1;33m\u001b[0m\u001b[1;33m\u001b[0m\u001b[0m\n\u001b[1;32m----> 2\u001b[1;33m \u001b[1;32mfrom\u001b[0m \u001b[0mdbmodule\u001b[0m \u001b[1;32mimport\u001b[0m \u001b[0mconnect\u001b[0m\u001b[1;33m\u001b[0m\u001b[1;33m\u001b[0m\u001b[0m\n\u001b[0m",
      "\u001b[1;31mModuleNotFoundError\u001b[0m: No module named 'dbmodule'"
     ]
    }
   ],
   "source": [
    "import pandas as pd\n",
    "from dbmodule import connect"
   ]
  },
  {
   "cell_type": "code",
   "execution_count": null,
   "id": "091642c7",
   "metadata": {},
   "outputs": [],
   "source": [
    "#Create conneciton object\n",
    "connection = connect ('databasename',\"username\", \"pswd\")\n",
    "\n",
    "#Create a cursor object\n",
    "cursor = connection.cursor()\n",
    "\n",
    "#Run queries\n",
    "cursor,execute(\"select * from mytable\")\n",
    "result = cursor.fetchall()\n",
    "\n",
    "#Free resources\n",
    "cursor.close()\n",
    "conection.close()"
   ]
  },
  {
   "cell_type": "code",
   "execution_count": null,
   "id": "5f6dc535",
   "metadata": {},
   "outputs": [],
   "source": []
  }
 ],
 "metadata": {
  "kernelspec": {
   "display_name": "Python 3",
   "language": "python",
   "name": "python3"
  },
  "language_info": {
   "codemirror_mode": {
    "name": "ipython",
    "version": 3
   },
   "file_extension": ".py",
   "mimetype": "text/x-python",
   "name": "python",
   "nbconvert_exporter": "python",
   "pygments_lexer": "ipython3",
   "version": "3.8.5"
  }
 },
 "nbformat": 4,
 "nbformat_minor": 5
}
