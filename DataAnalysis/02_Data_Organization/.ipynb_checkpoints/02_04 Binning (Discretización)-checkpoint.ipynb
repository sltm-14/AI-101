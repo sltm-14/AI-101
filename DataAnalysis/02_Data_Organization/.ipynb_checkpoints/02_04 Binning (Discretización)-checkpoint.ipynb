{
 "cells": [
  {
   "cell_type": "markdown",
   "id": "39f75dc5",
   "metadata": {},
   "source": [
    "# Binning"
   ]
  },
  {
   "cell_type": "markdown",
   "id": "14b30d10",
   "metadata": {},
   "source": [
    "<ul>\n",
    "    <li>\n",
    "        Grouping values into bins\n",
    "    </li>\n",
    "    <li>\n",
    "        converts numeric into categorical variables\n",
    "    </li>\n",
    "    <li>\n",
    "        Group a set of numerical values into a set of \"bins\"\n",
    "    </li>\n",
    "</ul>"
   ]
  },
  {
   "cell_type": "code",
   "execution_count": 1,
   "id": "5f500107",
   "metadata": {},
   "outputs": [
    {
     "data": {
      "image/jpeg": "[encoded data removed]",
      "text/html": [
       "\n",
       "        <iframe\n",
       "            width=\"800\"\n",
       "            height=\"500\"\n",
       "            src=\"https://www.youtube.com/embed/uXOH7NiuxOA\"\n",
       "            frameborder=\"0\"\n",
       "            allowfullscreen\n",
       "        ></iframe>\n",
       "        "
      ],
      "text/plain": [
       "<IPython.lib.display.YouTubeVideo at 0x23d316ab250>"
      ]
     },
     "execution_count": 1,
     "metadata": {},
     "output_type": "execute_result"
    }
   ],
   "source": [
    "from IPython.display import YouTubeVideo\n",
    "YouTubeVideo('uXOH7NiuxOA', width=800, height=500 )"
   ]
  },
  {
   "cell_type": "markdown",
   "id": "hindu-witch",
   "metadata": {},
   "source": [
    "<b>\n",
    "    <font size=\"+0\">\n",
    "        <p style=\"color:#BB8FCE;\">\n",
    "            Importing the data set\n",
    "        </p>\n",
    "    </font>\n",
    "</b>"
   ]
  },
  {
   "cell_type": "code",
   "execution_count": 2,
   "id": "f304a586",
   "metadata": {},
   "outputs": [],
   "source": [
    "import pandas as pd\n",
    "import numpy as np"
   ]
  },
  {
   "cell_type": "code",
   "execution_count": 3,
   "id": "36d03b3d",
   "metadata": {},
   "outputs": [],
   "source": [
    "pd.set_option(\"display.max_rows\", None, \"display.max_columns\", None)"
   ]
  },
  {
   "cell_type": "code",
   "execution_count": 4,
   "id": "de641abf",
   "metadata": {},
   "outputs": [],
   "source": [
    "path = \"./Datasets/imports-85_NoMissingValues_Formatted_Normalized.csv\"\n",
    "df = pd.read_csv(path)"
   ]
  },
  {
   "cell_type": "markdown",
   "id": "f08431ce",
   "metadata": {},
   "source": [
    "<b>\n",
    "    <font size=\"+1\">\n",
    "        <p style=\"color:#4496C4;\">\n",
    "            Binning in python\n",
    "        </p>\n",
    "    </font>\n",
    "</b>"
   ]
  },
  {
   "cell_type": "markdown",
   "id": "9932a05f",
   "metadata": {},
   "source": [
    "<img src=\"./img/binning.png\" align=\"left\"/> "
   ]
  },
  {
   "cell_type": "code",
   "execution_count": 5,
   "id": "15be60a1",
   "metadata": {},
   "outputs": [
    {
     "data": {
      "text/plain": [
       "0      111.000000\n",
       "1      111.000000\n",
       "2      154.000000\n",
       "3      102.000000\n",
       "4      115.000000\n",
       "5      110.000000\n",
       "6      110.000000\n",
       "7      110.000000\n",
       "8      140.000000\n",
       "9      101.000000\n",
       "10     101.000000\n",
       "11     121.000000\n",
       "12     121.000000\n",
       "13     121.000000\n",
       "14     182.000000\n",
       "15     182.000000\n",
       "16     182.000000\n",
       "17      48.000000\n",
       "18      70.000000\n",
       "19      70.000000\n",
       "20      68.000000\n",
       "21      68.000000\n",
       "22     102.000000\n",
       "23      68.000000\n",
       "24      68.000000\n",
       "25      68.000000\n",
       "26     102.000000\n",
       "27      88.000000\n",
       "28     145.000000\n",
       "29      58.000000\n",
       "30      76.000000\n",
       "31      60.000000\n",
       "32      76.000000\n",
       "33      76.000000\n",
       "34      76.000000\n",
       "35      76.000000\n",
       "36      86.000000\n",
       "37      86.000000\n",
       "38      86.000000\n",
       "39      86.000000\n",
       "40     101.000000\n",
       "41     100.000000\n",
       "42      78.000000\n",
       "43      90.000000\n",
       "44     176.000000\n",
       "45     176.000000\n",
       "46     262.000000\n",
       "47      68.000000\n",
       "48      68.000000\n",
       "49      68.000000\n",
       "50      68.000000\n",
       "51      68.000000\n",
       "52     101.000000\n",
       "53     101.000000\n",
       "54     101.000000\n",
       "55     135.000000\n",
       "56      84.000000\n",
       "57      84.000000\n",
       "58      84.000000\n",
       "59      84.000000\n",
       "60      64.000000\n",
       "61      84.000000\n",
       "62     120.000000\n",
       "63      72.000000\n",
       "64     123.000000\n",
       "65     123.000000\n",
       "66     123.000000\n",
       "67     123.000000\n",
       "68     155.000000\n",
       "69     155.000000\n",
       "70     184.000000\n",
       "71     184.000000\n",
       "72     175.000000\n",
       "73      68.000000\n",
       "74      68.000000\n",
       "75      68.000000\n",
       "76     102.000000\n",
       "77     116.000000\n",
       "78      88.000000\n",
       "79     145.000000\n",
       "80     145.000000\n",
       "81     145.000000\n",
       "82      88.000000\n",
       "83      88.000000\n",
       "84     116.000000\n",
       "85     116.000000\n",
       "86      69.000000\n",
       "87      55.000000\n",
       "88      69.000000\n",
       "89      69.000000\n",
       "90      69.000000\n",
       "91      69.000000\n",
       "92      69.000000\n",
       "93      69.000000\n",
       "94      69.000000\n",
       "95      69.000000\n",
       "96      97.000000\n",
       "97      97.000000\n",
       "98     152.000000\n",
       "99     152.000000\n",
       "100    152.000000\n",
       "101    160.000000\n",
       "102    200.000000\n",
       "103    160.000000\n",
       "104     97.000000\n",
       "105     95.000000\n",
       "106     97.000000\n",
       "107     95.000000\n",
       "108     95.000000\n",
       "109     95.000000\n",
       "110     95.000000\n",
       "111     95.000000\n",
       "112     97.000000\n",
       "113     95.000000\n",
       "114    142.000000\n",
       "115     68.000000\n",
       "116    102.000000\n",
       "117     68.000000\n",
       "118     68.000000\n",
       "119     68.000000\n",
       "120     88.000000\n",
       "121    145.000000\n",
       "122    143.000000\n",
       "123    207.000000\n",
       "124    207.000000\n",
       "125    207.000000\n",
       "126    103.396985\n",
       "127    103.396985\n",
       "128    110.000000\n",
       "129    110.000000\n",
       "130    110.000000\n",
       "131    110.000000\n",
       "132    160.000000\n",
       "133    160.000000\n",
       "134     69.000000\n",
       "135     73.000000\n",
       "136     73.000000\n",
       "137     82.000000\n",
       "138     82.000000\n",
       "139     94.000000\n",
       "140     82.000000\n",
       "141    111.000000\n",
       "142     82.000000\n",
       "143     94.000000\n",
       "144     82.000000\n",
       "145    111.000000\n",
       "146     62.000000\n",
       "147     62.000000\n",
       "148     62.000000\n",
       "149     62.000000\n",
       "150     62.000000\n",
       "151     62.000000\n",
       "152     70.000000\n",
       "153     70.000000\n",
       "154     56.000000\n",
       "155     56.000000\n",
       "156     70.000000\n",
       "157     70.000000\n",
       "158     70.000000\n",
       "159     70.000000\n",
       "160     70.000000\n",
       "161    112.000000\n",
       "162    112.000000\n",
       "163    116.000000\n",
       "164    116.000000\n",
       "165    116.000000\n",
       "166    116.000000\n",
       "167    116.000000\n",
       "168    116.000000\n",
       "169     92.000000\n",
       "170     73.000000\n",
       "171     92.000000\n",
       "172     92.000000\n",
       "173     92.000000\n",
       "174    161.000000\n",
       "175    161.000000\n",
       "176    156.000000\n",
       "177    156.000000\n",
       "178     52.000000\n",
       "179     85.000000\n",
       "180     52.000000\n",
       "181     85.000000\n",
       "182     85.000000\n",
       "183     68.000000\n",
       "184    100.000000\n",
       "185     90.000000\n",
       "186     90.000000\n",
       "187    110.000000\n",
       "188     68.000000\n",
       "189     88.000000\n",
       "190    114.000000\n",
       "191    114.000000\n",
       "192    114.000000\n",
       "193    114.000000\n",
       "194    162.000000\n",
       "195    162.000000\n",
       "196    114.000000\n",
       "197    160.000000\n",
       "198    134.000000\n",
       "199    106.000000\n",
       "200    114.000000\n",
       "Name: horsepower, dtype: float64"
      ]
     },
     "execution_count": 5,
     "metadata": {},
     "output_type": "execute_result"
    }
   ],
   "source": [
    "df[\"horsepower\"]"
   ]
  },
  {
   "cell_type": "code",
   "execution_count": 6,
   "id": "e56ef87c",
   "metadata": {},
   "outputs": [],
   "source": [
    "df[\"horsepower\"]=df[\"horsepower\"].astype(int, copy=True)"
   ]
  },
  {
   "cell_type": "code",
   "execution_count": 7,
   "id": "0775218d",
   "metadata": {},
   "outputs": [
    {
     "data": {
      "text/plain": [
       "Text(0.5, 1.0, 'horsepower bins')"
      ]
     },
     "execution_count": 7,
     "metadata": {},
     "output_type": "execute_result"
    },
    {
     "data": {
      "image/png": "[encoded data removed]",
      "text/plain": [
       "<Figure size 432x288 with 1 Axes>"
      ]
     },
     "metadata": {
      "needs_background": "light"
     },
     "output_type": "display_data"
    }
   ],
   "source": [
    "%matplotlib inline\n",
    "import matplotlib as plt\n",
    "from matplotlib import pyplot\n",
    "plt.pyplot.hist(df[\"horsepower\"])\n",
    "\n",
    "# establece las etiquetas x/y y muestra el título \n",
    "plt.pyplot.xlabel(\"horsepower\")\n",
    "plt.pyplot.ylabel(\"count\")\n",
    "plt.pyplot.title(\"horsepower bins\")"
   ]
  },
  {
   "cell_type": "code",
   "execution_count": 8,
   "id": "b93ac234",
   "metadata": {},
   "outputs": [
    {
     "data": {
      "text/plain": [
       "array([ 48.        , 119.33333333, 190.66666667, 262.        ])"
      ]
     },
     "execution_count": 8,
     "metadata": {},
     "output_type": "execute_result"
    }
   ],
   "source": [
    "bins = np.linspace(min(df[\"horsepower\"]), max(df[\"horsepower\"]), 4)\n",
    "bins"
   ]
  },
  {
   "cell_type": "code",
   "execution_count": 9,
   "id": "4f430ca6",
   "metadata": {},
   "outputs": [],
   "source": [
    "group_names = [\"low\", \"Medium\", \"High\"]"
   ]
  },
  {
   "cell_type": "code",
   "execution_count": 10,
   "id": "b84df30d",
   "metadata": {},
   "outputs": [
    {
     "data": {
      "text/html": [
       "<div>\n",
       "<style scoped>\n",
       "    .dataframe tbody tr th:only-of-type {\n",
       "        vertical-align: middle;\n",
       "    }\n",
       "\n",
       "    .dataframe tbody tr th {\n",
       "        vertical-align: top;\n",
       "    }\n",
       "\n",
       "    .dataframe thead th {\n",
       "        text-align: right;\n",
       "    }\n",
       "</style>\n",
       "<table border=\"1\" class=\"dataframe\">\n",
       "  <thead>\n",
       "    <tr style=\"text-align: right;\">\n",
       "      <th></th>\n",
       "      <th>horsepower</th>\n",
       "      <th>horsepower-binned</th>\n",
       "    </tr>\n",
       "  </thead>\n",
       "  <tbody>\n",
       "    <tr>\n",
       "      <th>0</th>\n",
       "      <td>111</td>\n",
       "      <td>low</td>\n",
       "    </tr>\n",
       "    <tr>\n",
       "      <th>1</th>\n",
       "      <td>111</td>\n",
       "      <td>low</td>\n",
       "    </tr>\n",
       "    <tr>\n",
       "      <th>2</th>\n",
       "      <td>154</td>\n",
       "      <td>Medium</td>\n",
       "    </tr>\n",
       "    <tr>\n",
       "      <th>3</th>\n",
       "      <td>102</td>\n",
       "      <td>low</td>\n",
       "    </tr>\n",
       "    <tr>\n",
       "      <th>4</th>\n",
       "      <td>115</td>\n",
       "      <td>low</td>\n",
       "    </tr>\n",
       "    <tr>\n",
       "      <th>5</th>\n",
       "      <td>110</td>\n",
       "      <td>low</td>\n",
       "    </tr>\n",
       "    <tr>\n",
       "      <th>6</th>\n",
       "      <td>110</td>\n",
       "      <td>low</td>\n",
       "    </tr>\n",
       "    <tr>\n",
       "      <th>7</th>\n",
       "      <td>110</td>\n",
       "      <td>low</td>\n",
       "    </tr>\n",
       "    <tr>\n",
       "      <th>8</th>\n",
       "      <td>140</td>\n",
       "      <td>Medium</td>\n",
       "    </tr>\n",
       "    <tr>\n",
       "      <th>9</th>\n",
       "      <td>101</td>\n",
       "      <td>low</td>\n",
       "    </tr>\n",
       "    <tr>\n",
       "      <th>10</th>\n",
       "      <td>101</td>\n",
       "      <td>low</td>\n",
       "    </tr>\n",
       "    <tr>\n",
       "      <th>11</th>\n",
       "      <td>121</td>\n",
       "      <td>Medium</td>\n",
       "    </tr>\n",
       "    <tr>\n",
       "      <th>12</th>\n",
       "      <td>121</td>\n",
       "      <td>Medium</td>\n",
       "    </tr>\n",
       "    <tr>\n",
       "      <th>13</th>\n",
       "      <td>121</td>\n",
       "      <td>Medium</td>\n",
       "    </tr>\n",
       "    <tr>\n",
       "      <th>14</th>\n",
       "      <td>182</td>\n",
       "      <td>Medium</td>\n",
       "    </tr>\n",
       "    <tr>\n",
       "      <th>15</th>\n",
       "      <td>182</td>\n",
       "      <td>Medium</td>\n",
       "    </tr>\n",
       "    <tr>\n",
       "      <th>16</th>\n",
       "      <td>182</td>\n",
       "      <td>Medium</td>\n",
       "    </tr>\n",
       "    <tr>\n",
       "      <th>17</th>\n",
       "      <td>48</td>\n",
       "      <td>low</td>\n",
       "    </tr>\n",
       "    <tr>\n",
       "      <th>18</th>\n",
       "      <td>70</td>\n",
       "      <td>low</td>\n",
       "    </tr>\n",
       "    <tr>\n",
       "      <th>19</th>\n",
       "      <td>70</td>\n",
       "      <td>low</td>\n",
       "    </tr>\n",
       "  </tbody>\n",
       "</table>\n",
       "</div>"
      ],
      "text/plain": [
       "    horsepower horsepower-binned\n",
       "0          111               low\n",
       "1          111               low\n",
       "2          154            Medium\n",
       "3          102               low\n",
       "4          115               low\n",
       "5          110               low\n",
       "6          110               low\n",
       "7          110               low\n",
       "8          140            Medium\n",
       "9          101               low\n",
       "10         101               low\n",
       "11         121            Medium\n",
       "12         121            Medium\n",
       "13         121            Medium\n",
       "14         182            Medium\n",
       "15         182            Medium\n",
       "16         182            Medium\n",
       "17          48               low\n",
       "18          70               low\n",
       "19          70               low"
      ]
     },
     "execution_count": 10,
     "metadata": {},
     "output_type": "execute_result"
    }
   ],
   "source": [
    "df['horsepower-binned'] = pd.cut(df['horsepower'], bins, labels=group_names, include_lowest=True )\n",
    "df[['horsepower','horsepower-binned']].head(20)"
   ]
  },
  {
   "cell_type": "markdown",
   "id": "69269d7c",
   "metadata": {},
   "source": [
    "<b>\n",
    "    <font size=\"+0\">\n",
    "        <p style=\"color:#5FA734;\">\n",
    "            Plotting\n",
    "        </p>\n",
    "    </font>\n",
    "</b>"
   ]
  },
  {
   "cell_type": "code",
   "execution_count": 11,
   "id": "bfdd248f",
   "metadata": {},
   "outputs": [],
   "source": [
    "import matplotlib.pyplot as plt\n",
    "%matplotlib inline"
   ]
  },
  {
   "cell_type": "code",
   "execution_count": 12,
   "id": "4107d322",
   "metadata": {},
   "outputs": [
    {
     "data": {
      "text/plain": [
       "<AxesSubplot:>"
      ]
     },
     "execution_count": 12,
     "metadata": {},
     "output_type": "execute_result"
    },
    {
     "data": {
      "image/png": "[encoded data removed]",
      "text/plain": [
       "<Figure size 432x288 with 1 Axes>"
      ]
     },
     "metadata": {
      "needs_background": "light"
     },
     "output_type": "display_data"
    }
   ],
   "source": [
    "val_counts = df[\"horsepower-binned\"].value_counts()\n",
    "val_counts.plot(kind = 'bar')"
   ]
  },
  {
   "cell_type": "code",
   "execution_count": 13,
   "id": "edc0fab5",
   "metadata": {},
   "outputs": [
    {
     "data": {
      "text/plain": [
       "Text(0.5, 1.0, 'horsepower bins')"
      ]
     },
     "execution_count": 13,
     "metadata": {},
     "output_type": "execute_result"
    },
    {
     "data": {
      "image/png": "[encoded data removed]",
      "text/plain": [
       "<Figure size 432x288 with 1 Axes>"
      ]
     },
     "metadata": {
      "needs_background": "light"
     },
     "output_type": "display_data"
    }
   ],
   "source": [
    "%matplotlib inline\n",
    "import matplotlib as plt\n",
    "from matplotlib import pyplot\n",
    "pyplot.bar(group_names, df[\"horsepower-binned\"].value_counts())\n",
    "\n",
    "# establece las etiquetas x/y y muestra el título \n",
    "plt.pyplot.xlabel(\"horsepower\")\n",
    "plt.pyplot.ylabel(\"count\")\n",
    "plt.pyplot.title(\"horsepower bins\")"
   ]
  },
  {
   "cell_type": "code",
   "execution_count": 14,
   "id": "5c262ba1",
   "metadata": {},
   "outputs": [
    {
     "data": {
      "text/plain": [
       "Text(0.5, 1.0, 'horsepower bins')"
      ]
     },
     "execution_count": 14,
     "metadata": {},
     "output_type": "execute_result"
    },
    {
     "data": {
      "image/png": "[encoded data removed]",
      "text/plain": [
       "<Figure size 432x288 with 1 Axes>"
      ]
     },
     "metadata": {
      "needs_background": "light"
     },
     "output_type": "display_data"
    }
   ],
   "source": [
    "%matplotlib inline\n",
    "import matplotlib as plt\n",
    "from matplotlib import pyplot\n",
    "\n",
    "a = (0,1,2)\n",
    "\n",
    "# Dibuja el histograma del atributo \"horsepower\" con bins = 3\n",
    "plt.pyplot.hist(df[\"horsepower\"], bins = 3)\n",
    "\n",
    "# establece las etiquetas x/y y muestra el título \n",
    "plt.pyplot.xlabel(\"horsepower\")\n",
    "plt.pyplot.ylabel(\"count\")\n",
    "plt.pyplot.title(\"horsepower bins\")"
   ]
  },
  {
   "cell_type": "markdown",
   "id": "3d459f5d",
   "metadata": {},
   "source": [
    "<b>\n",
    "    <font size=\"+1\">\n",
    "        <p style=\"color:#4496C4;\">\n",
    "            Saving the dataset\n",
    "        </p>\n",
    "    </font>\n",
    "</b>"
   ]
  },
  {
   "cell_type": "code",
   "execution_count": 15,
   "id": "717ea9fc",
   "metadata": {},
   "outputs": [],
   "source": [
    "path = \"./Datasets/imports-85_NoMissingValues_Formatted_Normalized_Binned.csv\"\n",
    "df.to_csv(path)"
   ]
  },
  {
   "cell_type": "code",
   "execution_count": null,
   "id": "0e79284a",
   "metadata": {},
   "outputs": [],
   "source": []
  }
 ],
 "metadata": {
  "kernelspec": {
   "display_name": "Python 3",
   "language": "python",
   "name": "python3"
  },
  "language_info": {
   "codemirror_mode": {
    "name": "ipython",
    "version": 3
   },
   "file_extension": ".py",
   "mimetype": "text/x-python",
   "name": "python",
   "nbconvert_exporter": "python",
   "pygments_lexer": "ipython3",
   "version": "3.8.8"
  }
 },
 "nbformat": 4,
 "nbformat_minor": 5
}
