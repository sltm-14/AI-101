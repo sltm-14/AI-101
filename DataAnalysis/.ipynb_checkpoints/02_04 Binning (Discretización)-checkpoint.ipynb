{
 "cells": [
  {
   "cell_type": "markdown",
   "id": "39f75dc5",
   "metadata": {},
   "source": [
    "# Binning"
   ]
  },
  {
   "cell_type": "markdown",
   "id": "14b30d10",
   "metadata": {},
   "source": [
    "<ul>\n",
    "    <li>\n",
    "        Grouping values into bins\n",
    "    </li>\n",
    "    <li>\n",
    "        converts numeric into categorical variables\n",
    "    </li>\n",
    "    <li>\n",
    "        Group a set of numerical values into a set of \"bins\"\n",
    "    </li>\n",
    "</ul>"
   ]
  },
  {
   "cell_type": "code",
   "execution_count": 3,
   "id": "5f500107",
   "metadata": {},
   "outputs": [
    {
     "data": {
      "image/jpeg": "[encoded data removed]",
      "text/html": [
       "\n",
       "        <iframe\n",
       "            width=\"800\"\n",
       "            height=\"500\"\n",
       "            src=\"https://www.youtube.com/embed/uXOH7NiuxOA\"\n",
       "            frameborder=\"0\"\n",
       "            allowfullscreen\n",
       "        ></iframe>\n",
       "        "
      ],
      "text/plain": [
       "<IPython.lib.display.YouTubeVideo at 0x1862faf83a0>"
      ]
     },
     "execution_count": 3,
     "metadata": {},
     "output_type": "execute_result"
    }
   ],
   "source": [
    "from IPython.display import YouTubeVideo\n",
    "YouTubeVideo('uXOH7NiuxOA', width=800, height=500 )"
   ]
  },
  {
   "cell_type": "markdown",
   "id": "f08431ce",
   "metadata": {},
   "source": [
    "<b>\n",
    "    <font size=\"+1\">\n",
    "        <p style=\"color:#4496C4;\">\n",
    "            Binning in python\n",
    "        </p>\n",
    "    </font>\n",
    "</b>"
   ]
  },
  {
   "cell_type": "markdown",
   "id": "4e3c268d",
   "metadata": {},
   "source": [
    "<img src=\"./img/binning.png\" align=\"left\"/> "
   ]
  },
  {
   "cell_type": "markdown",
   "id": "0d942a1e",
   "metadata": {},
   "source": [
    "bins = np.linspace( min(df[\"price\"]), max(df[\"price\"]),4 )"
   ]
  },
  {
   "cell_type": "markdown",
   "id": "31f64d91",
   "metadata": {},
   "source": [
    "group_names = [\"low\", \"Medium\", \"High\"]"
   ]
  },
  {
   "cell_type": "markdown",
   "id": "9fb90cce",
   "metadata": {},
   "source": [
    "df[\"prince-binned\"] = pd.cut(df[\"price\"], bins, labels = group_names, include_lowest = True)"
   ]
  },
  {
   "cell_type": "markdown",
   "id": "47a0826e",
   "metadata": {},
   "source": [
    "<img src=\"./img/binned_data_histogram.png\" align=\"left\"/> \n"
   ]
  },
  {
   "cell_type": "code",
   "execution_count": null,
   "id": "06686fa1",
   "metadata": {},
   "outputs": [],
   "source": []
  }
 ],
 "metadata": {
  "kernelspec": {
   "display_name": "Python 3",
   "language": "python",
   "name": "python3"
  },
  "language_info": {
   "codemirror_mode": {
    "name": "ipython",
    "version": 3
   },
   "file_extension": ".py",
   "mimetype": "text/x-python",
   "name": "python",
   "nbconvert_exporter": "python",
   "pygments_lexer": "ipython3",
   "version": "3.8.8"
  }
 },
 "nbformat": 4,
 "nbformat_minor": 5
}
