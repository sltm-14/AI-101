{
 "cells": [
  {
   "cell_type": "markdown",
   "metadata": {
    "id": "Mfq9kBH1BCgC"
   },
   "source": [
    "# Classification\n"
   ]
  },
  {
   "cell_type": "markdown",
   "metadata": {
    "id": "QizR-PAeBCgH"
   },
   "source": [
    "## Classification of MNIST dataset\n",
    "\n",
    "The MNIST dataset consists of 70,000 small images of handwritten digits  by high school students and employees of the US Census Bureau.\n",
    "\n",
    "Each image is labeled with the digit it represents.\n",
    "\n",
    "The goal of classification is, after being trained, to predict a class for a new sample. The output is a discrete label."
   ]
  },
  {
   "cell_type": "code",
   "execution_count": 1,
   "metadata": {
    "colab": {
     "base_uri": "https://localhost:8080/",
     "height": 35
    },
    "executionInfo": {
     "elapsed": 712,
     "status": "ok",
     "timestamp": 1612028108394,
     "user": {
      "displayName": "Centro de Innovación Industrial IA",
      "photoUrl": "",
      "userId": "16682900235901811455"
     },
     "user_tz": 360
    },
    "id": "671_37xqBCgI",
    "outputId": "242e421c-5589-49e3-8b47-ad7fb50f1d3e"
   },
   "outputs": [
    {
     "data": {
      "text/plain": [
       "'3.7.9'"
      ]
     },
     "execution_count": 1,
     "metadata": {},
     "output_type": "execute_result"
    }
   ],
   "source": [
    "from platform import python_version\n",
    "python_version()"
   ]
  },
  {
   "cell_type": "code",
   "execution_count": 2,
   "metadata": {
    "colab": {
     "base_uri": "https://localhost:8080/",
     "height": 35
    },
    "executionInfo": {
     "elapsed": 2409,
     "status": "ok",
     "timestamp": 1612028110099,
     "user": {
      "displayName": "Centro de Innovación Industrial IA",
      "photoUrl": "",
      "userId": "16682900235901811455"
     },
     "user_tz": 360
    },
    "id": "ulcC0rh8BCgJ",
    "outputId": "8e0a35a7-0c71-43b1-ea7c-2c5caea1e4a5"
   },
   "outputs": [
    {
     "data": {
      "text/plain": [
       "'0.21.2'"
      ]
     },
     "execution_count": 2,
     "metadata": {},
     "output_type": "execute_result"
    }
   ],
   "source": [
    "import sklearn\n",
    "sklearn.__version__"
   ]
  },
  {
   "cell_type": "code",
   "execution_count": 3,
   "metadata": {
    "executionInfo": {
     "elapsed": 2403,
     "status": "ok",
     "timestamp": 1612028110100,
     "user": {
      "displayName": "Centro de Innovación Industrial IA",
      "photoUrl": "",
      "userId": "16682900235901811455"
     },
     "user_tz": 360
    },
    "id": "Ew53_QTGBCgJ"
   },
   "outputs": [],
   "source": [
    "import numpy as np\n",
    "%matplotlib inline\n",
    "import matplotlib\n",
    "import matplotlib.pyplot as plt\n",
    "\n",
    "# to make this notebook's output stable across runs\n",
    "np.random.seed(42)"
   ]
  },
  {
   "cell_type": "code",
   "execution_count": 4,
   "metadata": {
    "executionInfo": {
     "elapsed": 4433,
     "status": "ok",
     "timestamp": 1612028112133,
     "user": {
      "displayName": "Centro de Innovación Industrial IA",
      "photoUrl": "",
      "userId": "16682900235901811455"
     },
     "user_tz": 360
    },
    "id": "izq0U9dOBCgJ"
   },
   "outputs": [
    {
     "name": "stderr",
     "output_type": "stream",
     "text": [
      "C:\\Users\\sltm-14\\Anaconda3\\envs\\MLenv\\lib\\site-packages\\tensorflow\\python\\framework\\dtypes.py:516: FutureWarning: Passing (type, 1) or '1type' as a synonym of type is deprecated; in a future version of numpy, it will be understood as (type, (1,)) / '(1,)type'.\n",
      "  _np_qint8 = np.dtype([(\"qint8\", np.int8, 1)])\n",
      "C:\\Users\\sltm-14\\Anaconda3\\envs\\MLenv\\lib\\site-packages\\tensorflow\\python\\framework\\dtypes.py:517: FutureWarning: Passing (type, 1) or '1type' as a synonym of type is deprecated; in a future version of numpy, it will be understood as (type, (1,)) / '(1,)type'.\n",
      "  _np_quint8 = np.dtype([(\"quint8\", np.uint8, 1)])\n",
      "C:\\Users\\sltm-14\\Anaconda3\\envs\\MLenv\\lib\\site-packages\\tensorflow\\python\\framework\\dtypes.py:518: FutureWarning: Passing (type, 1) or '1type' as a synonym of type is deprecated; in a future version of numpy, it will be understood as (type, (1,)) / '(1,)type'.\n",
      "  _np_qint16 = np.dtype([(\"qint16\", np.int16, 1)])\n",
      "C:\\Users\\sltm-14\\Anaconda3\\envs\\MLenv\\lib\\site-packages\\tensorflow\\python\\framework\\dtypes.py:519: FutureWarning: Passing (type, 1) or '1type' as a synonym of type is deprecated; in a future version of numpy, it will be understood as (type, (1,)) / '(1,)type'.\n",
      "  _np_quint16 = np.dtype([(\"quint16\", np.uint16, 1)])\n",
      "C:\\Users\\sltm-14\\Anaconda3\\envs\\MLenv\\lib\\site-packages\\tensorflow\\python\\framework\\dtypes.py:520: FutureWarning: Passing (type, 1) or '1type' as a synonym of type is deprecated; in a future version of numpy, it will be understood as (type, (1,)) / '(1,)type'.\n",
      "  _np_qint32 = np.dtype([(\"qint32\", np.int32, 1)])\n",
      "C:\\Users\\sltm-14\\Anaconda3\\envs\\MLenv\\lib\\site-packages\\tensorflow\\python\\framework\\dtypes.py:525: FutureWarning: Passing (type, 1) or '1type' as a synonym of type is deprecated; in a future version of numpy, it will be understood as (type, (1,)) / '(1,)type'.\n",
      "  np_resource = np.dtype([(\"resource\", np.ubyte, 1)])\n",
      "C:\\Users\\sltm-14\\Anaconda3\\envs\\MLenv\\lib\\site-packages\\tensorboard\\compat\\tensorflow_stub\\dtypes.py:541: FutureWarning: Passing (type, 1) or '1type' as a synonym of type is deprecated; in a future version of numpy, it will be understood as (type, (1,)) / '(1,)type'.\n",
      "  _np_qint8 = np.dtype([(\"qint8\", np.int8, 1)])\n",
      "C:\\Users\\sltm-14\\Anaconda3\\envs\\MLenv\\lib\\site-packages\\tensorboard\\compat\\tensorflow_stub\\dtypes.py:542: FutureWarning: Passing (type, 1) or '1type' as a synonym of type is deprecated; in a future version of numpy, it will be understood as (type, (1,)) / '(1,)type'.\n",
      "  _np_quint8 = np.dtype([(\"quint8\", np.uint8, 1)])\n",
      "C:\\Users\\sltm-14\\Anaconda3\\envs\\MLenv\\lib\\site-packages\\tensorboard\\compat\\tensorflow_stub\\dtypes.py:543: FutureWarning: Passing (type, 1) or '1type' as a synonym of type is deprecated; in a future version of numpy, it will be understood as (type, (1,)) / '(1,)type'.\n",
      "  _np_qint16 = np.dtype([(\"qint16\", np.int16, 1)])\n",
      "C:\\Users\\sltm-14\\Anaconda3\\envs\\MLenv\\lib\\site-packages\\tensorboard\\compat\\tensorflow_stub\\dtypes.py:544: FutureWarning: Passing (type, 1) or '1type' as a synonym of type is deprecated; in a future version of numpy, it will be understood as (type, (1,)) / '(1,)type'.\n",
      "  _np_quint16 = np.dtype([(\"quint16\", np.uint16, 1)])\n",
      "C:\\Users\\sltm-14\\Anaconda3\\envs\\MLenv\\lib\\site-packages\\tensorboard\\compat\\tensorflow_stub\\dtypes.py:545: FutureWarning: Passing (type, 1) or '1type' as a synonym of type is deprecated; in a future version of numpy, it will be understood as (type, (1,)) / '(1,)type'.\n",
      "  _np_qint32 = np.dtype([(\"qint32\", np.int32, 1)])\n",
      "C:\\Users\\sltm-14\\Anaconda3\\envs\\MLenv\\lib\\site-packages\\tensorboard\\compat\\tensorflow_stub\\dtypes.py:550: FutureWarning: Passing (type, 1) or '1type' as a synonym of type is deprecated; in a future version of numpy, it will be understood as (type, (1,)) / '(1,)type'.\n",
      "  np_resource = np.dtype([(\"resource\", np.ubyte, 1)])\n"
     ]
    }
   ],
   "source": [
    "# conda install -c conda-forge tensorflow \n",
    "# conda install -c conda-forge keras\n",
    "import tensorflow as tf\n",
    "mnist = tf.keras.datasets.mnist\n",
    "\n",
    "# load data\n",
    "(X_train, y_train),(X_test, y_test) = mnist.load_data()"
   ]
  },
  {
   "cell_type": "code",
   "execution_count": 5,
   "metadata": {
    "colab": {
     "base_uri": "https://localhost:8080/"
    },
    "executionInfo": {
     "elapsed": 4429,
     "status": "ok",
     "timestamp": 1612028112133,
     "user": {
      "displayName": "Centro de Innovación Industrial IA",
      "photoUrl": "",
      "userId": "16682900235901811455"
     },
     "user_tz": 360
    },
    "id": "xJz0ZfplBCgK",
    "outputId": "770a673f-ba18-41c9-bb2e-338666b61c3f"
   },
   "outputs": [
    {
     "data": {
      "text/plain": [
       "((60000, 28, 28), (10000, 28, 28))"
      ]
     },
     "execution_count": 5,
     "metadata": {},
     "output_type": "execute_result"
    }
   ],
   "source": [
    "X_train.shape, X_test.shape"
   ]
  },
  {
   "cell_type": "code",
   "execution_count": 6,
   "metadata": {
    "executionInfo": {
     "elapsed": 4426,
     "status": "ok",
     "timestamp": 1612028112134,
     "user": {
      "displayName": "Centro de Innovación Industrial IA",
      "photoUrl": "",
      "userId": "16682900235901811455"
     },
     "user_tz": 360
    },
    "id": "ps28dlb5BCgK"
   },
   "outputs": [],
   "source": [
    "# reshape the data to 784 features (28*28)\n",
    "X_train = X_train.reshape(60000, 784)\n",
    "X_test = X_test.reshape(10000, 784) "
   ]
  },
  {
   "cell_type": "code",
   "execution_count": 7,
   "metadata": {
    "colab": {
     "base_uri": "https://localhost:8080/"
    },
    "executionInfo": {
     "elapsed": 4421,
     "status": "ok",
     "timestamp": 1612028112134,
     "user": {
      "displayName": "Centro de Innovación Industrial IA",
      "photoUrl": "",
      "userId": "16682900235901811455"
     },
     "user_tz": 360
    },
    "id": "d8FFt8-IBCgK",
    "outputId": "edf9e978-11b1-4e4f-947d-5dd6b6dac6b5"
   },
   "outputs": [
    {
     "data": {
      "text/plain": [
       "((60000, 784), (10000, 784))"
      ]
     },
     "execution_count": 7,
     "metadata": {},
     "output_type": "execute_result"
    }
   ],
   "source": [
    "X_train.shape, X_test.shape"
   ]
  },
  {
   "cell_type": "code",
   "execution_count": 8,
   "metadata": {
    "colab": {
     "base_uri": "https://localhost:8080/"
    },
    "executionInfo": {
     "elapsed": 4417,
     "status": "ok",
     "timestamp": 1612028112135,
     "user": {
      "displayName": "Centro de Innovación Industrial IA",
      "photoUrl": "",
      "userId": "16682900235901811455"
     },
     "user_tz": 360
    },
    "id": "Wbt6PP6FBCgK",
    "outputId": "2d983944-0dd7-4533-96e7-7caa20083772"
   },
   "outputs": [
    {
     "data": {
      "text/plain": [
       "((60000,), (10000,))"
      ]
     },
     "execution_count": 8,
     "metadata": {},
     "output_type": "execute_result"
    }
   ],
   "source": [
    "y_train.shape, y_test.shape"
   ]
  },
  {
   "cell_type": "markdown",
   "metadata": {
    "id": "INRb8szEBCgL"
   },
   "source": [
    "70,000 images and each images has 784 features.\n",
    "\n",
    "Each image has 28x28 pixels and each feature represents one pixel's intensity, from 0 (white) to 255 (black).\n",
    "\n",
    "To visualize one digit from the dataset:"
   ]
  },
  {
   "cell_type": "code",
   "execution_count": 9,
   "metadata": {
    "colab": {
     "base_uri": "https://localhost:8080/",
     "height": 265
    },
    "executionInfo": {
     "elapsed": 4413,
     "status": "ok",
     "timestamp": 1612028112136,
     "user": {
      "displayName": "Centro de Innovación Industrial IA",
      "photoUrl": "",
      "userId": "16682900235901811455"
     },
     "user_tz": 360
    },
    "id": "SoDQIG77BCgL",
    "outputId": "7846a01b-76f3-4356-9b5f-93a68ca2b651"
   },
   "outputs": [
    {
     "data": {
      "image/png": "[encoded data removed]",
      "text/plain": [
       "<Figure size 432x288 with 1 Axes>"
      ]
     },
     "metadata": {
      "needs_background": "light"
     },
     "output_type": "display_data"
    }
   ],
   "source": [
    "# choose an instance's feature vector\n",
    "some_digit = X_train[28000]\n",
    "\n",
    "# reshape to 28x28 array\n",
    "some_digit_image = some_digit.reshape(28, 28)\n",
    "\n",
    "# display the image\n",
    "plt.imshow(some_digit_image, cmap = matplotlib.cm.binary,\n",
    "          interpolation = 'nearest');"
   ]
  },
  {
   "cell_type": "code",
   "execution_count": 10,
   "metadata": {
    "colab": {
     "base_uri": "https://localhost:8080/"
    },
    "executionInfo": {
     "elapsed": 4405,
     "status": "ok",
     "timestamp": 1612028112136,
     "user": {
      "displayName": "Centro de Innovación Industrial IA",
      "photoUrl": "",
      "userId": "16682900235901811455"
     },
     "user_tz": 360
    },
    "id": "smp4O4srBCgL",
    "outputId": "6e30243b-91b0-4823-9ba9-91a16d3bf682"
   },
   "outputs": [
    {
     "data": {
      "text/plain": [
       "1"
      ]
     },
     "execution_count": 10,
     "metadata": {},
     "output_type": "execute_result"
    }
   ],
   "source": [
    "# image label\n",
    "y_train[28000]"
   ]
  },
  {
   "cell_type": "markdown",
   "metadata": {
    "id": "wWZu46voBCgL"
   },
   "source": [
    "MNIST dataset is already split into a training set (first 60,000 images) and a test set (last 10,000 images)."
   ]
  },
  {
   "cell_type": "code",
   "execution_count": 11,
   "metadata": {
    "colab": {
     "base_uri": "https://localhost:8080/"
    },
    "executionInfo": {
     "elapsed": 4729,
     "status": "ok",
     "timestamp": 1612028112466,
     "user": {
      "displayName": "Centro de Innovación Industrial IA",
      "photoUrl": "",
      "userId": "16682900235901811455"
     },
     "user_tz": 360
    },
    "id": "H0DGOw1IBCgL",
    "outputId": "aacdd863-cf15-4ffb-eb30-c8309b679d26"
   },
   "outputs": [
    {
     "name": "stdout",
     "output_type": "stream",
     "text": [
      "[12628 37730 39991 ...   860 15795 56422]\n"
     ]
    }
   ],
   "source": [
    "# shuffle the training set\n",
    "shuffle_index = np.random.permutation(60000)\n",
    "print(shuffle_index)\n",
    "X_train, y_train = X_train[shuffle_index], y_train[shuffle_index]"
   ]
  },
  {
   "cell_type": "markdown",
   "metadata": {
    "id": "76tp9TUWBCgM"
   },
   "source": [
    "## Training a Binary Classifier"
   ]
  },
  {
   "cell_type": "markdown",
   "metadata": {
    "id": "g1CFHVUOBCgM"
   },
   "source": [
    "Create a binay classifier to detect digit 5:"
   ]
  },
  {
   "cell_type": "code",
   "execution_count": 12,
   "metadata": {
    "colab": {
     "base_uri": "https://localhost:8080/"
    },
    "executionInfo": {
     "elapsed": 4725,
     "status": "ok",
     "timestamp": 1612028112467,
     "user": {
      "displayName": "Centro de Innovación Industrial IA",
      "photoUrl": "",
      "userId": "16682900235901811455"
     },
     "user_tz": 360
    },
    "id": "WVjkz64RBCgM",
    "outputId": "63cf7ff0-55c7-4604-a880-6977aff62b2d"
   },
   "outputs": [
    {
     "data": {
      "text/plain": [
       "array([False, False, False, ..., False, False, False])"
      ]
     },
     "execution_count": 12,
     "metadata": {},
     "output_type": "execute_result"
    }
   ],
   "source": [
    "# true for all 5s and false for all the other digits\n",
    "y_train_5 = (y_train == 5)\n",
    "y_test_5 = (y_test == 5)\n",
    "y_train_5"
   ]
  },
  {
   "cell_type": "markdown",
   "metadata": {
    "id": "vVvsJ6hBBCgM"
   },
   "source": [
    "Stochastic Gradient Descent (SGD) classifier is able to handle very large datasets efficiently. \n",
    "\n",
    "SGD classifier relies on randomness during training so to obtain reproducible results set the `random_state` parameter."
   ]
  },
  {
   "cell_type": "code",
   "execution_count": 13,
   "metadata": {
    "colab": {
     "base_uri": "https://localhost:8080/"
    },
    "executionInfo": {
     "elapsed": 12365,
     "status": "ok",
     "timestamp": 1612028120113,
     "user": {
      "displayName": "Centro de Innovación Industrial IA",
      "photoUrl": "",
      "userId": "16682900235901811455"
     },
     "user_tz": 360
    },
    "id": "Bbym4hK5BCgM",
    "outputId": "1ef6c080-9253-4da1-da49-809df5fb8fed",
    "scrolled": false
   },
   "outputs": [
    {
     "data": {
      "text/plain": [
       "SGDClassifier(alpha=0.0001, average=False, class_weight=None,\n",
       "              early_stopping=True, epsilon=0.1, eta0=0.1, fit_intercept=True,\n",
       "              l1_ratio=0.15, learning_rate='adaptive', loss='hinge',\n",
       "              max_iter=1000, n_iter_no_change=5, n_jobs=None, penalty='l2',\n",
       "              power_t=0.5, random_state=42, shuffle=True, tol=0.001,\n",
       "              validation_fraction=0.1, verbose=0, warm_start=False)"
      ]
     },
     "execution_count": 13,
     "metadata": {},
     "output_type": "execute_result"
    }
   ],
   "source": [
    "from sklearn.linear_model import SGDClassifier\n",
    "\n",
    "sgd = SGDClassifier(random_state = 42,eta0=0.1,learning_rate='adaptive', early_stopping=True)\n",
    "sgd.fit(X_train, y_train_5)"
   ]
  },
  {
   "cell_type": "markdown",
   "metadata": {
    "id": "Qc_wLcCRBCgM"
   },
   "source": [
    "After being fitted, the model can be used to detect images of th number 5:"
   ]
  },
  {
   "cell_type": "code",
   "execution_count": 14,
   "metadata": {
    "colab": {
     "base_uri": "https://localhost:8080/"
    },
    "executionInfo": {
     "elapsed": 12361,
     "status": "ok",
     "timestamp": 1612028120114,
     "user": {
      "displayName": "Centro de Innovación Industrial IA",
      "photoUrl": "",
      "userId": "16682900235901811455"
     },
     "user_tz": 360
    },
    "id": "fNB5LAOzBCgN",
    "outputId": "5d316646-0f0e-46eb-9799-cbf1d5cfe7cf"
   },
   "outputs": [
    {
     "data": {
      "text/plain": [
       "array([False])"
      ]
     },
     "execution_count": 14,
     "metadata": {},
     "output_type": "execute_result"
    }
   ],
   "source": [
    "sgd.predict([some_digit])"
   ]
  },
  {
   "cell_type": "code",
   "execution_count": 15,
   "metadata": {
    "executionInfo": {
     "elapsed": 12359,
     "status": "ok",
     "timestamp": 1612028120114,
     "user": {
      "displayName": "Centro de Innovación Industrial IA",
      "photoUrl": "",
      "userId": "16682900235901811455"
     },
     "user_tz": 360
    },
    "id": "6QXcHfPzUPYj"
   },
   "outputs": [],
   "source": [
    "some_digit=X_train[27000]"
   ]
  },
  {
   "cell_type": "code",
   "execution_count": null,
   "metadata": {
    "colab": {
     "base_uri": "https://localhost:8080/"
    },
    "executionInfo": {
     "elapsed": 12354,
     "status": "ok",
     "timestamp": 1612028120115,
     "user": {
      "displayName": "Centro de Innovación Industrial IA",
      "photoUrl": "",
      "userId": "16682900235901811455"
     },
     "user_tz": 360
    },
    "id": "PLNbQW5qT_vZ",
    "outputId": "d20850de-a17e-4c97-ae92-1b549fbf6b1a"
   },
   "outputs": [],
   "source": [
    "sgd.predict([X_train[27000]])"
   ]
  },
  {
   "cell_type": "code",
   "execution_count": null,
   "metadata": {},
   "outputs": [],
   "source": [
    "sgd.predict([X_train[27000]])"
   ]
  },
  {
   "cell_type": "code",
   "execution_count": 17,
   "metadata": {
    "executionInfo": {
     "elapsed": 12351,
     "status": "ok",
     "timestamp": 1612028120116,
     "user": {
      "displayName": "Centro de Innovación Industrial IA",
      "photoUrl": "",
      "userId": "16682900235901811455"
     },
     "user_tz": 360
    },
    "id": "ezyTqGBGBCgN"
   },
   "outputs": [],
   "source": [
    "new_digit = X_train[4000]"
   ]
  },
  {
   "cell_type": "code",
   "execution_count": 18,
   "metadata": {
    "colab": {
     "base_uri": "https://localhost:8080/"
    },
    "executionInfo": {
     "elapsed": 12345,
     "status": "ok",
     "timestamp": 1612028120116,
     "user": {
      "displayName": "Centro de Innovación Industrial IA",
      "photoUrl": "",
      "userId": "16682900235901811455"
     },
     "user_tz": 360
    },
    "id": "KMJMUy-PBCgN",
    "outputId": "8bb8c9f9-d2c6-46f9-fa25-132c70fa754d"
   },
   "outputs": [
    {
     "data": {
      "text/plain": [
       "9"
      ]
     },
     "execution_count": 18,
     "metadata": {},
     "output_type": "execute_result"
    }
   ],
   "source": [
    "# new_digit label\n",
    "y_train[4000]"
   ]
  },
  {
   "cell_type": "code",
   "execution_count": 19,
   "metadata": {
    "colab": {
     "base_uri": "https://localhost:8080/"
    },
    "executionInfo": {
     "elapsed": 12340,
     "status": "ok",
     "timestamp": 1612028120117,
     "user": {
      "displayName": "Centro de Innovación Industrial IA",
      "photoUrl": "",
      "userId": "16682900235901811455"
     },
     "user_tz": 360
    },
    "id": "XQ0NMY5IBCgN",
    "outputId": "29eafc3d-5382-4d5c-8d93-3448297e762a"
   },
   "outputs": [
    {
     "data": {
      "text/plain": [
       "array([False])"
      ]
     },
     "execution_count": 19,
     "metadata": {},
     "output_type": "execute_result"
    }
   ],
   "source": [
    "# predict new_digit label\n",
    "sgd.predict([new_digit])"
   ]
  },
  {
   "cell_type": "markdown",
   "metadata": {
    "id": "sCpMMqrcBCgN"
   },
   "source": [
    "## Performance Meassures\n",
    "### Measuring Accuracy Using Cross-validation\n",
    "#### Implementing Cross-Validation"
   ]
  },
  {
   "cell_type": "markdown",
   "metadata": {
    "id": "QaXdAKssBCgO"
   },
   "source": [
    "Use the `cross_val_score()` function to evaluate the `SGDClassifier` using K-fold cross-validation. That means splitting the training set into K-folds then making predictions and evaluating each fold using a model trained on the remaining folds:"
   ]
  },
  {
   "cell_type": "code",
   "execution_count": 20,
   "metadata": {
    "colab": {
     "base_uri": "https://localhost:8080/"
    },
    "executionInfo": {
     "elapsed": 28050,
     "status": "ok",
     "timestamp": 1612028135833,
     "user": {
      "displayName": "Centro de Innovación Industrial IA",
      "photoUrl": "",
      "userId": "16682900235901811455"
     },
     "user_tz": 360
    },
    "id": "I5Oh2zZ8BCgO",
    "outputId": "621cfc73-5b85-47eb-cc84-c70f30574e8c"
   },
   "outputs": [
    {
     "data": {
      "text/plain": [
       "array([0.9683 , 0.9669 , 0.96385])"
      ]
     },
     "execution_count": 20,
     "metadata": {},
     "output_type": "execute_result"
    }
   ],
   "source": [
    "from sklearn.model_selection import cross_val_score\n",
    "# cv determines the number of folds\n",
    "cross_val_score(sgd, X_train, y_train_5, cv=3, scoring='accuracy')"
   ]
  },
  {
   "cell_type": "markdown",
   "metadata": {
    "id": "pfBdpO4MBCgO"
   },
   "source": [
    "**Accuracy**: measures the fraction of all instances that are correctly categorized. It is the ratio of the number of correct classifications to the total number of (correct or incorrect) classifications.\n",
    "\n",
    "$Accuracy = \\frac{TP + TN}{TP+TN+FP+FN} = \\frac{TP + TN}{P+N}$"
   ]
  },
  {
   "cell_type": "markdown",
   "metadata": {
    "id": "Y8PNL_v5BCgO"
   },
   "source": [
    "BUT: only 10% of the images are 5s so if you guess that a number is not a 5, you will be right 90% of the time.\n",
    "\n",
    "Accuracy is not the preferred performance measure for classifiers, specially when dealing with skewed datasets."
   ]
  },
  {
   "cell_type": "markdown",
   "metadata": {
    "id": "EeenncnMBCgO"
   },
   "source": [
    "**Confusion matrix**: count the number of times instances of class A are classified as class B, a set of predictions is necesary to compare them to the actual targets."
   ]
  },
  {
   "cell_type": "code",
   "execution_count": 21,
   "metadata": {
    "executionInfo": {
     "elapsed": 43631,
     "status": "ok",
     "timestamp": 1612028151418,
     "user": {
      "displayName": "Centro de Innovación Industrial IA",
      "photoUrl": "",
      "userId": "16682900235901811455"
     },
     "user_tz": 360
    },
    "id": "_y5yrtytBCgO"
   },
   "outputs": [],
   "source": [
    "from sklearn.model_selection import cross_val_predict\n",
    "\n",
    "y_train_pred = cross_val_predict(sgd, X_train, y_train_5, cv=3)"
   ]
  },
  {
   "cell_type": "code",
   "execution_count": 22,
   "metadata": {
    "colab": {
     "base_uri": "https://localhost:8080/"
    },
    "executionInfo": {
     "elapsed": 43629,
     "status": "ok",
     "timestamp": 1612028151421,
     "user": {
      "displayName": "Centro de Innovación Industrial IA",
      "photoUrl": "",
      "userId": "16682900235901811455"
     },
     "user_tz": 360
    },
    "id": "TvYTcvOUWlYj",
    "outputId": "cece0160-096b-4b97-ac53-2cb4014c329d"
   },
   "outputs": [
    {
     "name": "stdout",
     "output_type": "stream",
     "text": [
      "[False False False False False False False  True False False  True False\n",
      " False False False False False False False False False False False False\n",
      " False False False False False False False False False  True False False\n",
      " False False False False False False False False  True  True False False\n",
      " False False  True False False False False False False False False False\n",
      " False False False False False False False False False False False False\n",
      " False  True False False False False False False False False False False\n",
      " False False False False False False  True False False False False False\n",
      " False False False]\n"
     ]
    }
   ],
   "source": [
    "print(y_train_pred[1:100])"
   ]
  },
  {
   "cell_type": "markdown",
   "metadata": {
    "id": "3OARweeIBCgO"
   },
   "source": [
    "`cross_val_predict()` performs K-fold validation and returns the predictions made on each test fold."
   ]
  },
  {
   "cell_type": "code",
   "execution_count": 23,
   "metadata": {
    "colab": {
     "base_uri": "https://localhost:8080/"
    },
    "executionInfo": {
     "elapsed": 43623,
     "status": "ok",
     "timestamp": 1612028151421,
     "user": {
      "displayName": "Centro de Innovación Industrial IA",
      "photoUrl": "",
      "userId": "16682900235901811455"
     },
     "user_tz": 360
    },
    "id": "WKwsMGRXBCgP",
    "outputId": "974beb84-71a7-4fba-85f2-f974a7fb7420"
   },
   "outputs": [
    {
     "data": {
      "text/plain": [
       "array([[53590,   989],\n",
       "       [ 1030,  4391]], dtype=int64)"
      ]
     },
     "execution_count": 23,
     "metadata": {},
     "output_type": "execute_result"
    }
   ],
   "source": [
    "from sklearn.metrics import confusion_matrix\n",
    "#53124,  1455],\n",
    " #      [  949,  4472\n",
    "# tn, fp, fn, tp\n",
    "confusion_matrix(y_train_5, y_train_pred)"
   ]
  },
  {
   "cell_type": "markdown",
   "metadata": {
    "id": "Z_izSwz0BCgP"
   },
   "source": [
    "**Confusion matrix**\n",
    "\n",
    "Rows: actual class \n",
    "\n",
    "Columns: predicted class\n",
    "\n",
    "First row: negative class\n",
    "\n",
    "Second row: positive class"
   ]
  },
  {
   "cell_type": "markdown",
   "metadata": {
    "id": "WE3pLeYaBCgP"
   },
   "source": [
    "**Precision**: accuracy of the positive predictions\n",
    "\n",
    "$Precision = \\frac{TP}{TP+FP}$"
   ]
  },
  {
   "cell_type": "markdown",
   "metadata": {
    "id": "Hmhg5HLzBCgP"
   },
   "source": [
    "**Recall, Sensitivity or True Positive Rate**: rate of positive instances correctly detected by the classifier\n",
    "\n",
    "$Recall = \\frac{TP}{TP+FN}$"
   ]
  },
  {
   "cell_type": "code",
   "execution_count": 24,
   "metadata": {
    "colab": {
     "base_uri": "https://localhost:8080/"
    },
    "executionInfo": {
     "elapsed": 43618,
     "status": "ok",
     "timestamp": 1612028151421,
     "user": {
      "displayName": "Centro de Innovación Industrial IA",
      "photoUrl": "",
      "userId": "16682900235901811455"
     },
     "user_tz": 360
    },
    "id": "c_M1D0mqBCgP",
    "outputId": "e5a90d8a-74b7-4009-a68c-495bfb719077"
   },
   "outputs": [
    {
     "data": {
      "text/plain": [
       "0.8161710037174721"
      ]
     },
     "execution_count": 24,
     "metadata": {},
     "output_type": "execute_result"
    }
   ],
   "source": [
    "from sklearn.metrics import precision_score, recall_score\n",
    "\n",
    "precision_score(y_train_5, y_train_pred)"
   ]
  },
  {
   "cell_type": "code",
   "execution_count": 25,
   "metadata": {
    "colab": {
     "base_uri": "https://localhost:8080/"
    },
    "executionInfo": {
     "elapsed": 43614,
     "status": "ok",
     "timestamp": 1612028151422,
     "user": {
      "displayName": "Centro de Innovación Industrial IA",
      "photoUrl": "",
      "userId": "16682900235901811455"
     },
     "user_tz": 360
    },
    "id": "ujoLMeHuBCgP",
    "outputId": "b8d2b728-6792-46b4-f221-348de6dcc7f2"
   },
   "outputs": [
    {
     "data": {
      "text/plain": [
       "0.8099981553218963"
      ]
     },
     "execution_count": 25,
     "metadata": {},
     "output_type": "execute_result"
    }
   ],
   "source": [
    "recall_score(y_train_5, y_train_pred)"
   ]
  },
  {
   "cell_type": "markdown",
   "metadata": {
    "id": "BFkirpOhBCgQ"
   },
   "source": [
    "To combine precision and recall into a single metric:\n",
    "\n",
    "**F1 score**: harmonic mean of precision and recall\n",
    "\n",
    "$F_1\\text{ score} = 2\\frac{(\\text{precision} \\cdot \\text{recall})}{(\\text{precision} + \\text{recall})}$\n"
   ]
  },
  {
   "cell_type": "code",
   "execution_count": 26,
   "metadata": {
    "colab": {
     "base_uri": "https://localhost:8080/"
    },
    "executionInfo": {
     "elapsed": 43611,
     "status": "ok",
     "timestamp": 1612028151423,
     "user": {
      "displayName": "Centro de Innovación Industrial IA",
      "photoUrl": "",
      "userId": "16682900235901811455"
     },
     "user_tz": 360
    },
    "id": "4bMNMFxVBCgQ",
    "outputId": "23d6474d-7be5-4562-821d-60047a4bc2ff"
   },
   "outputs": [
    {
     "data": {
      "text/plain": [
       "0.8130728636237385"
      ]
     },
     "execution_count": 26,
     "metadata": {},
     "output_type": "execute_result"
    }
   ],
   "source": [
    "from sklearn.metrics import f1_score\n",
    "\n",
    "f1_score(y_train_5, y_train_pred)"
   ]
  },
  {
   "cell_type": "markdown",
   "metadata": {
    "id": "-S7tJfA9BCgQ"
   },
   "source": [
    "### Precision / Recall Tradeoff"
   ]
  },
  {
   "cell_type": "code",
   "execution_count": 27,
   "metadata": {
    "colab": {
     "base_uri": "https://localhost:8080/"
    },
    "executionInfo": {
     "elapsed": 1022,
     "status": "ok",
     "timestamp": 1612028336809,
     "user": {
      "displayName": "Centro de Innovación Industrial IA",
      "photoUrl": "",
      "userId": "16682900235901811455"
     },
     "user_tz": 360
    },
    "id": "bnJKNx41BCgQ",
    "outputId": "f0a0b135-f7d3-4852-88bd-612ce7341cb0"
   },
   "outputs": [
    {
     "data": {
      "text/plain": [
       "array([-28825.60801324])"
      ]
     },
     "execution_count": 27,
     "metadata": {},
     "output_type": "execute_result"
    }
   ],
   "source": [
    "# get the confidence score for the example sample\n",
    "y_score_some_digit = sgd.decision_function([some_digit])\n",
    "y_score_some_digit"
   ]
  },
  {
   "cell_type": "code",
   "execution_count": 28,
   "metadata": {
    "colab": {
     "base_uri": "https://localhost:8080/"
    },
    "executionInfo": {
     "elapsed": 1019,
     "status": "ok",
     "timestamp": 1612028336810,
     "user": {
      "displayName": "Centro de Innovación Industrial IA",
      "photoUrl": "",
      "userId": "16682900235901811455"
     },
     "user_tz": 360
    },
    "id": "RHQzM5JXBCgQ",
    "outputId": "0dca6d48-fb54-42cd-a69a-b95b0f34d02b"
   },
   "outputs": [
    {
     "data": {
      "text/plain": [
       "array([False])"
      ]
     },
     "execution_count": 28,
     "metadata": {},
     "output_type": "execute_result"
    }
   ],
   "source": [
    "threshold = 0\n",
    "y_some_digit_pred = (y_score_some_digit > threshold)\n",
    "y_some_digit_pred"
   ]
  },
  {
   "cell_type": "code",
   "execution_count": 29,
   "metadata": {
    "colab": {
     "base_uri": "https://localhost:8080/"
    },
    "executionInfo": {
     "elapsed": 1016,
     "status": "ok",
     "timestamp": 1612028336810,
     "user": {
      "displayName": "Centro de Innovación Industrial IA",
      "photoUrl": "",
      "userId": "16682900235901811455"
     },
     "user_tz": 360
    },
    "id": "FQdAwMamBCgQ",
    "outputId": "a922d6ea-f362-4869-db98-3bc28ecc043f"
   },
   "outputs": [
    {
     "data": {
      "text/plain": [
       "array([False])"
      ]
     },
     "execution_count": 29,
     "metadata": {},
     "output_type": "execute_result"
    }
   ],
   "source": [
    "# changing the threshold leads to different predictions\n",
    "threshold = y_score_some_digit + 1\n",
    "y_some_digit_pred = (y_score_some_digit > threshold)\n",
    "y_some_digit_pred"
   ]
  },
  {
   "cell_type": "code",
   "execution_count": 30,
   "metadata": {
    "colab": {
     "base_uri": "https://localhost:8080/",
     "height": 354
    },
    "executionInfo": {
     "elapsed": 1352,
     "status": "error",
     "timestamp": 1612028337151,
     "user": {
      "displayName": "Centro de Innovación Industrial IA",
      "photoUrl": "",
      "userId": "16682900235901811455"
     },
     "user_tz": 360
    },
    "id": "CzRKFE0CBCgQ",
    "outputId": "63bbc4f1-780e-4106-a1e7-d604f8d610c1"
   },
   "outputs": [
    {
     "data": {
      "text/plain": [
       "array([-150579.5526102 ,  -49921.49823914,  -53968.45462864, ...,\n",
       "        -64445.04276586, -126342.52600147,  -99328.12460193])"
      ]
     },
     "execution_count": 30,
     "metadata": {},
     "output_type": "execute_result"
    }
   ],
   "source": [
    "# predict y with decision function\n",
    "y_scores = cross_val_predict(sgd, X_train, y_train_5, cv=3, \n",
    "                             method='decision_function')\n",
    "y_scores"
   ]
  },
  {
   "cell_type": "code",
   "execution_count": 31,
   "metadata": {
    "executionInfo": {
     "elapsed": 1347,
     "status": "aborted",
     "timestamp": 1612028337149,
     "user": {
      "displayName": "Centro de Innovación Industrial IA",
      "photoUrl": "",
      "userId": "16682900235901811455"
     },
     "user_tz": 360
    },
    "id": "Hu7FrobyBCgR"
   },
   "outputs": [
    {
     "name": "stdout",
     "output_type": "stream",
     "text": [
      "[0.09045704 0.09044186 0.09044337 ... 1.         1.         1.        ]\n"
     ]
    },
    {
     "data": {
      "text/plain": [
       "59930"
      ]
     },
     "execution_count": 31,
     "metadata": {},
     "output_type": "execute_result"
    }
   ],
   "source": [
    "from sklearn.metrics import precision_recall_curve\n",
    "\n",
    "# calculate the precision recall curve using the predictions and \n",
    "# the correct labels\n",
    "precision, recall, thresholds = precision_recall_curve(y_train_5, \n",
    "                                                         y_scores)\n",
    "print(precision)\n",
    "len(precision)"
   ]
  },
  {
   "cell_type": "code",
   "execution_count": 32,
   "metadata": {
    "executionInfo": {
     "elapsed": 1344,
     "status": "aborted",
     "timestamp": 1612028337150,
     "user": {
      "displayName": "Centro de Innovación Industrial IA",
      "photoUrl": "",
      "userId": "16682900235901811455"
     },
     "user_tz": 360
    },
    "id": "EPI1FnImBCgR"
   },
   "outputs": [
    {
     "data": {
      "text/plain": [
       "59930"
      ]
     },
     "execution_count": 32,
     "metadata": {},
     "output_type": "execute_result"
    }
   ],
   "source": [
    "len(recall)"
   ]
  },
  {
   "cell_type": "markdown",
   "metadata": {
    "id": "tY74JcnABCgR"
   },
   "source": [
    "The threshold value that gives the best precision / recall tradeoff for the task can be selected:"
   ]
  },
  {
   "cell_type": "code",
   "execution_count": 33,
   "metadata": {
    "executionInfo": {
     "elapsed": 1341,
     "status": "aborted",
     "timestamp": 1612028337150,
     "user": {
      "displayName": "Centro de Innovación Industrial IA",
      "photoUrl": "",
      "userId": "16682900235901811455"
     },
     "user_tz": 360
    },
    "id": "b4xt3HMcBCgR"
   },
   "outputs": [
    {
     "data": {
      "image/png": "[encoded data removed]",
      "text/plain": [
       "<Figure size 576x288 with 1 Axes>"
      ]
     },
     "metadata": {
      "needs_background": "light"
     },
     "output_type": "display_data"
    }
   ],
   "source": [
    "def plot_precision_recall_vs_threshold(p, r, t):\n",
    "    plt.plot(t, p[:-1], \"b--\", label=\"Precision\", linewidth=2)\n",
    "    plt.plot(t, r[:-1], \"g-\", label=\"Recall\", linewidth=2)\n",
    "    plt.xlabel(\"Threshold\", fontsize=16)\n",
    "    plt.legend(loc=\"upper left\", fontsize=16)\n",
    "    plt.ylim([0, 1])\n",
    "\n",
    "plt.figure(figsize=(8, 4))\n",
    "plot_precision_recall_vs_threshold(precision, recall, thresholds)\n",
    "plt.xlim([-30000, 30000]);"
   ]
  },
  {
   "cell_type": "markdown",
   "metadata": {
    "id": "EJd1N-RFBCgS"
   },
   "source": [
    "The plot shows Precision and Recall as a function of the threshold. With this graph it is possible to select the best presicion/recall trade off for the task. A high-precision classifier is not useful if its recall is too low."
   ]
  },
  {
   "cell_type": "code",
   "execution_count": 34,
   "metadata": {
    "executionInfo": {
     "elapsed": 1338,
     "status": "aborted",
     "timestamp": 1612028337151,
     "user": {
      "displayName": "Centro de Innovación Industrial IA",
      "photoUrl": "",
      "userId": "16682900235901811455"
     },
     "user_tz": 360
    },
    "id": "0emV6IsaBCgS"
   },
   "outputs": [
    {
     "data": {
      "text/plain": [
       "0.8299516908212561"
      ]
     },
     "execution_count": 34,
     "metadata": {},
     "output_type": "execute_result"
    }
   ],
   "source": [
    "# 90% precision\n",
    "y_train_pred_90 = (y_scores > 2000)\n",
    "precision_score(y_train_5, y_train_pred_90)"
   ]
  },
  {
   "cell_type": "code",
   "execution_count": 35,
   "metadata": {
    "executionInfo": {
     "elapsed": 1335,
     "status": "aborted",
     "timestamp": 1612028337151,
     "user": {
      "displayName": "Centro de Innovación Industrial IA",
      "photoUrl": "",
      "userId": "16682900235901811455"
     },
     "user_tz": 360
    },
    "id": "Pjvrc3QfBCgS"
   },
   "outputs": [
    {
     "data": {
      "text/plain": [
       "0.7922892455266556"
      ]
     },
     "execution_count": 35,
     "metadata": {},
     "output_type": "execute_result"
    }
   ],
   "source": [
    "recall_score(y_train_5, y_train_pred_90)"
   ]
  },
  {
   "cell_type": "markdown",
   "metadata": {
    "id": "P71iXVsCBCgS"
   },
   "source": [
    "## Multiclass Classification\n",
    "\n",
    "Multiclass classifiers distinguish between more than two classes.\n",
    "\n",
    "Some algorithms handle multiple classes directly. Others are strictly binary classifiers. However there are strategies to perform multiclass classification using multiple binary classifiers. \n",
    "\n",
    "scikit-learn detects when you try to use a binary classification algorithm for a multiclass classification task and runs a one-versus-all strategy (or one-versus-the-rest)."
   ]
  },
  {
   "cell_type": "code",
   "execution_count": 36,
   "metadata": {
    "executionInfo": {
     "elapsed": 59923,
     "status": "ok",
     "timestamp": 1612028167771,
     "user": {
      "displayName": "Centro de Innovación Industrial IA",
      "photoUrl": "",
      "userId": "16682900235901811455"
     },
     "user_tz": 360
    },
    "id": "xAXImgHqBCgS"
   },
   "outputs": [],
   "source": [
    "sgd_clf = SGDClassifier(random_state = 42)"
   ]
  },
  {
   "cell_type": "code",
   "execution_count": null,
   "metadata": {
    "colab": {
     "base_uri": "https://localhost:8080/"
    },
    "executionInfo": {
     "elapsed": 227924,
     "status": "ok",
     "timestamp": 1612028335776,
     "user": {
      "displayName": "Centro de Innovación Industrial IA",
      "photoUrl": "",
      "userId": "16682900235901811455"
     },
     "user_tz": 360
    },
    "id": "crjfLhl6BCgS",
    "outputId": "558baa9a-7f7c-4778-d50b-5f662b15a0ad"
   },
   "outputs": [],
   "source": [
    "sgd_clf.fit(X_train, y_train) # y_train, not y_train_5\n",
    "sgd_clf.predict([some_digit])"
   ]
  },
  {
   "cell_type": "markdown",
   "metadata": {
    "id": "zX03ZUG8BCgS"
   },
   "source": [
    "scikit-learn trained 10 binary classifiers, got decision scores for the image and selected the class with the highest score. To see this process call the `decision_function()` method, it will return 10 scores, one per class:"
   ]
  },
  {
   "cell_type": "code",
   "execution_count": null,
   "metadata": {
    "colab": {
     "base_uri": "https://localhost:8080/"
    },
    "executionInfo": {
     "elapsed": 722,
     "status": "ok",
     "timestamp": 1612029351502,
     "user": {
      "displayName": "Centro de Innovación Industrial IA",
      "photoUrl": "",
      "userId": "16682900235901811455"
     },
     "user_tz": 360
    },
    "id": "pbOFOkteBCgS",
    "outputId": "75e6ddf3-8cda-4585-dfa2-99c9026123b9"
   },
   "outputs": [],
   "source": [
    "some_digit_scores = sgd_clf.decision_function([some_digit])\n",
    "some_digit_scores.shape\n",
    "#[0 1 2 3 4 5 7 8 9]\n",
    "print(some_digit_scores)"
   ]
  },
  {
   "cell_type": "code",
   "execution_count": null,
   "metadata": {
    "colab": {
     "base_uri": "https://localhost:8080/"
    },
    "executionInfo": {
     "elapsed": 227919,
     "status": "ok",
     "timestamp": 1612028335777,
     "user": {
      "displayName": "Centro de Innovación Industrial IA",
      "photoUrl": "",
      "userId": "16682900235901811455"
     },
     "user_tz": 360
    },
    "id": "dJf7yj2SBCgT",
    "outputId": "f6a0b6b4-153d-47e2-c603-362008bd7f5a"
   },
   "outputs": [],
   "source": [
    "# select the highest score, in this case is the one for class 5\n",
    "np.argmax(some_digit_scores)"
   ]
  },
  {
   "cell_type": "code",
   "execution_count": null,
   "metadata": {
    "colab": {
     "base_uri": "https://localhost:8080/"
    },
    "executionInfo": {
     "elapsed": 227916,
     "status": "ok",
     "timestamp": 1612028335778,
     "user": {
      "displayName": "Centro de Innovación Industrial IA",
      "photoUrl": "",
      "userId": "16682900235901811455"
     },
     "user_tz": 360
    },
    "id": "ROQvHSReBCgT",
    "outputId": "345db4d4-979d-4e5b-877d-490020d8e0af"
   },
   "outputs": [],
   "source": [
    "sgd_clf.classes_\n"
   ]
  },
  {
   "cell_type": "markdown",
   "metadata": {
    "id": "oQd-Gf5_BCgT"
   },
   "source": [
    "Warning!! When a classifier is trained, it stores the list of target classes in `classes_` attribute, ordered by value. In this case, the index of each class in the array matches the class itself but it is not always the case."
   ]
  },
  {
   "cell_type": "code",
   "execution_count": null,
   "metadata": {
    "colab": {
     "base_uri": "https://localhost:8080/"
    },
    "executionInfo": {
     "elapsed": 661,
     "status": "ok",
     "timestamp": 1612029451843,
     "user": {
      "displayName": "Centro de Innovación Industrial IA",
      "photoUrl": "",
      "userId": "16682900235901811455"
     },
     "user_tz": 360
    },
    "id": "Cx_0rjcvBCgT",
    "outputId": "b23df0d3-da25-4c5b-b66c-8aa17d07bce6"
   },
   "outputs": [],
   "source": [
    "sgd_clf.classes_[5]"
   ]
  },
  {
   "cell_type": "markdown",
   "metadata": {
    "id": "7d94VyuSBCgT"
   },
   "source": [
    "# Datos Adicionales"
   ]
  },
  {
   "cell_type": "code",
   "execution_count": null,
   "metadata": {
    "colab": {
     "base_uri": "https://localhost:8080/"
    },
    "executionInfo": {
     "elapsed": 654,
     "status": "ok",
     "timestamp": 1612029817002,
     "user": {
      "displayName": "Centro de Innovación Industrial IA",
      "photoUrl": "",
      "userId": "16682900235901811455"
     },
     "user_tz": 360
    },
    "id": "6lgUZgPbBCgT",
    "outputId": "e863115b-9e21-4c6b-8457-70e7d1204e76"
   },
   "outputs": [],
   "source": [
    "import numpy as np\n",
    "from sklearn.model_selection import train_test_split\n",
    "X,y=np.arange(12).reshape((6,2)),range(6)\n",
    "X=[[1,5,6,7],[1,5,6,7],[1,5,6,7],[1,5,6,7]]\n",
    "Y=[1,0,1,0]\n",
    "len(X)\n",
    "print(X)\n",
    "print(list(y))"
   ]
  },
  {
   "cell_type": "code",
   "execution_count": null,
   "metadata": {
    "colab": {
     "base_uri": "https://localhost:8080/"
    },
    "executionInfo": {
     "elapsed": 227906,
     "status": "ok",
     "timestamp": 1612028335779,
     "user": {
      "displayName": "Centro de Innovación Industrial IA",
      "photoUrl": "",
      "userId": "16682900235901811455"
     },
     "user_tz": 360
    },
    "id": "kmKnlXxUBCgT",
    "outputId": "667bc0b8-fe9f-4b54-dde6-dabb29098aea"
   },
   "outputs": [],
   "source": [
    "X_train, X_test, y_train, y_test = train_test_split(X,y,random_state=42)\n",
    "print(X_train,y_train)"
   ]
  },
  {
   "cell_type": "code",
   "execution_count": null,
   "metadata": {
    "executionInfo": {
     "elapsed": 227902,
     "status": "ok",
     "timestamp": 1612028335779,
     "user": {
      "displayName": "Centro de Innovación Industrial IA",
      "photoUrl": "",
      "userId": "16682900235901811455"
     },
     "user_tz": 360
    },
    "id": "WALhatzvBCgU"
   },
   "outputs": [],
   "source": []
  },
  {
   "cell_type": "code",
   "execution_count": null,
   "metadata": {
    "executionInfo": {
     "elapsed": 227899,
     "status": "ok",
     "timestamp": 1612028335779,
     "user": {
      "displayName": "Centro de Innovación Industrial IA",
      "photoUrl": "",
      "userId": "16682900235901811455"
     },
     "user_tz": 360
    },
    "id": "_fPn5v0tBCgU"
   },
   "outputs": [],
   "source": []
  }
 ],
 "metadata": {
  "colab": {
   "name": "UVM_03_Classification.ipynb",
   "provenance": []
  },
  "kernelspec": {
   "display_name": "Python 3",
   "language": "python",
   "name": "python3"
  },
  "language_info": {
   "codemirror_mode": {
    "name": "ipython",
    "version": 3
   },
   "file_extension": ".py",
   "mimetype": "text/x-python",
   "name": "python",
   "nbconvert_exporter": "python",
   "pygments_lexer": "ipython3",
   "version": "3.7.9"
  },
  "toc": {
   "base_numbering": 1,
   "nav_menu": {},
   "number_sections": false,
   "sideBar": true,
   "skip_h1_title": false,
   "title_cell": "Table of Contents",
   "title_sidebar": "Contents",
   "toc_cell": false,
   "toc_position": {},
   "toc_section_display": true,
   "toc_window_display": false
  }
 },
 "nbformat": 4,
 "nbformat_minor": 1
}
