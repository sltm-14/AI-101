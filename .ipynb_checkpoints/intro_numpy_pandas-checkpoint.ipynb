{
 "cells": [
  {
   "cell_type": "markdown",
   "metadata": {
    "id": "mXIfpJcOpKLa"
   },
   "source": [
    "# Introducción a Numpy y Pandas\n",
    "\n",
    "*Numpy* es una librería de python especializada en operaciones númericas con matrices o arreglos multidimensionales.\n",
    "\n",
    "*Pandas* es una librería de python especializada en el manejo de datos organizados en tablas así como el procesamiento especializado para cálculos estadísticos y matemáticos."
   ]
  },
  {
   "cell_type": "markdown",
   "metadata": {
    "id": "g5NjvILyps2W"
   },
   "source": [
    "## Numpy\n",
    "\n",
    "La unidad básica de trabajo en Numpy son los *array*."
   ]
  },
  {
   "cell_type": "code",
   "execution_count": 1,
   "metadata": {
    "id": "aehSL-4SprFw"
   },
   "outputs": [],
   "source": [
    "# Importar numpy\n",
    "import numpy as np"
   ]
  },
  {
   "cell_type": "code",
   "execution_count": 2,
   "metadata": {
    "id": "ZBJY3mRwp5iD"
   },
   "outputs": [],
   "source": [
    "# Creando arreglos\n",
    "#1D\n",
    "a = np.array([1, 2, 3, 4, 5, 6])\n",
    "\n",
    "#2D\n",
    "b = np.array([[1, 2, 3, 4], [5, 6, 7, 8], [9, 10, 11, 12]])\n"
   ]
  },
  {
   "cell_type": "code",
   "execution_count": 3,
   "metadata": {
    "id": "Tv1nsL8_qFjE"
   },
   "outputs": [
    {
     "name": "stdout",
     "output_type": "stream",
     "text": [
      "Arreglo 1D:\n",
      " [1 2 3 4 5 6]\n",
      "Arreglo 2D:\n",
      "  [[ 1  2  3  4]\n",
      " [ 5  6  7  8]\n",
      " [ 9 10 11 12]]\n"
     ]
    }
   ],
   "source": [
    "# Visualizarlos\n",
    "print(\"Arreglo 1D:\\n\", a)\n",
    "print(\"Arreglo 2D:\\n \", b)"
   ]
  },
  {
   "cell_type": "code",
   "execution_count": 4,
   "metadata": {
    "id": "K7urqOSsqIWN"
   },
   "outputs": [
    {
     "name": "stdout",
     "output_type": "stream",
     "text": [
      "1\n",
      "6\n",
      "(6,)\n"
     ]
    }
   ],
   "source": [
    "# Tamaño de arreglos\n",
    "print(a.ndim)\n",
    "print(a.size)\n",
    "print(a.shape)\n",
    "# ¿Qué crees que signifique cada uno de los resultados que obtuviste?\n",
    "# ¿Pueden obtener la misma información con el arreglo 2D?"
   ]
  },
  {
   "cell_type": "code",
   "execution_count": 5,
   "metadata": {},
   "outputs": [
    {
     "name": "stdout",
     "output_type": "stream",
     "text": [
      "2\n",
      "12\n",
      "(3, 4)\n"
     ]
    }
   ],
   "source": [
    "# Tamaño de arreglos\n",
    "print(b.ndim)\n",
    "print(b.size)\n",
    "print(b.shape)"
   ]
  },
  {
   "cell_type": "code",
   "execution_count": 6,
   "metadata": {
    "id": "PaVZmPPlqkxp"
   },
   "outputs": [
    {
     "name": "stdout",
     "output_type": "stream",
     "text": [
      "[1 2 3 4]\n"
     ]
    }
   ],
   "source": [
    "# Accesando a datos individuales\n",
    "print(b[0])\n",
    "# Obtenemos la primer línea"
   ]
  },
  {
   "cell_type": "code",
   "execution_count": 7,
   "metadata": {
    "id": "2ghgxNgKrL5W"
   },
   "outputs": [
    {
     "name": "stdout",
     "output_type": "stream",
     "text": [
      "1\n"
     ]
    }
   ],
   "source": [
    "# Accesando a datos individuales\n",
    "print(b[0,0])\n",
    "#Obtenemos el primer elemento de la primer línea"
   ]
  },
  {
   "cell_type": "code",
   "execution_count": 10,
   "metadata": {},
   "outputs": [
    {
     "name": "stdout",
     "output_type": "stream",
     "text": [
      "[ 3  7 11]\n"
     ]
    }
   ],
   "source": [
    "print(b[:,2])"
   ]
  },
  {
   "cell_type": "code",
   "execution_count": 11,
   "metadata": {},
   "outputs": [
    {
     "name": "stdout",
     "output_type": "stream",
     "text": [
      "[ 9 10 11 12]\n"
     ]
    }
   ],
   "source": [
    "print(b[2,:])"
   ]
  },
  {
   "cell_type": "code",
   "execution_count": 8,
   "metadata": {
    "id": "b9cYr0BorTP5"
   },
   "outputs": [
    {
     "name": "stdout",
     "output_type": "stream",
     "text": [
      "[[ 6  2]\n",
      " [11  1]]\n"
     ]
    }
   ],
   "source": [
    "# Operaciones básicas\n",
    "# Suma\n",
    "a1 = np.array([[1,2],[3,4]])\n",
    "a2 = np.array([[5,0],[8,-3]])\n",
    "a3 = a1+a2\n",
    "print(a3)"
   ]
  },
  {
   "cell_type": "code",
   "execution_count": 12,
   "metadata": {
    "id": "kwMZ7_1frmpS"
   },
   "outputs": [
    {
     "name": "stdout",
     "output_type": "stream",
     "text": [
      "[[ 5 10]\n",
      " [15 20]]\n"
     ]
    }
   ],
   "source": [
    "# Multiplicación por escalares\n",
    "a4 = a1*5\n",
    "print(a4)"
   ]
  },
  {
   "cell_type": "code",
   "execution_count": 13,
   "metadata": {
    "id": "dY3DArT1ryNo"
   },
   "outputs": [
    {
     "name": "stdout",
     "output_type": "stream",
     "text": [
      "4\n",
      "1\n",
      "10\n"
     ]
    }
   ],
   "source": [
    "# Operaciones adicionales\n",
    "print(a1.max())\n",
    "print(a1.min())\n",
    "print(a1.sum())"
   ]
  },
  {
   "cell_type": "code",
   "execution_count": 14,
   "metadata": {
    "id": "ylgSLPjhr56W"
   },
   "outputs": [
    {
     "name": "stdout",
     "output_type": "stream",
     "text": [
      "[3 4]\n",
      "[1 2]\n",
      "[4 6]\n"
     ]
    }
   ],
   "source": [
    "# ¿Qué obtenemos con estas operaciones? ¿Que quiere decir el parametros axis?\n",
    "print(a)\n",
    "print(a1.max(axis=0))\n",
    "print(a1.min(axis=0))\n",
    "print(a1.sum(axis=0))"
   ]
  },
  {
   "cell_type": "code",
   "execution_count": 15,
   "metadata": {
    "id": "U_lS2XqGsD1L"
   },
   "outputs": [
    {
     "name": "stdout",
     "output_type": "stream",
     "text": [
      "[2 4]\n",
      "[1 3]\n",
      "[3 7]\n"
     ]
    }
   ],
   "source": [
    "# ¿Qué obtenemos con estas operaciones? ¿Que quiere decir el parametros axis?\n",
    "print(a1.max(axis=1))\n",
    "print(a1.min(axis=1))\n",
    "print(a1.sum(axis=1))"
   ]
  },
  {
   "cell_type": "markdown",
   "metadata": {
    "id": "TK5bBHAb980E"
   },
   "source": [
    "## Pandas\n",
    "\n",
    "Una de las librerías que nos permite realizar fácilmente tareas de estadística es Pandas."
   ]
  },
  {
   "cell_type": "code",
   "execution_count": null,
   "metadata": {
    "id": "1WwqQFzK980F"
   },
   "outputs": [],
   "source": [
    "# Importamos las librerías que ocuparemos en este ejercicio\n",
    "import pandas as pd"
   ]
  },
  {
   "cell_type": "markdown",
   "metadata": {
    "id": "WGJLGa_M980I"
   },
   "source": [
    "## Lectura de datos con Pandas"
   ]
  },
  {
   "cell_type": "code",
   "execution_count": null,
   "metadata": {
    "id": "nY7gDL-V_eCI"
   },
   "outputs": [],
   "source": [
    "# Si estas usando google colab ejecutar esto\n",
    "from google.colab import files\n",
    "uploaded = files.upload()"
   ]
  },
  {
   "cell_type": "code",
   "execution_count": null,
   "metadata": {
    "id": "HG9FnMF8AIMV"
   },
   "outputs": [],
   "source": [
    "# Lectura de datos con google colab\n",
    "import io\n",
    "df = pd.read_csv(io.BytesIO(uploaded['resultados_futbol.csv']))"
   ]
  },
  {
   "cell_type": "code",
   "execution_count": null,
   "metadata": {
    "id": "WF7nOl_t980I"
   },
   "outputs": [],
   "source": [
    "# Lectura de datos\n",
    "df = pd.read_csv('resultados_futbol.csv')"
   ]
  },
  {
   "cell_type": "code",
   "execution_count": null,
   "metadata": {
    "id": "rkD1VfqaArdw"
   },
   "outputs": [],
   "source": [
    "df"
   ]
  },
  {
   "cell_type": "code",
   "execution_count": null,
   "metadata": {
    "id": "l_UsrivU980K"
   },
   "outputs": [],
   "source": [
    "# Analisis descriptivo de los datos\n",
    "df.describe()"
   ]
  },
  {
   "cell_type": "code",
   "execution_count": null,
   "metadata": {
    "id": "7MBI-qXM980M"
   },
   "outputs": [],
   "source": [
    "# visualización\n",
    "df.head(10)"
   ]
  },
  {
   "cell_type": "code",
   "execution_count": null,
   "metadata": {
    "id": "FrFOWhXv980O"
   },
   "outputs": [],
   "source": [
    "# Visualización\n",
    "df.tail()"
   ]
  },
  {
   "cell_type": "code",
   "execution_count": null,
   "metadata": {
    "id": "cXl4Qh6i980Q"
   },
   "outputs": [],
   "source": [
    "# Filtrado de filas\n",
    "#df2 = df[df['home_team'] == 'Mexico']\n",
    "df2 = df[(df['home_team'] == 'Mexico') | (df['away_team'] == 'Mexico')]\n",
    "#df2 = df[df.home_team == 'Mexico']\n",
    "df2.head()"
   ]
  },
  {
   "cell_type": "code",
   "execution_count": null,
   "metadata": {
    "id": "OnCRuhTD980S"
   },
   "outputs": [],
   "source": [
    "# Seleccionar columnas\n",
    "df2 = df[['home_team', 'home_score']]\n",
    "df2.head()"
   ]
  },
  {
   "cell_type": "markdown",
   "metadata": {
    "id": "Zzj_dqZa980U"
   },
   "source": [
    "## Retos"
   ]
  },
  {
   "cell_type": "markdown",
   "metadata": {
    "id": "4bdDmaNN980U"
   },
   "source": [
    "### Reto 1\n",
    "1. ¿Cuántos partidos ha jugado México como  local? ¿Cuántos como visitantes?\n",
    "2. ¿Cuál es el promedio de goles de México como visitante?\n",
    "3. ¿Cuál es el promedio de goles de México como local?\n",
    "4. ¿Cuál es el mayor número de goles anotados por México en partidos como local??\n",
    "4. ¿Cuál es el mayor número de goles anotados por México en partidos como visitante?"
   ]
  },
  {
   "cell_type": "code",
   "execution_count": null,
   "metadata": {
    "id": "s3fImrwZ980V"
   },
   "outputs": [],
   "source": [
    "# Espacio para tu programa\n",
    "df_mx_local = df[df.home_team == 'Mexico']\n",
    "df_mx_local.shape"
   ]
  },
  {
   "cell_type": "code",
   "execution_count": null,
   "metadata": {
    "id": "ZVeXt0yHKZX5"
   },
   "outputs": [],
   "source": [
    "df_mx_vis = df[df.away_team == 'Mexico']\n",
    "df_mx_vis.shape"
   ]
  },
  {
   "cell_type": "code",
   "execution_count": null,
   "metadata": {
    "id": "bta4OU1RKrrf"
   },
   "outputs": [],
   "source": [
    "# Pregunta 3\n",
    "df_mx_local.home_score.mean()"
   ]
  },
  {
   "cell_type": "code",
   "execution_count": null,
   "metadata": {
    "id": "h8w4BnorLmYA"
   },
   "outputs": [],
   "source": [
    "# Pregunta 4\n",
    "print(df_mx_local.home_score.max())\n",
    "print(df_mx_local.away_score.max())"
   ]
  },
  {
   "cell_type": "code",
   "execution_count": null,
   "metadata": {
    "id": "N0VMC0fjMM1R"
   },
   "outputs": [],
   "source": [
    "print(df_mx_local.away_score.max())"
   ]
  },
  {
   "cell_type": "code",
   "execution_count": null,
   "metadata": {
    "id": "f7MnEbMdxTHM"
   },
   "outputs": [],
   "source": [
    "df_mx_local[df_mx_local.away_score==7]"
   ]
  },
  {
   "cell_type": "code",
   "execution_count": null,
   "metadata": {
    "id": "EmBoMTCfxkCD"
   },
   "outputs": [],
   "source": [
    "df[df.away_score==21]"
   ]
  },
  {
   "cell_type": "markdown",
   "metadata": {
    "id": "G5Mli80m980Y"
   },
   "source": [
    "### Reto 2\n",
    "Calcula el histograma de goles anotados por México como visitante."
   ]
  },
  {
   "cell_type": "code",
   "execution_count": null,
   "metadata": {
    "id": "mAcrfV6V980Z"
   },
   "outputs": [],
   "source": [
    "# Creación histograma\n",
    "df_mx_vis.away_score.hist(bins=20)"
   ]
  },
  {
   "cell_type": "code",
   "execution_count": null,
   "metadata": {
    "id": "IZqGhJXS980c"
   },
   "outputs": [],
   "source": []
  }
 ],
 "metadata": {
  "colab": {
   "collapsed_sections": [],
   "name": "intro_numpy_pandas.ipynb",
   "provenance": []
  },
  "kernelspec": {
   "display_name": "Python 3",
   "language": "python",
   "name": "python3"
  },
  "language_info": {
   "codemirror_mode": {
    "name": "ipython",
    "version": 3
   },
   "file_extension": ".py",
   "mimetype": "text/x-python",
   "name": "python",
   "nbconvert_exporter": "python",
   "pygments_lexer": "ipython3",
   "version": "3.7.9"
  }
 },
 "nbformat": 4,
 "nbformat_minor": 1
}
