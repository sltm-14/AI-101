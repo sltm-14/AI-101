{
 "cells": [
  {
   "cell_type": "markdown",
   "metadata": {},
   "source": [
    "# Before to start\n",
    "\n",
    "https://www.anaconda.com/products/individual\n",
    "\n",
    "conda create -n MLenv python=3.7 scikit-learn=0.21.2 numpy matplotlib tensorflow=1.14 keras=2.2.4 pandas jupyter"
   ]
  },
  {
   "cell_type": "markdown",
   "metadata": {},
   "source": [
    "# mi primer título\n"
   ]
  },
  {
   "cell_type": "markdown",
   "metadata": {},
   "source": [
    "Hola jupyter, esta es mi primera celda de texto"
   ]
  },
  {
   "cell_type": "code",
   "execution_count": null,
   "metadata": {},
   "outputs": [],
   "source": [
    "5+3"
   ]
  },
  {
   "cell_type": "markdown",
   "metadata": {},
   "source": [
    "# Introduction\n",
    "\n",
    "# Python\n",
    "![python-logo](img/python-logo.png)\n",
    "* Python is a high-level programming language\n",
    "  * general-purpose\n",
    "  * multi-paradigm\n",
    "    * functional: evaluation of mathematical functions\n",
    "    * generic: dynamic data types\n",
    "    * imperative: statements change states\n",
    "    * object-oriented\n",
    "    \n",
    "  * open source\n",
    "  * community based development\n",
    "* first released in 1991 by Guido Van Rossum\n",
    "\n",
    "## The Zen of Python\n",
    "https://www.python.org/dev/peps/pep-0020/"
   ]
  },
  {
   "cell_type": "code",
   "execution_count": 1,
   "metadata": {},
   "outputs": [
    {
     "name": "stdout",
     "output_type": "stream",
     "text": [
      "The Zen of Python, by Tim Peters\n",
      "\n",
      "Beautiful is better than ugly.\n",
      "Explicit is better than implicit.\n",
      "Simple is better than complex.\n",
      "Complex is better than complicated.\n",
      "Flat is better than nested.\n",
      "Sparse is better than dense.\n",
      "Readability counts.\n",
      "Special cases aren't special enough to break the rules.\n",
      "Although practicality beats purity.\n",
      "Errors should never pass silently.\n",
      "Unless explicitly silenced.\n",
      "In the face of ambiguity, refuse the temptation to guess.\n",
      "There should be one-- and preferably only one --obvious way to do it.\n",
      "Although that way may not be obvious at first unless you're Dutch.\n",
      "Now is better than never.\n",
      "Although never is often better than *right* now.\n",
      "If the implementation is hard to explain, it's a bad idea.\n",
      "If the implementation is easy to explain, it may be a good idea.\n",
      "Namespaces are one honking great idea -- let's do more of those!\n"
     ]
    }
   ],
   "source": [
    "import this\n"
   ]
  },
  {
   "cell_type": "markdown",
   "metadata": {},
   "source": [
    "# Packages\n",
    "* A **Package** is a \"collection of modules\"\n",
    "* \"A **Module** is a file containing Python definitions and statements\"\n",
    "\n",
    "https://docs.python.org/3/tutorial/modules.html\n",
    "\n",
    "## Package Managers\n",
    "* Also **Package Management Systems*\n",
    "* Install, upgrade, update, configure, remove packages and their dependencies\n",
    "\n",
    "### Pip\n",
    "* Package management system\n",
    "* \"Pip Installs Packages\"\n",
    "* Released 2011\n",
    "* Installs packages from PyPI (Python Package Index)\n",
    "* Open source\n",
    "* Written in Python\n",
    "* Cross-platform (Linux, macOS, Windows)\n",
    "\n",
    "https://pip.pypa.io/en/stable/ and https://github.com/pypa/pip\n",
    "\n",
    "\n",
    "### Conda\n",
    "\n",
    "* Package manager and environment management system\n",
    "* Released 2012\n",
    "* Installs packages from the Anaconda repository\n",
    "* Open source\n",
    "* Written in Python\n",
    "* Cross-platform (Linux, macOS, Windows)\n",
    "* Not limited to Python packages: can also be used for e.g. R, Scala, Java, JavaScript, C/C++\n",
    "\n",
    "https://conda.io/projects/conda/en/latest/# and https://github.com/conda/conda/blob/master/docs/source/index.rst\n",
    "\n",
    "\n",
    "## Anaconda\n",
    "\n",
    "* Python and R distribution (build in packages)\n",
    "* Released 2012\n",
    "* Free and open source\n",
    "* Cross-platform\n",
    "* Uses **conda** as package management system\n",
    "* **Miniconda** is just the package management system without any pre-installed packages\n",
    "\n",
    "https://www.anaconda.com/\n",
    "\n",
    "# Integrated Development Environments (IDEs)\n",
    "\n",
    "## PyCharm\n",
    "![pycharm_logo](img/pycharm.jpg)\n",
    "* Developed by JetBrains\n",
    "* Released 2010\n",
    "* Free and open source community version\n",
    "* Paid professional version\n",
    "* Cross-platform\n",
    "* https://www.jetbrains.com/pycharm/\n",
    "\n",
    "![pycharm_screenshot](img/pycharmscreen.jpg)\n",
    "https://www.jetbrains.com/pycharm/img/screenshots/complexLook@2x.jpg\n",
    "\n",
    "## Spyder IDE\n",
    "<img src=\"img/SPYDERLOGO.png\" alt=\"Drawing\" style=\"width: 200px;\"/>\n",
    "\n",
    "* Scientific Python Development Environment\n",
    "* Released 2009\n",
    "* Free and open source\n",
    "* Cross platorm\n",
    "* Written in Python\n",
    "* https://www.spyder-ide.org/\n",
    "\n",
    "![spyder_screenshot](img/screenspyder.png)\n",
    "https://docs.spyder-ide.org/_images/mainwindow_default_1610.png\n",
    "\n",
    "# Python vs other Programming Languages\n",
    "\n",
    "### Python Compilation and Interpretation\n",
    "\n",
    "https://docs.python.org/3/glossary.html#term-bytecode\n",
    "\n",
    "\n",
    "\n",
    "### Compiler\n",
    "* Translate code from one (high level) programming language to another (lower level) language such as machine code or assembly language\n",
    "* Input: entire program\n",
    "* Output: intermediate code\n",
    "* Often used in the sense of *translating a high level programming language to machine code*\n",
    "\n",
    "### Interpreter\n",
    "* Directly executable computer program (compilation and execution happen simultaneously)\n",
    "* Input: single line of code\n",
    "* Output: no intermediate code\n",
    "* Strategies\n",
    "  * parse and execute source code directly\n",
    "  * translate source code and execute this intermediate representation (Python)\n",
    "  * execute precompiled code\n",
    "\n",
    "\n",
    "\n",
    "\n",
    "## Dynamic vs Static Types\n",
    "*How often do type errors occur?*\n",
    "\n",
    "### Statically-typed Language (e.g. Java) \n",
    "* Variables have a type and are bound to an object\n",
    "* The type of the variable has to match the type of the bound object\n",
    "* Find type errors at compile time before run-time (reliable programs)\n",
    "\n",
    "```java\n",
    "Book b = new Book();\n",
    "```\n",
    "\n",
    "### Dynamically-typed language (e.g. Python)\n",
    "* Variables are bound to objects but do not have a type\n",
    "* Reuseability\n",
    "* Types are checked during execution\n",
    "* Allows duck typing (check for the existance of methods rather than the type of the object - \"If it walks like a duck and it quacks like a duck, then it must be a duck\")\n",
    "\n",
    "```python\n",
    "b = Book()\n",
    "```\n",
    "\n",
    "What happens when executing following statements in static or dynamic typed languages?\n",
    "\n",
    "```\n",
    " a = 9\n",
    " a = 'some string'\n",
    "```\n",
    "\n",
    "https://wiki.python.org/moin/Why%20is%20Python%20a%20dynamic%20language%20and%20also%20a%20strongly%20typed%20language\n",
    "\n",
    "https://hackernoon.com/i-finally-understand-static-vs-dynamic-typing-and-you-will-too-ad0c2bd0acc7\n",
    "\n",
    "https://pythonconquerstheuniverse.wordpress.com/2009/10/03/static-vs-dynamic-typing-of-programming-languages/\n",
    "\n",
    "## Python Pros and Cons\n",
    "### Pros\n",
    "* Easy to use\n",
    "* Fast to develop\n",
    "* Libraries\n",
    "* Generic\n",
    "* Object-oriented\n",
    "* Popular\n",
    "* Free and open source\n",
    "\n",
    "### Cons\n",
    "* Slow execution\n",
    "* Multithreading\n",
    "* Weak in mobile computing and browsers (client side) due to security issues\n",
    "* Run-time errors due to dynamic types\n",
    "* DB access\n",
    "\n",
    "\n",
    "check python for c, python for javascript, python for java, python for matplotlib developers courses\n",
    "\n",
    "https://www.python.org/doc/essays/comparisons/\n",
    "\n",
    "# Coding Style\n",
    "* **PEP 8** Style Guide: https://www.python.org/dev/peps/pep-0008/\n",
    "* 4 spaces indentation (no tabs)\n",
    "* Maximum 79 characters per line\n",
    "* \"Use blank lines to separate functions and classes, and larger blocks of code inside functions\"\n",
    "* \"When possible, put comments on a line of their own\"\n",
    "* \"Use docstrings\"\n",
    "* \"Use spaces around operators and after commas, but not directly inside bracketing constructs: `a = f(1, 2) + g(3, 4)`\"\n",
    "* \"Name your classes and functions consistently; the convention is to use `CamelCase` for classes and `lower_case_with_underscores `for functions and methods. Always use `self` as the name for the first method argument.\"\n",
    "* \"Don’t use fancy encodings if your code is meant to be used in international environments. Python’s default, UTF-8, or even plain ASCII work best in any case.\"\n",
    "* \"Likewise, don’t use non-ASCII characters in identifiers if there is only the slightest chance people speaking a different language will read or maintain the code\"\n",
    "\n",
    "https://docs.python.org/3/tutorial/controlflow.html#intermezzo-coding-style\n",
    "\n",
    "Check https://docs.python-guide.org/writing/style/ for many examples of good and bad coding style."
   ]
  },
  {
   "cell_type": "code",
   "execution_count": 2,
   "metadata": {},
   "outputs": [
    {
     "name": "stdout",
     "output_type": "stream",
     "text": [
      "200\n"
     ]
    },
    {
     "data": {
      "text/plain": [
       "int"
      ]
     },
     "execution_count": 2,
     "metadata": {},
     "output_type": "execute_result"
    }
   ],
   "source": [
    "a=100\n",
    "print(a*2)\n",
    "type(a)"
   ]
  },
  {
   "cell_type": "code",
   "execution_count": 3,
   "metadata": {},
   "outputs": [],
   "source": [
    "def suma(num1,num2):\n",
    "    pass\n"
   ]
  },
  {
   "cell_type": "code",
   "execution_count": 4,
   "metadata": {},
   "outputs": [
    {
     "data": {
      "text/plain": [
       "dict"
      ]
     },
     "execution_count": 4,
     "metadata": {},
     "output_type": "execute_result"
    }
   ],
   "source": [
    "a={}\n",
    "type(a)\n",
    "        \n",
    "        "
   ]
  },
  {
   "cell_type": "code",
   "execution_count": 7,
   "metadata": {},
   "outputs": [
    {
     "name": "stdout",
     "output_type": "stream",
     "text": [
      "hola\n"
     ]
    },
    {
     "data": {
      "text/plain": [
       "str"
      ]
     },
     "execution_count": 7,
     "metadata": {},
     "output_type": "execute_result"
    }
   ],
   "source": [
    "a=\"hola\"\n",
    "print(a)\n",
    "type(a)"
   ]
  },
  {
   "cell_type": "code",
   "execution_count": 8,
   "metadata": {},
   "outputs": [
    {
     "data": {
      "text/plain": [
       "300"
      ]
     },
     "execution_count": 8,
     "metadata": {},
     "output_type": "execute_result"
    }
   ],
   "source": [
    "100+200"
   ]
  },
  {
   "cell_type": "code",
   "execution_count": 11,
   "metadata": {},
   "outputs": [
    {
     "name": "stdout",
     "output_type": "stream",
     "text": [
      "Hola AI Architect !\n"
     ]
    }
   ],
   "source": [
    "def hola(arg):\n",
    "    \"\"\"Esta función te sirve para saludar, \n",
    "    en arg va el nombre de la persona\"\"\"\n",
    "    print(\"Hola\", arg, \"!\")\n",
    "\n",
    "hola(\"AI Architect\")"
   ]
  },
  {
   "cell_type": "code",
   "execution_count": 10,
   "metadata": {
    "scrolled": true
   },
   "outputs": [
    {
     "name": "stdout",
     "output_type": "stream",
     "text": [
      "Help on function hola in module __main__:\n",
      "\n",
      "hola(arg)\n",
      "    Esta función te sirve para saludar, en arg va el nombre de la persona\n",
      "\n"
     ]
    }
   ],
   "source": [
    "help(hola)"
   ]
  },
  {
   "cell_type": "raw",
   "metadata": {},
   "source": []
  },
  {
   "cell_type": "code",
   "execution_count": null,
   "metadata": {},
   "outputs": [],
   "source": [
    "hola"
   ]
  }
 ],
 "metadata": {
  "kernelspec": {
   "display_name": "Python 3",
   "language": "python",
   "name": "python3"
  },
  "language_info": {
   "codemirror_mode": {
    "name": "ipython",
    "version": 3
   },
   "file_extension": ".py",
   "mimetype": "text/x-python",
   "name": "python",
   "nbconvert_exporter": "python",
   "pygments_lexer": "ipython3",
   "version": "3.7.9"
  }
 },
 "nbformat": 4,
 "nbformat_minor": 2
}
