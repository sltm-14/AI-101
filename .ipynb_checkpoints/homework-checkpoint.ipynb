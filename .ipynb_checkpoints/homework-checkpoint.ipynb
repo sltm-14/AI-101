{
 "cells": [
  {
   "cell_type": "code",
   "execution_count": 20,
   "metadata": {
    "id": "6AmNHg_PXK-I"
   },
   "outputs": [],
   "source": [
    "from sklearn.datasets import load_digits\n",
    "from sklearn.model_selection import train_test_split\n",
    "import numpy as np\n",
    "import matplotlib.pyplot as plt"
   ]
  },
  {
   "cell_type": "code",
   "execution_count": 21,
   "metadata": {
    "colab": {
     "base_uri": "https://localhost:8080/",
     "height": 265
    },
    "id": "DJlVE2etgUeG",
    "outputId": "6f2bb839-29c0-4178-c89a-6c3dd8e51e89"
   },
   "outputs": [
    {
     "data": {
      "image/png": "[encoded data removed]",
      "text/plain": [
       "<Figure size 432x288 with 9 Axes>"
      ]
     },
     "metadata": {
      "needs_background": "light",
      "tags": []
     },
     "output_type": "display_data"
    }
   ],
   "source": [
    "digits = load_digits()\n",
    "\n",
    "f, axarr = plt.subplots(3,3)\n",
    "axarr[0,0].imshow(digits.images[0])\n",
    "axarr[0,1].imshow(digits.images[1])\n",
    "axarr[0,2].imshow(digits.images[2])\n",
    "\n",
    "axarr[1,0].imshow(digits.images[3])\n",
    "axarr[1,1].imshow(digits.images[4])\n",
    "axarr[1,2].imshow(digits.images[5])\n",
    "\n",
    "axarr[2,0].imshow(digits.images[6])\n",
    "axarr[2,1].imshow(digits.images[7])\n",
    "axarr[2,2].imshow(digits.images[8])\n",
    "\n",
    "plt.show()"
   ]
  },
  {
   "cell_type": "code",
   "execution_count": 22,
   "metadata": {
    "id": "m21agEeWXM1U"
   },
   "outputs": [],
   "source": [
    "class LogisticRegression():\n",
    "    \"\"\"Class for training and using a model for logistic regression\"\"\"\n",
    "    \n",
    "    def set_values(self, initial_params, alpha=0.01, max_iter=5000, class_of_interest=0):\n",
    "        \"\"\"Set the values for initial params, step size, maximum iteration, and class of interest\"\"\"\n",
    "        self.params = initial_params\n",
    "        self.alpha = alpha\n",
    "        self.max_iter = max_iter\n",
    "        self.class_of_interest = class_of_interest\n",
    "    \n",
    "    @staticmethod\n",
    "    def _sigmoid(x):\n",
    "        \"\"\"Sigmoide function\"\"\"\n",
    "        \n",
    "        return 1.0 / (1.0 + np.exp(-x))\n",
    "    \n",
    "    def predict(self, x_bar, params):\n",
    "        \"\"\"predict the probability of a class\"\"\"  \n",
    "                \n",
    "        return self._sigmoid(np.dot(params, x_bar))\n",
    "    \n",
    "    def _compute_cost(self, input_var, output_var, params):\n",
    "        \"\"\"Compute the log likelihood cost\"\"\"\n",
    "        \n",
    "        cost = 0\n",
    "        for x, y in zip(input_var, output_var):\n",
    "            x_bar = np.array(np.insert(x, 0, 1))\n",
    "            y_hat = self.predict(x_bar, params)\n",
    "            \n",
    "            y_binary = 1.0 if y == self.class_of_interest else 0.0\n",
    "            cost += y_binary * np.log(y_hat) + (1.0 - y_binary) * np.log(1 - y_hat)\n",
    "            \n",
    "        return cost\n",
    "    \n",
    "    def train(self, input_var, label, print_iter = 5000):\n",
    "        \"\"\"Train the model using batch gradient ascent\"\"\"\n",
    "        \n",
    "        iteration = 1\n",
    "        while iteration < self.max_iter:\n",
    "            if iteration % print_iter == 0:\n",
    "                print(f'iteration: {iteration}')\n",
    "                print(f'cost: {self._compute_cost(input_var, label, self.params)}')\n",
    "                print('--------------------------------------------')\n",
    "            \n",
    "            for i, xy in enumerate(zip(input_var, label)):\n",
    "                x_bar = np.array(np.insert(xy[0], 0, 1))\n",
    "                y_hat = self.predict(x_bar, self.params)\n",
    "                \n",
    "                y_binary = 1.0 if xy[1] == self.class_of_interest else 0.0\n",
    "                gradient = (y_binary - y_hat) * x_bar\n",
    "                self.params += self.alpha * gradient\n",
    "            \n",
    "            iteration +=1\n",
    "        \n",
    "        return self.params\n",
    "\n",
    "    def test(self, input_test, label_test):\n",
    "        \"\"\"Test the accuracy of the model using test data\"\"\"\n",
    "        self.total_classifications = 0\n",
    "        self.correct_classifications = 0\n",
    "        \n",
    "        for x,y in zip(input_test, label_test):\n",
    "            self.total_classifications += 1\n",
    "            x_bar = np.array(np.insert(x, 0, 1))\n",
    "            y_hat = self.predict(x_bar, self.params)\n",
    "            y_binary = 1.0 if y == self.class_of_interest else 0.0\n",
    "            \n",
    "            if y_hat >= 0.5 and  y_binary == 1:\n",
    "                # correct classification of class_of_interest\n",
    "                self.correct_classifications += 1\n",
    "              \n",
    "            if y_hat < 0.5 and  y_binary != 1:\n",
    "                # correct classification of an other class\n",
    "                self.correct_classifications += 1\n",
    "                \n",
    "        self.accuracy = self.correct_classifications / self.total_classifications\n",
    "            \n",
    "        return self.accuracy"
   ]
  },
  {
   "cell_type": "code",
   "execution_count": 23,
   "metadata": {
    "id": "8L-eI5MZZgub"
   },
   "outputs": [],
   "source": [
    "# split the data to training and test sets\n",
    "digits_train, digits_test, digits_label_train, digits_label_test =\\\n",
    "train_test_split(digits.data, digits.target, test_size=0.20)"
   ]
  },
  {
   "cell_type": "code",
   "execution_count": 24,
   "metadata": {
    "colab": {
     "base_uri": "https://localhost:8080/"
    },
    "id": "CzFQM8oj4duK",
    "outputId": "6a776c50-944f-4040-db22-0175e6205c93"
   },
   "outputs": [
    {
     "name": "stdout",
     "output_type": "stream",
     "text": [
      "iteration: 1000\n",
      "cost: -1.992731618445265\n",
      "--------------------------------------------\n",
      "iteration: 2000\n",
      "cost: -1.1208143833502717\n",
      "--------------------------------------------\n",
      "iteration: 3000\n",
      "cost: -0.7872905921961425\n",
      "--------------------------------------------\n",
      "iteration: 4000\n",
      "cost: -0.6090723548626173\n",
      "--------------------------------------------\n",
      "iteration: 5000\n",
      "cost: -0.49765038131859923\n",
      "--------------------------------------------\n",
      "iteration: 6000\n",
      "cost: -0.42120863092463035\n",
      "--------------------------------------------\n",
      "iteration: 7000\n",
      "cost: -0.3654239288638586\n",
      "--------------------------------------------\n",
      "iteration: 8000\n",
      "cost: -0.32287581970419615\n",
      "--------------------------------------------\n",
      "iteration: 9000\n",
      "cost: -0.2893280586150063\n",
      "--------------------------------------------\n"
     ]
    }
   ],
   "source": [
    "# train a classifier for the ZERO digit\n",
    "alpha = 1e-2\n",
    "params_0 = np.zeros(len(digits.data[0]) + 1)\n",
    "\n",
    "max_iter = 10000\n",
    "digits_regression_model_0 = LogisticRegression()\n",
    "digits_regression_model_0.set_values(params_0, alpha, max_iter, 0)\n",
    "\n",
    "params =\\\n",
    "digits_regression_model_0.train(digits_train / 16.0, digits_label_train, 1000)"
   ]
  },
  {
   "cell_type": "code",
   "execution_count": 25,
   "metadata": {
    "colab": {
     "base_uri": "https://localhost:8080/"
    },
    "id": "yZESXIzj4kM1",
    "outputId": "790bdf19-4365-4fed-e238-742898a390b9"
   },
   "outputs": [
    {
     "name": "stdout",
     "output_type": "stream",
     "text": [
      "Accuracy of prediciting a ZERO digit in test set: 1.0\n"
     ]
    }
   ],
   "source": [
    "# accuracy\n",
    "digits_accuracy = digits_regression_model_0.test(digits_test / 16.0, digits_label_test)\n",
    "print(f'Accuracy of prediciting a ZERO digit in test set: {digits_accuracy}')"
   ]
  },
  {
   "cell_type": "code",
   "execution_count": 26,
   "metadata": {
    "colab": {
     "base_uri": "https://localhost:8080/"
    },
    "id": "-cHaNoaS4mpG",
    "outputId": "d5448e37-ca42-4e03-f7b9-c5315961e6ea"
   },
   "outputs": [
    {
     "name": "stdout",
     "output_type": "stream",
     "text": [
      "iteration: 1000\n",
      "cost: -28.172389999184468\n",
      "--------------------------------------------\n",
      "iteration: 2000\n",
      "cost: -21.310358463927745\n",
      "--------------------------------------------\n",
      "iteration: 3000\n",
      "cost: -17.90311878394196\n",
      "--------------------------------------------\n",
      "iteration: 4000\n",
      "cost: -15.710400221234954\n",
      "--------------------------------------------\n",
      "iteration: 5000\n",
      "cost: -14.12691129703821\n",
      "--------------------------------------------\n",
      "iteration: 6000\n",
      "cost: -12.90564799624039\n",
      "--------------------------------------------\n",
      "iteration: 7000\n",
      "cost: -11.922619806577133\n",
      "--------------------------------------------\n",
      "iteration: 8000\n",
      "cost: -11.107176199914566\n",
      "--------------------------------------------\n",
      "iteration: 9000\n",
      "cost: -10.415436290464468\n",
      "--------------------------------------------\n"
     ]
    }
   ],
   "source": [
    "# train a classifier for the ONE digit\n",
    "alpha = 1e-2\n",
    "params_0 = np.zeros(len(digits.data[0]) + 1)\n",
    "\n",
    "max_iter = 10000\n",
    "digits_regression_model_1 = LogisticRegression()\n",
    "digits_regression_model_1.set_values(params_0, alpha, max_iter, 1)\n",
    "\n",
    "params =\\\n",
    "digits_regression_model_1.train(digits_train / 16.0, digits_label_train, 1000)"
   ]
  },
  {
   "cell_type": "code",
   "execution_count": 27,
   "metadata": {
    "colab": {
     "base_uri": "https://localhost:8080/"
    },
    "id": "NxFkhRCx4qbr",
    "outputId": "cfdf1068-6dc1-4b75-e2f0-b894523e0aaa"
   },
   "outputs": [
    {
     "name": "stdout",
     "output_type": "stream",
     "text": [
      "Accuracy of prediciting a ONE digit in test set: 0.975\n"
     ]
    }
   ],
   "source": [
    "#accuracy\n",
    "digits_accuracy = digits_regression_model_1.test(digits_test / 16.0, digits_label_test)\n",
    "print(f'Accuracy of prediciting a ONE digit in test set: {digits_accuracy}')"
   ]
  },
  {
   "cell_type": "code",
   "execution_count": 19,
   "metadata": {
    "colab": {
     "base_uri": "https://localhost:8080/"
    },
    "id": "RhxTumS04thy",
    "outputId": "63e61f1a-7a8e-4dfc-c613-b8e488cbe003"
   },
   "outputs": [
    {
     "name": "stdout",
     "output_type": "stream",
     "text": [
      "iteration: 1000\n",
      "cost: -3.0775282827756754\n",
      "--------------------------------------------\n",
      "iteration: 2000\n",
      "cost: -1.707971014230837\n",
      "--------------------------------------------\n",
      "iteration: 3000\n",
      "cost: -1.1971337474822659\n",
      "--------------------------------------------\n",
      "iteration: 4000\n",
      "cost: -0.9264047272301469\n",
      "--------------------------------------------\n",
      "iteration: 5000\n",
      "cost: -0.7576845466398661\n",
      "--------------------------------------------\n",
      "iteration: 6000\n",
      "cost: -0.6420672989526742\n",
      "--------------------------------------------\n",
      "iteration: 7000\n",
      "cost: -0.5577115538265608\n",
      "--------------------------------------------\n",
      "iteration: 8000\n",
      "cost: -0.493354673867236\n",
      "--------------------------------------------\n",
      "iteration: 9000\n",
      "cost: -0.4425852897142643\n",
      "--------------------------------------------\n"
     ]
    }
   ],
   "source": [
    "# train a classifier for the TWO digit\n",
    "alpha = 1e-2\n",
    "params_0 = np.zeros(len(digits.data[0]) + 1)\n",
    "\n",
    "max_iter = 10000\n",
    "digits_regression_model_2 = LogisticRegression()\n",
    "digits_regression_model_2.set_values(params_0, alpha, max_iter, 2)\n",
    "\n",
    "params =\\\n",
    "digits_regression_model_2.train(digits_train / 16.0, digits_label_train, 1000)"
   ]
  },
  {
   "cell_type": "code",
   "execution_count": 28,
   "metadata": {
    "colab": {
     "base_uri": "https://localhost:8080/"
    },
    "id": "LJfx2fZL4wOD",
    "outputId": "3330a846-592f-4280-8e06-34ceee861c41"
   },
   "outputs": [
    {
     "name": "stdout",
     "output_type": "stream",
     "text": [
      "Accuracy of prediciting a TWO digit in test set: 1.0\n"
     ]
    }
   ],
   "source": [
    "digits_accuracy = digits_regression_model_2.test(digits_test / 16.0, digits_label_test)\n",
    "print(f'Accuracy of prediciting a TWO digit in test set: {digits_accuracy}')"
   ]
  },
  {
   "cell_type": "code",
   "execution_count": 29,
   "metadata": {
    "colab": {
     "base_uri": "https://localhost:8080/"
    },
    "id": "qWRQqTmQ40zb",
    "outputId": "b13ab1a1-e62b-4b46-e431-a2604e096664"
   },
   "outputs": [
    {
     "name": "stdout",
     "output_type": "stream",
     "text": [
      "iteration: 1000\n",
      "cost: -92.80489933671582\n",
      "--------------------------------------------\n",
      "iteration: 2000\n",
      "cost: -90.34493688608397\n",
      "--------------------------------------------\n",
      "iteration: 3000\n",
      "cost: -89.55519325640667\n",
      "--------------------------------------------\n",
      "iteration: 4000\n",
      "cost: -89.20630615080398\n",
      "--------------------------------------------\n",
      "iteration: 5000\n",
      "cost: -89.02251894032221\n",
      "--------------------------------------------\n",
      "iteration: 6000\n",
      "cost: -88.91058817525256\n",
      "--------------------------------------------\n",
      "iteration: 7000\n",
      "cost: -88.83340580189255\n",
      "--------------------------------------------\n",
      "iteration: 8000\n",
      "cost: -88.77469619524864\n",
      "--------------------------------------------\n",
      "iteration: 9000\n",
      "cost: -88.7267506546164\n",
      "--------------------------------------------\n"
     ]
    }
   ],
   "source": [
    "# train a classifier for the EIGHT digit\n",
    "alpha = 1e-2\n",
    "params_0 = np.zeros(len(digits.data[0]) + 1)\n",
    "\n",
    "max_iter = 10000\n",
    "digits_regression_model_8 = LogisticRegression()\n",
    "digits_regression_model_8.set_values(params_0, alpha, max_iter, 8)\n",
    "\n",
    "params =\\\n",
    "digits_regression_model_8.train(digits_train / 16.0, digits_label_train, 1000)"
   ]
  },
  {
   "cell_type": "code",
   "execution_count": 30,
   "metadata": {
    "colab": {
     "base_uri": "https://localhost:8080/"
    },
    "id": "Xy2CreJB42wl",
    "outputId": "8a163734-46b3-4d63-9bb4-51b957082c87"
   },
   "outputs": [
    {
     "name": "stdout",
     "output_type": "stream",
     "text": [
      "Accuracy of prediciting a EIGHT digit in test set: 0.9555555555555556\n"
     ]
    }
   ],
   "source": [
    "\n",
    "digits_accuracy = digits_regression_model_8.test(digits_test / 16.0, digits_label_test)\n",
    "print(f'Accuracy of prediciting a EIGHT digit in test set: {digits_accuracy}')"
   ]
  }
 ],
 "metadata": {
  "colab": {
   "collapsed_sections": [],
   "name": "Untitled2.ipynb",
   "provenance": []
  },
  "kernelspec": {
   "display_name": "Python 3",
   "language": "python",
   "name": "python3"
  },
  "language_info": {
   "codemirror_mode": {
    "name": "ipython",
    "version": 3
   },
   "file_extension": ".py",
   "mimetype": "text/x-python",
   "name": "python",
   "nbconvert_exporter": "python",
   "pygments_lexer": "ipython3",
   "version": "3.7.9"
  }
 },
 "nbformat": 4,
 "nbformat_minor": 1
}
