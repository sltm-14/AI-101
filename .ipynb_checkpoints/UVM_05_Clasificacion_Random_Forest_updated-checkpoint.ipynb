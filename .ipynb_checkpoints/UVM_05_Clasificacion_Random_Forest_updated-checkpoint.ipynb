{
 "cells": [
  {
   "cell_type": "markdown",
   "metadata": {},
   "source": [
    "# Random Forest \n"
   ]
  },
  {
   "cell_type": "markdown",
   "metadata": {},
   "source": [
    "- **Random Forest** is a group of Decision Trees classifiers (or regressors), each trained on a different random subset of the training set.\n",
    "- For predictions you obtain the predictions of all individual trees and then predict the class that gets majority of votes (or the average for regression).\n",
    "- Each predictor will be trained on a random subset of the input features.\n",
    "- Instead of searching for the very best feature when splitting a node, it searches for the best feature among a random subset of features."
   ]
  },
  {
   "cell_type": "code",
   "execution_count": 1,
   "metadata": {},
   "outputs": [],
   "source": [
    "import numpy as np\n",
    "%matplotlib inline\n",
    "import matplotlib\n",
    "import matplotlib.pyplot as plt\n",
    "\n",
    "# to make this notebook's output stable across runs\n",
    "np.random.seed(42)"
   ]
  },
  {
   "cell_type": "markdown",
   "metadata": {},
   "source": [
    "## Voting Classifiers"
   ]
  },
  {
   "cell_type": "markdown",
   "metadata": {},
   "source": [
    "- If you aggregate the predictions of a group of predictors and predict the class that gets the most votes, better predictions than with the best individual predictor are often obtained.\n",
    "- The majority-vote classifier is called **hard voting** classifier.\n",
    "- When predictions are made on the average probabilities of all the classifiers it is called **soft voting**.\n",
    "- A group of predictors is called an **ensemble**.\n",
    "- Ensemble methods work best when the predictors are as independent from one another as possible."
   ]
  },
  {
   "cell_type": "markdown",
   "metadata": {},
   "source": [
    "Train a voting classifier composed of three diverse classifiers using the moons dataset:"
   ]
  },
  {
   "cell_type": "code",
   "execution_count": 2,
   "metadata": {},
   "outputs": [],
   "source": [
    "from sklearn.model_selection import train_test_split\n",
    "from sklearn.datasets import make_moons\n",
    "\n",
    "X, y = make_moons(n_samples=500, noise=0.3, random_state=42)\n",
    "X_train, X_test, y_train, y_test = train_test_split(X, y, random_state=42)"
   ]
  },
  {
   "cell_type": "code",
   "execution_count": 3,
   "metadata": {},
   "outputs": [],
   "source": [
    "from sklearn.ensemble import RandomForestClassifier\n",
    "from sklearn.ensemble import VotingClassifier\n",
    "from sklearn.linear_model import LogisticRegression\n",
    "from sklearn.svm import SVC\n",
    "\n",
    "log_clf = LogisticRegression(random_state=42)\n",
    "rnd_clf = RandomForestClassifier(random_state=42)\n",
    "svm_clf = SVC(random_state=42)\n",
    "\n",
    "voting_clf = VotingClassifier(estimators=[('lr', log_clf), ('rf', rnd_clf), ('svc', svm_clf)],\n",
    "                             voting='hard')"
   ]
  },
  {
   "cell_type": "code",
   "execution_count": 4,
   "metadata": {},
   "outputs": [
    {
     "name": "stderr",
     "output_type": "stream",
     "text": [
      "C:\\Users\\MariadeLaPazRico\\Anaconda3\\envs\\MLenv2\\lib\\site-packages\\sklearn\\linear_model\\logistic.py:432: FutureWarning: Default solver will be changed to 'lbfgs' in 0.22. Specify a solver to silence this warning.\n",
      "  FutureWarning)\n",
      "C:\\Users\\MariadeLaPazRico\\Anaconda3\\envs\\MLenv2\\lib\\site-packages\\sklearn\\ensemble\\forest.py:245: FutureWarning: The default value of n_estimators will change from 10 in version 0.20 to 100 in 0.22.\n",
      "  \"10 in version 0.20 to 100 in 0.22.\", FutureWarning)\n",
      "C:\\Users\\MariadeLaPazRico\\Anaconda3\\envs\\MLenv2\\lib\\site-packages\\sklearn\\svm\\base.py:193: FutureWarning: The default value of gamma will change from 'auto' to 'scale' in version 0.22 to account better for unscaled features. Set gamma explicitly to 'auto' or 'scale' to avoid this warning.\n",
      "  \"avoid this warning.\", FutureWarning)\n"
     ]
    },
    {
     "data": {
      "text/plain": [
       "VotingClassifier(estimators=[('lr',\n",
       "                              LogisticRegression(C=1.0, class_weight=None,\n",
       "                                                 dual=False, fit_intercept=True,\n",
       "                                                 intercept_scaling=1,\n",
       "                                                 l1_ratio=None, max_iter=100,\n",
       "                                                 multi_class='warn',\n",
       "                                                 n_jobs=None, penalty='l2',\n",
       "                                                 random_state=42, solver='warn',\n",
       "                                                 tol=0.0001, verbose=0,\n",
       "                                                 warm_start=False)),\n",
       "                             ('rf',\n",
       "                              RandomForestClassifier(bootstrap=True,\n",
       "                                                     class_weight=None,\n",
       "                                                     criterion='gini',\n",
       "                                                     ma...\n",
       "                                                     n_jobs=None,\n",
       "                                                     oob_score=False,\n",
       "                                                     random_state=42, verbose=0,\n",
       "                                                     warm_start=False)),\n",
       "                             ('svc',\n",
       "                              SVC(C=1.0, cache_size=200, class_weight=None,\n",
       "                                  coef0=0.0, decision_function_shape='ovr',\n",
       "                                  degree=3, gamma='auto_deprecated',\n",
       "                                  kernel='rbf', max_iter=-1, probability=False,\n",
       "                                  random_state=42, shrinking=True, tol=0.001,\n",
       "                                  verbose=False))],\n",
       "                 flatten_transform=True, n_jobs=None, voting='hard',\n",
       "                 weights=None)"
      ]
     },
     "execution_count": 4,
     "metadata": {},
     "output_type": "execute_result"
    }
   ],
   "source": [
    "voting_clf.fit(X_train, y_train)"
   ]
  },
  {
   "cell_type": "markdown",
   "metadata": {},
   "source": [
    "Look at each classifier's accuracy on the test set:"
   ]
  },
  {
   "cell_type": "code",
   "execution_count": 5,
   "metadata": {},
   "outputs": [
    {
     "name": "stdout",
     "output_type": "stream",
     "text": [
      "LogisticRegression 0.864\n",
      "RandomForestClassifier 0.872\n",
      "SVC 0.888\n",
      "VotingClassifier 0.896\n"
     ]
    },
    {
     "name": "stderr",
     "output_type": "stream",
     "text": [
      "C:\\Users\\MariadeLaPazRico\\Anaconda3\\envs\\MLenv2\\lib\\site-packages\\sklearn\\linear_model\\logistic.py:432: FutureWarning: Default solver will be changed to 'lbfgs' in 0.22. Specify a solver to silence this warning.\n",
      "  FutureWarning)\n",
      "C:\\Users\\MariadeLaPazRico\\Anaconda3\\envs\\MLenv2\\lib\\site-packages\\sklearn\\ensemble\\forest.py:245: FutureWarning: The default value of n_estimators will change from 10 in version 0.20 to 100 in 0.22.\n",
      "  \"10 in version 0.20 to 100 in 0.22.\", FutureWarning)\n",
      "C:\\Users\\MariadeLaPazRico\\Anaconda3\\envs\\MLenv2\\lib\\site-packages\\sklearn\\svm\\base.py:193: FutureWarning: The default value of gamma will change from 'auto' to 'scale' in version 0.22 to account better for unscaled features. Set gamma explicitly to 'auto' or 'scale' to avoid this warning.\n",
      "  \"avoid this warning.\", FutureWarning)\n",
      "C:\\Users\\MariadeLaPazRico\\Anaconda3\\envs\\MLenv2\\lib\\site-packages\\sklearn\\linear_model\\logistic.py:432: FutureWarning: Default solver will be changed to 'lbfgs' in 0.22. Specify a solver to silence this warning.\n",
      "  FutureWarning)\n",
      "C:\\Users\\MariadeLaPazRico\\Anaconda3\\envs\\MLenv2\\lib\\site-packages\\sklearn\\svm\\base.py:193: FutureWarning: The default value of gamma will change from 'auto' to 'scale' in version 0.22 to account better for unscaled features. Set gamma explicitly to 'auto' or 'scale' to avoid this warning.\n",
      "  \"avoid this warning.\", FutureWarning)\n"
     ]
    }
   ],
   "source": [
    "from sklearn.metrics import accuracy_score\n",
    "\n",
    "for clf in (log_clf, rnd_clf, svm_clf, voting_clf):\n",
    "    clf.fit(X_train, y_train)\n",
    "    y_pred = clf.predict(X_test)\n",
    "    print(clf.__class__.__name__, accuracy_score(y_test, y_pred))"
   ]
  },
  {
   "cell_type": "markdown",
   "metadata": {},
   "source": [
    "The accuracy of the Voting Classifier is the best."
   ]
  },
  {
   "cell_type": "markdown",
   "metadata": {},
   "source": [
    "Here we try the soft voting option:"
   ]
  },
  {
   "cell_type": "code",
   "execution_count": 6,
   "metadata": {},
   "outputs": [
    {
     "name": "stderr",
     "output_type": "stream",
     "text": [
      "C:\\Users\\MariadeLaPazRico\\Anaconda3\\envs\\MLenv2\\lib\\site-packages\\sklearn\\linear_model\\logistic.py:432: FutureWarning: Default solver will be changed to 'lbfgs' in 0.22. Specify a solver to silence this warning.\n",
      "  FutureWarning)\n",
      "C:\\Users\\MariadeLaPazRico\\Anaconda3\\envs\\MLenv2\\lib\\site-packages\\sklearn\\ensemble\\forest.py:245: FutureWarning: The default value of n_estimators will change from 10 in version 0.20 to 100 in 0.22.\n",
      "  \"10 in version 0.20 to 100 in 0.22.\", FutureWarning)\n",
      "C:\\Users\\MariadeLaPazRico\\Anaconda3\\envs\\MLenv2\\lib\\site-packages\\sklearn\\svm\\base.py:193: FutureWarning: The default value of gamma will change from 'auto' to 'scale' in version 0.22 to account better for unscaled features. Set gamma explicitly to 'auto' or 'scale' to avoid this warning.\n",
      "  \"avoid this warning.\", FutureWarning)\n"
     ]
    },
    {
     "data": {
      "text/plain": [
       "VotingClassifier(estimators=[('lr',\n",
       "                              LogisticRegression(C=1.0, class_weight=None,\n",
       "                                                 dual=False, fit_intercept=True,\n",
       "                                                 intercept_scaling=1,\n",
       "                                                 l1_ratio=None, max_iter=100,\n",
       "                                                 multi_class='warn',\n",
       "                                                 n_jobs=None, penalty='l2',\n",
       "                                                 random_state=42, solver='warn',\n",
       "                                                 tol=0.0001, verbose=0,\n",
       "                                                 warm_start=False)),\n",
       "                             ('rf',\n",
       "                              RandomForestClassifier(bootstrap=True,\n",
       "                                                     class_weight=None,\n",
       "                                                     criterion='gini',\n",
       "                                                     ma...\n",
       "                                                     n_jobs=None,\n",
       "                                                     oob_score=False,\n",
       "                                                     random_state=42, verbose=0,\n",
       "                                                     warm_start=False)),\n",
       "                             ('svc',\n",
       "                              SVC(C=1.0, cache_size=200, class_weight=None,\n",
       "                                  coef0=0.0, decision_function_shape='ovr',\n",
       "                                  degree=3, gamma='auto_deprecated',\n",
       "                                  kernel='rbf', max_iter=-1, probability=True,\n",
       "                                  random_state=42, shrinking=True, tol=0.001,\n",
       "                                  verbose=False))],\n",
       "                 flatten_transform=True, n_jobs=None, voting='soft',\n",
       "                 weights=None)"
      ]
     },
     "execution_count": 6,
     "metadata": {},
     "output_type": "execute_result"
    }
   ],
   "source": [
    "log_clf = LogisticRegression(random_state=42)\n",
    "rnd_clf = RandomForestClassifier(random_state=42)\n",
    "svm_clf = SVC(probability=True, random_state=42)\n",
    "\n",
    "voting_clf = VotingClassifier(estimators=[('lr', log_clf), ('rf', rnd_clf), ('svc', svm_clf)],\n",
    "                             voting='soft')\n",
    "voting_clf.fit(X_train, y_train)"
   ]
  },
  {
   "cell_type": "code",
   "execution_count": 7,
   "metadata": {
    "scrolled": false
   },
   "outputs": [
    {
     "name": "stdout",
     "output_type": "stream",
     "text": [
      "LogisticRegression 0.864\n",
      "RandomForestClassifier 0.872\n",
      "SVC 0.888\n",
      "VotingClassifier 0.912\n"
     ]
    },
    {
     "name": "stderr",
     "output_type": "stream",
     "text": [
      "C:\\Users\\MariadeLaPazRico\\Anaconda3\\envs\\MLenv2\\lib\\site-packages\\sklearn\\linear_model\\logistic.py:432: FutureWarning: Default solver will be changed to 'lbfgs' in 0.22. Specify a solver to silence this warning.\n",
      "  FutureWarning)\n",
      "C:\\Users\\MariadeLaPazRico\\Anaconda3\\envs\\MLenv2\\lib\\site-packages\\sklearn\\ensemble\\forest.py:245: FutureWarning: The default value of n_estimators will change from 10 in version 0.20 to 100 in 0.22.\n",
      "  \"10 in version 0.20 to 100 in 0.22.\", FutureWarning)\n",
      "C:\\Users\\MariadeLaPazRico\\Anaconda3\\envs\\MLenv2\\lib\\site-packages\\sklearn\\svm\\base.py:193: FutureWarning: The default value of gamma will change from 'auto' to 'scale' in version 0.22 to account better for unscaled features. Set gamma explicitly to 'auto' or 'scale' to avoid this warning.\n",
      "  \"avoid this warning.\", FutureWarning)\n",
      "C:\\Users\\MariadeLaPazRico\\Anaconda3\\envs\\MLenv2\\lib\\site-packages\\sklearn\\linear_model\\logistic.py:432: FutureWarning: Default solver will be changed to 'lbfgs' in 0.22. Specify a solver to silence this warning.\n",
      "  FutureWarning)\n",
      "C:\\Users\\MariadeLaPazRico\\Anaconda3\\envs\\MLenv2\\lib\\site-packages\\sklearn\\svm\\base.py:193: FutureWarning: The default value of gamma will change from 'auto' to 'scale' in version 0.22 to account better for unscaled features. Set gamma explicitly to 'auto' or 'scale' to avoid this warning.\n",
      "  \"avoid this warning.\", FutureWarning)\n"
     ]
    }
   ],
   "source": [
    "for clf in (log_clf, rnd_clf, svm_clf, voting_clf):\n",
    "    clf.fit(X_train, y_train)\n",
    "    y_pred = clf.predict(X_test)\n",
    "    print(clf.__class__.__name__, accuracy_score(y_test, y_pred))"
   ]
  },
  {
   "cell_type": "markdown",
   "metadata": {},
   "source": [
    "Soft voting often achieves higher performance than hard voting because it gives more weight to highly confident votes."
   ]
  },
  {
   "cell_type": "markdown",
   "metadata": {},
   "source": [
    "# Tarea ..... parte 1"
   ]
  },
  {
   "cell_type": "markdown",
   "metadata": {},
   "source": [
    "Utiliza la base de datos de IRIS para generar un voting clasifier hard y soft, ¿cúal es el mejor en esta base de datos?"
   ]
  },
  {
   "cell_type": "code",
   "execution_count": null,
   "metadata": {},
   "outputs": [],
   "source": [
    "from sklearn.datasets import load_iris\n",
    "\n",
    "iris = load_iris()\n",
    "#divide tus datos -> train_test_split\n",
    "\n",
    "\n",
    "#declara tus diferentes clasificadores\n",
    "#log_clf = LogisticRegression(random_state=42)\n",
    "#rnd_clf = RandomForestClassifier(random_state=42)\n",
    "#svm_clf = SVC(random_state=42)\n",
    "\n",
    "#VotingClassifier hard\n",
    "#voting_clf_hard=\n",
    "\n",
    "#Exactitud o Accuracy\n",
    "\n",
    "#VotingClassifier soft\n",
    "\n",
    "#Exactitud o accuracy\n"
   ]
  },
  {
   "cell_type": "markdown",
   "metadata": {},
   "source": [
    "## Bagging Ensembles\n",
    "\n",
    "**Bagging** makes use of an ensemble (a grab bag, perhaps) of parallel estimators, each of which over-fits the data, and averages the results to find a better classification. An ensemble of randomized decision trees is known as a **random forest**."
   ]
  },
  {
   "cell_type": "markdown",
   "metadata": {},
   "source": [
    "Train an ensemble of 500 Decision Tree classifiers, each trained on 100 training instances randomly sampled from the training set with replacement (Bagging):"
   ]
  },
  {
   "cell_type": "code",
   "execution_count": 8,
   "metadata": {},
   "outputs": [],
   "source": [
    "from sklearn.ensemble import BaggingClassifier\n",
    "from sklearn.tree import DecisionTreeClassifier\n",
    "\n",
    "bag_clf = BaggingClassifier(DecisionTreeClassifier(random_state=42), n_estimators=500, \n",
    "                            max_samples=100, bootstrap=True, n_jobs=-1, random_state=42)"
   ]
  },
  {
   "cell_type": "code",
   "execution_count": 9,
   "metadata": {},
   "outputs": [],
   "source": [
    "bag_clf.fit(X_train, y_train)\n",
    "y_pred = bag_clf.predict(X_test)"
   ]
  },
  {
   "cell_type": "code",
   "execution_count": 10,
   "metadata": {
    "scrolled": true
   },
   "outputs": [
    {
     "name": "stdout",
     "output_type": "stream",
     "text": [
      "0.904\n"
     ]
    }
   ],
   "source": [
    "from sklearn.metrics import accuracy_score\n",
    "\n",
    "print(accuracy_score(y_test, y_pred))"
   ]
  },
  {
   "cell_type": "markdown",
   "metadata": {},
   "source": [
    "Another example using the oob_score=True that means automatic evaluation after training"
   ]
  },
  {
   "cell_type": "code",
   "execution_count": 11,
   "metadata": {},
   "outputs": [
    {
     "data": {
      "text/plain": [
       "BaggingClassifier(base_estimator=DecisionTreeClassifier(class_weight=None,\n",
       "                                                        criterion='gini',\n",
       "                                                        max_depth=None,\n",
       "                                                        max_features=None,\n",
       "                                                        max_leaf_nodes=None,\n",
       "                                                        min_impurity_decrease=0.0,\n",
       "                                                        min_impurity_split=None,\n",
       "                                                        min_samples_leaf=1,\n",
       "                                                        min_samples_split=2,\n",
       "                                                        min_weight_fraction_leaf=0.0,\n",
       "                                                        presort=False,\n",
       "                                                        random_state=None,\n",
       "                                                        splitter='best'),\n",
       "                  bootstrap=True, bootstrap_features=False, max_features=1.0,\n",
       "                  max_samples=1.0, n_estimators=500, n_jobs=-1, oob_score=True,\n",
       "                  random_state=None, verbose=0, warm_start=False)"
      ]
     },
     "execution_count": 11,
     "metadata": {},
     "output_type": "execute_result"
    }
   ],
   "source": [
    "bag_clf2=BaggingClassifier(DecisionTreeClassifier(), n_estimators=500, bootstrap=True, n_jobs=-1, oob_score=True)\n",
    "bag_clf2.fit(X_train,y_train)"
   ]
  },
  {
   "cell_type": "code",
   "execution_count": 12,
   "metadata": {},
   "outputs": [
    {
     "data": {
      "text/plain": [
       "0.8986666666666666"
      ]
     },
     "execution_count": 12,
     "metadata": {},
     "output_type": "execute_result"
    }
   ],
   "source": [
    "bag_clf2.oob_score_"
   ]
  },
  {
   "cell_type": "code",
   "execution_count": 13,
   "metadata": {},
   "outputs": [
    {
     "data": {
      "text/plain": [
       "array([[0.32352941, 0.67647059],\n",
       "       [0.35625   , 0.64375   ],\n",
       "       [1.        , 0.        ],\n",
       "       [0.        , 1.        ],\n",
       "       [0.        , 1.        ],\n",
       "       [0.06145251, 0.93854749],\n",
       "       [0.35465116, 0.64534884],\n",
       "       [0.01142857, 0.98857143],\n",
       "       [0.98930481, 0.01069519],\n",
       "       [0.97409326, 0.02590674],\n",
       "       [0.7370892 , 0.2629108 ],\n",
       "       [0.0049505 , 0.9950495 ],\n",
       "       [0.75      , 0.25      ],\n",
       "       [0.82681564, 0.17318436],\n",
       "       [0.98461538, 0.01538462],\n",
       "       [0.06315789, 0.93684211],\n",
       "       [0.00490196, 0.99509804],\n",
       "       [0.99004975, 0.00995025],\n",
       "       [0.92513369, 0.07486631],\n",
       "       [1.        , 0.        ],\n",
       "       [0.03409091, 0.96590909],\n",
       "       [0.34502924, 0.65497076],\n",
       "       [0.91666667, 0.08333333],\n",
       "       [1.        , 0.        ],\n",
       "       [0.96319018, 0.03680982],\n",
       "       [0.        , 1.        ],\n",
       "       [1.        , 0.        ],\n",
       "       [1.        , 0.        ],\n",
       "       [0.        , 1.        ],\n",
       "       [0.65420561, 0.34579439],\n",
       "       [0.        , 1.        ],\n",
       "       [1.        , 0.        ],\n",
       "       [0.0049505 , 0.9950495 ],\n",
       "       [0.        , 1.        ],\n",
       "       [0.19148936, 0.80851064],\n",
       "       [1.        , 0.        ],\n",
       "       [0.00591716, 0.99408284],\n",
       "       [0.39751553, 0.60248447],\n",
       "       [0.        , 1.        ],\n",
       "       [1.        , 0.        ],\n",
       "       [0.23463687, 0.76536313],\n",
       "       [0.32777778, 0.67222222],\n",
       "       [1.        , 0.        ],\n",
       "       [1.        , 0.        ],\n",
       "       [0.        , 1.        ],\n",
       "       [1.        , 0.        ],\n",
       "       [1.        , 0.        ],\n",
       "       [0.02906977, 0.97093023],\n",
       "       [1.        , 0.        ],\n",
       "       [0.01183432, 0.98816568],\n",
       "       [0.97916667, 0.02083333],\n",
       "       [0.88297872, 0.11702128],\n",
       "       [0.94054054, 0.05945946],\n",
       "       [0.9558011 , 0.0441989 ],\n",
       "       [0.        , 1.        ],\n",
       "       [0.06122449, 0.93877551],\n",
       "       [0.98026316, 0.01973684],\n",
       "       [0.        , 1.        ],\n",
       "       [0.        , 1.        ],\n",
       "       [0.01005025, 0.98994975],\n",
       "       [0.98857143, 0.01142857],\n",
       "       [0.81868132, 0.18131868],\n",
       "       [0.45303867, 0.54696133],\n",
       "       [1.        , 0.        ],\n",
       "       [0.        , 1.        ],\n",
       "       [0.70860927, 0.29139073],\n",
       "       [1.        , 0.        ],\n",
       "       [1.        , 0.        ],\n",
       "       [0.84745763, 0.15254237],\n",
       "       [1.        , 0.        ],\n",
       "       [0.60526316, 0.39473684],\n",
       "       [0.12222222, 0.87777778],\n",
       "       [0.6284153 , 0.3715847 ],\n",
       "       [0.9017341 , 0.0982659 ],\n",
       "       [0.        , 1.        ],\n",
       "       [0.17204301, 0.82795699],\n",
       "       [0.90055249, 0.09944751],\n",
       "       [1.        , 0.        ],\n",
       "       [0.        , 1.        ],\n",
       "       [1.        , 0.        ],\n",
       "       [0.00540541, 0.99459459],\n",
       "       [0.05780347, 0.94219653],\n",
       "       [0.02312139, 0.97687861],\n",
       "       [0.34337349, 0.65662651],\n",
       "       [1.        , 0.        ],\n",
       "       [0.        , 1.        ],\n",
       "       [0.82954545, 0.17045455],\n",
       "       [0.        , 1.        ],\n",
       "       [0.        , 1.        ],\n",
       "       [0.        , 1.        ],\n",
       "       [0.21276596, 0.78723404],\n",
       "       [1.        , 0.        ],\n",
       "       [0.        , 1.        ],\n",
       "       [0.        , 1.        ],\n",
       "       [0.        , 1.        ],\n",
       "       [0.95811518, 0.04188482],\n",
       "       [0.81675393, 0.18324607],\n",
       "       [0.        , 1.        ],\n",
       "       [1.        , 0.        ],\n",
       "       [0.25274725, 0.74725275],\n",
       "       [0.56470588, 0.43529412],\n",
       "       [0.        , 1.        ],\n",
       "       [0.04255319, 0.95744681],\n",
       "       [0.50543478, 0.49456522],\n",
       "       [1.        , 0.        ],\n",
       "       [0.01704545, 0.98295455],\n",
       "       [0.98913043, 0.01086957],\n",
       "       [0.20903955, 0.79096045],\n",
       "       [0.44692737, 0.55307263],\n",
       "       [1.        , 0.        ],\n",
       "       [0.01570681, 0.98429319],\n",
       "       [0.98901099, 0.01098901],\n",
       "       [0.25698324, 0.74301676],\n",
       "       [0.87719298, 0.12280702],\n",
       "       [1.        , 0.        ],\n",
       "       [1.        , 0.        ],\n",
       "       [0.        , 1.        ],\n",
       "       [0.        , 1.        ],\n",
       "       [0.78285714, 0.21714286],\n",
       "       [1.        , 0.        ],\n",
       "       [0.00578035, 0.99421965],\n",
       "       [1.        , 0.        ],\n",
       "       [1.        , 0.        ],\n",
       "       [1.        , 0.        ],\n",
       "       [0.98895028, 0.01104972],\n",
       "       [0.99447514, 0.00552486],\n",
       "       [0.        , 1.        ],\n",
       "       [0.96039604, 0.03960396],\n",
       "       [0.99497487, 0.00502513],\n",
       "       [0.01092896, 0.98907104],\n",
       "       [0.15662651, 0.84337349],\n",
       "       [0.95918367, 0.04081633],\n",
       "       [0.32727273, 0.67272727],\n",
       "       [0.98924731, 0.01075269],\n",
       "       [0.        , 1.        ],\n",
       "       [0.        , 1.        ],\n",
       "       [0.7251462 , 0.2748538 ],\n",
       "       [0.35632184, 0.64367816],\n",
       "       [0.4       , 0.6       ],\n",
       "       [0.85326087, 0.14673913],\n",
       "       [0.95918367, 0.04081633],\n",
       "       [0.06878307, 0.93121693],\n",
       "       [0.8030303 , 0.1969697 ],\n",
       "       [0.        , 1.        ],\n",
       "       [0.        , 1.        ],\n",
       "       [0.03508772, 0.96491228],\n",
       "       [0.98342541, 0.01657459],\n",
       "       [1.        , 0.        ],\n",
       "       [1.        , 0.        ],\n",
       "       [0.0052356 , 0.9947644 ],\n",
       "       [0.        , 1.        ],\n",
       "       [0.01932367, 0.98067633],\n",
       "       [0.        , 1.        ],\n",
       "       [1.        , 0.        ],\n",
       "       [1.        , 0.        ],\n",
       "       [0.95402299, 0.04597701],\n",
       "       [1.        , 0.        ],\n",
       "       [1.        , 0.        ],\n",
       "       [1.        , 0.        ],\n",
       "       [0.        , 1.        ],\n",
       "       [0.38674033, 0.61325967],\n",
       "       [0.27717391, 0.72282609],\n",
       "       [0.01117318, 0.98882682],\n",
       "       [0.        , 1.        ],\n",
       "       [0.30729167, 0.69270833],\n",
       "       [1.        , 0.        ],\n",
       "       [0.99378882, 0.00621118],\n",
       "       [0.        , 1.        ],\n",
       "       [1.        , 0.        ],\n",
       "       [0.        , 1.        ],\n",
       "       [0.        , 1.        ],\n",
       "       [0.98295455, 0.01704545],\n",
       "       [0.        , 1.        ],\n",
       "       [0.        , 1.        ],\n",
       "       [1.        , 0.        ],\n",
       "       [0.00502513, 0.99497487],\n",
       "       [0.61271676, 0.38728324],\n",
       "       [0.91747573, 0.08252427],\n",
       "       [0.        , 1.        ],\n",
       "       [1.        , 0.        ],\n",
       "       [0.99516908, 0.00483092],\n",
       "       [1.        , 0.        ],\n",
       "       [0.        , 1.        ],\n",
       "       [0.        , 1.        ],\n",
       "       [1.        , 0.        ],\n",
       "       [0.06930693, 0.93069307],\n",
       "       [1.        , 0.        ],\n",
       "       [0.05405405, 0.94594595],\n",
       "       [0.        , 1.        ],\n",
       "       [1.        , 0.        ],\n",
       "       [0.        , 1.        ],\n",
       "       [0.04294479, 0.95705521],\n",
       "       [1.        , 0.        ],\n",
       "       [0.93229167, 0.06770833],\n",
       "       [0.73295455, 0.26704545],\n",
       "       [0.61212121, 0.38787879],\n",
       "       [0.        , 1.        ],\n",
       "       [0.12244898, 0.87755102],\n",
       "       [1.        , 0.        ],\n",
       "       [0.95731707, 0.04268293],\n",
       "       [0.96855346, 0.03144654],\n",
       "       [1.        , 0.        ],\n",
       "       [0.02272727, 0.97727273],\n",
       "       [0.        , 1.        ],\n",
       "       [0.39664804, 0.60335196],\n",
       "       [0.85082873, 0.14917127],\n",
       "       [0.        , 1.        ],\n",
       "       [0.        , 1.        ],\n",
       "       [0.99408284, 0.00591716],\n",
       "       [0.00520833, 0.99479167],\n",
       "       [0.00540541, 0.99459459],\n",
       "       [0.96111111, 0.03888889],\n",
       "       [0.        , 1.        ],\n",
       "       [0.30808081, 0.69191919],\n",
       "       [0.        , 1.        ],\n",
       "       [1.        , 0.        ],\n",
       "       [0.00595238, 0.99404762],\n",
       "       [0.        , 1.        ],\n",
       "       [0.96236559, 0.03763441],\n",
       "       [0.80246914, 0.19753086],\n",
       "       [0.995     , 0.005     ],\n",
       "       [0.00543478, 0.99456522],\n",
       "       [0.04411765, 0.95588235],\n",
       "       [1.        , 0.        ],\n",
       "       [0.02808989, 0.97191011],\n",
       "       [0.        , 1.        ],\n",
       "       [0.05405405, 0.94594595],\n",
       "       [1.        , 0.        ],\n",
       "       [0.83888889, 0.16111111],\n",
       "       [0.        , 1.        ],\n",
       "       [0.8988764 , 0.1011236 ],\n",
       "       [0.99450549, 0.00549451],\n",
       "       [0.18857143, 0.81142857],\n",
       "       [0.22651934, 0.77348066],\n",
       "       [1.        , 0.        ],\n",
       "       [0.        , 1.        ],\n",
       "       [0.00549451, 0.99450549],\n",
       "       [0.        , 1.        ],\n",
       "       [0.23684211, 0.76315789],\n",
       "       [0.95744681, 0.04255319],\n",
       "       [0.00507614, 0.99492386],\n",
       "       [1.        , 0.        ],\n",
       "       [1.        , 0.        ],\n",
       "       [0.        , 1.        ],\n",
       "       [0.43956044, 0.56043956],\n",
       "       [1.        , 0.        ],\n",
       "       [0.        , 1.        ],\n",
       "       [1.        , 0.        ],\n",
       "       [0.        , 1.        ],\n",
       "       [0.        , 1.        ],\n",
       "       [0.04712042, 0.95287958],\n",
       "       [0.0982659 , 0.9017341 ],\n",
       "       [0.97959184, 0.02040816],\n",
       "       [0.02185792, 0.97814208],\n",
       "       [1.        , 0.        ],\n",
       "       [0.35106383, 0.64893617],\n",
       "       [0.13793103, 0.86206897],\n",
       "       [0.54891304, 0.45108696],\n",
       "       [0.65656566, 0.34343434],\n",
       "       [0.00558659, 0.99441341],\n",
       "       [1.        , 0.        ],\n",
       "       [0.        , 1.        ],\n",
       "       [0.        , 1.        ],\n",
       "       [0.64622642, 0.35377358],\n",
       "       [0.        , 1.        ],\n",
       "       [1.        , 0.        ],\n",
       "       [0.22164948, 0.77835052],\n",
       "       [0.81094527, 0.18905473],\n",
       "       [0.03012048, 0.96987952],\n",
       "       [1.        , 0.        ],\n",
       "       [0.86387435, 0.13612565],\n",
       "       [0.        , 1.        ],\n",
       "       [0.00518135, 0.99481865],\n",
       "       [0.09137056, 0.90862944],\n",
       "       [0.00598802, 0.99401198],\n",
       "       [0.        , 1.        ],\n",
       "       [1.        , 0.        ],\n",
       "       [0.94318182, 0.05681818],\n",
       "       [0.15697674, 0.84302326],\n",
       "       [0.95897436, 0.04102564],\n",
       "       [0.01630435, 0.98369565],\n",
       "       [0.57923497, 0.42076503],\n",
       "       [0.07526882, 0.92473118],\n",
       "       [1.        , 0.        ],\n",
       "       [0.78723404, 0.21276596],\n",
       "       [0.        , 1.        ],\n",
       "       [1.        , 0.        ],\n",
       "       [0.93684211, 0.06315789],\n",
       "       [0.        , 1.        ],\n",
       "       [0.        , 1.        ],\n",
       "       [1.        , 0.        ],\n",
       "       [0.        , 1.        ],\n",
       "       [1.        , 0.        ],\n",
       "       [0.23560209, 0.76439791],\n",
       "       [0.99418605, 0.00581395],\n",
       "       [1.        , 0.        ],\n",
       "       [0.        , 1.        ],\n",
       "       [0.        , 1.        ],\n",
       "       [0.84831461, 0.15168539],\n",
       "       [0.        , 1.        ],\n",
       "       [1.        , 0.        ],\n",
       "       [0.78723404, 0.21276596],\n",
       "       [0.92391304, 0.07608696],\n",
       "       [1.        , 0.        ],\n",
       "       [0.68852459, 0.31147541],\n",
       "       [0.4973262 , 0.5026738 ],\n",
       "       [0.        , 1.        ],\n",
       "       [0.88953488, 0.11046512],\n",
       "       [0.        , 1.        ],\n",
       "       [1.        , 0.        ],\n",
       "       [0.9010989 , 0.0989011 ],\n",
       "       [1.        , 0.        ],\n",
       "       [1.        , 0.        ],\n",
       "       [0.72636816, 0.27363184],\n",
       "       [0.10227273, 0.89772727],\n",
       "       [0.47560976, 0.52439024],\n",
       "       [0.24210526, 0.75789474],\n",
       "       [0.        , 1.        ],\n",
       "       [0.84782609, 0.15217391],\n",
       "       [0.80927835, 0.19072165],\n",
       "       [0.        , 1.        ],\n",
       "       [1.        , 0.        ],\n",
       "       [0.99465241, 0.00534759],\n",
       "       [1.        , 0.        ],\n",
       "       [0.        , 1.        ],\n",
       "       [0.03431373, 0.96568627],\n",
       "       [0.95959596, 0.04040404],\n",
       "       [0.94797688, 0.05202312],\n",
       "       [1.        , 0.        ],\n",
       "       [0.52542373, 0.47457627],\n",
       "       [1.        , 0.        ],\n",
       "       [0.0106383 , 0.9893617 ],\n",
       "       [0.99453552, 0.00546448],\n",
       "       [0.02659574, 0.97340426],\n",
       "       [1.        , 0.        ],\n",
       "       [1.        , 0.        ],\n",
       "       [1.        , 0.        ],\n",
       "       [0.        , 1.        ],\n",
       "       [0.98275862, 0.01724138],\n",
       "       [0.        , 1.        ],\n",
       "       [0.07894737, 0.92105263],\n",
       "       [0.        , 1.        ],\n",
       "       [0.        , 1.        ],\n",
       "       [1.        , 0.        ],\n",
       "       [1.        , 0.        ],\n",
       "       [0.        , 1.        ],\n",
       "       [1.        , 0.        ],\n",
       "       [0.00564972, 0.99435028],\n",
       "       [1.        , 0.        ],\n",
       "       [0.13559322, 0.86440678],\n",
       "       [0.        , 1.        ],\n",
       "       [0.        , 1.        ],\n",
       "       [0.        , 1.        ],\n",
       "       [0.37125749, 0.62874251],\n",
       "       [0.0923913 , 0.9076087 ],\n",
       "       [0.23255814, 0.76744186],\n",
       "       [1.        , 0.        ],\n",
       "       [0.98181818, 0.01818182],\n",
       "       [0.17777778, 0.82222222],\n",
       "       [0.9902439 , 0.0097561 ],\n",
       "       [0.        , 1.        ],\n",
       "       [0.        , 1.        ],\n",
       "       [1.        , 0.        ],\n",
       "       [0.96511628, 0.03488372],\n",
       "       [0.33714286, 0.66285714],\n",
       "       [0.98843931, 0.01156069],\n",
       "       [1.        , 0.        ],\n",
       "       [0.        , 1.        ],\n",
       "       [1.        , 0.        ],\n",
       "       [0.        , 1.        ],\n",
       "       [0.02139037, 0.97860963],\n",
       "       [1.        , 0.        ],\n",
       "       [1.        , 0.        ],\n",
       "       [0.03076923, 0.96923077],\n",
       "       [0.64516129, 0.35483871]])"
      ]
     },
     "execution_count": 13,
     "metadata": {},
     "output_type": "execute_result"
    }
   ],
   "source": [
    "#soft voting, because the base estimator has a preddict_proba() method\n",
    "#this function give us the probabilitie of each training instance \n",
    "bag_clf2.oob_decision_function_"
   ]
  },
  {
   "cell_type": "markdown",
   "metadata": {},
   "source": [
    "# Tarea .... parte 2"
   ]
  },
  {
   "cell_type": "markdown",
   "metadata": {},
   "source": [
    "Realiza un clasificador para IRIS utilizando BaggingClassifier(base_estimator=TUCLASIFICADOR)que tenga  n_estimators=100, puedes elegir cualquier clasificador de tu preferencia."
   ]
  },
  {
   "cell_type": "code",
   "execution_count": null,
   "metadata": {},
   "outputs": [],
   "source": [
    "from sklearn.ensemble import BaggingClassifier\n",
    "from sklearn.tree import DecisionTreeClassifier\n",
    "\n",
    "#bdd iris\n"
   ]
  },
  {
   "cell_type": "markdown",
   "metadata": {},
   "source": [
    "## Random Forest"
   ]
  },
  {
   "cell_type": "markdown",
   "metadata": {},
   "source": [
    "- At each node only a random subset of the features is considered for splitting.\n",
    "- Each tree in the ensemble is built from a sample drawn with replacement (i.e., a bootstrap sample) from the training set."
   ]
  },
  {
   "cell_type": "markdown",
   "metadata": {},
   "source": [
    "Train a random Forest classifier with 500 trees (`n_estimators`) each limited to a maximum of 16 nodes (`max_leaf_nodes`):"
   ]
  },
  {
   "cell_type": "code",
   "execution_count": 14,
   "metadata": {},
   "outputs": [],
   "source": [
    "from sklearn.ensemble import RandomForestClassifier\n",
    "\n",
    "rf_clf = RandomForestClassifier(n_estimators=500, max_leaf_nodes=16, n_jobs=-1, random_state=42)\n",
    "rf_clf.fit(X_train, y_train)\n",
    "\n",
    "y_pred_rf = rf_clf.predict(X_test)"
   ]
  },
  {
   "cell_type": "markdown",
   "metadata": {},
   "source": [
    "### Feature Importance"
   ]
  },
  {
   "cell_type": "markdown",
   "metadata": {},
   "source": [
    "Random Forest measures the relative importance of each feature: how much the tree nodes that use that feature reduce impurity on average across all trees in the forest. It is a weight average, where each nodes weight is equal to the number of training samples that are associated with it (`feature_importances_`)."
   ]
  },
  {
   "cell_type": "markdown",
   "metadata": {},
   "source": [
    "Let's evaluate the feature importance in the iris dataset:"
   ]
  },
  {
   "cell_type": "code",
   "execution_count": 15,
   "metadata": {},
   "outputs": [
    {
     "name": "stdout",
     "output_type": "stream",
     "text": [
      "sepal length (cm) 0.11249225099876375\n",
      "sepal width (cm) 0.02311928828251033\n",
      "petal length (cm) 0.4410304643639577\n",
      "petal width (cm) 0.4233579963547682\n"
     ]
    }
   ],
   "source": [
    "from sklearn.datasets import load_iris\n",
    "\n",
    "iris = load_iris()\n",
    "rf_clf = RandomForestClassifier(n_estimators=500, n_jobs=-1, random_state=42)\n",
    "rf_clf.fit(iris['data'], iris['target'])\n",
    "\n",
    "rf_clf.feature_importances\n",
    "for name, score in zip(iris['feature_names'], rf_clf.feature_importances_):\n",
    "    print(name, score)"
   ]
  },
  {
   "cell_type": "code",
   "execution_count": 16,
   "metadata": {},
   "outputs": [
    {
     "data": {
      "text/plain": [
       "array([0.11249225, 0.02311929, 0.44103046, 0.423358  ])"
      ]
     },
     "execution_count": 16,
     "metadata": {},
     "output_type": "execute_result"
    }
   ],
   "source": [
    "rf_clf.feature_importances_"
   ]
  },
  {
   "cell_type": "markdown",
   "metadata": {},
   "source": [
    "This score is computed for each feature after training, the results are scaled so that the sum of all is eqaul to 1. The higher the value, the higher the importance. "
   ]
  },
  {
   "cell_type": "markdown",
   "metadata": {},
   "source": [
    "# Tarea .... parte 3 y final =D\n",
    "\n",
    "Utiliza la base de datos del vino para generar un clasificador de random forest y evalua las importancias de sus variables."
   ]
  },
  {
   "cell_type": "code",
   "execution_count": 6,
   "metadata": {},
   "outputs": [
    {
     "data": {
      "text/plain": [
       "'.. _wine_dataset:\\n\\nWine recognition dataset\\n------------------------\\n\\n**Data Set Characteristics:**\\n\\n    :Number of Instances: 178 (50 in each of three classes)\\n    :Number of Attributes: 13 numeric, predictive attributes and the class\\n    :Attribute Information:\\n \\t\\t- Alcohol\\n \\t\\t- Malic acid\\n \\t\\t- Ash\\n\\t\\t- Alcalinity of ash  \\n \\t\\t- Magnesium\\n\\t\\t- Total phenols\\n \\t\\t- Flavanoids\\n \\t\\t- Nonflavanoid phenols\\n \\t\\t- Proanthocyanins\\n\\t\\t- Color intensity\\n \\t\\t- Hue\\n \\t\\t- OD280/OD315 of diluted wines\\n \\t\\t- Proline\\n\\n    - class:\\n            - class_0\\n            - class_1\\n            - class_2\\n\\t\\t\\n    :Summary Statistics:\\n    \\n    ============================= ==== ===== ======= =====\\n                                   Min   Max   Mean     SD\\n    ============================= ==== ===== ======= =====\\n    Alcohol:                      11.0  14.8    13.0   0.8\\n    Malic Acid:                   0.74  5.80    2.34  1.12\\n    Ash:                          1.36  3.23    2.36  0.27\\n    Alcalinity of Ash:            10.6  30.0    19.5   3.3\\n    Magnesium:                    70.0 162.0    99.7  14.3\\n    Total Phenols:                0.98  3.88    2.29  0.63\\n    Flavanoids:                   0.34  5.08    2.03  1.00\\n    Nonflavanoid Phenols:         0.13  0.66    0.36  0.12\\n    Proanthocyanins:              0.41  3.58    1.59  0.57\\n    Colour Intensity:              1.3  13.0     5.1   2.3\\n    Hue:                          0.48  1.71    0.96  0.23\\n    OD280/OD315 of diluted wines: 1.27  4.00    2.61  0.71\\n    Proline:                       278  1680     746   315\\n    ============================= ==== ===== ======= =====\\n\\n    :Missing Attribute Values: None\\n    :Class Distribution: class_0 (59), class_1 (71), class_2 (48)\\n    :Creator: R.A. Fisher\\n    :Donor: Michael Marshall (MARSHALL%PLU@io.arc.nasa.gov)\\n    :Date: July, 1988\\n\\nThis is a copy of UCI ML Wine recognition datasets.\\nhttps://archive.ics.uci.edu/ml/machine-learning-databases/wine/wine.data\\n\\nThe data is the results of a chemical analysis of wines grown in the same\\nregion in Italy by three different cultivators. There are thirteen different\\nmeasurements taken for different constituents found in the three types of\\nwine.\\n\\nOriginal Owners: \\n\\nForina, M. et al, PARVUS - \\nAn Extendible Package for Data Exploration, Classification and Correlation. \\nInstitute of Pharmaceutical and Food Analysis and Technologies,\\nVia Brigata Salerno, 16147 Genoa, Italy.\\n\\nCitation:\\n\\nLichman, M. (2013). UCI Machine Learning Repository\\n[https://archive.ics.uci.edu/ml]. Irvine, CA: University of California,\\nSchool of Information and Computer Science. \\n\\n.. topic:: References\\n\\n  (1) S. Aeberhard, D. Coomans and O. de Vel, \\n  Comparison of Classifiers in High Dimensional Settings, \\n  Tech. Rep. no. 92-02, (1992), Dept. of Computer Science and Dept. of  \\n  Mathematics and Statistics, James Cook University of North Queensland. \\n  (Also submitted to Technometrics). \\n\\n  The data was used with many others for comparing various \\n  classifiers. The classes are separable, though only RDA \\n  has achieved 100% correct classification. \\n  (RDA : 100%, QDA 99.4%, LDA 98.9%, 1NN 96.1% (z-transformed data)) \\n  (All results using the leave-one-out technique) \\n\\n  (2) S. Aeberhard, D. Coomans and O. de Vel, \\n  \"THE CLASSIFICATION PERFORMANCE OF RDA\" \\n  Tech. Rep. no. 92-01, (1992), Dept. of Computer Science and Dept. of \\n  Mathematics and Statistics, James Cook University of North Queensland. \\n  (Also submitted to Journal of Chemometrics).\\n'"
      ]
     },
     "execution_count": 6,
     "metadata": {},
     "output_type": "execute_result"
    }
   ],
   "source": [
    "from sklearn.datasets import load_wine\n",
    "\n",
    "data = load_wine()\n",
    "#DESCR -> nos dice que tiene la base de datos en este caso 178 registros, 3 clases, y variables como \n",
    "#Alcohol\\n \\t\\t- Malic acid\\n \\t\\t- Ash\\n\\t\\t- Alcalinity of ash  \\n \\t\\t- Magnesium\\n\\t\\t- Total phenols\\n \\t\\t- Flavanoids\\n \\t\\t- \n",
    "#Nonflavanoid phenols\\n \\t\\t- Proanthocyanins\\n\\t\\t- Color intensity\\n \n",
    "#Hue\\n \\t\\t- OD280/OD315 of diluted wines\\n \\t\\t- Proline\\n\\n\n",
    "\n",
    "#data.DESCR\n",
    "\n",
    "#RandomForest\n",
    "\n",
    "#Accuracy\n",
    "\n",
    "#Importancias :D\n"
   ]
  },
  {
   "cell_type": "markdown",
   "metadata": {},
   "source": [
    "# USING IMAGES (keras and skitlearn)"
   ]
  },
  {
   "cell_type": "markdown",
   "metadata": {},
   "source": [
    "Let's find the meaning of feature importance applied to the classification of the MNISt dataset:"
   ]
  },
  {
   "cell_type": "code",
   "execution_count": 18,
   "metadata": {},
   "outputs": [
    {
     "name": "stderr",
     "output_type": "stream",
     "text": [
      "C:\\Users\\MariadeLaPazRico\\Anaconda3\\envs\\MLenv2\\lib\\site-packages\\tensorflow\\python\\framework\\dtypes.py:516: FutureWarning: Passing (type, 1) or '1type' as a synonym of type is deprecated; in a future version of numpy, it will be understood as (type, (1,)) / '(1,)type'.\n",
      "  _np_qint8 = np.dtype([(\"qint8\", np.int8, 1)])\n",
      "C:\\Users\\MariadeLaPazRico\\Anaconda3\\envs\\MLenv2\\lib\\site-packages\\tensorflow\\python\\framework\\dtypes.py:517: FutureWarning: Passing (type, 1) or '1type' as a synonym of type is deprecated; in a future version of numpy, it will be understood as (type, (1,)) / '(1,)type'.\n",
      "  _np_quint8 = np.dtype([(\"quint8\", np.uint8, 1)])\n",
      "C:\\Users\\MariadeLaPazRico\\Anaconda3\\envs\\MLenv2\\lib\\site-packages\\tensorflow\\python\\framework\\dtypes.py:518: FutureWarning: Passing (type, 1) or '1type' as a synonym of type is deprecated; in a future version of numpy, it will be understood as (type, (1,)) / '(1,)type'.\n",
      "  _np_qint16 = np.dtype([(\"qint16\", np.int16, 1)])\n",
      "C:\\Users\\MariadeLaPazRico\\Anaconda3\\envs\\MLenv2\\lib\\site-packages\\tensorflow\\python\\framework\\dtypes.py:519: FutureWarning: Passing (type, 1) or '1type' as a synonym of type is deprecated; in a future version of numpy, it will be understood as (type, (1,)) / '(1,)type'.\n",
      "  _np_quint16 = np.dtype([(\"quint16\", np.uint16, 1)])\n",
      "C:\\Users\\MariadeLaPazRico\\Anaconda3\\envs\\MLenv2\\lib\\site-packages\\tensorflow\\python\\framework\\dtypes.py:520: FutureWarning: Passing (type, 1) or '1type' as a synonym of type is deprecated; in a future version of numpy, it will be understood as (type, (1,)) / '(1,)type'.\n",
      "  _np_qint32 = np.dtype([(\"qint32\", np.int32, 1)])\n",
      "C:\\Users\\MariadeLaPazRico\\Anaconda3\\envs\\MLenv2\\lib\\site-packages\\tensorflow\\python\\framework\\dtypes.py:525: FutureWarning: Passing (type, 1) or '1type' as a synonym of type is deprecated; in a future version of numpy, it will be understood as (type, (1,)) / '(1,)type'.\n",
      "  np_resource = np.dtype([(\"resource\", np.ubyte, 1)])\n",
      "C:\\Users\\MariadeLaPazRico\\Anaconda3\\envs\\MLenv2\\lib\\site-packages\\tensorboard\\compat\\tensorflow_stub\\dtypes.py:541: FutureWarning: Passing (type, 1) or '1type' as a synonym of type is deprecated; in a future version of numpy, it will be understood as (type, (1,)) / '(1,)type'.\n",
      "  _np_qint8 = np.dtype([(\"qint8\", np.int8, 1)])\n",
      "C:\\Users\\MariadeLaPazRico\\Anaconda3\\envs\\MLenv2\\lib\\site-packages\\tensorboard\\compat\\tensorflow_stub\\dtypes.py:542: FutureWarning: Passing (type, 1) or '1type' as a synonym of type is deprecated; in a future version of numpy, it will be understood as (type, (1,)) / '(1,)type'.\n",
      "  _np_quint8 = np.dtype([(\"quint8\", np.uint8, 1)])\n",
      "C:\\Users\\MariadeLaPazRico\\Anaconda3\\envs\\MLenv2\\lib\\site-packages\\tensorboard\\compat\\tensorflow_stub\\dtypes.py:543: FutureWarning: Passing (type, 1) or '1type' as a synonym of type is deprecated; in a future version of numpy, it will be understood as (type, (1,)) / '(1,)type'.\n",
      "  _np_qint16 = np.dtype([(\"qint16\", np.int16, 1)])\n",
      "C:\\Users\\MariadeLaPazRico\\Anaconda3\\envs\\MLenv2\\lib\\site-packages\\tensorboard\\compat\\tensorflow_stub\\dtypes.py:544: FutureWarning: Passing (type, 1) or '1type' as a synonym of type is deprecated; in a future version of numpy, it will be understood as (type, (1,)) / '(1,)type'.\n",
      "  _np_quint16 = np.dtype([(\"quint16\", np.uint16, 1)])\n",
      "C:\\Users\\MariadeLaPazRico\\Anaconda3\\envs\\MLenv2\\lib\\site-packages\\tensorboard\\compat\\tensorflow_stub\\dtypes.py:545: FutureWarning: Passing (type, 1) or '1type' as a synonym of type is deprecated; in a future version of numpy, it will be understood as (type, (1,)) / '(1,)type'.\n",
      "  _np_qint32 = np.dtype([(\"qint32\", np.int32, 1)])\n",
      "C:\\Users\\MariadeLaPazRico\\Anaconda3\\envs\\MLenv2\\lib\\site-packages\\tensorboard\\compat\\tensorflow_stub\\dtypes.py:550: FutureWarning: Passing (type, 1) or '1type' as a synonym of type is deprecated; in a future version of numpy, it will be understood as (type, (1,)) / '(1,)type'.\n",
      "  np_resource = np.dtype([(\"resource\", np.ubyte, 1)])\n"
     ]
    }
   ],
   "source": [
    "# conda install -c conda-forge tensorflow \n",
    "# conda install -c conda-forge keras\n",
    "import tensorflow as tf\n",
    "mnist = tf.keras.datasets.mnist\n",
    "\n",
    "(X_train, y_train),(X_test, y_test)= mnist.load_data()"
   ]
  },
  {
   "cell_type": "code",
   "execution_count": 19,
   "metadata": {},
   "outputs": [
    {
     "data": {
      "text/plain": [
       "((60000, 28, 28), (60000,))"
      ]
     },
     "execution_count": 19,
     "metadata": {},
     "output_type": "execute_result"
    }
   ],
   "source": [
    "X_train.shape, y_train.shape"
   ]
  },
  {
   "cell_type": "code",
   "execution_count": 20,
   "metadata": {},
   "outputs": [
    {
     "data": {
      "text/plain": [
       "784"
      ]
     },
     "execution_count": 20,
     "metadata": {},
     "output_type": "execute_result"
    }
   ],
   "source": [
    "28*28"
   ]
  },
  {
   "cell_type": "code",
   "execution_count": 21,
   "metadata": {},
   "outputs": [],
   "source": [
    "X_train = X_train.reshape(60000, 784)\n",
    "X_test = X_test.reshape(10000, 784) "
   ]
  },
  {
   "cell_type": "code",
   "execution_count": 22,
   "metadata": {},
   "outputs": [
    {
     "name": "stderr",
     "output_type": "stream",
     "text": [
      "C:\\Users\\MariadeLaPazRico\\Anaconda3\\envs\\MLenv2\\lib\\site-packages\\sklearn\\ensemble\\forest.py:245: FutureWarning: The default value of n_estimators will change from 10 in version 0.20 to 100 in 0.22.\n",
      "  \"10 in version 0.20 to 100 in 0.22.\", FutureWarning)\n"
     ]
    },
    {
     "data": {
      "text/plain": [
       "RandomForestClassifier(bootstrap=True, class_weight=None, criterion='gini',\n",
       "                       max_depth=None, max_features='auto', max_leaf_nodes=None,\n",
       "                       min_impurity_decrease=0.0, min_impurity_split=None,\n",
       "                       min_samples_leaf=1, min_samples_split=2,\n",
       "                       min_weight_fraction_leaf=0.0, n_estimators=10,\n",
       "                       n_jobs=None, oob_score=False, random_state=42, verbose=0,\n",
       "                       warm_start=False)"
      ]
     },
     "execution_count": 22,
     "metadata": {},
     "output_type": "execute_result"
    }
   ],
   "source": [
    "rf_clf = RandomForestClassifier(random_state=42)\n",
    "rf_clf.fit(X_train, y_train)"
   ]
  },
  {
   "cell_type": "code",
   "execution_count": 23,
   "metadata": {},
   "outputs": [
    {
     "data": {
      "text/plain": [
       "array([0.00000000e+00, 0.00000000e+00, 0.00000000e+00, 0.00000000e+00,\n",
       "       0.00000000e+00, 0.00000000e+00, 0.00000000e+00, 0.00000000e+00,\n",
       "       0.00000000e+00, 0.00000000e+00, 0.00000000e+00, 0.00000000e+00,\n",
       "       0.00000000e+00, 0.00000000e+00, 0.00000000e+00, 0.00000000e+00,\n",
       "       0.00000000e+00, 0.00000000e+00, 0.00000000e+00, 0.00000000e+00,\n",
       "       0.00000000e+00, 0.00000000e+00, 0.00000000e+00, 0.00000000e+00,\n",
       "       0.00000000e+00, 0.00000000e+00, 0.00000000e+00, 0.00000000e+00,\n",
       "       0.00000000e+00, 0.00000000e+00, 0.00000000e+00, 0.00000000e+00,\n",
       "       0.00000000e+00, 0.00000000e+00, 0.00000000e+00, 0.00000000e+00,\n",
       "       5.76381139e-06, 0.00000000e+00, 0.00000000e+00, 0.00000000e+00,\n",
       "       0.00000000e+00, 0.00000000e+00, 0.00000000e+00, 0.00000000e+00,\n",
       "       0.00000000e+00, 0.00000000e+00, 2.96406690e-06, 0.00000000e+00,\n",
       "       3.36846120e-06, 0.00000000e+00, 0.00000000e+00, 0.00000000e+00,\n",
       "       0.00000000e+00, 0.00000000e+00, 0.00000000e+00, 0.00000000e+00,\n",
       "       0.00000000e+00, 0.00000000e+00, 0.00000000e+00, 0.00000000e+00,\n",
       "       3.48306122e-06, 0.00000000e+00, 0.00000000e+00, 6.17551220e-06,\n",
       "       0.00000000e+00, 1.55444063e-05, 2.24565075e-05, 3.66727665e-06,\n",
       "       1.29283403e-04, 2.83224608e-05, 5.48721603e-05, 2.87300856e-05,\n",
       "       1.56056779e-04, 4.11253099e-05, 3.32385171e-05, 1.71742064e-05,\n",
       "       3.81313440e-05, 9.52953716e-06, 4.51941290e-05, 0.00000000e+00,\n",
       "       0.00000000e+00, 0.00000000e+00, 0.00000000e+00, 0.00000000e+00,\n",
       "       0.00000000e+00, 0.00000000e+00, 0.00000000e+00, 7.14783441e-06,\n",
       "       0.00000000e+00, 0.00000000e+00, 3.24182305e-06, 4.35890097e-05,\n",
       "       2.19957820e-04, 3.45314354e-05, 2.29787579e-04, 8.20597283e-05,\n",
       "       1.04002578e-03, 2.47119341e-04, 4.32903447e-04, 2.52622730e-03,\n",
       "       1.11900272e-03, 7.26461573e-04, 1.01463248e-03, 5.62975559e-04,\n",
       "       2.39300090e-04, 1.54816986e-04, 8.12219137e-05, 2.23084150e-05,\n",
       "       2.81068847e-05, 1.35099178e-05, 0.00000000e+00, 0.00000000e+00,\n",
       "       0.00000000e+00, 0.00000000e+00, 0.00000000e+00, 0.00000000e+00,\n",
       "       0.00000000e+00, 7.15431851e-06, 2.22817000e-05, 8.57633559e-05,\n",
       "       1.07563940e-04, 3.06366522e-04, 3.35344435e-04, 7.16325944e-04,\n",
       "       6.60748994e-04, 3.09381515e-03, 2.02006273e-03, 6.97851485e-04,\n",
       "       1.03522697e-03, 1.15697902e-03, 7.06155512e-04, 6.51456825e-04,\n",
       "       1.86561753e-04, 1.93800166e-04, 1.34774532e-04, 3.95446607e-05,\n",
       "       8.03054909e-05, 1.12255743e-05, 0.00000000e+00, 3.61188532e-06,\n",
       "       0.00000000e+00, 0.00000000e+00, 1.08114628e-05, 3.44019038e-06,\n",
       "       2.53107728e-05, 3.13759094e-05, 7.37894037e-05, 1.67887740e-04,\n",
       "       2.83165448e-04, 8.86685329e-04, 2.51300595e-03, 3.37950769e-03,\n",
       "       3.31639000e-03, 1.82482992e-03, 2.51594879e-03, 9.18963145e-03,\n",
       "       6.12975327e-03, 1.91696424e-03, 1.35030271e-03, 2.20428900e-03,\n",
       "       6.67348635e-04, 4.12283068e-04, 1.51023441e-03, 8.27058045e-04,\n",
       "       4.07270454e-05, 1.07284140e-05, 2.12739803e-05, 3.65850426e-06,\n",
       "       0.00000000e+00, 0.00000000e+00, 0.00000000e+00, 3.57752136e-05,\n",
       "       1.56246908e-05, 1.33893966e-04, 2.36087938e-04, 4.23849039e-04,\n",
       "       1.47448484e-03, 3.87879002e-03, 2.78894551e-03, 5.34400443e-03,\n",
       "       1.32102620e-03, 1.51564493e-03, 8.28402235e-03, 2.49375943e-03,\n",
       "       2.64012528e-03, 1.88216901e-03, 1.47892128e-03, 1.23435593e-03,\n",
       "       2.26362093e-03, 1.09687872e-03, 5.52557782e-04, 5.87561970e-04,\n",
       "       2.66888445e-04, 1.02501405e-04, 1.43397831e-05, 6.35157193e-06,\n",
       "       0.00000000e+00, 0.00000000e+00, 1.34775240e-05, 1.41846579e-05,\n",
       "       4.42764641e-05, 1.81866532e-04, 3.31438369e-04, 1.25100081e-03,\n",
       "       7.42090607e-04, 1.31438960e-03, 1.33712251e-03, 3.50349421e-03,\n",
       "       2.35773169e-03, 3.08669268e-03, 7.24024754e-03, 6.87892279e-03,\n",
       "       3.09824213e-03, 3.08114765e-03, 2.35211743e-03, 1.19232143e-03,\n",
       "       4.96864265e-03, 7.37410467e-04, 9.78646644e-04, 6.35370888e-04,\n",
       "       6.12319980e-04, 1.51951359e-04, 2.45343922e-05, 0.00000000e+00,\n",
       "       0.00000000e+00, 6.12273881e-06, 7.20448064e-06, 9.80803143e-06,\n",
       "       6.36422479e-05, 1.61688456e-04, 3.92578009e-04, 6.26343231e-04,\n",
       "       1.11993455e-03, 1.77417833e-03, 1.35549392e-03, 1.58024348e-03,\n",
       "       2.44486496e-03, 5.68491084e-03, 5.41968628e-03, 3.63227340e-03,\n",
       "       6.14708408e-03, 4.93805262e-03, 4.03371388e-03, 4.34660614e-03,\n",
       "       2.13983755e-03, 4.93498614e-03, 1.69936945e-03, 7.97133350e-04,\n",
       "       8.30950393e-04, 2.21487982e-04, 1.42184276e-05, 0.00000000e+00,\n",
       "       0.00000000e+00, 0.00000000e+00, 3.70494063e-06, 4.27544073e-05,\n",
       "       9.55190999e-05, 2.23106479e-04, 3.93565996e-04, 1.53184209e-03,\n",
       "       8.53615853e-04, 1.48815171e-03, 5.72322234e-03, 3.62614473e-03,\n",
       "       2.64362403e-03, 3.46384367e-03, 2.82876987e-03, 6.43620690e-03,\n",
       "       2.36299684e-03, 5.42363741e-03, 3.06139731e-03, 3.24875945e-03,\n",
       "       2.70327175e-03, 1.48199367e-03, 8.31126845e-04, 1.26436279e-03,\n",
       "       3.85197572e-04, 1.38553338e-04, 2.07713390e-05, 0.00000000e+00,\n",
       "       0.00000000e+00, 0.00000000e+00, 1.13571192e-05, 2.62429281e-05,\n",
       "       9.04909961e-05, 1.52825347e-04, 2.60241731e-04, 6.58489887e-04,\n",
       "       1.25548045e-03, 1.86257465e-03, 3.26664759e-03, 2.21004220e-03,\n",
       "       3.57365624e-03, 2.42871999e-03, 6.08640686e-03, 5.06479111e-03,\n",
       "       5.08353882e-03, 3.33195431e-03, 3.00375589e-03, 3.72822305e-03,\n",
       "       1.34438835e-03, 1.34058756e-03, 1.01379824e-03, 4.27673509e-04,\n",
       "       2.49789611e-04, 8.51320577e-05, 1.20051715e-05, 3.56423944e-06,\n",
       "       0.00000000e+00, 0.00000000e+00, 3.51004034e-06, 1.60927960e-05,\n",
       "       3.90358653e-05, 1.53218318e-04, 4.48833839e-04, 1.98742654e-03,\n",
       "       3.06195563e-03, 6.36757301e-03, 5.44156602e-03, 6.20546303e-03,\n",
       "       3.50661679e-03, 2.96664610e-03, 4.97983260e-03, 3.06064416e-03,\n",
       "       3.60009624e-03, 4.35332195e-03, 2.81883560e-03, 5.57474584e-03,\n",
       "       2.88091489e-03, 1.80631597e-03, 3.83807581e-03, 8.89098071e-04,\n",
       "       1.04175109e-04, 4.63605872e-05, 1.53579284e-05, 3.53820135e-06,\n",
       "       0.00000000e+00, 0.00000000e+00, 0.00000000e+00, 6.37463704e-06,\n",
       "       5.49203289e-05, 2.48578825e-04, 1.37825112e-03, 1.14166969e-03,\n",
       "       1.43400865e-03, 8.22290323e-03, 2.12734133e-03, 5.21998776e-03,\n",
       "       2.13868009e-03, 5.33081344e-03, 4.06110324e-03, 5.05156029e-03,\n",
       "       3.66902916e-03, 3.92633175e-03, 6.76935831e-03, 1.63835191e-03,\n",
       "       1.71772252e-03, 1.11091083e-03, 6.45273891e-04, 2.69445179e-03,\n",
       "       1.94299898e-04, 3.95306592e-05, 2.28540452e-05, 0.00000000e+00,\n",
       "       0.00000000e+00, 0.00000000e+00, 0.00000000e+00, 2.83367366e-05,\n",
       "       1.00532980e-04, 3.38489370e-04, 5.56349254e-04, 1.23753931e-03,\n",
       "       1.34158861e-03, 8.20855519e-03, 1.64690749e-03, 1.20521312e-02,\n",
       "       6.27741535e-03, 8.45813923e-03, 9.23899331e-03, 6.73205956e-03,\n",
       "       8.04977389e-03, 7.51283986e-03, 2.35211104e-03, 8.26087298e-04,\n",
       "       1.33810494e-03, 1.09347429e-03, 3.78051838e-04, 4.72958299e-04,\n",
       "       1.18209066e-04, 3.49902633e-06, 1.75770035e-05, 0.00000000e+00,\n",
       "       0.00000000e+00, 0.00000000e+00, 6.22270320e-06, 6.70265935e-06,\n",
       "       1.62540243e-04, 7.35088647e-04, 5.37507442e-04, 1.79300937e-03,\n",
       "       6.09441762e-03, 3.23964046e-03, 6.65231163e-03, 3.22379785e-03,\n",
       "       4.15424489e-03, 8.84373109e-03, 4.88801116e-03, 1.94935277e-03,\n",
       "       5.57141984e-03, 7.51234109e-03, 1.61899432e-03, 1.25221111e-03,\n",
       "       2.15027469e-03, 8.52394985e-04, 2.91885785e-03, 4.19572402e-04,\n",
       "       1.45838472e-04, 4.75874503e-05, 7.12525290e-06, 0.00000000e+00,\n",
       "       0.00000000e+00, 0.00000000e+00, 3.45807805e-06, 3.57967807e-05,\n",
       "       1.02283383e-04, 4.08022241e-04, 8.89752088e-04, 3.65888495e-03,\n",
       "       4.02189833e-03, 4.29710921e-03, 3.18992178e-03, 3.35613644e-03,\n",
       "       4.72374632e-03, 1.39319037e-02, 5.66944153e-03, 6.67196289e-03,\n",
       "       2.29915246e-03, 7.73619302e-03, 1.64139533e-03, 2.62015937e-03,\n",
       "       9.94491890e-04, 1.79753444e-03, 1.13520364e-03, 4.56101271e-04,\n",
       "       1.07162076e-04, 2.00222876e-05, 0.00000000e+00, 0.00000000e+00,\n",
       "       0.00000000e+00, 0.00000000e+00, 0.00000000e+00, 1.80946082e-05,\n",
       "       1.08905897e-04, 8.57197751e-04, 1.85047372e-03, 3.59026033e-03,\n",
       "       2.40101937e-03, 3.34714403e-03, 2.38930121e-03, 5.18212017e-03,\n",
       "       7.89183311e-03, 5.33729158e-03, 4.47439674e-03, 3.33649599e-03,\n",
       "       1.91277036e-03, 5.23362059e-03, 1.08167996e-03, 2.11020298e-03,\n",
       "       8.68204675e-04, 2.02205002e-03, 6.97356317e-04, 2.17122709e-04,\n",
       "       2.11102549e-04, 8.27836258e-05, 1.43846200e-05, 3.38827568e-06,\n",
       "       0.00000000e+00, 0.00000000e+00, 0.00000000e+00, 4.63991536e-05,\n",
       "       5.18756551e-05, 3.12751128e-04, 1.32717894e-03, 1.17361067e-03,\n",
       "       3.41950445e-03, 7.92940446e-03, 3.54809684e-03, 5.33607294e-03,\n",
       "       5.06948093e-03, 9.66388260e-03, 5.73437749e-03, 2.58814671e-03,\n",
       "       1.64305800e-03, 1.32516035e-03, 1.65876692e-03, 1.29560789e-03,\n",
       "       2.32927024e-03, 9.39909351e-04, 4.40554905e-04, 2.39283437e-04,\n",
       "       1.93070492e-04, 7.32884139e-05, 2.09456544e-05, 1.10169092e-05,\n",
       "       0.00000000e+00, 0.00000000e+00, 0.00000000e+00, 7.28656586e-05,\n",
       "       9.16393971e-05, 4.55832872e-04, 2.29320167e-03, 1.02950526e-03,\n",
       "       1.88863153e-03, 2.15642809e-03, 7.37102061e-03, 8.07078769e-03,\n",
       "       3.08490040e-03, 4.87625094e-03, 1.85035745e-03, 1.61207905e-03,\n",
       "       1.48774546e-03, 2.75819990e-03, 8.70577324e-04, 1.35205696e-03,\n",
       "       2.62725586e-03, 4.23730611e-04, 3.65217773e-04, 2.82202175e-04,\n",
       "       3.90178312e-04, 3.89833254e-05, 3.39536013e-06, 0.00000000e+00,\n",
       "       0.00000000e+00, 0.00000000e+00, 6.93924127e-06, 5.19173752e-05,\n",
       "       2.57223921e-04, 5.51306127e-04, 7.14591802e-04, 1.38738646e-03,\n",
       "       4.72018168e-03, 1.58953689e-03, 1.08879439e-02, 2.21565768e-03,\n",
       "       2.62331218e-03, 3.81009724e-03, 1.39573474e-03, 1.34159198e-03,\n",
       "       1.75774507e-03, 4.52770448e-03, 1.59521420e-03, 8.57882171e-04,\n",
       "       1.32975696e-03, 6.30642521e-04, 2.05140276e-03, 2.92208611e-04,\n",
       "       2.13894114e-04, 1.72169802e-05, 3.17597770e-06, 0.00000000e+00,\n",
       "       0.00000000e+00, 0.00000000e+00, 1.37256976e-05, 3.13686318e-05,\n",
       "       1.25676119e-04, 3.82302094e-04, 8.96578743e-04, 1.63913151e-03,\n",
       "       5.44116608e-03, 3.13426679e-03, 1.87599232e-03, 6.86284262e-03,\n",
       "       4.76846080e-03, 1.77079438e-03, 1.22263257e-03, 2.78288353e-03,\n",
       "       1.28473910e-03, 1.05887554e-03, 2.06998648e-03, 9.21996968e-04,\n",
       "       1.09596228e-03, 6.19226607e-04, 1.59214714e-03, 2.46935058e-04,\n",
       "       9.53796404e-05, 9.71976683e-06, 3.68028607e-06, 0.00000000e+00,\n",
       "       0.00000000e+00, 0.00000000e+00, 5.08098368e-06, 8.04331636e-05,\n",
       "       1.38304283e-04, 3.23575179e-04, 1.42128893e-03, 5.41059609e-03,\n",
       "       2.14456002e-03, 7.17832840e-03, 1.67972885e-03, 1.23929788e-03,\n",
       "       1.18085568e-03, 1.94522527e-03, 1.62476825e-03, 1.64055337e-03,\n",
       "       1.08814552e-03, 1.48037490e-03, 1.91661837e-03, 1.02904578e-03,\n",
       "       9.64998438e-04, 1.96683173e-04, 3.35764177e-04, 1.18456211e-04,\n",
       "       5.53362656e-05, 2.39711280e-05, 0.00000000e+00, 0.00000000e+00,\n",
       "       0.00000000e+00, 7.35368048e-06, 0.00000000e+00, 3.19959515e-05,\n",
       "       6.29264534e-05, 1.23491122e-03, 9.26386490e-04, 4.30263115e-03,\n",
       "       1.53347260e-03, 3.34939995e-03, 5.01567908e-03, 1.85118469e-03,\n",
       "       1.56471216e-03, 1.64776284e-03, 1.25056662e-03, 1.28987763e-03,\n",
       "       2.23698531e-03, 1.37709554e-03, 1.01055898e-03, 3.80723511e-04,\n",
       "       2.75464678e-04, 2.78134186e-04, 1.94399300e-04, 5.97985053e-05,\n",
       "       7.32341507e-06, 9.71487119e-06, 0.00000000e+00, 0.00000000e+00,\n",
       "       0.00000000e+00, 0.00000000e+00, 0.00000000e+00, 1.82618650e-05,\n",
       "       8.64241503e-05, 1.92803082e-04, 1.77000684e-04, 3.70382285e-04,\n",
       "       1.23037282e-03, 4.13363695e-03, 2.35842699e-03, 5.31959544e-03,\n",
       "       4.33632116e-03, 6.36500242e-03, 4.52221738e-03, 1.67722950e-03,\n",
       "       1.50797325e-03, 6.97064305e-04, 5.91346263e-04, 4.15416213e-04,\n",
       "       2.25300033e-04, 1.62511756e-04, 9.30981720e-05, 1.19181797e-05,\n",
       "       1.19059326e-05, 7.32491026e-06, 0.00000000e+00, 0.00000000e+00,\n",
       "       0.00000000e+00, 0.00000000e+00, 1.24064402e-05, 1.40011202e-05,\n",
       "       3.39839036e-05, 1.65590405e-04, 2.32657408e-04, 2.92614915e-04,\n",
       "       7.69276872e-04, 7.95607671e-04, 7.90841374e-04, 5.88153110e-03,\n",
       "       2.22323406e-03, 6.68536137e-04, 7.15353663e-04, 8.92657675e-04,\n",
       "       6.26607100e-04, 4.64915636e-04, 3.28041831e-04, 1.93909169e-04,\n",
       "       1.10585097e-04, 2.68493679e-05, 7.09785761e-05, 3.07320651e-05,\n",
       "       0.00000000e+00, 0.00000000e+00, 0.00000000e+00, 0.00000000e+00,\n",
       "       0.00000000e+00, 0.00000000e+00, 0.00000000e+00, 0.00000000e+00,\n",
       "       1.87924480e-05, 1.94929888e-05, 1.36757743e-04, 2.29151743e-04,\n",
       "       4.99193448e-04, 6.77139190e-04, 8.02122755e-04, 8.33961370e-04,\n",
       "       1.76541003e-03, 4.68583958e-04, 1.86958240e-03, 2.85318008e-04,\n",
       "       4.01612713e-04, 5.87634273e-04, 2.92258246e-04, 2.56112938e-04,\n",
       "       6.55747597e-05, 2.67333599e-05, 1.72811823e-05, 6.93492647e-06,\n",
       "       0.00000000e+00, 0.00000000e+00, 0.00000000e+00, 0.00000000e+00,\n",
       "       0.00000000e+00, 0.00000000e+00, 0.00000000e+00, 0.00000000e+00,\n",
       "       3.69651917e-06, 0.00000000e+00, 0.00000000e+00, 1.25754989e-05,\n",
       "       2.47020488e-06, 1.98491977e-04, 8.54174494e-05, 7.21117906e-05,\n",
       "       6.87666170e-05, 1.60223490e-04, 5.45112714e-05, 3.79809208e-04,\n",
       "       6.59498846e-05, 1.22429679e-04, 1.16477278e-04, 6.39160846e-05,\n",
       "       4.59679462e-05, 1.00391614e-05, 0.00000000e+00, 0.00000000e+00,\n",
       "       0.00000000e+00, 0.00000000e+00, 0.00000000e+00, 0.00000000e+00,\n",
       "       0.00000000e+00, 0.00000000e+00, 0.00000000e+00, 0.00000000e+00,\n",
       "       0.00000000e+00, 0.00000000e+00, 0.00000000e+00, 0.00000000e+00,\n",
       "       0.00000000e+00, 0.00000000e+00, 6.94121813e-06, 0.00000000e+00,\n",
       "       0.00000000e+00, 7.22710427e-06, 1.39391631e-05, 2.40813326e-06,\n",
       "       6.86090372e-06, 6.63545911e-06, 0.00000000e+00, 0.00000000e+00,\n",
       "       0.00000000e+00, 0.00000000e+00, 0.00000000e+00, 0.00000000e+00,\n",
       "       0.00000000e+00, 0.00000000e+00, 0.00000000e+00, 0.00000000e+00])"
      ]
     },
     "execution_count": 23,
     "metadata": {},
     "output_type": "execute_result"
    }
   ],
   "source": [
    "rf_clf.feature_importances_\n",
    "X=[0---------------------------784]\n",
    "#X=28x28"
   ]
  },
  {
   "cell_type": "markdown",
   "metadata": {},
   "source": [
    "The feature importances here represent the pixel's importance.\n",
    "\n",
    "Plot a digit highlighting the pixel's importnace: "
   ]
  },
  {
   "cell_type": "code",
   "execution_count": 24,
   "metadata": {},
   "outputs": [],
   "source": [
    "def plot_digit(data):\n",
    "    image = data.reshape(28, 28)\n",
    "    plt.imshow(image, cmap=matplotlib.cm.hot,\n",
    "              interpolation='nearest')\n",
    "    plt.axis('off')"
   ]
  },
  {
   "cell_type": "code",
   "execution_count": 25,
   "metadata": {},
   "outputs": [
    {
     "data": {
      "image/png": "[encoded data removed]",
      "text/plain": [
       "<Figure size 432x288 with 2 Axes>"
      ]
     },
     "metadata": {
      "needs_background": "light"
     },
     "output_type": "display_data"
    }
   ],
   "source": [
    "plot_digit(rf_clf.feature_importances_)\n",
    "\n",
    "cbar = plt.colorbar(ticks=[rf_clf.feature_importances_.min(), rf_clf.feature_importances_.max()])\n",
    "cbar.ax.set_yticklabels(['Not important', 'Very Important']);"
   ]
  },
  {
   "cell_type": "markdown",
   "metadata": {},
   "source": [
    "## Example: Random Forest for Classifying Digits"
   ]
  },
  {
   "cell_type": "markdown",
   "metadata": {},
   "source": [
    "Use Random Forest to classify hand-written digits data:"
   ]
  },
  {
   "cell_type": "code",
   "execution_count": 26,
   "metadata": {},
   "outputs": [
    {
     "data": {
      "text/plain": [
       "dict_keys(['data', 'target', 'target_names', 'images', 'DESCR'])"
      ]
     },
     "execution_count": 26,
     "metadata": {},
     "output_type": "execute_result"
    }
   ],
   "source": [
    "from sklearn.datasets import load_digits\n",
    "\n",
    "digits = load_digits()\n",
    "digits.keys()"
   ]
  },
  {
   "cell_type": "markdown",
   "metadata": {},
   "source": [
    "Visualize the first few data points:"
   ]
  },
  {
   "cell_type": "code",
   "execution_count": 32,
   "metadata": {},
   "outputs": [
    {
     "data": {
      "image/png": "[encoded data removed]",
      "text/plain": [
       "<Figure size 576x576 with 24 Axes>"
      ]
     },
     "metadata": {},
     "output_type": "display_data"
    }
   ],
   "source": [
    "# set up the figure\n",
    "fig = plt.figure(figsize=(8, 8))  # figure size in inches\n",
    "fig.subplots_adjust(left=0, right=1, bottom=0, top=1, hspace=0.05, wspace=0.05)\n",
    "\n",
    "# plot the digits: each image is 8x8 pixels\n",
    "for i in range(24):\n",
    "    ax = fig.add_subplot(3, 8, i + 1, xticks=[], yticks=[])\n",
    "    ax.imshow(digits.images[i], cmap=plt.cm.binary, interpolation='nearest')\n",
    "    \n",
    "    # label the image with the target value\n",
    "    ax.text(0, 7, str(digits.target[i]))"
   ]
  },
  {
   "cell_type": "markdown",
   "metadata": {},
   "source": [
    "Classify the digits:"
   ]
  },
  {
   "cell_type": "code",
   "execution_count": 28,
   "metadata": {},
   "outputs": [],
   "source": [
    "from sklearn.model_selection import train_test_split\n",
    "\n",
    "X_train, X_test, y_train, y_test = train_test_split(digits.data, digits.target,\n",
    "                                                   random_state=0)\n",
    "\n",
    "model = RandomForestClassifier(n_estimators=1000)\n",
    "model.fit(X_train, y_train)\n",
    "y_pred = model.predict(X_test)"
   ]
  },
  {
   "cell_type": "markdown",
   "metadata": {},
   "source": [
    "Here it is the classification report for this classifier:"
   ]
  },
  {
   "cell_type": "code",
   "execution_count": 29,
   "metadata": {
    "scrolled": true
   },
   "outputs": [
    {
     "name": "stdout",
     "output_type": "stream",
     "text": [
      "              precision    recall  f1-score   support\n",
      "\n",
      "           0       0.97      1.00      0.99        37\n",
      "           1       0.98      1.00      0.99        43\n",
      "           2       1.00      0.95      0.98        44\n",
      "           3       0.96      0.98      0.97        45\n",
      "           4       1.00      0.97      0.99        38\n",
      "           5       0.98      0.98      0.98        48\n",
      "           6       1.00      1.00      1.00        52\n",
      "           7       0.96      1.00      0.98        48\n",
      "           8       0.98      0.94      0.96        48\n",
      "           9       0.98      0.98      0.98        47\n",
      "\n",
      "    accuracy                           0.98       450\n",
      "   macro avg       0.98      0.98      0.98       450\n",
      "weighted avg       0.98      0.98      0.98       450\n",
      "\n"
     ]
    }
   ],
   "source": [
    "from sklearn import metrics\n",
    "\n",
    "print(metrics.classification_report(y_test, y_pred))"
   ]
  },
  {
   "cell_type": "markdown",
   "metadata": {},
   "source": [
    "Plot the confusion matrix:"
   ]
  },
  {
   "cell_type": "code",
   "execution_count": 30,
   "metadata": {},
   "outputs": [
    {
     "data": {
      "image/png": "[encoded data removed]",
      "text/plain": [
       "<Figure size 432x288 with 2 Axes>"
      ]
     },
     "metadata": {},
     "output_type": "display_data"
    }
   ],
   "source": [
    "from sklearn.metrics import confusion_matrix\n",
    "import seaborn as sns; sns.set()\n",
    "\n",
    "matrix = confusion_matrix(y_test, y_pred)\n",
    "sns.heatmap(matrix.T, annot=True, fmt='d', square=True, cbar=True)\n",
    "plt.xlabel('True Label')\n",
    "plt.ylabel('Predicted Label');"
   ]
  },
  {
   "cell_type": "code",
   "execution_count": null,
   "metadata": {},
   "outputs": [],
   "source": []
  }
 ],
 "metadata": {
  "kernelspec": {
   "display_name": "Python 3",
   "language": "python",
   "name": "python3"
  },
  "language_info": {
   "codemirror_mode": {
    "name": "ipython",
    "version": 3
   },
   "file_extension": ".py",
   "mimetype": "text/x-python",
   "name": "python",
   "nbconvert_exporter": "python",
   "pygments_lexer": "ipython3",
   "version": "3.7.9"
  }
 },
 "nbformat": 4,
 "nbformat_minor": 2
}
