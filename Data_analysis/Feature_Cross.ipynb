{
 "cells": [
  {
   "cell_type": "code",
   "execution_count": 1,
   "metadata": {
    "cellView": "form",
    "id": "wDlWLbfkJtvu"
   },
   "outputs": [],
   "source": [
    "#@title Copyright 2020 Google LLC. Double-click for license information.\n",
    "# Licensed under the Apache License, Version 2.0 (the \"License\");\n",
    "# you may not use this file except in compliance with the License.\n",
    "# You may obtain a copy of the License at\n",
    "#\n",
    "# https://www.apache.org/licenses/LICENSE-2.0\n",
    "#\n",
    "# Unless required by applicable law or agreed to in writing, software\n",
    "# distributed under the License is distributed on an \"AS IS\" BASIS,\n",
    "# WITHOUT WARRANTIES OR CONDITIONS OF ANY KIND, either express or implied.\n",
    "# See the License for the specific language governing permissions and\n",
    "# limitations under the License."
   ]
  },
  {
   "cell_type": "markdown",
   "metadata": {
    "id": "TL5y5fY9Jy_x"
   },
   "source": [
    "# Representation with a Feature Cross\n",
    "\n",
    "In this exercise, you'll experiment with different ways to represent features."
   ]
  },
  {
   "cell_type": "markdown",
   "metadata": {
    "id": "RXWoPIezkzgI"
   },
   "source": [
    "## Learning Objectives:\n",
    "\n",
    "After doing this Colab, you'll know how to:\n",
    "\n",
    "  * Use [`tf.feature_column`](https://www.tensorflow.org/api_docs/python/tf/feature_column) methods to represent features in different ways.\n",
    "  * Represent features as [bins](https://developers.google.com/machine-learning/glossary/#bucketing). \n",
    "  * Cross bins to create a [feature cross](https://developers.google.com/machine-learning/glossary/#feature_cross). "
   ]
  },
  {
   "cell_type": "markdown",
   "metadata": {
    "id": "lH_g3Hsfkzzb"
   },
   "source": [
    "## The Dataset\n",
    "  \n",
    "Like several of the previous Colabs, this exercise uses the [California Housing Dataset](https://developers.google.com/machine-learning/crash-course/california-housing-data-description)."
   ]
  },
  {
   "cell_type": "markdown",
   "metadata": {
    "id": "xchnxAsaKKqO"
   },
   "source": [
    "## Use the right version of TensorFlow\n",
    "\n"
   ]
  },
  {
   "cell_type": "code",
   "execution_count": null,
   "metadata": {
    "id": "qBpGi_GD14-p"
   },
   "outputs": [],
   "source": []
  },
  {
   "cell_type": "markdown",
   "metadata": {
    "id": "5iuw6-JOGf7I"
   },
   "source": [
    "## Call the import statements\n",
    "\n",
    "The following code imports the necessary code to run the code in the rest of this Colaboratory."
   ]
  },
  {
   "cell_type": "code",
   "execution_count": 2,
   "metadata": {},
   "outputs": [],
   "source": [
    "#@title Load the imports\n",
    "\n",
    "# from __future__ import absolute_import, division, print_function, unicode_literals\n",
    "\n",
    "import numpy as np\n",
    "import pandas as pd\n",
    "import tensorflow as tf\n",
    "from tensorflow import feature_column\n",
    "from tensorflow.keras import layers\n",
    "from matplotlib import pyplot as plt"
   ]
  },
  {
   "cell_type": "code",
   "execution_count": 3,
   "metadata": {
    "cellView": "form",
    "id": "9n9_cTveKmse"
   },
   "outputs": [
    {
     "name": "stdout",
     "output_type": "stream",
     "text": [
      "Imported the modules.\n"
     ]
    }
   ],
   "source": [
    "# The following lines adjust the granularity of reporting.\n",
    "pd.options.display.max_rows = 10\n",
    "pd.options.display.float_format = \"{:.1f}\".format\n",
    "\n",
    "tf.keras.backend.set_floatx('float32')\n",
    "\n",
    "print(\"Imported the modules.\")"
   ]
  },
  {
   "cell_type": "markdown",
   "metadata": {
    "id": "X_TaJhU4KcuY"
   },
   "source": [
    "## Load, scale, and shuffle the examples\n",
    "\n",
    "The following code cell loads the separate .csv files and creates the following two pandas DataFrames:\n",
    "\n",
    "* `train_df`, which contains the training set\n",
    "* `test_df`, which contains the test set\n",
    "\n",
    "The code cell then scales the `median_house_value` to a more human-friendly range and then suffles the examples."
   ]
  },
  {
   "cell_type": "code",
   "execution_count": 17,
   "metadata": {
    "id": "JZlvdpyYKx7V"
   },
   "outputs": [],
   "source": [
    "# Load the dataset\n",
    "train_df = pd.read_csv(\"https://download.mlcc.google.com/mledu-datasets/california_housing_train.csv\")\n",
    "test_df = pd.read_csv(\"https://download.mlcc.google.com/mledu-datasets/california_housing_test.csv\")\n",
    "\n",
    "# Scale the labels\n",
    "scale_factor = 1000.0\n",
    "# Scale the training set's label.\n",
    "train_df[\"median_house_value\"] /= scale_factor \n",
    "\n",
    "# Scale the test set's label\n",
    "test_df[\"median_house_value\"] /= scale_factor\n",
    "\n",
    "# Shuffle the examples\n",
    "train_df = train_df.reindex(np.random.permutation(train_df.index))"
   ]
  },
  {
   "cell_type": "markdown",
   "metadata": {
    "id": "8kir8UTUXSV8"
   },
   "source": [
    "## Represent latitude and longitude as floating-point values\n",
    "\n",
    "Previous Colabs trained on only a single feature or a single synthetic feature. By contrast, this exercise trains on two features. Furthermore, this Colab introduces **feature columns**, which provide a sophisticated way to represent features.  \n",
    "\n",
    "You create feature columns as possible:\n",
    "\n",
    "  * Call a [`tf.feature_column`](https://www.tensorflow.org/api_docs/python/tf/feature_column) method to represent a single feature, single feature cross, or single synthetic feature in the desired way.  For example, to represent a certain feature as floating-point values, call [`tf.feature_column.numeric_column`](https://www.tensorflow.org/api_docs/python/tf/feature_column/numeric_column). To represent a certain feature as a series of buckets or bins, call [`tf.feature_column.bucketized_column`](https://www.tensorflow.org/api_docs/python/tf/feature_column/bucketized_column).\n",
    "  * Assemble the created representations into a Python list. \n",
    "\n",
    "A neighborhood's location is typically the most important feature in determining a house's value. The California Housing dataset provides two features, `latitude` and `longitude` that identify each neighborhood's location. \n",
    "\n",
    "The following code cell calls [`tf.feature_column.numeric_column`](https://www.tensorflow.org/api_docs/python/tf/feature_column/numeric_column) twice, first to represent `latitude` as floating-point value and a second time to represent `longitude` as floating-point values. \n",
    "\n",
    "This code cell specifies the features that you'll ultimately train the model on and how each of those features will be represented. The transformations (collected in `fp_feature_layer`) don't actually get applied until you pass a DataFrame to it, which will happen when we train the model. \n"
   ]
  },
  {
   "cell_type": "code",
   "execution_count": 19,
   "metadata": {},
   "outputs": [
    {
     "data": {
      "text/plain": [
       "1651    -117.2\n",
       "7223    -118.3\n",
       "6053    -118.2\n",
       "3221    -117.8\n",
       "2471    -117.6\n",
       "         ...  \n",
       "5473    -118.2\n",
       "14115   -122.1\n",
       "3894    -118.0\n",
       "604     -117.0\n",
       "13484   -122.0\n",
       "Name: longitude, Length: 17000, dtype: float64"
      ]
     },
     "execution_count": 19,
     "metadata": {},
     "output_type": "execute_result"
    }
   ],
   "source": [
    "train_df[\"longitude\"]"
   ]
  },
  {
   "cell_type": "code",
   "execution_count": 20,
   "metadata": {
    "id": "3tmmZIDw4JEC"
   },
   "outputs": [],
   "source": [
    "# Create an empty list that will eventually hold all feature columns.\n",
    "feature_columns = []\n",
    "\n",
    "# Create a numerical feature column to represent latitude.\n",
    "latitude = tf.feature_column.numeric_column(\"latitude\")\n",
    "feature_columns.append(latitude)\n",
    "\n",
    "# Create a numerical feature column to represent longitude.\n",
    "longitude = tf.feature_column.numeric_column(\"longitude\")\n",
    "feature_columns.append(longitude)\n",
    "\n",
    "# Convert the list of feature columns into a layer that will ultimately become\n",
    "# part of the model. Understanding layers is not important right now.\n",
    "fp_feature_layer = layers.DenseFeatures(feature_columns)"
   ]
  },
  {
   "cell_type": "code",
   "execution_count": 22,
   "metadata": {},
   "outputs": [
    {
     "data": {
      "text/plain": [
       "[NumericColumn(key='latitude', shape=(1,), default_value=None, dtype=tf.float32, normalizer_fn=None),\n",
       " NumericColumn(key='longitude', shape=(1,), default_value=None, dtype=tf.float32, normalizer_fn=None)]"
      ]
     },
     "execution_count": 22,
     "metadata": {},
     "output_type": "execute_result"
    }
   ],
   "source": [
    "feature_columns"
   ]
  },
  {
   "cell_type": "code",
   "execution_count": 23,
   "metadata": {},
   "outputs": [
    {
     "data": {
      "text/plain": [
       "<tensorflow.python.feature_column.feature_column_v2.DenseFeatures at 0x1cd25c09e08>"
      ]
     },
     "execution_count": 23,
     "metadata": {},
     "output_type": "execute_result"
    }
   ],
   "source": [
    "fp_feature_layer"
   ]
  },
  {
   "cell_type": "markdown",
   "metadata": {
    "id": "Q2x8sHKnAy3Q"
   },
   "source": [
    "When used, the layer processes the raw inputs, according to the transformations described by the feature columns, and packs the result into a numeric array.  (The model will train on this numeric array.) "
   ]
  },
  {
   "cell_type": "markdown",
   "metadata": {
    "id": "3014ezH3C7jT"
   },
   "source": [
    "## Define functions that create and train a model, and a plotting function\n",
    "\n",
    "The following code defines three functions:\n",
    "\n",
    "  * `create_model`, which tells TensorFlow to build a linear regression model and to use the `feature_layer_as_fp` as the representation of the model's features.\n",
    "  * `train_model`, which will ultimately train the model from training set examples.\n",
    "  * `plot_the_loss_curve`, which generates a loss curve."
   ]
  },
  {
   "cell_type": "code",
   "execution_count": 26,
   "metadata": {
    "cellView": "form",
    "id": "pedD5GhlDC-y"
   },
   "outputs": [],
   "source": [
    "#@title Define functions to create and train a model, and a plotting function\n",
    "def create_model(my_learning_rate, feature_layer):\n",
    "  \"\"\"Create and compile a simple linear regression model.\"\"\"\n",
    "  # Most simple tf.keras models are sequential.\n",
    "  model = tf.keras.models.Sequential()\n",
    "\n",
    "  # Add the layer containing the feature columns to the model.\n",
    "  model.add(feature_layer)\n",
    "\n",
    "  # Add one linear layer to the model to yield a simple linear regressor.\n",
    "  model.add(tf.keras.layers.Dense(units=1, input_shape=(1,)))\n",
    "\n",
    "  # Construct the layers into a model that TensorFlow can execute.\n",
    "  model.compile(optimizer=tf.keras.optimizers.RMSprop(lr=my_learning_rate),\n",
    "                loss=\"mean_squared_error\",\n",
    "                metrics=[tf.keras.metrics.RootMeanSquaredError()])\n",
    "\n",
    "  return model           "
   ]
  },
  {
   "cell_type": "code",
   "execution_count": 27,
   "metadata": {},
   "outputs": [],
   "source": [
    "def train_model(model, dataset, epochs, batch_size, label_name):\n",
    "  \"\"\"Feed a dataset into the model in order to train it.\"\"\"\n",
    "\n",
    "  features = {name:np.array(value) for name, value in dataset.items()}\n",
    "  label = np.array(features.pop(label_name))\n",
    "  history = model.fit(x=features, y=label, batch_size=batch_size,\n",
    "                      epochs=epochs, shuffle=True)\n",
    "\n",
    "  # The list of epochs is stored separately from the rest of history.\n",
    "  epochs = history.epoch\n",
    "  \n",
    "  # Isolate the mean absolute error for each epoch.\n",
    "  hist = pd.DataFrame(history.history)\n",
    "  rmse = hist[\"root_mean_squared_error\"]\n",
    "\n",
    "  return epochs, rmse   "
   ]
  },
  {
   "cell_type": "code",
   "execution_count": 28,
   "metadata": {},
   "outputs": [],
   "source": [
    "def plot_the_loss_curve(epochs, rmse):\n",
    "  \"\"\"Plot a curve of loss vs. epoch.\"\"\"\n",
    "\n",
    "  plt.figure()\n",
    "  plt.xlabel(\"Epoch\")\n",
    "  plt.ylabel(\"Root Mean Squared Error\")\n",
    "\n",
    "  plt.plot(epochs, rmse, label=\"Loss\")\n",
    "  plt.legend()\n",
    "  plt.ylim([rmse.min()*0.94, rmse.max()* 1.05])\n",
    "  plt.show()  "
   ]
  },
  {
   "cell_type": "markdown",
   "metadata": {
    "id": "D-IXYVfvM4gD"
   },
   "source": [
    "## Train the model with floating-point representations\n",
    "\n",
    "The following code cell calls the functions you just created to train, plot, and evaluate a model."
   ]
  },
  {
   "cell_type": "code",
   "execution_count": null,
   "metadata": {},
   "outputs": [],
   "source": []
  },
  {
   "cell_type": "code",
   "execution_count": 6,
   "metadata": {
    "cellView": "both",
    "id": "nj3v5EKQFY8s"
   },
   "outputs": [
    {
     "name": "stdout",
     "output_type": "stream",
     "text": [
      "WARNING:tensorflow:From C:\\Users\\sltm-14\\Anaconda3\\envs\\MLenv\\lib\\site-packages\\tensorflow\\python\\ops\\init_ops.py:1251: calling VarianceScaling.__init__ (from tensorflow.python.ops.init_ops) with dtype is deprecated and will be removed in a future version.\n",
      "Instructions for updating:\n",
      "Call initializer instance with the dtype argument instead of passing it to the constructor\n",
      "WARNING:tensorflow:Entity <bound method DenseFeatures.call of <tensorflow.python.feature_column.feature_column_v2.DenseFeatures object at 0x000001CD20E18288>> could not be transformed and will be executed as-is. Please report this to the AutgoGraph team. When filing the bug, set the verbosity to 10 (on Linux, `export AUTOGRAPH_VERBOSITY=10`) and attach the full output. Cause: converting <bound method DenseFeatures.call of <tensorflow.python.feature_column.feature_column_v2.DenseFeatures object at 0x000001CD20E18288>>: AttributeError: module 'gast' has no attribute 'Index'\n",
      "WARNING: Entity <bound method DenseFeatures.call of <tensorflow.python.feature_column.feature_column_v2.DenseFeatures object at 0x000001CD20E18288>> could not be transformed and will be executed as-is. Please report this to the AutgoGraph team. When filing the bug, set the verbosity to 10 (on Linux, `export AUTOGRAPH_VERBOSITY=10`) and attach the full output. Cause: converting <bound method DenseFeatures.call of <tensorflow.python.feature_column.feature_column_v2.DenseFeatures object at 0x000001CD20E18288>>: AttributeError: module 'gast' has no attribute 'Index'\n",
      "Epoch 1/30\n",
      "17000/17000 [==============================] - 0s 10us/sample - loss: 19343.5837 - root_mean_squared_error: 139.0812\n",
      "Epoch 2/30\n",
      "17000/17000 [==============================] - 0s 6us/sample - loss: 13534.8725 - root_mean_squared_error: 116.3395\n",
      "Epoch 3/30\n",
      "17000/17000 [==============================] - 0s 6us/sample - loss: 13465.9440 - root_mean_squared_error: 116.0429\n",
      "Epoch 4/30\n",
      "17000/17000 [==============================] - 0s 6us/sample - loss: 13432.9133 - root_mean_squared_error: 115.9004\n",
      "Epoch 5/30\n",
      "17000/17000 [==============================] - 0s 6us/sample - loss: 13386.3699 - root_mean_squared_error: 115.6995\n",
      "Epoch 6/30\n",
      "17000/17000 [==============================] - 0s 6us/sample - loss: 13348.1583 - root_mean_squared_error: 115.5342\n",
      "Epoch 7/30\n",
      "17000/17000 [==============================] - 0s 6us/sample - loss: 13298.1318 - root_mean_squared_error: 115.3175\n",
      "Epoch 8/30\n",
      "17000/17000 [==============================] - 0s 6us/sample - loss: 13270.9995 - root_mean_squared_error: 115.1998\n",
      "Epoch 9/30\n",
      "17000/17000 [==============================] - 0s 6us/sample - loss: 13233.3322 - root_mean_squared_error: 115.0362\n",
      "Epoch 10/30\n",
      "17000/17000 [==============================] - 0s 6us/sample - loss: 13183.5934 - root_mean_squared_error: 114.8198\n",
      "Epoch 11/30\n",
      "17000/17000 [==============================] - 0s 6us/sample - loss: 13171.0193 - root_mean_squared_error: 114.7651\n",
      "Epoch 12/30\n",
      "17000/17000 [==============================] - 0s 6us/sample - loss: 13127.0351 - root_mean_squared_error: 114.5733\n",
      "Epoch 13/30\n",
      "17000/17000 [==============================] - 0s 5us/sample - loss: 13104.0178 - root_mean_squared_error: 114.4728\n",
      "Epoch 14/30\n",
      "17000/17000 [==============================] - 0s 5us/sample - loss: 13098.4007 - root_mean_squared_error: 114.4482\n",
      "Epoch 15/30\n",
      "17000/17000 [==============================] - 0s 6us/sample - loss: 13060.4984 - root_mean_squared_error: 114.2825\n",
      "Epoch 16/30\n",
      "17000/17000 [==============================] - 0s 6us/sample - loss: 13044.4119 - root_mean_squared_error: 114.2121\n",
      "Epoch 17/30\n",
      "17000/17000 [==============================] - 0s 5us/sample - loss: 13004.0007 - root_mean_squared_error: 114.0351\n",
      "Epoch 18/30\n",
      "17000/17000 [==============================] - 0s 6us/sample - loss: 13003.5612 - root_mean_squared_error: 114.0331\n",
      "Epoch 19/30\n",
      "17000/17000 [==============================] - 0s 6us/sample - loss: 12983.2072 - root_mean_squared_error: 113.9439\n",
      "Epoch 20/30\n",
      "17000/17000 [==============================] - 0s 6us/sample - loss: 12952.7670 - root_mean_squared_error: 113.8102\n",
      "Epoch 21/30\n",
      "17000/17000 [==============================] - 0s 6us/sample - loss: 12945.2114 - root_mean_squared_error: 113.7770\n",
      "Epoch 22/30\n",
      "17000/17000 [==============================] - 0s 6us/sample - loss: 12928.1068 - root_mean_squared_error: 113.7018\n",
      "Epoch 23/30\n",
      "17000/17000 [==============================] - 0s 6us/sample - loss: 12913.5234 - root_mean_squared_error: 113.6377\n",
      "Epoch 24/30\n",
      "17000/17000 [==============================] - 0s 6us/sample - loss: 12897.4534 - root_mean_squared_error: 113.5670\n",
      "Epoch 25/30\n",
      "17000/17000 [==============================] - 0s 6us/sample - loss: 12887.4056 - root_mean_squared_error: 113.5227\n",
      "Epoch 26/30\n",
      "17000/17000 [==============================] - 0s 6us/sample - loss: 12883.8424 - root_mean_squared_error: 113.5070\n",
      "Epoch 27/30\n",
      "17000/17000 [==============================] - 0s 6us/sample - loss: 12870.9060 - root_mean_squared_error: 113.4500\n",
      "Epoch 28/30\n",
      "17000/17000 [==============================] - 0s 6us/sample - loss: 12867.1729 - root_mean_squared_error: 113.4335\n",
      "Epoch 29/30\n",
      "17000/17000 [==============================] - 0s 6us/sample - loss: 12849.3114 - root_mean_squared_error: 113.3548\n",
      "Epoch 30/30\n",
      "17000/17000 [==============================] - 0s 6us/sample - loss: 12852.3616 - root_mean_squared_error: 113.3682\n"
     ]
    },
    {
     "data": {
      "image/png": "[encoded data removed]",
      "text/plain": [
       "<Figure size 432x288 with 1 Axes>"
      ]
     },
     "metadata": {
      "needs_background": "light"
     },
     "output_type": "display_data"
    },
    {
     "name": "stdout",
     "output_type": "stream",
     "text": [
      "\n",
      ": Evaluate the new model against the test set:\n",
      "3000/3000 [==============================] - 0s 9us/sample - loss: 12256.8752 - root_mean_squared_error: 110.7108\n"
     ]
    },
    {
     "data": {
      "text/plain": [
       "[12256.8751953125, 110.71078]"
      ]
     },
     "execution_count": 6,
     "metadata": {},
     "output_type": "execute_result"
    }
   ],
   "source": [
    "# The following variables are the hyperparameters.\n",
    "learning_rate = 0.05\n",
    "epochs = 30\n",
    "batch_size = 100\n",
    "label_name = 'median_house_value'\n",
    "\n",
    "# Create and compile the model's topography.\n",
    "my_model = create_model(learning_rate, fp_feature_layer)\n",
    "\n",
    "# Train the model on the training set.\n",
    "epochs, rmse = train_model(my_model, train_df, epochs, batch_size, label_name)\n",
    "\n",
    "plot_the_loss_curve(epochs, rmse)\n",
    "\n",
    "print(\"\\n: Evaluate the new model against the test set:\")\n",
    "test_features = {name:np.array(value) for name, value in test_df.items()}\n",
    "test_label = np.array(test_features.pop(label_name))\n",
    "my_model.evaluate(x=test_features, y=test_label, batch_size=batch_size)"
   ]
  },
  {
   "cell_type": "markdown",
   "metadata": {
    "id": "dbyWNS6T2fIT"
   },
   "source": [
    "## Task 1: Why aren't floating-point values a good way to represent latitude and longitude?\n",
    "\n",
    "Are floating-point values a good way to represent `latitude` and `longitude`? "
   ]
  },
  {
   "cell_type": "code",
   "execution_count": 7,
   "metadata": {
    "cellView": "form",
    "id": "VJLDCu5M2hXX"
   },
   "outputs": [],
   "source": [
    "#@title Double-click to view an answer to Task 1.\n",
    "\n",
    "# No. Representing latitude and longitude as \n",
    "# floating-point values does not have much \n",
    "# predictive power. For example, neighborhoods at \n",
    "# latitude 35 are not 36/35 more valuable \n",
    "# (or 35/36 less valuable) than houses at \n",
    "# latitude 36.\n",
    "\n",
    "# Representing `latitude` and `longitude` as \n",
    "# floating-point values provides almost no \n",
    "# predictive power. We're only using the raw values \n",
    "# to establish a baseline for future experiments \n",
    "# with better representations."
   ]
  },
  {
   "cell_type": "markdown",
   "metadata": {
    "id": "Na8TPoPYx-0k"
   },
   "source": [
    "## Represent latitude and longitude in buckets\n",
    "\n",
    "The following code cell represents latitude and longitude in buckets (bins). Each bin represents all the neighborhoods within a single degree. For example,\n",
    "neighborhoods at latitude 35.4 and 35.8 are in the same bucket, but neighborhoods in latitude 35.4 and 36.2 are in different buckets. \n",
    "\n",
    "The model will learn a separate weight for each bucket. For example, the model will learn one weight for all the neighborhoods in the \"35\" bin\", a different weight for neighborhoods in the \"36\" bin, and so on. This representation will create approximately 20 buckets:\n",
    " \n",
    "  * 10 buckets for `latitude`. \n",
    "  * 10 buckets for `longitude`. "
   ]
  },
  {
   "cell_type": "code",
   "execution_count": 8,
   "metadata": {
    "id": "WLTUFiaUyIpx"
   },
   "outputs": [],
   "source": [
    "resolution_in_degrees = 1.0 \n",
    "\n",
    "# Create a new empty list that will eventually hold the generated feature column.\n",
    "feature_columns = []\n",
    "\n",
    "# Create a bucket feature column for latitude.\n",
    "latitude_as_a_numeric_column = tf.feature_column.numeric_column(\"latitude\")\n",
    "latitude_boundaries = list(np.arange(int(min(train_df['latitude'])), \n",
    "                                     int(max(train_df['latitude'])), \n",
    "                                     resolution_in_degrees))\n",
    "latitude = tf.feature_column.bucketized_column(latitude_as_a_numeric_column, \n",
    "                                               latitude_boundaries)\n",
    "feature_columns.append(latitude)\n",
    "\n",
    "# Create a bucket feature column for longitude.\n",
    "longitude_as_a_numeric_column = tf.feature_column.numeric_column(\"longitude\")\n",
    "longitude_boundaries = list(np.arange(int(min(train_df['longitude'])), \n",
    "                                      int(max(train_df['longitude'])), \n",
    "                                      resolution_in_degrees))\n",
    "longitude = tf.feature_column.bucketized_column(longitude_as_a_numeric_column, \n",
    "                                                longitude_boundaries)\n",
    "feature_columns.append(longitude)\n",
    "\n",
    "# Convert the list of feature columns into a layer that will ultimately become\n",
    "# part of the model. Understanding layers is not important right now.\n",
    "buckets_feature_layer = layers.DenseFeatures(feature_columns)"
   ]
  },
  {
   "cell_type": "markdown",
   "metadata": {
    "id": "aZsFzoPQ4pFm"
   },
   "source": [
    "## Train the model with bucket representations\n",
    "\n",
    "Run the following code cell to train the model with bucket representations rather than floating-point representations:"
   ]
  },
  {
   "cell_type": "code",
   "execution_count": 9,
   "metadata": {
    "id": "UnDrghxBzLvD"
   },
   "outputs": [
    {
     "name": "stdout",
     "output_type": "stream",
     "text": [
      "WARNING:tensorflow:Entity <bound method DenseFeatures.call of <tensorflow.python.feature_column.feature_column_v2.DenseFeatures object at 0x000001CD244F7B88>> could not be transformed and will be executed as-is. Please report this to the AutgoGraph team. When filing the bug, set the verbosity to 10 (on Linux, `export AUTOGRAPH_VERBOSITY=10`) and attach the full output. Cause: converting <bound method DenseFeatures.call of <tensorflow.python.feature_column.feature_column_v2.DenseFeatures object at 0x000001CD244F7B88>>: AttributeError: module 'gast' has no attribute 'Index'\n",
      "WARNING: Entity <bound method DenseFeatures.call of <tensorflow.python.feature_column.feature_column_v2.DenseFeatures object at 0x000001CD244F7B88>> could not be transformed and will be executed as-is. Please report this to the AutgoGraph team. When filing the bug, set the verbosity to 10 (on Linux, `export AUTOGRAPH_VERBOSITY=10`) and attach the full output. Cause: converting <bound method DenseFeatures.call of <tensorflow.python.feature_column.feature_column_v2.DenseFeatures object at 0x000001CD244F7B88>>: AttributeError: module 'gast' has no attribute 'Index'\n",
      "Epoch 1/35\n",
      "17000/17000 [==============================] - 0s 8us/sample - loss: 52084.3893 - root_mean_squared_error: 228.2201\n",
      "Epoch 2/35\n",
      "17000/17000 [==============================] - 0s 6us/sample - loss: 44721.1443 - root_mean_squared_error: 211.4737\n",
      "Epoch 3/35\n",
      "17000/17000 [==============================] - 0s 6us/sample - loss: 38119.9186 - root_mean_squared_error: 195.2432\n",
      "Epoch 4/35\n",
      "17000/17000 [==============================] - 0s 6us/sample - loss: 32300.5204 - root_mean_squared_error: 179.7235\n",
      "Epoch 5/35\n",
      "17000/17000 [==============================] - 0s 6us/sample - loss: 27288.8086 - root_mean_squared_error: 165.1933\n",
      "Epoch 6/35\n",
      "17000/17000 [==============================] - 0s 6us/sample - loss: 23025.9461 - root_mean_squared_error: 151.7431\n",
      "Epoch 7/35\n",
      "17000/17000 [==============================] - 0s 6us/sample - loss: 19497.3952 - root_mean_squared_error: 139.6331\n",
      "Epoch 8/35\n",
      "17000/17000 [==============================] - 0s 6us/sample - loss: 16702.1434 - root_mean_squared_error: 129.2368\n",
      "Epoch 9/35\n",
      "17000/17000 [==============================] - 0s 6us/sample - loss: 14564.3735 - root_mean_squared_error: 120.6829\n",
      "Epoch 10/35\n",
      "17000/17000 [==============================] - 0s 6us/sample - loss: 13016.8904 - root_mean_squared_error: 114.0916\n",
      "Epoch 11/35\n",
      "17000/17000 [==============================] - 0s 6us/sample - loss: 11983.5253 - root_mean_squared_error: 109.4693\n",
      "Epoch 12/35\n",
      "17000/17000 [==============================] - 0s 6us/sample - loss: 11336.5336 - root_mean_squared_error: 106.4732\n",
      "Epoch 13/35\n",
      "17000/17000 [==============================] - 0s 6us/sample - loss: 10994.8495 - root_mean_squared_error: 104.8563\n",
      "Epoch 14/35\n",
      "17000/17000 [==============================] - 0s 6us/sample - loss: 10802.9593 - root_mean_squared_error: 103.9373\n",
      "Epoch 15/35\n",
      "17000/17000 [==============================] - 0s 6us/sample - loss: 10681.9945 - root_mean_squared_error: 103.3537\n",
      "Epoch 16/35\n",
      "17000/17000 [==============================] - 0s 6us/sample - loss: 10603.4445 - root_mean_squared_error: 102.9731\n",
      "Epoch 17/35\n",
      "17000/17000 [==============================] - 0s 6us/sample - loss: 10553.3984 - root_mean_squared_error: 102.7297\n",
      "Epoch 18/35\n",
      "17000/17000 [==============================] - 0s 6us/sample - loss: 10519.8851 - root_mean_squared_error: 102.5665\n",
      "Epoch 19/35\n",
      "17000/17000 [==============================] - 0s 6us/sample - loss: 10495.7168 - root_mean_squared_error: 102.4486\n",
      "Epoch 20/35\n",
      "17000/17000 [==============================] - 0s 6us/sample - loss: 10477.1719 - root_mean_squared_error: 102.3581\n",
      "Epoch 21/35\n",
      "17000/17000 [==============================] - 0s 6us/sample - loss: 10462.3319 - root_mean_squared_error: 102.2855\n",
      "Epoch 22/35\n",
      "17000/17000 [==============================] - 0s 7us/sample - loss: 10449.0925 - root_mean_squared_error: 102.2208\n",
      "Epoch 23/35\n",
      "17000/17000 [==============================] - 0s 6us/sample - loss: 10437.7897 - root_mean_squared_error: 102.1655\n",
      "Epoch 24/35\n",
      "17000/17000 [==============================] - 0s 6us/sample - loss: 10427.2893 - root_mean_squared_error: 102.1141\n",
      "Epoch 25/35\n",
      "17000/17000 [==============================] - 0s 7us/sample - loss: 10417.5290 - root_mean_squared_error: 102.0663\n",
      "Epoch 26/35\n",
      "17000/17000 [==============================] - 0s 6us/sample - loss: 10408.3726 - root_mean_squared_error: 102.0214\n",
      "Epoch 27/35\n",
      "17000/17000 [==============================] - 0s 6us/sample - loss: 10399.2008 - root_mean_squared_error: 101.9765\n",
      "Epoch 28/35\n",
      "17000/17000 [==============================] - 0s 6us/sample - loss: 10391.0892 - root_mean_squared_error: 101.9367\n",
      "Epoch 29/35\n",
      "17000/17000 [==============================] - 0s 6us/sample - loss: 10382.8286 - root_mean_squared_error: 101.8961\n",
      "Epoch 30/35\n",
      "17000/17000 [==============================] - 0s 6us/sample - loss: 10375.4940 - root_mean_squared_error: 101.8602\n",
      "Epoch 31/35\n",
      "17000/17000 [==============================] - 0s 6us/sample - loss: 10368.2398 - root_mean_squared_error: 101.8245\n",
      "Epoch 32/35\n",
      "17000/17000 [==============================] - 0s 6us/sample - loss: 10360.9838 - root_mean_squared_error: 101.7889\n",
      "Epoch 33/35\n",
      "17000/17000 [==============================] - 0s 6us/sample - loss: 10354.1221 - root_mean_squared_error: 101.7552\n",
      "Epoch 34/35\n",
      "17000/17000 [==============================] - 0s 6us/sample - loss: 10347.5968 - root_mean_squared_error: 101.7232\n",
      "Epoch 35/35\n",
      "17000/17000 [==============================] - 0s 6us/sample - loss: 10340.8101 - root_mean_squared_error: 101.6898\n"
     ]
    },
    {
     "data": {
      "image/png": "[encoded data removed]",
      "text/plain": [
       "<Figure size 432x288 with 1 Axes>"
      ]
     },
     "metadata": {
      "needs_background": "light"
     },
     "output_type": "display_data"
    },
    {
     "name": "stdout",
     "output_type": "stream",
     "text": [
      "\n",
      ": Evaluate the new model against the test set:\n",
      "3000/3000 [==============================] - 0s 11us/sample - loss: 10200.9357 - root_mean_squared_error: 100.9997\n"
     ]
    },
    {
     "data": {
      "text/plain": [
       "[10200.935725911459, 100.99968]"
      ]
     },
     "execution_count": 9,
     "metadata": {},
     "output_type": "execute_result"
    }
   ],
   "source": [
    "# The following variables are the hyperparameters.\n",
    "learning_rate = 0.04\n",
    "epochs = 35\n",
    "\n",
    "# Build the model, this time passing in the buckets_feature_layer.\n",
    "my_model = create_model(learning_rate, buckets_feature_layer)\n",
    "\n",
    "# Train the model on the training set.\n",
    "epochs, rmse = train_model(my_model, train_df, epochs, batch_size, label_name)\n",
    "\n",
    "plot_the_loss_curve(epochs, rmse)\n",
    "\n",
    "print(\"\\n: Evaluate the new model against the test set:\")\n",
    "my_model.evaluate(x=test_features, y=test_label, batch_size=batch_size)"
   ]
  },
  {
   "cell_type": "markdown",
   "metadata": {
    "id": "Wb-bIKsN5M48"
   },
   "source": [
    "## Task 2: Did buckets outperform floating-point representations?\n",
    "\n",
    "Compare the model's `root_mean_squared_error` values for the two representations (floating-point vs. buckets)?  Which model produced lower losses? "
   ]
  },
  {
   "cell_type": "code",
   "execution_count": 10,
   "metadata": {
    "cellView": "form",
    "id": "6sUlX1335UCb"
   },
   "outputs": [],
   "source": [
    "#@title Double-click for an answer to Task 2.\n",
    "\n",
    "# Bucket representation outperformed \n",
    "# floating-point representations.  \n",
    "# However, you can still do far better."
   ]
  },
  {
   "cell_type": "markdown",
   "metadata": {
    "id": "ab6-bhUvxbTL"
   },
   "source": [
    "## Task 3: What is a better way to represent location?\n",
    "\n",
    "Buckets are a big improvement over floating-point values. Can you identify an even better way to identify location with `latitude` and `longitude`?"
   ]
  },
  {
   "cell_type": "code",
   "execution_count": 11,
   "metadata": {
    "cellView": "form",
    "id": "5no5X0OFCwf7"
   },
   "outputs": [],
   "source": [
    "#@title Double-click to view an answer to Task 3.\n",
    "\n",
    "# Representing location as a feature cross should \n",
    "# produce better results.\n",
    "\n",
    "# In Task 2, you represented latitude in \n",
    "# one-dimensional buckets and longitude in \n",
    "# another series of one-dimensional buckets. \n",
    "# Real-world locations, however, exist in \n",
    "# two dimension. Therefore, you should\n",
    "# represent location as a two-dimensional feature\n",
    "# cross. That is, you'll cross the 10 or so latitude \n",
    "# buckets with the 10 or so longitude buckets to \n",
    "# create a grid of 100 cells. \n",
    "\n",
    "# The model will learn separate weights for each \n",
    "# of the cells."
   ]
  },
  {
   "cell_type": "markdown",
   "metadata": {
    "id": "T1ulCDiyGB6g"
   },
   "source": [
    "## Represent location as a feature cross\n",
    "\n",
    "The following code cell represents location as a feature cross. That is, the following code cell first creates buckets and then calls `tf.feature_column.crossed_column` to cross the buckets.\n",
    "\n"
   ]
  },
  {
   "cell_type": "code",
   "execution_count": 12,
   "metadata": {
    "cellView": "both",
    "id": "HunsuEzqn21s"
   },
   "outputs": [],
   "source": [
    "resolution_in_degrees = 1.0 \n",
    "\n",
    "# Create a new empty list that will eventually hold the generated feature column.\n",
    "feature_columns = []\n",
    "\n",
    "# Create a bucket feature column for latitude.\n",
    "latitude_as_a_numeric_column = tf.feature_column.numeric_column(\"latitude\")\n",
    "latitude_boundaries = list(np.arange(int(min(train_df['latitude'])), int(max(train_df['latitude'])), resolution_in_degrees))\n",
    "latitude = tf.feature_column.bucketized_column(latitude_as_a_numeric_column, latitude_boundaries)\n",
    "\n",
    "# Create a bucket feature column for longitude.\n",
    "longitude_as_a_numeric_column = tf.feature_column.numeric_column(\"longitude\")\n",
    "longitude_boundaries = list(np.arange(int(min(train_df['longitude'])), int(max(train_df['longitude'])), resolution_in_degrees))\n",
    "longitude = tf.feature_column.bucketized_column(longitude_as_a_numeric_column, longitude_boundaries)\n",
    "\n",
    "# Create a feature cross of latitude and longitude.\n",
    "latitude_x_longitude = tf.feature_column.crossed_column([latitude, longitude], hash_bucket_size=100)\n",
    "crossed_feature = tf.feature_column.indicator_column(latitude_x_longitude)\n",
    "feature_columns.append(crossed_feature)\n",
    "\n",
    "# Convert the list of feature columns into a layer that will later be fed into\n",
    "# the model. \n",
    "feature_cross_feature_layer = layers.DenseFeatures(feature_columns)"
   ]
  },
  {
   "cell_type": "markdown",
   "metadata": {
    "id": "akRgNnnH3VXJ"
   },
   "source": [
    "Invoke the following code cell to test your solution for Task 3. Please ignore the warning messages."
   ]
  },
  {
   "cell_type": "code",
   "execution_count": 13,
   "metadata": {
    "id": "qn2PRDBEr5ni"
   },
   "outputs": [
    {
     "name": "stdout",
     "output_type": "stream",
     "text": [
      "WARNING:tensorflow:Entity <bound method DenseFeatures.call of <tensorflow.python.feature_column.feature_column_v2.DenseFeatures object at 0x000001CD2480F688>> could not be transformed and will be executed as-is. Please report this to the AutgoGraph team. When filing the bug, set the verbosity to 10 (on Linux, `export AUTOGRAPH_VERBOSITY=10`) and attach the full output. Cause: converting <bound method DenseFeatures.call of <tensorflow.python.feature_column.feature_column_v2.DenseFeatures object at 0x000001CD2480F688>>: AttributeError: module 'gast' has no attribute 'Index'\n",
      "WARNING: Entity <bound method DenseFeatures.call of <tensorflow.python.feature_column.feature_column_v2.DenseFeatures object at 0x000001CD2480F688>> could not be transformed and will be executed as-is. Please report this to the AutgoGraph team. When filing the bug, set the verbosity to 10 (on Linux, `export AUTOGRAPH_VERBOSITY=10`) and attach the full output. Cause: converting <bound method DenseFeatures.call of <tensorflow.python.feature_column.feature_column_v2.DenseFeatures object at 0x000001CD2480F688>>: AttributeError: module 'gast' has no attribute 'Index'\n",
      "WARNING:tensorflow:From C:\\Users\\sltm-14\\Anaconda3\\envs\\MLenv\\lib\\site-packages\\tensorflow\\python\\feature_column\\feature_column_v2.py:4207: IndicatorColumn._variable_shape (from tensorflow.python.feature_column.feature_column_v2) is deprecated and will be removed in a future version.\n",
      "Instructions for updating:\n",
      "The old _FeatureColumn APIs are being deprecated. Please use the new FeatureColumn APIs instead.\n",
      "WARNING:tensorflow:From C:\\Users\\sltm-14\\Anaconda3\\envs\\MLenv\\lib\\site-packages\\tensorflow\\python\\feature_column\\feature_column_v2.py:4262: CrossedColumn._num_buckets (from tensorflow.python.feature_column.feature_column_v2) is deprecated and will be removed in a future version.\n",
      "Instructions for updating:\n",
      "The old _FeatureColumn APIs are being deprecated. Please use the new FeatureColumn APIs instead.\n",
      "Epoch 1/35\n",
      "17000/17000 [==============================] - 0s 11us/sample - loss: 53534.0826 - root_mean_squared_error: 231.3743\n",
      "Epoch 2/35\n",
      "17000/17000 [==============================] - 0s 8us/sample - loss: 48495.4887 - root_mean_squared_error: 220.2169\n",
      "Epoch 3/35\n",
      "17000/17000 [==============================] - 0s 8us/sample - loss: 43803.3637 - root_mean_squared_error: 209.2925\n",
      "Epoch 4/35\n",
      "17000/17000 [==============================] - 0s 8us/sample - loss: 39445.8000 - root_mean_squared_error: 198.6097\n",
      "Epoch 5/35\n",
      "17000/17000 [==============================] - 0s 8us/sample - loss: 35416.8760 - root_mean_squared_error: 188.1937\n",
      "Epoch 6/35\n",
      "17000/17000 [==============================] - 0s 8us/sample - loss: 31739.4005 - root_mean_squared_error: 178.1555\n",
      "Epoch 7/35\n",
      "17000/17000 [==============================] - 0s 8us/sample - loss: 28390.4989 - root_mean_squared_error: 168.4948\n",
      "Epoch 8/35\n",
      "17000/17000 [==============================] - 0s 8us/sample - loss: 25348.9142 - root_mean_squared_error: 159.2135\n",
      "Epoch 9/35\n",
      "17000/17000 [==============================] - 0s 8us/sample - loss: 22655.2734 - root_mean_squared_error: 150.5167\n",
      "Epoch 10/35\n",
      "17000/17000 [==============================] - 0s 8us/sample - loss: 20262.2107 - root_mean_squared_error: 142.3454\n",
      "Epoch 11/35\n",
      "17000/17000 [==============================] - 0s 8us/sample - loss: 18182.5552 - root_mean_squared_error: 134.8427\n",
      "Epoch 12/35\n",
      "17000/17000 [==============================] - 0s 8us/sample - loss: 16343.5573 - root_mean_squared_error: 127.8419\n",
      "Epoch 13/35\n",
      "17000/17000 [==============================] - 0s 8us/sample - loss: 14799.9336 - root_mean_squared_error: 121.6550\n",
      "Epoch 14/35\n",
      "17000/17000 [==============================] - 0s 8us/sample - loss: 13508.7213 - root_mean_squared_error: 116.2270\n",
      "Epoch 15/35\n",
      "17000/17000 [==============================] - 0s 8us/sample - loss: 12455.5131 - root_mean_squared_error: 111.6043\n",
      "Epoch 16/35\n",
      "17000/17000 [==============================] - 0s 8us/sample - loss: 11639.7812 - root_mean_squared_error: 107.8878\n",
      "Epoch 17/35\n",
      "17000/17000 [==============================] - 0s 8us/sample - loss: 11030.4678 - root_mean_squared_error: 105.0260\n",
      "Epoch 18/35\n",
      "17000/17000 [==============================] - 0s 8us/sample - loss: 10611.8909 - root_mean_squared_error: 103.0140\n",
      "Epoch 19/35\n",
      "17000/17000 [==============================] - 0s 8us/sample - loss: 10319.5538 - root_mean_squared_error: 101.5852\n",
      "Epoch 20/35\n",
      "17000/17000 [==============================] - 0s 8us/sample - loss: 10134.8454 - root_mean_squared_error: 100.6720\n",
      "Epoch 21/35\n",
      "17000/17000 [==============================] - 0s 8us/sample - loss: 10004.1686 - root_mean_squared_error: 100.0208\n",
      "Epoch 22/35\n",
      "17000/17000 [==============================] - 0s 8us/sample - loss: 9907.8876 - root_mean_squared_error: 99.5384\n",
      "Epoch 23/35\n",
      "17000/17000 [==============================] - 0s 8us/sample - loss: 9831.9433 - root_mean_squared_error: 99.1562\n",
      "Epoch 24/35\n",
      "17000/17000 [==============================] - 0s 8us/sample - loss: 9774.3473 - root_mean_squared_error: 98.8653\n",
      "Epoch 25/35\n",
      "17000/17000 [==============================] - 0s 8us/sample - loss: 9732.2200 - root_mean_squared_error: 98.6520\n",
      "Epoch 26/35\n",
      "17000/17000 [==============================] - 0s 8us/sample - loss: 9701.5898 - root_mean_squared_error: 98.4967\n",
      "Epoch 27/35\n",
      "17000/17000 [==============================] - 0s 8us/sample - loss: 9678.7292 - root_mean_squared_error: 98.3805\n",
      "Epoch 28/35\n",
      "17000/17000 [==============================] - 0s 8us/sample - loss: 9661.5276 - root_mean_squared_error: 98.2931\n",
      "Epoch 29/35\n",
      "17000/17000 [==============================] - 0s 8us/sample - loss: 9649.1018 - root_mean_squared_error: 98.2298\n",
      "Epoch 30/35\n",
      "17000/17000 [==============================] - 0s 8us/sample - loss: 9640.4375 - root_mean_squared_error: 98.1857\n",
      "Epoch 31/35\n",
      "17000/17000 [==============================] - 0s 8us/sample - loss: 9633.2625 - root_mean_squared_error: 98.1492\n",
      "Epoch 32/35\n",
      "17000/17000 [==============================] - 0s 8us/sample - loss: 9627.7839 - root_mean_squared_error: 98.1213\n",
      "Epoch 33/35\n",
      "17000/17000 [==============================] - 0s 8us/sample - loss: 9623.7729 - root_mean_squared_error: 98.1008\n",
      "Epoch 34/35\n",
      "17000/17000 [==============================] - 0s 8us/sample - loss: 9620.6134 - root_mean_squared_error: 98.0847\n",
      "Epoch 35/35\n",
      "17000/17000 [==============================] - 0s 8us/sample - loss: 9617.9770 - root_mean_squared_error: 98.0713\n"
     ]
    },
    {
     "data": {
      "image/png": "[encoded data removed]",
      "text/plain": [
       "<Figure size 432x288 with 1 Axes>"
      ]
     },
     "metadata": {
      "needs_background": "light"
     },
     "output_type": "display_data"
    },
    {
     "name": "stdout",
     "output_type": "stream",
     "text": [
      "\n",
      ": Evaluate the new model against the test set:\n",
      "3000/3000 [==============================] - 0s 17us/sample - loss: 9520.7184 - root_mean_squared_error: 97.5742\n"
     ]
    },
    {
     "data": {
      "text/plain": [
       "[9520.718424479166, 97.57417]"
      ]
     },
     "execution_count": 13,
     "metadata": {},
     "output_type": "execute_result"
    }
   ],
   "source": [
    "# The following variables are the hyperparameters.\n",
    "learning_rate = 0.04\n",
    "epochs = 35\n",
    "\n",
    "# Build the model, this time passing in the feature_cross_feature_layer: \n",
    "my_model = create_model(learning_rate, feature_cross_feature_layer)\n",
    "\n",
    "# Train the model on the training set.\n",
    "epochs, rmse = train_model(my_model, train_df, epochs, batch_size, label_name)\n",
    "\n",
    "plot_the_loss_curve(epochs, rmse)\n",
    "\n",
    "print(\"\\n: Evaluate the new model against the test set:\")\n",
    "my_model.evaluate(x=test_features, y=test_label, batch_size=batch_size)"
   ]
  },
  {
   "cell_type": "markdown",
   "metadata": {
    "id": "bCT-l1GaWNQE"
   },
   "source": [
    "## Task 4: Did the feature cross outperform buckets?\n",
    "\n",
    "Compare the model's `root_mean_squared_error` values for the two representations (buckets vs. feature cross)?  Which model produced\n",
    "lower losses? "
   ]
  },
  {
   "cell_type": "code",
   "execution_count": 14,
   "metadata": {
    "cellView": "form",
    "id": "HUzdWDcs5rCi"
   },
   "outputs": [],
   "source": [
    "#@title Double-click for an answer to this question.\n",
    "\n",
    "# Yes, representing these features as a feature \n",
    "# cross produced much lower loss values than \n",
    "# representing these features as buckets"
   ]
  },
  {
   "cell_type": "markdown",
   "metadata": {
    "id": "J9Iw3ljfXqSQ"
   },
   "source": [
    "## Task 5: Adjust the resolution of the feature cross\n",
    "\n",
    "Return to the code cell in the \"Represent location as a feature cross\" section. Notice that `resolution_in_degrees` is set to 1.0. Therefore, each cell represents an area of 1.0 degree of latitude by 1.0 degree of longitude, which corresponds to a cell of 110 km by 90 km.  This resolution defines a rather large neighborhood. \n",
    "\n",
    "Experiment with `resolution_in_degrees` to answer the following questions:\n",
    "\n",
    "  1. What value of `resolution_in_degrees` produces the best results (lowest loss value)?\n",
    "  2. Why does loss increase when the value of `resolution_in_degrees` drops below a certain value?\n",
    "\n",
    "Finally, answer the following question:\n",
    "\n",
    "  3. What feature (that does not exist in the California Housing Dataset) would\n",
    "     be a better proxy for location than latitude X longitude."
   ]
  },
  {
   "cell_type": "code",
   "execution_count": 15,
   "metadata": {
    "cellView": "form",
    "id": "71WWwlhx4h0X"
   },
   "outputs": [],
   "source": [
    "#@title Double-click for possible answers to Task 5.\n",
    "\n",
    "#1. A resolution of ~0.4 degree provides the best \n",
    "#   results.\n",
    "\n",
    "#2. Below ~0.4 degree, loss increases because the \n",
    "#   dataset does not contain enough examples in \n",
    "#   each cell to accurately predict prices for \n",
    "#   those cells.\n",
    "\n",
    "#3. Postal code would be a far better feature \n",
    "#   than latitude X longitude, assuming that \n",
    "#   the dataset contained sufficient examples \n",
    "#   in each postal code."
   ]
  }
 ],
 "metadata": {
  "colab": {
   "collapsed_sections": [],
   "name": "Representation with a Feature Cross.ipynb",
   "private_outputs": true,
   "provenance": []
  },
  "kernelspec": {
   "display_name": "Python 3",
   "language": "python",
   "name": "python3"
  },
  "language_info": {
   "codemirror_mode": {
    "name": "ipython",
    "version": 3
   },
   "file_extension": ".py",
   "mimetype": "text/x-python",
   "name": "python",
   "nbconvert_exporter": "python",
   "pygments_lexer": "ipython3",
   "version": "3.8.8"
  }
 },
 "nbformat": 4,
 "nbformat_minor": 1
}
