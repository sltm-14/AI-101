{
 "cells": [
  {
   "cell_type": "markdown",
   "metadata": {
    "id": "mXIfpJcOpKLa"
   },
   "source": [
    "# Introducción a Numpy y Pandas\n",
    "\n",
    "*Numpy* es una librería de python especializada en operaciones númericas con matrices o arreglos multidimensionales.\n",
    "\n",
    "*Pandas* es una librería de python especializada en el manejo de datos organizados en tablas así como el procesamiento especializado para cálculos estadísticos y matemáticos."
   ]
  },
  {
   "cell_type": "markdown",
   "metadata": {
    "id": "g5NjvILyps2W"
   },
   "source": [
    "## Numpy\n",
    "\n",
    "La unidad básica de trabajo en Numpy son los *array*."
   ]
  },
  {
   "cell_type": "code",
   "execution_count": 1,
   "metadata": {
    "id": "aehSL-4SprFw"
   },
   "outputs": [],
   "source": [
    "# Importar numpy\n",
    "import numpy as np"
   ]
  },
  {
   "cell_type": "code",
   "execution_count": 2,
   "metadata": {
    "id": "ZBJY3mRwp5iD"
   },
   "outputs": [],
   "source": [
    "# Creando arreglos\n",
    "#1D\n",
    "a = np.array([1, 2, 3, 4, 5, 6])\n",
    "\n",
    "#2D\n",
    "b = np.array([[1, 2, 3, 4], [5, 6, 7, 8], [9, 10, 11, 12]])\n"
   ]
  },
  {
   "cell_type": "code",
   "execution_count": 3,
   "metadata": {
    "id": "Tv1nsL8_qFjE"
   },
   "outputs": [
    {
     "name": "stdout",
     "output_type": "stream",
     "text": [
      "Arreglo 1D:\n",
      " [1 2 3 4 5 6]\n",
      "Arreglo 2D:\n",
      "  [[ 1  2  3  4]\n",
      " [ 5  6  7  8]\n",
      " [ 9 10 11 12]]\n"
     ]
    }
   ],
   "source": [
    "# Visualizarlos\n",
    "print(\"Arreglo 1D:\\n\", a)\n",
    "print(\"Arreglo 2D:\\n \", b)"
   ]
  },
  {
   "cell_type": "code",
   "execution_count": 4,
   "metadata": {
    "id": "K7urqOSsqIWN"
   },
   "outputs": [
    {
     "name": "stdout",
     "output_type": "stream",
     "text": [
      "1\n",
      "6\n",
      "(6,)\n"
     ]
    }
   ],
   "source": [
    "# Tamaño de arreglos\n",
    "print(a.ndim)\n",
    "print(a.size)\n",
    "print(a.shape)\n",
    "# ¿Qué crees que signifique cada uno de los resultados que obtuviste?\n",
    "# ¿Pueden obtener la misma información con el arreglo 2D?"
   ]
  },
  {
   "cell_type": "code",
   "execution_count": 5,
   "metadata": {},
   "outputs": [
    {
     "name": "stdout",
     "output_type": "stream",
     "text": [
      "2\n",
      "12\n",
      "(3, 4)\n"
     ]
    }
   ],
   "source": [
    "# Tamaño de arreglos\n",
    "print(b.ndim)\n",
    "print(b.size)\n",
    "print(b.shape)"
   ]
  },
  {
   "cell_type": "code",
   "execution_count": 6,
   "metadata": {
    "id": "PaVZmPPlqkxp"
   },
   "outputs": [
    {
     "name": "stdout",
     "output_type": "stream",
     "text": [
      "[1 2 3 4]\n"
     ]
    }
   ],
   "source": [
    "# Accesando a datos individuales\n",
    "print(b[0])\n",
    "# Obtenemos la primer línea"
   ]
  },
  {
   "cell_type": "code",
   "execution_count": 7,
   "metadata": {
    "id": "2ghgxNgKrL5W"
   },
   "outputs": [
    {
     "name": "stdout",
     "output_type": "stream",
     "text": [
      "1\n"
     ]
    }
   ],
   "source": [
    "# Accesando a datos individuales\n",
    "print(b[0,0])\n",
    "#Obtenemos el primer elemento de la primer línea"
   ]
  },
  {
   "cell_type": "code",
   "execution_count": 10,
   "metadata": {},
   "outputs": [
    {
     "name": "stdout",
     "output_type": "stream",
     "text": [
      "[ 3  7 11]\n"
     ]
    }
   ],
   "source": [
    "print(b[:,2])"
   ]
  },
  {
   "cell_type": "code",
   "execution_count": 11,
   "metadata": {},
   "outputs": [
    {
     "name": "stdout",
     "output_type": "stream",
     "text": [
      "[ 9 10 11 12]\n"
     ]
    }
   ],
   "source": [
    "print(b[2,:])"
   ]
  },
  {
   "cell_type": "code",
   "execution_count": 8,
   "metadata": {
    "id": "b9cYr0BorTP5"
   },
   "outputs": [
    {
     "name": "stdout",
     "output_type": "stream",
     "text": [
      "[[ 6  2]\n",
      " [11  1]]\n"
     ]
    }
   ],
   "source": [
    "# Operaciones básicas\n",
    "# Suma\n",
    "a1 = np.array([[1,2],[3,4]])\n",
    "a2 = np.array([[5,0],[8,-3]])\n",
    "a3 = a1+a2\n",
    "print(a3)"
   ]
  },
  {
   "cell_type": "code",
   "execution_count": 12,
   "metadata": {
    "id": "kwMZ7_1frmpS"
   },
   "outputs": [
    {
     "name": "stdout",
     "output_type": "stream",
     "text": [
      "[[ 5 10]\n",
      " [15 20]]\n"
     ]
    }
   ],
   "source": [
    "# Multiplicación por escalares\n",
    "a4 = a1*5\n",
    "print(a4)"
   ]
  },
  {
   "cell_type": "code",
   "execution_count": 13,
   "metadata": {
    "id": "dY3DArT1ryNo"
   },
   "outputs": [
    {
     "name": "stdout",
     "output_type": "stream",
     "text": [
      "4\n",
      "1\n",
      "10\n"
     ]
    }
   ],
   "source": [
    "# Operaciones adicionales\n",
    "print(a1.max())\n",
    "print(a1.min())\n",
    "print(a1.sum())"
   ]
  },
  {
   "cell_type": "code",
   "execution_count": 21,
   "metadata": {
    "id": "ylgSLPjhr56W"
   },
   "outputs": [
    {
     "name": "stdout",
     "output_type": "stream",
     "text": [
      "[[1 2]\n",
      " [3 4]]\n",
      "\n",
      "\n",
      "[3 4]\n",
      "[1 2]\n",
      "[4 6]\n"
     ]
    }
   ],
   "source": [
    "# ¿Qué obtenemos con estas operaciones? ¿Que quiere decir el parametros axis?\n",
    "print(a1)\n",
    "print(\"\\n\")\n",
    "print(a1.max(axis=0))\n",
    "print(a1.min(axis=0))\n",
    "print(a1.sum(axis=0))"
   ]
  },
  {
   "cell_type": "code",
   "execution_count": 15,
   "metadata": {
    "id": "U_lS2XqGsD1L"
   },
   "outputs": [
    {
     "name": "stdout",
     "output_type": "stream",
     "text": [
      "[2 4]\n",
      "[1 3]\n",
      "[3 7]\n"
     ]
    }
   ],
   "source": [
    "# ¿Qué obtenemos con estas operaciones? ¿Que quiere decir el parametros axis?\n",
    "print(a1.max(axis=1))\n",
    "print(a1.min(axis=1))\n",
    "print(a1.sum(axis=1))"
   ]
  },
  {
   "cell_type": "markdown",
   "metadata": {
    "id": "TK5bBHAb980E"
   },
   "source": [
    "## Pandas\n",
    "\n",
    "Una de las librerías que nos permite realizar fácilmente tareas de estadística es Pandas."
   ]
  },
  {
   "cell_type": "code",
   "execution_count": 25,
   "metadata": {
    "id": "1WwqQFzK980F"
   },
   "outputs": [],
   "source": [
    "# Importamos las librerías que ocuparemos en este ejercicio\n",
    "import pandas as pd"
   ]
  },
  {
   "cell_type": "markdown",
   "metadata": {
    "id": "WGJLGa_M980I"
   },
   "source": [
    "## Lectura de datos con Pandas"
   ]
  },
  {
   "cell_type": "code",
   "execution_count": 28,
   "metadata": {
    "id": "nY7gDL-V_eCI"
   },
   "outputs": [],
   "source": [
    "# Si estas usando google colab ejecutar esto\n",
    "#from google.colab import files\n",
    "#uploaded = files.upload()"
   ]
  },
  {
   "cell_type": "code",
   "execution_count": 29,
   "metadata": {
    "id": "HG9FnMF8AIMV"
   },
   "outputs": [],
   "source": [
    "# Lectura de datos con google colab\n",
    "#import io\n",
    "#df = pd.read_csv(io.BytesIO(uploaded['resultados_futbol.csv']))"
   ]
  },
  {
   "cell_type": "code",
   "execution_count": 31,
   "metadata": {
    "id": "WF7nOl_t980I"
   },
   "outputs": [],
   "source": [
    "# Lectura de datos\n",
    "df = pd.read_csv(r'C:\\Users\\sltm-14\\Documents\\AI\\Diplomado\\Notebooks\\resultados_futbol.csv')"
   ]
  },
  {
   "cell_type": "code",
   "execution_count": 32,
   "metadata": {
    "id": "rkD1VfqaArdw"
   },
   "outputs": [
    {
     "data": {
      "text/html": [
       "<div>\n",
       "<style scoped>\n",
       "    .dataframe tbody tr th:only-of-type {\n",
       "        vertical-align: middle;\n",
       "    }\n",
       "\n",
       "    .dataframe tbody tr th {\n",
       "        vertical-align: top;\n",
       "    }\n",
       "\n",
       "    .dataframe thead th {\n",
       "        text-align: right;\n",
       "    }\n",
       "</style>\n",
       "<table border=\"1\" class=\"dataframe\">\n",
       "  <thead>\n",
       "    <tr style=\"text-align: right;\">\n",
       "      <th></th>\n",
       "      <th>date</th>\n",
       "      <th>home_team</th>\n",
       "      <th>away_team</th>\n",
       "      <th>home_score</th>\n",
       "      <th>away_score</th>\n",
       "      <th>tournament</th>\n",
       "      <th>city</th>\n",
       "      <th>country</th>\n",
       "      <th>neutral</th>\n",
       "    </tr>\n",
       "  </thead>\n",
       "  <tbody>\n",
       "    <tr>\n",
       "      <th>0</th>\n",
       "      <td>1872-11-30</td>\n",
       "      <td>Scotland</td>\n",
       "      <td>England</td>\n",
       "      <td>0</td>\n",
       "      <td>0</td>\n",
       "      <td>Friendly</td>\n",
       "      <td>Glasgow</td>\n",
       "      <td>Scotland</td>\n",
       "      <td>False</td>\n",
       "    </tr>\n",
       "    <tr>\n",
       "      <th>1</th>\n",
       "      <td>1873-03-08</td>\n",
       "      <td>England</td>\n",
       "      <td>Scotland</td>\n",
       "      <td>4</td>\n",
       "      <td>2</td>\n",
       "      <td>Friendly</td>\n",
       "      <td>London</td>\n",
       "      <td>England</td>\n",
       "      <td>False</td>\n",
       "    </tr>\n",
       "    <tr>\n",
       "      <th>2</th>\n",
       "      <td>1874-03-07</td>\n",
       "      <td>Scotland</td>\n",
       "      <td>England</td>\n",
       "      <td>2</td>\n",
       "      <td>1</td>\n",
       "      <td>Friendly</td>\n",
       "      <td>Glasgow</td>\n",
       "      <td>Scotland</td>\n",
       "      <td>False</td>\n",
       "    </tr>\n",
       "    <tr>\n",
       "      <th>3</th>\n",
       "      <td>1875-03-06</td>\n",
       "      <td>England</td>\n",
       "      <td>Scotland</td>\n",
       "      <td>2</td>\n",
       "      <td>2</td>\n",
       "      <td>Friendly</td>\n",
       "      <td>London</td>\n",
       "      <td>England</td>\n",
       "      <td>False</td>\n",
       "    </tr>\n",
       "    <tr>\n",
       "      <th>4</th>\n",
       "      <td>1876-03-04</td>\n",
       "      <td>Scotland</td>\n",
       "      <td>England</td>\n",
       "      <td>3</td>\n",
       "      <td>0</td>\n",
       "      <td>Friendly</td>\n",
       "      <td>Glasgow</td>\n",
       "      <td>Scotland</td>\n",
       "      <td>False</td>\n",
       "    </tr>\n",
       "    <tr>\n",
       "      <th>...</th>\n",
       "      <td>...</td>\n",
       "      <td>...</td>\n",
       "      <td>...</td>\n",
       "      <td>...</td>\n",
       "      <td>...</td>\n",
       "      <td>...</td>\n",
       "      <td>...</td>\n",
       "      <td>...</td>\n",
       "      <td>...</td>\n",
       "    </tr>\n",
       "    <tr>\n",
       "      <th>41581</th>\n",
       "      <td>2020-01-10</td>\n",
       "      <td>Barbados</td>\n",
       "      <td>Canada</td>\n",
       "      <td>1</td>\n",
       "      <td>4</td>\n",
       "      <td>Friendly</td>\n",
       "      <td>Irvine</td>\n",
       "      <td>United States</td>\n",
       "      <td>True</td>\n",
       "    </tr>\n",
       "    <tr>\n",
       "      <th>41582</th>\n",
       "      <td>2020-01-12</td>\n",
       "      <td>Kosovo</td>\n",
       "      <td>Sweden</td>\n",
       "      <td>0</td>\n",
       "      <td>1</td>\n",
       "      <td>Friendly</td>\n",
       "      <td>Doha</td>\n",
       "      <td>Qatar</td>\n",
       "      <td>True</td>\n",
       "    </tr>\n",
       "    <tr>\n",
       "      <th>41583</th>\n",
       "      <td>2020-01-15</td>\n",
       "      <td>Canada</td>\n",
       "      <td>Iceland</td>\n",
       "      <td>0</td>\n",
       "      <td>1</td>\n",
       "      <td>Friendly</td>\n",
       "      <td>Irvine</td>\n",
       "      <td>United States</td>\n",
       "      <td>True</td>\n",
       "    </tr>\n",
       "    <tr>\n",
       "      <th>41584</th>\n",
       "      <td>2020-01-19</td>\n",
       "      <td>El Salvador</td>\n",
       "      <td>Iceland</td>\n",
       "      <td>0</td>\n",
       "      <td>1</td>\n",
       "      <td>Friendly</td>\n",
       "      <td>Carson</td>\n",
       "      <td>United States</td>\n",
       "      <td>True</td>\n",
       "    </tr>\n",
       "    <tr>\n",
       "      <th>41585</th>\n",
       "      <td>2020-02-01</td>\n",
       "      <td>United States</td>\n",
       "      <td>Costa Rica</td>\n",
       "      <td>1</td>\n",
       "      <td>0</td>\n",
       "      <td>Friendly</td>\n",
       "      <td>Carson</td>\n",
       "      <td>United States</td>\n",
       "      <td>False</td>\n",
       "    </tr>\n",
       "  </tbody>\n",
       "</table>\n",
       "<p>41586 rows × 9 columns</p>\n",
       "</div>"
      ],
      "text/plain": [
       "             date      home_team   away_team  home_score  away_score  \\\n",
       "0      1872-11-30       Scotland     England           0           0   \n",
       "1      1873-03-08        England    Scotland           4           2   \n",
       "2      1874-03-07       Scotland     England           2           1   \n",
       "3      1875-03-06        England    Scotland           2           2   \n",
       "4      1876-03-04       Scotland     England           3           0   \n",
       "...           ...            ...         ...         ...         ...   \n",
       "41581  2020-01-10       Barbados      Canada           1           4   \n",
       "41582  2020-01-12         Kosovo      Sweden           0           1   \n",
       "41583  2020-01-15         Canada     Iceland           0           1   \n",
       "41584  2020-01-19    El Salvador     Iceland           0           1   \n",
       "41585  2020-02-01  United States  Costa Rica           1           0   \n",
       "\n",
       "      tournament     city        country  neutral  \n",
       "0       Friendly  Glasgow       Scotland    False  \n",
       "1       Friendly   London        England    False  \n",
       "2       Friendly  Glasgow       Scotland    False  \n",
       "3       Friendly   London        England    False  \n",
       "4       Friendly  Glasgow       Scotland    False  \n",
       "...          ...      ...            ...      ...  \n",
       "41581   Friendly   Irvine  United States     True  \n",
       "41582   Friendly     Doha          Qatar     True  \n",
       "41583   Friendly   Irvine  United States     True  \n",
       "41584   Friendly   Carson  United States     True  \n",
       "41585   Friendly   Carson  United States    False  \n",
       "\n",
       "[41586 rows x 9 columns]"
      ]
     },
     "execution_count": 32,
     "metadata": {},
     "output_type": "execute_result"
    }
   ],
   "source": [
    "df"
   ]
  },
  {
   "cell_type": "code",
   "execution_count": 33,
   "metadata": {
    "id": "l_UsrivU980K"
   },
   "outputs": [
    {
     "data": {
      "text/html": [
       "<div>\n",
       "<style scoped>\n",
       "    .dataframe tbody tr th:only-of-type {\n",
       "        vertical-align: middle;\n",
       "    }\n",
       "\n",
       "    .dataframe tbody tr th {\n",
       "        vertical-align: top;\n",
       "    }\n",
       "\n",
       "    .dataframe thead th {\n",
       "        text-align: right;\n",
       "    }\n",
       "</style>\n",
       "<table border=\"1\" class=\"dataframe\">\n",
       "  <thead>\n",
       "    <tr style=\"text-align: right;\">\n",
       "      <th></th>\n",
       "      <th>home_score</th>\n",
       "      <th>away_score</th>\n",
       "    </tr>\n",
       "  </thead>\n",
       "  <tbody>\n",
       "    <tr>\n",
       "      <th>count</th>\n",
       "      <td>41586.000000</td>\n",
       "      <td>41586.000000</td>\n",
       "    </tr>\n",
       "    <tr>\n",
       "      <th>mean</th>\n",
       "      <td>1.745756</td>\n",
       "      <td>1.187587</td>\n",
       "    </tr>\n",
       "    <tr>\n",
       "      <th>std</th>\n",
       "      <td>1.753780</td>\n",
       "      <td>1.405323</td>\n",
       "    </tr>\n",
       "    <tr>\n",
       "      <th>min</th>\n",
       "      <td>0.000000</td>\n",
       "      <td>0.000000</td>\n",
       "    </tr>\n",
       "    <tr>\n",
       "      <th>25%</th>\n",
       "      <td>1.000000</td>\n",
       "      <td>0.000000</td>\n",
       "    </tr>\n",
       "    <tr>\n",
       "      <th>50%</th>\n",
       "      <td>1.000000</td>\n",
       "      <td>1.000000</td>\n",
       "    </tr>\n",
       "    <tr>\n",
       "      <th>75%</th>\n",
       "      <td>2.000000</td>\n",
       "      <td>2.000000</td>\n",
       "    </tr>\n",
       "    <tr>\n",
       "      <th>max</th>\n",
       "      <td>31.000000</td>\n",
       "      <td>21.000000</td>\n",
       "    </tr>\n",
       "  </tbody>\n",
       "</table>\n",
       "</div>"
      ],
      "text/plain": [
       "         home_score    away_score\n",
       "count  41586.000000  41586.000000\n",
       "mean       1.745756      1.187587\n",
       "std        1.753780      1.405323\n",
       "min        0.000000      0.000000\n",
       "25%        1.000000      0.000000\n",
       "50%        1.000000      1.000000\n",
       "75%        2.000000      2.000000\n",
       "max       31.000000     21.000000"
      ]
     },
     "execution_count": 33,
     "metadata": {},
     "output_type": "execute_result"
    }
   ],
   "source": [
    "# Analisis descriptivo de los datos\n",
    "df.describe() # Sólo para columnas numéricas"
   ]
  },
  {
   "cell_type": "code",
   "execution_count": 42,
   "metadata": {
    "id": "7MBI-qXM980M"
   },
   "outputs": [
    {
     "data": {
      "text/html": [
       "<div>\n",
       "<style scoped>\n",
       "    .dataframe tbody tr th:only-of-type {\n",
       "        vertical-align: middle;\n",
       "    }\n",
       "\n",
       "    .dataframe tbody tr th {\n",
       "        vertical-align: top;\n",
       "    }\n",
       "\n",
       "    .dataframe thead th {\n",
       "        text-align: right;\n",
       "    }\n",
       "</style>\n",
       "<table border=\"1\" class=\"dataframe\">\n",
       "  <thead>\n",
       "    <tr style=\"text-align: right;\">\n",
       "      <th></th>\n",
       "      <th>date</th>\n",
       "      <th>home_team</th>\n",
       "      <th>away_team</th>\n",
       "      <th>home_score</th>\n",
       "      <th>away_score</th>\n",
       "      <th>tournament</th>\n",
       "      <th>city</th>\n",
       "      <th>country</th>\n",
       "      <th>neutral</th>\n",
       "    </tr>\n",
       "  </thead>\n",
       "  <tbody>\n",
       "    <tr>\n",
       "      <th>0</th>\n",
       "      <td>1872-11-30</td>\n",
       "      <td>Scotland</td>\n",
       "      <td>England</td>\n",
       "      <td>0</td>\n",
       "      <td>0</td>\n",
       "      <td>Friendly</td>\n",
       "      <td>Glasgow</td>\n",
       "      <td>Scotland</td>\n",
       "      <td>False</td>\n",
       "    </tr>\n",
       "    <tr>\n",
       "      <th>1</th>\n",
       "      <td>1873-03-08</td>\n",
       "      <td>England</td>\n",
       "      <td>Scotland</td>\n",
       "      <td>4</td>\n",
       "      <td>2</td>\n",
       "      <td>Friendly</td>\n",
       "      <td>London</td>\n",
       "      <td>England</td>\n",
       "      <td>False</td>\n",
       "    </tr>\n",
       "    <tr>\n",
       "      <th>2</th>\n",
       "      <td>1874-03-07</td>\n",
       "      <td>Scotland</td>\n",
       "      <td>England</td>\n",
       "      <td>2</td>\n",
       "      <td>1</td>\n",
       "      <td>Friendly</td>\n",
       "      <td>Glasgow</td>\n",
       "      <td>Scotland</td>\n",
       "      <td>False</td>\n",
       "    </tr>\n",
       "    <tr>\n",
       "      <th>3</th>\n",
       "      <td>1875-03-06</td>\n",
       "      <td>England</td>\n",
       "      <td>Scotland</td>\n",
       "      <td>2</td>\n",
       "      <td>2</td>\n",
       "      <td>Friendly</td>\n",
       "      <td>London</td>\n",
       "      <td>England</td>\n",
       "      <td>False</td>\n",
       "    </tr>\n",
       "    <tr>\n",
       "      <th>4</th>\n",
       "      <td>1876-03-04</td>\n",
       "      <td>Scotland</td>\n",
       "      <td>England</td>\n",
       "      <td>3</td>\n",
       "      <td>0</td>\n",
       "      <td>Friendly</td>\n",
       "      <td>Glasgow</td>\n",
       "      <td>Scotland</td>\n",
       "      <td>False</td>\n",
       "    </tr>\n",
       "    <tr>\n",
       "      <th>5</th>\n",
       "      <td>1876-03-25</td>\n",
       "      <td>Scotland</td>\n",
       "      <td>Wales</td>\n",
       "      <td>4</td>\n",
       "      <td>0</td>\n",
       "      <td>Friendly</td>\n",
       "      <td>Glasgow</td>\n",
       "      <td>Scotland</td>\n",
       "      <td>False</td>\n",
       "    </tr>\n",
       "    <tr>\n",
       "      <th>6</th>\n",
       "      <td>1877-03-03</td>\n",
       "      <td>England</td>\n",
       "      <td>Scotland</td>\n",
       "      <td>1</td>\n",
       "      <td>3</td>\n",
       "      <td>Friendly</td>\n",
       "      <td>London</td>\n",
       "      <td>England</td>\n",
       "      <td>False</td>\n",
       "    </tr>\n",
       "    <tr>\n",
       "      <th>7</th>\n",
       "      <td>1877-03-05</td>\n",
       "      <td>Wales</td>\n",
       "      <td>Scotland</td>\n",
       "      <td>0</td>\n",
       "      <td>2</td>\n",
       "      <td>Friendly</td>\n",
       "      <td>Wrexham</td>\n",
       "      <td>Wales</td>\n",
       "      <td>False</td>\n",
       "    </tr>\n",
       "    <tr>\n",
       "      <th>8</th>\n",
       "      <td>1878-03-02</td>\n",
       "      <td>Scotland</td>\n",
       "      <td>England</td>\n",
       "      <td>7</td>\n",
       "      <td>2</td>\n",
       "      <td>Friendly</td>\n",
       "      <td>Glasgow</td>\n",
       "      <td>Scotland</td>\n",
       "      <td>False</td>\n",
       "    </tr>\n",
       "    <tr>\n",
       "      <th>9</th>\n",
       "      <td>1878-03-23</td>\n",
       "      <td>Scotland</td>\n",
       "      <td>Wales</td>\n",
       "      <td>9</td>\n",
       "      <td>0</td>\n",
       "      <td>Friendly</td>\n",
       "      <td>Glasgow</td>\n",
       "      <td>Scotland</td>\n",
       "      <td>False</td>\n",
       "    </tr>\n",
       "  </tbody>\n",
       "</table>\n",
       "</div>"
      ],
      "text/plain": [
       "         date home_team away_team  home_score  away_score tournament     city  \\\n",
       "0  1872-11-30  Scotland   England           0           0   Friendly  Glasgow   \n",
       "1  1873-03-08   England  Scotland           4           2   Friendly   London   \n",
       "2  1874-03-07  Scotland   England           2           1   Friendly  Glasgow   \n",
       "3  1875-03-06   England  Scotland           2           2   Friendly   London   \n",
       "4  1876-03-04  Scotland   England           3           0   Friendly  Glasgow   \n",
       "5  1876-03-25  Scotland     Wales           4           0   Friendly  Glasgow   \n",
       "6  1877-03-03   England  Scotland           1           3   Friendly   London   \n",
       "7  1877-03-05     Wales  Scotland           0           2   Friendly  Wrexham   \n",
       "8  1878-03-02  Scotland   England           7           2   Friendly  Glasgow   \n",
       "9  1878-03-23  Scotland     Wales           9           0   Friendly  Glasgow   \n",
       "\n",
       "    country  neutral  \n",
       "0  Scotland    False  \n",
       "1   England    False  \n",
       "2  Scotland    False  \n",
       "3   England    False  \n",
       "4  Scotland    False  \n",
       "5  Scotland    False  \n",
       "6   England    False  \n",
       "7     Wales    False  \n",
       "8  Scotland    False  \n",
       "9  Scotland    False  "
      ]
     },
     "execution_count": 42,
     "metadata": {},
     "output_type": "execute_result"
    }
   ],
   "source": [
    "# visualización\n",
    "df.head(10) # te dará la información de los primeros 10 datos"
   ]
  },
  {
   "cell_type": "code",
   "execution_count": 43,
   "metadata": {
    "id": "FrFOWhXv980O"
   },
   "outputs": [
    {
     "data": {
      "text/html": [
       "<div>\n",
       "<style scoped>\n",
       "    .dataframe tbody tr th:only-of-type {\n",
       "        vertical-align: middle;\n",
       "    }\n",
       "\n",
       "    .dataframe tbody tr th {\n",
       "        vertical-align: top;\n",
       "    }\n",
       "\n",
       "    .dataframe thead th {\n",
       "        text-align: right;\n",
       "    }\n",
       "</style>\n",
       "<table border=\"1\" class=\"dataframe\">\n",
       "  <thead>\n",
       "    <tr style=\"text-align: right;\">\n",
       "      <th></th>\n",
       "      <th>date</th>\n",
       "      <th>home_team</th>\n",
       "      <th>away_team</th>\n",
       "      <th>home_score</th>\n",
       "      <th>away_score</th>\n",
       "      <th>tournament</th>\n",
       "      <th>city</th>\n",
       "      <th>country</th>\n",
       "      <th>neutral</th>\n",
       "    </tr>\n",
       "  </thead>\n",
       "  <tbody>\n",
       "    <tr>\n",
       "      <th>41581</th>\n",
       "      <td>2020-01-10</td>\n",
       "      <td>Barbados</td>\n",
       "      <td>Canada</td>\n",
       "      <td>1</td>\n",
       "      <td>4</td>\n",
       "      <td>Friendly</td>\n",
       "      <td>Irvine</td>\n",
       "      <td>United States</td>\n",
       "      <td>True</td>\n",
       "    </tr>\n",
       "    <tr>\n",
       "      <th>41582</th>\n",
       "      <td>2020-01-12</td>\n",
       "      <td>Kosovo</td>\n",
       "      <td>Sweden</td>\n",
       "      <td>0</td>\n",
       "      <td>1</td>\n",
       "      <td>Friendly</td>\n",
       "      <td>Doha</td>\n",
       "      <td>Qatar</td>\n",
       "      <td>True</td>\n",
       "    </tr>\n",
       "    <tr>\n",
       "      <th>41583</th>\n",
       "      <td>2020-01-15</td>\n",
       "      <td>Canada</td>\n",
       "      <td>Iceland</td>\n",
       "      <td>0</td>\n",
       "      <td>1</td>\n",
       "      <td>Friendly</td>\n",
       "      <td>Irvine</td>\n",
       "      <td>United States</td>\n",
       "      <td>True</td>\n",
       "    </tr>\n",
       "    <tr>\n",
       "      <th>41584</th>\n",
       "      <td>2020-01-19</td>\n",
       "      <td>El Salvador</td>\n",
       "      <td>Iceland</td>\n",
       "      <td>0</td>\n",
       "      <td>1</td>\n",
       "      <td>Friendly</td>\n",
       "      <td>Carson</td>\n",
       "      <td>United States</td>\n",
       "      <td>True</td>\n",
       "    </tr>\n",
       "    <tr>\n",
       "      <th>41585</th>\n",
       "      <td>2020-02-01</td>\n",
       "      <td>United States</td>\n",
       "      <td>Costa Rica</td>\n",
       "      <td>1</td>\n",
       "      <td>0</td>\n",
       "      <td>Friendly</td>\n",
       "      <td>Carson</td>\n",
       "      <td>United States</td>\n",
       "      <td>False</td>\n",
       "    </tr>\n",
       "  </tbody>\n",
       "</table>\n",
       "</div>"
      ],
      "text/plain": [
       "             date      home_team   away_team  home_score  away_score  \\\n",
       "41581  2020-01-10       Barbados      Canada           1           4   \n",
       "41582  2020-01-12         Kosovo      Sweden           0           1   \n",
       "41583  2020-01-15         Canada     Iceland           0           1   \n",
       "41584  2020-01-19    El Salvador     Iceland           0           1   \n",
       "41585  2020-02-01  United States  Costa Rica           1           0   \n",
       "\n",
       "      tournament    city        country  neutral  \n",
       "41581   Friendly  Irvine  United States     True  \n",
       "41582   Friendly    Doha          Qatar     True  \n",
       "41583   Friendly  Irvine  United States     True  \n",
       "41584   Friendly  Carson  United States     True  \n",
       "41585   Friendly  Carson  United States    False  "
      ]
     },
     "execution_count": 43,
     "metadata": {},
     "output_type": "execute_result"
    }
   ],
   "source": [
    "# Visualización\n",
    "df.tail() # Te dará la información de los últimos 5 datos"
   ]
  },
  {
   "cell_type": "code",
   "execution_count": 46,
   "metadata": {},
   "outputs": [
    {
     "data": {
      "text/plain": [
       "0             Scotland\n",
       "1              England\n",
       "2             Scotland\n",
       "3              England\n",
       "4             Scotland\n",
       "             ...      \n",
       "41581         Barbados\n",
       "41582           Kosovo\n",
       "41583           Canada\n",
       "41584      El Salvador\n",
       "41585    United States\n",
       "Name: home_team, Length: 41586, dtype: object"
      ]
     },
     "execution_count": 46,
     "metadata": {},
     "output_type": "execute_result"
    }
   ],
   "source": [
    "df[\"home_team\"]"
   ]
  },
  {
   "cell_type": "code",
   "execution_count": 44,
   "metadata": {
    "id": "cXl4Qh6i980Q"
   },
   "outputs": [
    {
     "data": {
      "text/html": [
       "<div>\n",
       "<style scoped>\n",
       "    .dataframe tbody tr th:only-of-type {\n",
       "        vertical-align: middle;\n",
       "    }\n",
       "\n",
       "    .dataframe tbody tr th {\n",
       "        vertical-align: top;\n",
       "    }\n",
       "\n",
       "    .dataframe thead th {\n",
       "        text-align: right;\n",
       "    }\n",
       "</style>\n",
       "<table border=\"1\" class=\"dataframe\">\n",
       "  <thead>\n",
       "    <tr style=\"text-align: right;\">\n",
       "      <th></th>\n",
       "      <th>date</th>\n",
       "      <th>home_team</th>\n",
       "      <th>away_team</th>\n",
       "      <th>home_score</th>\n",
       "      <th>away_score</th>\n",
       "      <th>tournament</th>\n",
       "      <th>city</th>\n",
       "      <th>country</th>\n",
       "      <th>neutral</th>\n",
       "    </tr>\n",
       "  </thead>\n",
       "  <tbody>\n",
       "    <tr>\n",
       "      <th>683</th>\n",
       "      <td>1923-01-01</td>\n",
       "      <td>Guatemala</td>\n",
       "      <td>Mexico</td>\n",
       "      <td>2</td>\n",
       "      <td>3</td>\n",
       "      <td>Friendly</td>\n",
       "      <td>Guatemala</td>\n",
       "      <td>Guatemala</td>\n",
       "      <td>False</td>\n",
       "    </tr>\n",
       "    <tr>\n",
       "      <th>685</th>\n",
       "      <td>1923-01-04</td>\n",
       "      <td>Guatemala</td>\n",
       "      <td>Mexico</td>\n",
       "      <td>3</td>\n",
       "      <td>1</td>\n",
       "      <td>Friendly</td>\n",
       "      <td>Guatemala</td>\n",
       "      <td>Guatemala</td>\n",
       "      <td>False</td>\n",
       "    </tr>\n",
       "    <tr>\n",
       "      <th>686</th>\n",
       "      <td>1923-01-07</td>\n",
       "      <td>Guatemala</td>\n",
       "      <td>Mexico</td>\n",
       "      <td>1</td>\n",
       "      <td>4</td>\n",
       "      <td>Friendly</td>\n",
       "      <td>Guatemala</td>\n",
       "      <td>Guatemala</td>\n",
       "      <td>False</td>\n",
       "    </tr>\n",
       "    <tr>\n",
       "      <th>769</th>\n",
       "      <td>1923-12-09</td>\n",
       "      <td>Mexico</td>\n",
       "      <td>Guatemala</td>\n",
       "      <td>2</td>\n",
       "      <td>1</td>\n",
       "      <td>Friendly</td>\n",
       "      <td>Mexico City</td>\n",
       "      <td>Mexico</td>\n",
       "      <td>False</td>\n",
       "    </tr>\n",
       "    <tr>\n",
       "      <th>770</th>\n",
       "      <td>1923-12-12</td>\n",
       "      <td>Mexico</td>\n",
       "      <td>Guatemala</td>\n",
       "      <td>2</td>\n",
       "      <td>0</td>\n",
       "      <td>Friendly</td>\n",
       "      <td>Mexico City</td>\n",
       "      <td>Mexico</td>\n",
       "      <td>False</td>\n",
       "    </tr>\n",
       "  </tbody>\n",
       "</table>\n",
       "</div>"
      ],
      "text/plain": [
       "           date  home_team  away_team  home_score  away_score tournament  \\\n",
       "683  1923-01-01  Guatemala     Mexico           2           3   Friendly   \n",
       "685  1923-01-04  Guatemala     Mexico           3           1   Friendly   \n",
       "686  1923-01-07  Guatemala     Mexico           1           4   Friendly   \n",
       "769  1923-12-09     Mexico  Guatemala           2           1   Friendly   \n",
       "770  1923-12-12     Mexico  Guatemala           2           0   Friendly   \n",
       "\n",
       "            city    country  neutral  \n",
       "683    Guatemala  Guatemala    False  \n",
       "685    Guatemala  Guatemala    False  \n",
       "686    Guatemala  Guatemala    False  \n",
       "769  Mexico City     Mexico    False  \n",
       "770  Mexico City     Mexico    False  "
      ]
     },
     "execution_count": 44,
     "metadata": {},
     "output_type": "execute_result"
    }
   ],
   "source": [
    "# Filtrado de filas\n",
    "#df2 = df[df['home_team'] == 'Mexico']\n",
    "df2 = df[(df['home_team'] == 'Mexico') | (df['away_team'] == 'Mexico')]\n",
    "#df2 = df[df.home_team == 'Mexico']\n",
    "df2.head()"
   ]
  },
  {
   "cell_type": "code",
   "execution_count": 45,
   "metadata": {
    "id": "OnCRuhTD980S"
   },
   "outputs": [
    {
     "data": {
      "text/html": [
       "<div>\n",
       "<style scoped>\n",
       "    .dataframe tbody tr th:only-of-type {\n",
       "        vertical-align: middle;\n",
       "    }\n",
       "\n",
       "    .dataframe tbody tr th {\n",
       "        vertical-align: top;\n",
       "    }\n",
       "\n",
       "    .dataframe thead th {\n",
       "        text-align: right;\n",
       "    }\n",
       "</style>\n",
       "<table border=\"1\" class=\"dataframe\">\n",
       "  <thead>\n",
       "    <tr style=\"text-align: right;\">\n",
       "      <th></th>\n",
       "      <th>home_team</th>\n",
       "      <th>home_score</th>\n",
       "    </tr>\n",
       "  </thead>\n",
       "  <tbody>\n",
       "    <tr>\n",
       "      <th>0</th>\n",
       "      <td>Scotland</td>\n",
       "      <td>0</td>\n",
       "    </tr>\n",
       "    <tr>\n",
       "      <th>1</th>\n",
       "      <td>England</td>\n",
       "      <td>4</td>\n",
       "    </tr>\n",
       "    <tr>\n",
       "      <th>2</th>\n",
       "      <td>Scotland</td>\n",
       "      <td>2</td>\n",
       "    </tr>\n",
       "    <tr>\n",
       "      <th>3</th>\n",
       "      <td>England</td>\n",
       "      <td>2</td>\n",
       "    </tr>\n",
       "    <tr>\n",
       "      <th>4</th>\n",
       "      <td>Scotland</td>\n",
       "      <td>3</td>\n",
       "    </tr>\n",
       "  </tbody>\n",
       "</table>\n",
       "</div>"
      ],
      "text/plain": [
       "  home_team  home_score\n",
       "0  Scotland           0\n",
       "1   England           4\n",
       "2  Scotland           2\n",
       "3   England           2\n",
       "4  Scotland           3"
      ]
     },
     "execution_count": 45,
     "metadata": {},
     "output_type": "execute_result"
    }
   ],
   "source": [
    "# Seleccionar columnas\n",
    "df2 = df[['home_team', 'home_score']]\n",
    "df2.head()"
   ]
  },
  {
   "cell_type": "markdown",
   "metadata": {
    "id": "Zzj_dqZa980U"
   },
   "source": [
    "## Retos"
   ]
  },
  {
   "cell_type": "markdown",
   "metadata": {
    "id": "4bdDmaNN980U"
   },
   "source": [
    "### Reto 1\n",
    "1. ¿Cuántos partidos ha jugado México como  local? ¿Cuántos como visitantes?\n",
    "2. ¿Cuál es el promedio de goles de México como visitante?\n",
    "3. ¿Cuál es el promedio de goles de México como local?\n",
    "4. ¿Cuál es el mayor número de goles anotados por México en partidos como local??\n",
    "4. ¿Cuál es el mayor número de goles anotados por México en partidos como visitante?"
   ]
  },
  {
   "cell_type": "code",
   "execution_count": null,
   "metadata": {
    "id": "s3fImrwZ980V"
   },
   "outputs": [],
   "source": [
    "# Espacio para tu programa\n",
    "df_mx_local = df[df.home_team == 'Mexico']\n",
    "df_mx_local.shape"
   ]
  },
  {
   "cell_type": "code",
   "execution_count": null,
   "metadata": {
    "id": "ZVeXt0yHKZX5"
   },
   "outputs": [],
   "source": [
    "df_mx_vis = df[df.away_team == 'Mexico']\n",
    "df_mx_vis.shape"
   ]
  },
  {
   "cell_type": "code",
   "execution_count": null,
   "metadata": {
    "id": "bta4OU1RKrrf"
   },
   "outputs": [],
   "source": [
    "# Pregunta 3\n",
    "df_mx_local.home_score.mean()"
   ]
  },
  {
   "cell_type": "code",
   "execution_count": null,
   "metadata": {
    "id": "h8w4BnorLmYA"
   },
   "outputs": [],
   "source": [
    "# Pregunta 4\n",
    "print(df_mx_local.home_score.max())\n",
    "print(df_mx_local.away_score.max())"
   ]
  },
  {
   "cell_type": "code",
   "execution_count": null,
   "metadata": {
    "id": "N0VMC0fjMM1R"
   },
   "outputs": [],
   "source": [
    "print(df_mx_local.away_score.max())"
   ]
  },
  {
   "cell_type": "code",
   "execution_count": null,
   "metadata": {
    "id": "f7MnEbMdxTHM"
   },
   "outputs": [],
   "source": [
    "df_mx_local[df_mx_local.away_score==7]"
   ]
  },
  {
   "cell_type": "code",
   "execution_count": null,
   "metadata": {
    "id": "EmBoMTCfxkCD"
   },
   "outputs": [],
   "source": [
    "df[df.away_score==21]"
   ]
  },
  {
   "cell_type": "markdown",
   "metadata": {
    "id": "G5Mli80m980Y"
   },
   "source": [
    "### Reto 2\n",
    "Calcula el histograma de goles anotados por México como visitante."
   ]
  },
  {
   "cell_type": "code",
   "execution_count": null,
   "metadata": {
    "id": "mAcrfV6V980Z"
   },
   "outputs": [],
   "source": [
    "# Creación histograma\n",
    "df_mx_vis.away_score.hist(bins=20)"
   ]
  },
  {
   "cell_type": "code",
   "execution_count": null,
   "metadata": {
    "id": "IZqGhJXS980c"
   },
   "outputs": [],
   "source": []
  }
 ],
 "metadata": {
  "colab": {
   "collapsed_sections": [],
   "name": "intro_numpy_pandas.ipynb",
   "provenance": []
  },
  "kernelspec": {
   "display_name": "Python 3",
   "language": "python",
   "name": "python3"
  },
  "language_info": {
   "codemirror_mode": {
    "name": "ipython",
    "version": 3
   },
   "file_extension": ".py",
   "mimetype": "text/x-python",
   "name": "python",
   "nbconvert_exporter": "python",
   "pygments_lexer": "ipython3",
   "version": "3.7.9"
  }
 },
 "nbformat": 4,
 "nbformat_minor": 1
}
