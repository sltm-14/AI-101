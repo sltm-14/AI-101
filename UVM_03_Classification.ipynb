{
 "cells": [
  {
   "cell_type": "markdown",
   "metadata": {
    "id": "Mfq9kBH1BCgC"
   },
   "source": [
    "# Classification\n"
   ]
  },
  {
   "cell_type": "markdown",
   "metadata": {
    "id": "QizR-PAeBCgH"
   },
   "source": [
    "## Classification of MNIST dataset\n",
    "\n",
    "The MNIST dataset consists of 70,000 small images of handwritten digits  by high school students and employees of the US Census Bureau.\n",
    "\n",
    "Each image is labeled with the digit it represents.\n",
    "\n",
    "The goal of classification is, after being trained, to predict a class for a new sample. The output is a discrete label."
   ]
  },
  {
   "cell_type": "code",
   "execution_count": 1,
   "metadata": {
    "colab": {
     "base_uri": "https://localhost:8080/",
     "height": 35
    },
    "executionInfo": {
     "elapsed": 948,
     "status": "ok",
     "timestamp": 1612023039640,
     "user": {
      "displayName": "Centro de Innovación Industrial IA",
      "photoUrl": "",
      "userId": "16682900235901811455"
     },
     "user_tz": 360
    },
    "id": "671_37xqBCgI",
    "outputId": "09999d83-e6e8-4944-b9df-818af159f393"
   },
   "outputs": [
    {
     "data": {
      "text/plain": [
       "'3.7.9'"
      ]
     },
     "execution_count": 1,
     "metadata": {},
     "output_type": "execute_result"
    }
   ],
   "source": [
    "from platform import python_version\n",
    "python_version()"
   ]
  },
  {
   "cell_type": "code",
   "execution_count": 2,
   "metadata": {
    "colab": {
     "base_uri": "https://localhost:8080/",
     "height": 35
    },
    "executionInfo": {
     "elapsed": 2369,
     "status": "ok",
     "timestamp": 1612023041068,
     "user": {
      "displayName": "Centro de Innovación Industrial IA",
      "photoUrl": "",
      "userId": "16682900235901811455"
     },
     "user_tz": 360
    },
    "id": "ulcC0rh8BCgJ",
    "outputId": "c24295d5-8400-4e5d-e122-babf705d700f"
   },
   "outputs": [
    {
     "data": {
      "text/plain": [
       "'0.21.2'"
      ]
     },
     "execution_count": 2,
     "metadata": {},
     "output_type": "execute_result"
    }
   ],
   "source": [
    "import sklearn\n",
    "sklearn.__version__"
   ]
  },
  {
   "cell_type": "code",
   "execution_count": 3,
   "metadata": {
    "executionInfo": {
     "elapsed": 2367,
     "status": "ok",
     "timestamp": 1612023041068,
     "user": {
      "displayName": "Centro de Innovación Industrial IA",
      "photoUrl": "",
      "userId": "16682900235901811455"
     },
     "user_tz": 360
    },
    "id": "Ew53_QTGBCgJ"
   },
   "outputs": [],
   "source": [
    "import numpy as np\n",
    "%matplotlib inline\n",
    "import matplotlib\n",
    "import matplotlib.pyplot as plt\n",
    "\n",
    "# to make this notebook's output stable across runs\n",
    "np.random.seed(42)"
   ]
  },
  {
   "cell_type": "code",
   "execution_count": 43,
   "metadata": {
    "colab": {
     "base_uri": "https://localhost:8080/"
    },
    "executionInfo": {
     "elapsed": 4576,
     "status": "ok",
     "timestamp": 1612023043282,
     "user": {
      "displayName": "Centro de Innovación Industrial IA",
      "photoUrl": "",
      "userId": "16682900235901811455"
     },
     "user_tz": 360
    },
    "id": "izq0U9dOBCgJ",
    "outputId": "7d029d44-8811-4a8b-b04b-d6fac2eafe71"
   },
   "outputs": [
    {
     "data": {
      "text/plain": [
       "((60000, 28, 28), (10000, 28, 28))"
      ]
     },
     "execution_count": 43,
     "metadata": {},
     "output_type": "execute_result"
    }
   ],
   "source": [
    "# conda install -c conda-forge tensorflow \n",
    "# conda install -c conda-forge keras\n",
    "import tensorflow as tf\n",
    "mnist = tf.keras.datasets.mnist\n",
    "mnist\n",
    "\n",
    "# load data\n",
    "(X_train, y_train),(X_test, y_test) = mnist.load_data() # Carga los datos de forma aleatoria\n",
    "\n",
    "X_train.shape, X_test.shape"
   ]
  },
  {
   "cell_type": "code",
   "execution_count": 7,
   "metadata": {
    "executionInfo": {
     "elapsed": 4572,
     "status": "ok",
     "timestamp": 1612023043284,
     "user": {
      "displayName": "Centro de Innovación Industrial IA",
      "photoUrl": "",
      "userId": "16682900235901811455"
     },
     "user_tz": 360
    },
    "id": "ps28dlb5BCgK"
   },
   "outputs": [],
   "source": [
    "# reshape the data to 784 features (28*28)\n",
    "X_train = X_train.reshape(60000, 784)\n",
    "X_test = X_test.reshape(10000, 784) "
   ]
  },
  {
   "cell_type": "code",
   "execution_count": 8,
   "metadata": {
    "colab": {
     "base_uri": "https://localhost:8080/"
    },
    "executionInfo": {
     "elapsed": 4568,
     "status": "ok",
     "timestamp": 1612023043284,
     "user": {
      "displayName": "Centro de Innovación Industrial IA",
      "photoUrl": "",
      "userId": "16682900235901811455"
     },
     "user_tz": 360
    },
    "id": "d8FFt8-IBCgK",
    "outputId": "88d14374-1cdf-4c79-d496-541ad9f97f30"
   },
   "outputs": [
    {
     "data": {
      "text/plain": [
       "((60000, 784), (10000, 784))"
      ]
     },
     "execution_count": 8,
     "metadata": {},
     "output_type": "execute_result"
    }
   ],
   "source": [
    "X_train.shape, X_test.shape"
   ]
  },
  {
   "cell_type": "code",
   "execution_count": 9,
   "metadata": {
    "colab": {
     "base_uri": "https://localhost:8080/"
    },
    "executionInfo": {
     "elapsed": 4564,
     "status": "ok",
     "timestamp": 1612023043285,
     "user": {
      "displayName": "Centro de Innovación Industrial IA",
      "photoUrl": "",
      "userId": "16682900235901811455"
     },
     "user_tz": 360
    },
    "id": "Wbt6PP6FBCgK",
    "outputId": "939129ec-6981-47cb-cf68-404bbe48d392"
   },
   "outputs": [
    {
     "data": {
      "text/plain": [
       "((60000,), (10000,))"
      ]
     },
     "execution_count": 9,
     "metadata": {},
     "output_type": "execute_result"
    }
   ],
   "source": [
    "y_train.shape, y_test.shape"
   ]
  },
  {
   "cell_type": "markdown",
   "metadata": {
    "id": "INRb8szEBCgL"
   },
   "source": [
    "70,000 images and each images has 784 features.\n",
    "\n",
    "Each image has 28x28 pixels and each feature represents one pixel's intensity, from 0 (white) to 255 (black).\n",
    "\n",
    "To visualize one digit from the dataset:"
   ]
  },
  {
   "cell_type": "code",
   "execution_count": 10,
   "metadata": {
    "colab": {
     "base_uri": "https://localhost:8080/",
     "height": 265
    },
    "executionInfo": {
     "elapsed": 5055,
     "status": "ok",
     "timestamp": 1612023043780,
     "user": {
      "displayName": "Centro de Innovación Industrial IA",
      "photoUrl": "",
      "userId": "16682900235901811455"
     },
     "user_tz": 360
    },
    "id": "SoDQIG77BCgL",
    "outputId": "b58206a9-ee08-4b5c-b323-4c84e3b4e7ad"
   },
   "outputs": [
    {
     "data": {
      "image/png": "[encoded data removed]",
      "text/plain": [
       "<Figure size 432x288 with 1 Axes>"
      ]
     },
     "metadata": {
      "needs_background": "light"
     },
     "output_type": "display_data"
    }
   ],
   "source": [
    "# choose an instance's feature vector\n",
    "some_digit = X_train[27000]\n",
    "\n",
    "# reshape to 28x28 array\n",
    "some_digit_image = some_digit.reshape(28, 28)\n",
    "\n",
    "# display the image\n",
    "plt.imshow(some_digit_image, cmap = matplotlib.cm.binary,\n",
    "          interpolation = 'nearest');"
   ]
  },
  {
   "cell_type": "code",
   "execution_count": 11,
   "metadata": {
    "colab": {
     "base_uri": "https://localhost:8080/"
    },
    "executionInfo": {
     "elapsed": 5051,
     "status": "ok",
     "timestamp": 1612023043781,
     "user": {
      "displayName": "Centro de Innovación Industrial IA",
      "photoUrl": "",
      "userId": "16682900235901811455"
     },
     "user_tz": 360
    },
    "id": "smp4O4srBCgL",
    "outputId": "1972e3a0-5f05-4bba-9884-05909100683f"
   },
   "outputs": [
    {
     "data": {
      "text/plain": [
       "5"
      ]
     },
     "execution_count": 11,
     "metadata": {},
     "output_type": "execute_result"
    }
   ],
   "source": [
    "# image label\n",
    "y_train[27000]"
   ]
  },
  {
   "cell_type": "markdown",
   "metadata": {
    "id": "wWZu46voBCgL"
   },
   "source": [
    "MNIST dataset is already split into a training set (first 60,000 images) and a test set (last 10,000 images)."
   ]
  },
  {
   "cell_type": "code",
   "execution_count": 12,
   "metadata": {
    "executionInfo": {
     "elapsed": 5049,
     "status": "ok",
     "timestamp": 1612023043781,
     "user": {
      "displayName": "Centro de Innovación Industrial IA",
      "photoUrl": "",
      "userId": "16682900235901811455"
     },
     "user_tz": 360
    },
    "id": "H0DGOw1IBCgL"
   },
   "outputs": [],
   "source": [
    "# shuffle the training set\n",
    "shuffle_index = np.random.permutation(60000)\n",
    "X_train, y_train = X_train[shuffle_index], y_train[shuffle_index]"
   ]
  },
  {
   "cell_type": "markdown",
   "metadata": {
    "id": "76tp9TUWBCgM"
   },
   "source": [
    "## Training a Binary Classifier"
   ]
  },
  {
   "cell_type": "markdown",
   "metadata": {
    "id": "g1CFHVUOBCgM"
   },
   "source": [
    "Create a binay classifier to detect digit 5:"
   ]
  },
  {
   "cell_type": "code",
   "execution_count": 13,
   "metadata": {
    "colab": {
     "base_uri": "https://localhost:8080/"
    },
    "executionInfo": {
     "elapsed": 5045,
     "status": "ok",
     "timestamp": 1612023043782,
     "user": {
      "displayName": "Centro de Innovación Industrial IA",
      "photoUrl": "",
      "userId": "16682900235901811455"
     },
     "user_tz": 360
    },
    "id": "WVjkz64RBCgM",
    "outputId": "317a1c17-953f-4a96-94b5-bc8b9ec7dd91"
   },
   "outputs": [
    {
     "data": {
      "text/plain": [
       "array([False, False, False, ..., False, False, False])"
      ]
     },
     "execution_count": 13,
     "metadata": {},
     "output_type": "execute_result"
    }
   ],
   "source": [
    "# true for all 5s and false for all the other digits\n",
    "y_train_5 = (y_train == 5)\n",
    "y_test_5 = (y_test == 5)\n",
    "y_train_5"
   ]
  },
  {
   "cell_type": "markdown",
   "metadata": {
    "id": "vVvsJ6hBBCgM"
   },
   "source": [
    "Stochastic Gradient Descent (SGD) classifier is able to handle very large datasets efficiently. \n",
    "\n",
    "SGD classifier relies on randomness during training so to obtain reproducible results set the `random_state` parameter."
   ]
  },
  {
   "cell_type": "code",
   "execution_count": 14,
   "metadata": {
    "colab": {
     "base_uri": "https://localhost:8080/"
    },
    "executionInfo": {
     "elapsed": 13360,
     "status": "ok",
     "timestamp": 1612023052100,
     "user": {
      "displayName": "Centro de Innovación Industrial IA",
      "photoUrl": "",
      "userId": "16682900235901811455"
     },
     "user_tz": 360
    },
    "id": "Bbym4hK5BCgM",
    "outputId": "c435948e-934a-4985-af85-c5972256ce92",
    "scrolled": false
   },
   "outputs": [
    {
     "data": {
      "text/plain": [
       "SGDClassifier(alpha=0.0001, average=False, class_weight=None,\n",
       "              early_stopping=True, epsilon=0.1, eta0=0.1, fit_intercept=True,\n",
       "              l1_ratio=0.15, learning_rate='adaptive', loss='hinge',\n",
       "              max_iter=1000, n_iter_no_change=5, n_jobs=None, penalty='l2',\n",
       "              power_t=0.5, random_state=42, shuffle=True, tol=0.001,\n",
       "              validation_fraction=0.1, verbose=0, warm_start=False)"
      ]
     },
     "execution_count": 14,
     "metadata": {},
     "output_type": "execute_result"
    }
   ],
   "source": [
    "from sklearn.linear_model import SGDClassifier\n",
    "\n",
    "sgd = SGDClassifier(random_state = 42,eta0=0.1,learning_rate='adaptive', early_stopping=True)\n",
    "sgd.fit(X_train, y_train_5)"
   ]
  },
  {
   "cell_type": "markdown",
   "metadata": {
    "id": "Qc_wLcCRBCgM"
   },
   "source": [
    "After being fitted, the model can be used to detect images of th number 5:"
   ]
  },
  {
   "cell_type": "code",
   "execution_count": 15,
   "metadata": {
    "colab": {
     "base_uri": "https://localhost:8080/"
    },
    "executionInfo": {
     "elapsed": 13357,
     "status": "ok",
     "timestamp": 1612023052100,
     "user": {
      "displayName": "Centro de Innovación Industrial IA",
      "photoUrl": "",
      "userId": "16682900235901811455"
     },
     "user_tz": 360
    },
    "id": "fNB5LAOzBCgN",
    "outputId": "5d9ac81d-69a5-4d3a-896d-30ddff5185ea"
   },
   "outputs": [
    {
     "data": {
      "text/plain": [
       "array([False])"
      ]
     },
     "execution_count": 15,
     "metadata": {},
     "output_type": "execute_result"
    }
   ],
   "source": [
    "sgd.predict([some_digit])"
   ]
  },
  {
   "cell_type": "code",
   "execution_count": 16,
   "metadata": {},
   "outputs": [
    {
     "data": {
      "text/plain": [
       "array([False])"
      ]
     },
     "execution_count": 16,
     "metadata": {},
     "output_type": "execute_result"
    }
   ],
   "source": [
    "sgd.predict([X_train[27000]])"
   ]
  },
  {
   "cell_type": "code",
   "execution_count": 17,
   "metadata": {
    "executionInfo": {
     "elapsed": 13355,
     "status": "ok",
     "timestamp": 1612023052100,
     "user": {
      "displayName": "Centro de Innovación Industrial IA",
      "photoUrl": "",
      "userId": "16682900235901811455"
     },
     "user_tz": 360
    },
    "id": "ezyTqGBGBCgN"
   },
   "outputs": [],
   "source": [
    "new_digit = X_train[4000]"
   ]
  },
  {
   "cell_type": "code",
   "execution_count": 18,
   "metadata": {
    "colab": {
     "base_uri": "https://localhost:8080/"
    },
    "executionInfo": {
     "elapsed": 13353,
     "status": "ok",
     "timestamp": 1612023052101,
     "user": {
      "displayName": "Centro de Innovación Industrial IA",
      "photoUrl": "",
      "userId": "16682900235901811455"
     },
     "user_tz": 360
    },
    "id": "KMJMUy-PBCgN",
    "outputId": "d923d1e7-b5b2-4e50-abd0-086be1356653"
   },
   "outputs": [
    {
     "data": {
      "text/plain": [
       "9"
      ]
     },
     "execution_count": 18,
     "metadata": {},
     "output_type": "execute_result"
    }
   ],
   "source": [
    "# new_digit label\n",
    "y_train[4000]"
   ]
  },
  {
   "cell_type": "code",
   "execution_count": 19,
   "metadata": {
    "colab": {
     "base_uri": "https://localhost:8080/"
    },
    "executionInfo": {
     "elapsed": 13349,
     "status": "ok",
     "timestamp": 1612023052101,
     "user": {
      "displayName": "Centro de Innovación Industrial IA",
      "photoUrl": "",
      "userId": "16682900235901811455"
     },
     "user_tz": 360
    },
    "id": "XQ0NMY5IBCgN",
    "outputId": "6097cb01-cfd3-4626-8bce-69b4d0e9d39f"
   },
   "outputs": [
    {
     "data": {
      "text/plain": [
       "array([False])"
      ]
     },
     "execution_count": 19,
     "metadata": {},
     "output_type": "execute_result"
    }
   ],
   "source": [
    "# predict new_digit label\n",
    "sgd.predict([new_digit])"
   ]
  },
  {
   "cell_type": "markdown",
   "metadata": {
    "id": "sCpMMqrcBCgN"
   },
   "source": [
    "## Performance Meassures\n",
    "### Measuring Accuracy Using Cross-validation\n",
    "#### Implementing Cross-Validation"
   ]
  },
  {
   "cell_type": "markdown",
   "metadata": {
    "id": "QaXdAKssBCgO"
   },
   "source": [
    "Use the `cross_val_score()` function to evaluate the `SGDClassifier` using K-fold cross-validation. That means splitting the training set into K-folds then making predictions and evaluating each fold using a model trained on the remaining folds:"
   ]
  },
  {
   "cell_type": "code",
   "execution_count": 20,
   "metadata": {
    "colab": {
     "base_uri": "https://localhost:8080/"
    },
    "executionInfo": {
     "elapsed": 29198,
     "status": "ok",
     "timestamp": 1612023067954,
     "user": {
      "displayName": "Centro de Innovación Industrial IA",
      "photoUrl": "",
      "userId": "16682900235901811455"
     },
     "user_tz": 360
    },
    "id": "I5Oh2zZ8BCgO",
    "outputId": "af7382b1-8b03-4bbb-cf48-0eeb4e64258d"
   },
   "outputs": [
    {
     "data": {
      "text/plain": [
       "array([0.9683 , 0.9669 , 0.96385])"
      ]
     },
     "execution_count": 20,
     "metadata": {},
     "output_type": "execute_result"
    }
   ],
   "source": [
    "from sklearn.model_selection import cross_val_score\n",
    "# cv determines the number of folds\n",
    "cross_val_score(sgd, X_train, y_train_5, cv=3, scoring='accuracy')"
   ]
  },
  {
   "cell_type": "markdown",
   "metadata": {
    "id": "pfBdpO4MBCgO"
   },
   "source": [
    "**Accuracy**: measures the fraction of all instances that are correctly categorized. It is the ratio of the number of correct classifications to the total number of (correct or incorrect) classifications.\n",
    "\n",
    "$Accuracy = \\frac{TP + TN}{TP+TN+FP+FN} = \\frac{TP + TN}{P+N}$"
   ]
  },
  {
   "cell_type": "markdown",
   "metadata": {
    "id": "Y8PNL_v5BCgO"
   },
   "source": [
    "BUT: only 10% of the images are 5s so if you guess that a number is not a 5, you will be right 90% of the time.\n",
    "\n",
    "Accuracy is not the preferred performance measure for classifiers, specially when dealing with skewed datasets."
   ]
  },
  {
   "cell_type": "markdown",
   "metadata": {
    "id": "EeenncnMBCgO"
   },
   "source": [
    "**Confusion matrix**: count the number of times instances of class A are classified as class B, a set of predictions is necesary to compare them to the actual targets."
   ]
  },
  {
   "cell_type": "code",
   "execution_count": 21,
   "metadata": {
    "executionInfo": {
     "elapsed": 44758,
     "status": "ok",
     "timestamp": 1612023083516,
     "user": {
      "displayName": "Centro de Innovación Industrial IA",
      "photoUrl": "",
      "userId": "16682900235901811455"
     },
     "user_tz": 360
    },
    "id": "_y5yrtytBCgO"
   },
   "outputs": [],
   "source": [
    "from sklearn.model_selection import cross_val_predict\n",
    "\n",
    "y_train_pred = cross_val_predict(sgd, X_train, y_train_5, cv=3)"
   ]
  },
  {
   "cell_type": "markdown",
   "metadata": {
    "id": "3OARweeIBCgO"
   },
   "source": [
    "`cross_val_predict()` performs K-fold validation and returns the predictions made on each test fold."
   ]
  },
  {
   "cell_type": "code",
   "execution_count": 22,
   "metadata": {
    "colab": {
     "base_uri": "https://localhost:8080/"
    },
    "executionInfo": {
     "elapsed": 44755,
     "status": "ok",
     "timestamp": 1612023083517,
     "user": {
      "displayName": "Centro de Innovación Industrial IA",
      "photoUrl": "",
      "userId": "16682900235901811455"
     },
     "user_tz": 360
    },
    "id": "WKwsMGRXBCgP",
    "outputId": "87662df1-1a44-4046-9d8b-76752681077d"
   },
   "outputs": [
    {
     "data": {
      "text/plain": [
       "array([[53590,   989],\n",
       "       [ 1030,  4391]], dtype=int64)"
      ]
     },
     "execution_count": 22,
     "metadata": {},
     "output_type": "execute_result"
    }
   ],
   "source": [
    "from sklearn.metrics import confusion_matrix\n",
    "#53124,  1455],\n",
    " #      [  949,  4472\n",
    "# tn, fp, fn, tp\n",
    "confusion_matrix(y_train_5, y_train_pred)"
   ]
  },
  {
   "cell_type": "markdown",
   "metadata": {
    "id": "Z_izSwz0BCgP"
   },
   "source": [
    "**Confusion matrix**\n",
    "\n",
    "Rows: actual class \n",
    "\n",
    "Columns: predicted class\n",
    "\n",
    "First row: negative class\n",
    "\n",
    "Second row: positive class"
   ]
  },
  {
   "cell_type": "markdown",
   "metadata": {
    "id": "WE3pLeYaBCgP"
   },
   "source": [
    "**Precision**: accuracy of the positive predictions\n",
    "\n",
    "$Precision = \\frac{TP}{TP+FP}$"
   ]
  },
  {
   "cell_type": "markdown",
   "metadata": {
    "id": "Hmhg5HLzBCgP"
   },
   "source": [
    "**Recall, Sensitivity or True Positive Rate**: rate of positive instances correctly detected by the classifier\n",
    "\n",
    "$Recall = \\frac{TP}{TP+FN}$"
   ]
  },
  {
   "cell_type": "code",
   "execution_count": 23,
   "metadata": {
    "colab": {
     "base_uri": "https://localhost:8080/"
    },
    "executionInfo": {
     "elapsed": 44752,
     "status": "ok",
     "timestamp": 1612023083518,
     "user": {
      "displayName": "Centro de Innovación Industrial IA",
      "photoUrl": "",
      "userId": "16682900235901811455"
     },
     "user_tz": 360
    },
    "id": "c_M1D0mqBCgP",
    "outputId": "10124242-fcd5-4aae-a760-6d3c1b054181"
   },
   "outputs": [
    {
     "data": {
      "text/plain": [
       "0.8161710037174721"
      ]
     },
     "execution_count": 23,
     "metadata": {},
     "output_type": "execute_result"
    }
   ],
   "source": [
    "from sklearn.metrics import precision_score, recall_score\n",
    "\n",
    "precision_score(y_train_5, y_train_pred)"
   ]
  },
  {
   "cell_type": "code",
   "execution_count": 24,
   "metadata": {
    "colab": {
     "base_uri": "https://localhost:8080/"
    },
    "executionInfo": {
     "elapsed": 44749,
     "status": "ok",
     "timestamp": 1612023083518,
     "user": {
      "displayName": "Centro de Innovación Industrial IA",
      "photoUrl": "",
      "userId": "16682900235901811455"
     },
     "user_tz": 360
    },
    "id": "ujoLMeHuBCgP",
    "outputId": "af488aa8-e2ab-4b2d-b6d7-ef1f0850e46c"
   },
   "outputs": [
    {
     "data": {
      "text/plain": [
       "0.8099981553218963"
      ]
     },
     "execution_count": 24,
     "metadata": {},
     "output_type": "execute_result"
    }
   ],
   "source": [
    "recall_score(y_train_5, y_train_pred)"
   ]
  },
  {
   "cell_type": "markdown",
   "metadata": {
    "id": "BFkirpOhBCgQ"
   },
   "source": [
    "To combine precision and recall into a single metric:\n",
    "\n",
    "**F1 score**: harmonic mean of precision and recall\n",
    "\n",
    "$F_1\\text{ score} = 2\\frac{(\\text{precision} \\cdot \\text{recall})}{(\\text{precision} + \\text{recall})}$\n"
   ]
  },
  {
   "cell_type": "code",
   "execution_count": 25,
   "metadata": {
    "colab": {
     "base_uri": "https://localhost:8080/"
    },
    "executionInfo": {
     "elapsed": 44745,
     "status": "ok",
     "timestamp": 1612023083518,
     "user": {
      "displayName": "Centro de Innovación Industrial IA",
      "photoUrl": "",
      "userId": "16682900235901811455"
     },
     "user_tz": 360
    },
    "id": "4bMNMFxVBCgQ",
    "outputId": "8fd90b98-48c2-45f9-9a61-9964cf8fcfea"
   },
   "outputs": [
    {
     "data": {
      "text/plain": [
       "0.8130728636237385"
      ]
     },
     "execution_count": 25,
     "metadata": {},
     "output_type": "execute_result"
    }
   ],
   "source": [
    "from sklearn.metrics import f1_score\n",
    "\n",
    "f1_score(y_train_5, y_train_pred)"
   ]
  },
  {
   "cell_type": "markdown",
   "metadata": {
    "id": "-S7tJfA9BCgQ"
   },
   "source": [
    "### Precision / Recall Tradeoff"
   ]
  },
  {
   "cell_type": "code",
   "execution_count": 26,
   "metadata": {
    "colab": {
     "base_uri": "https://localhost:8080/"
    },
    "executionInfo": {
     "elapsed": 44743,
     "status": "ok",
     "timestamp": 1612023083519,
     "user": {
      "displayName": "Centro de Innovación Industrial IA",
      "photoUrl": "",
      "userId": "16682900235901811455"
     },
     "user_tz": 360
    },
    "id": "bnJKNx41BCgQ",
    "outputId": "31dc2c1f-f7f8-40bb-c200-3458a2fbe218"
   },
   "outputs": [
    {
     "data": {
      "text/plain": [
       "array([-5115.81393738])"
      ]
     },
     "execution_count": 26,
     "metadata": {},
     "output_type": "execute_result"
    }
   ],
   "source": [
    "# get the confidence score for the example sample\n",
    "y_score_some_digit = sgd.decision_function([some_digit])\n",
    "y_score_some_digit"
   ]
  },
  {
   "cell_type": "code",
   "execution_count": 27,
   "metadata": {
    "colab": {
     "base_uri": "https://localhost:8080/"
    },
    "executionInfo": {
     "elapsed": 44740,
     "status": "ok",
     "timestamp": 1612023083520,
     "user": {
      "displayName": "Centro de Innovación Industrial IA",
      "photoUrl": "",
      "userId": "16682900235901811455"
     },
     "user_tz": 360
    },
    "id": "RHQzM5JXBCgQ",
    "outputId": "91602c8a-1bbe-4482-a4de-02cc537c3f5f"
   },
   "outputs": [
    {
     "data": {
      "text/plain": [
       "array([False])"
      ]
     },
     "execution_count": 27,
     "metadata": {},
     "output_type": "execute_result"
    }
   ],
   "source": [
    "threshold = 0\n",
    "y_some_digit_pred = (y_score_some_digit > threshold)\n",
    "y_some_digit_pred"
   ]
  },
  {
   "cell_type": "code",
   "execution_count": 28,
   "metadata": {
    "colab": {
     "base_uri": "https://localhost:8080/"
    },
    "executionInfo": {
     "elapsed": 44737,
     "status": "ok",
     "timestamp": 1612023083520,
     "user": {
      "displayName": "Centro de Innovación Industrial IA",
      "photoUrl": "",
      "userId": "16682900235901811455"
     },
     "user_tz": 360
    },
    "id": "FQdAwMamBCgQ",
    "outputId": "6946eb28-5fef-4aaf-da9b-fdaee08689e7"
   },
   "outputs": [
    {
     "data": {
      "text/plain": [
       "array([False])"
      ]
     },
     "execution_count": 28,
     "metadata": {},
     "output_type": "execute_result"
    }
   ],
   "source": [
    "# changing the threshold leads to different predictions\n",
    "threshold = y_score_some_digit + 1\n",
    "y_some_digit_pred = (y_score_some_digit > threshold)\n",
    "y_some_digit_pred"
   ]
  },
  {
   "cell_type": "code",
   "execution_count": 29,
   "metadata": {
    "colab": {
     "base_uri": "https://localhost:8080/"
    },
    "executionInfo": {
     "elapsed": 60917,
     "status": "ok",
     "timestamp": 1612023099701,
     "user": {
      "displayName": "Centro de Innovación Industrial IA",
      "photoUrl": "",
      "userId": "16682900235901811455"
     },
     "user_tz": 360
    },
    "id": "CzRKFE0CBCgQ",
    "outputId": "ffca6c39-da1b-42b5-9935-b58285fc2ce5"
   },
   "outputs": [
    {
     "data": {
      "text/plain": [
       "array([-150579.5526102 ,  -49921.49823914,  -53968.45462864, ...,\n",
       "        -64445.04276586, -126342.52600147,  -99328.12460193])"
      ]
     },
     "execution_count": 29,
     "metadata": {},
     "output_type": "execute_result"
    }
   ],
   "source": [
    "# predict y with decision function\n",
    "y_scores = cross_val_predict(sgd, X_train, y_train_5, cv=3, \n",
    "                             method='decision_function')\n",
    "y_scores"
   ]
  },
  {
   "cell_type": "code",
   "execution_count": 30,
   "metadata": {
    "colab": {
     "base_uri": "https://localhost:8080/"
    },
    "executionInfo": {
     "elapsed": 60916,
     "status": "ok",
     "timestamp": 1612023099702,
     "user": {
      "displayName": "Centro de Innovación Industrial IA",
      "photoUrl": "",
      "userId": "16682900235901811455"
     },
     "user_tz": 360
    },
    "id": "Hu7FrobyBCgR",
    "outputId": "ef3d8613-bfbf-425d-ae8c-18829dd4eabb"
   },
   "outputs": [
    {
     "name": "stdout",
     "output_type": "stream",
     "text": [
      "[0.09045704 0.09044186 0.09044337 ... 1.         1.         1.        ]\n"
     ]
    },
    {
     "data": {
      "text/plain": [
       "59930"
      ]
     },
     "execution_count": 30,
     "metadata": {},
     "output_type": "execute_result"
    }
   ],
   "source": [
    "from sklearn.metrics import precision_recall_curve\n",
    "\n",
    "# calculate the precision recall curve using the predictions and \n",
    "# the correct labels\n",
    "precision, recall, thresholds = precision_recall_curve(y_train_5, \n",
    "                                                         y_scores)\n",
    "print(precision)\n",
    "len(precision)"
   ]
  },
  {
   "cell_type": "code",
   "execution_count": 31,
   "metadata": {
    "colab": {
     "base_uri": "https://localhost:8080/"
    },
    "executionInfo": {
     "elapsed": 60915,
     "status": "ok",
     "timestamp": 1612023099702,
     "user": {
      "displayName": "Centro de Innovación Industrial IA",
      "photoUrl": "",
      "userId": "16682900235901811455"
     },
     "user_tz": 360
    },
    "id": "EPI1FnImBCgR",
    "outputId": "2f32d999-b4b6-42e9-e067-97f205d4ecdc"
   },
   "outputs": [
    {
     "data": {
      "text/plain": [
       "59930"
      ]
     },
     "execution_count": 31,
     "metadata": {},
     "output_type": "execute_result"
    }
   ],
   "source": [
    "len(recall)"
   ]
  },
  {
   "cell_type": "markdown",
   "metadata": {
    "id": "tY74JcnABCgR"
   },
   "source": [
    "The threshold value that gives the best precision / recall tradeoff for the task can be selected:"
   ]
  },
  {
   "cell_type": "code",
   "execution_count": 32,
   "metadata": {
    "colab": {
     "base_uri": "https://localhost:8080/",
     "height": 0
    },
    "executionInfo": {
     "elapsed": 60914,
     "status": "ok",
     "timestamp": 1612023099703,
     "user": {
      "displayName": "Centro de Innovación Industrial IA",
      "photoUrl": "",
      "userId": "16682900235901811455"
     },
     "user_tz": 360
    },
    "id": "b4xt3HMcBCgR",
    "outputId": "3ab6336c-7569-40de-ae1d-7618ab78a8ca"
   },
   "outputs": [
    {
     "data": {
      "image/png": "[encoded data removed]",
      "text/plain": [
       "<Figure size 576x288 with 1 Axes>"
      ]
     },
     "metadata": {
      "needs_background": "light"
     },
     "output_type": "display_data"
    }
   ],
   "source": [
    "def plot_precision_recall_vs_threshold(p, r, t):\n",
    "    plt.plot(t, p[:-1], \"b--\", label=\"Precision\", linewidth=2)\n",
    "    plt.plot(t, r[:-1], \"g-\", label=\"Recall\", linewidth=2)\n",
    "    plt.xlabel(\"Threshold\", fontsize=16)\n",
    "    plt.legend(loc=\"upper left\", fontsize=16)\n",
    "    plt.ylim([0, 1])\n",
    "\n",
    "plt.figure(figsize=(8, 4))\n",
    "plot_precision_recall_vs_threshold(precision, recall, thresholds)\n",
    "plt.xlim([-30000, 30000]);"
   ]
  },
  {
   "cell_type": "markdown",
   "metadata": {
    "id": "EJd1N-RFBCgS"
   },
   "source": [
    "The plot shows Precision and Recall as a function of the threshold. With this graph it is possible to select the best presicion/recall trade off for the task. A high-precision classifier is not useful if its recall is too low."
   ]
  },
  {
   "cell_type": "code",
   "execution_count": 33,
   "metadata": {
    "colab": {
     "base_uri": "https://localhost:8080/"
    },
    "executionInfo": {
     "elapsed": 60914,
     "status": "ok",
     "timestamp": 1612023099704,
     "user": {
      "displayName": "Centro de Innovación Industrial IA",
      "photoUrl": "",
      "userId": "16682900235901811455"
     },
     "user_tz": 360
    },
    "id": "0emV6IsaBCgS",
    "outputId": "ed99056d-cbd8-4cd9-bdc9-a7520102efea"
   },
   "outputs": [
    {
     "data": {
      "text/plain": [
       "0.8299516908212561"
      ]
     },
     "execution_count": 33,
     "metadata": {},
     "output_type": "execute_result"
    }
   ],
   "source": [
    "# 90% precision\n",
    "y_train_pred_90 = (y_scores > 2000)\n",
    "precision_score(y_train_5, y_train_pred_90)"
   ]
  },
  {
   "cell_type": "code",
   "execution_count": 34,
   "metadata": {
    "colab": {
     "base_uri": "https://localhost:8080/"
    },
    "executionInfo": {
     "elapsed": 60914,
     "status": "ok",
     "timestamp": 1612023099705,
     "user": {
      "displayName": "Centro de Innovación Industrial IA",
      "photoUrl": "",
      "userId": "16682900235901811455"
     },
     "user_tz": 360
    },
    "id": "Pjvrc3QfBCgS",
    "outputId": "4948ab34-f6b5-410a-fc81-ddd2e286aca8"
   },
   "outputs": [
    {
     "data": {
      "text/plain": [
       "0.7922892455266556"
      ]
     },
     "execution_count": 34,
     "metadata": {},
     "output_type": "execute_result"
    }
   ],
   "source": [
    "recall_score(y_train_5, y_train_pred_90)"
   ]
  },
  {
   "cell_type": "markdown",
   "metadata": {
    "id": "P71iXVsCBCgS"
   },
   "source": [
    "## Multiclass Classification\n",
    "\n",
    "Multiclass classifiers distinguish between more than two classes.\n",
    "\n",
    "Some algorithms handle multiple classes directly. Others are strictly binary classifiers. However there are strategies to perform multiclass classification using multiple binary classifiers. \n",
    "\n",
    "scikit-learn detects when you try to use a binary classification algorithm for a multiclass classification task and runs a one-versus-all strategy (or one-versus-the-rest)."
   ]
  },
  {
   "cell_type": "code",
   "execution_count": 35,
   "metadata": {
    "executionInfo": {
     "elapsed": 61599,
     "status": "ok",
     "timestamp": 1612023100392,
     "user": {
      "displayName": "Centro de Innovación Industrial IA",
      "photoUrl": "",
      "userId": "16682900235901811455"
     },
     "user_tz": 360
    },
    "id": "xAXImgHqBCgS"
   },
   "outputs": [],
   "source": [
    "sgd_clf = SGDClassifier(random_state = 42)"
   ]
  },
  {
   "cell_type": "code",
   "execution_count": 36,
   "metadata": {
    "colab": {
     "base_uri": "https://localhost:8080/"
    },
    "executionInfo": {
     "elapsed": 231004,
     "status": "ok",
     "timestamp": 1612023269798,
     "user": {
      "displayName": "Centro de Innovación Industrial IA",
      "photoUrl": "",
      "userId": "16682900235901811455"
     },
     "user_tz": 360
    },
    "id": "crjfLhl6BCgS",
    "outputId": "8008195f-12ed-4174-afe4-81615a12e06e"
   },
   "outputs": [
    {
     "data": {
      "text/plain": [
       "array([5], dtype=uint8)"
      ]
     },
     "execution_count": 36,
     "metadata": {},
     "output_type": "execute_result"
    }
   ],
   "source": [
    "sgd_clf.fit(X_train, y_train) # y_train, not y_train_5\n",
    "sgd_clf.predict([some_digit])"
   ]
  },
  {
   "cell_type": "markdown",
   "metadata": {
    "id": "zX03ZUG8BCgS"
   },
   "source": [
    "scikit-learn trained 10 binary classifiers, got decision scores for the image and selected the class with the highest score. To see this process call the `decision_function()` method, it will return 10 scores, one per class:"
   ]
  },
  {
   "cell_type": "code",
   "execution_count": 37,
   "metadata": {
    "colab": {
     "base_uri": "https://localhost:8080/"
    },
    "executionInfo": {
     "elapsed": 231003,
     "status": "ok",
     "timestamp": 1612023269798,
     "user": {
      "displayName": "Centro de Innovación Industrial IA",
      "photoUrl": "",
      "userId": "16682900235901811455"
     },
     "user_tz": 360
    },
    "id": "pbOFOkteBCgS",
    "outputId": "df39fa02-d47b-4ee8-dd88-5ae710859a89"
   },
   "outputs": [
    {
     "data": {
      "text/plain": [
       "array([[ -7236.73282925, -29422.8978827 ,  -7994.84359029,\n",
       "         -7051.40398456,  -1167.06638739,   -280.01624435,\n",
       "         -4013.74322494, -34807.61878917,  -3014.55785685,\n",
       "         -3481.75964009]])"
      ]
     },
     "execution_count": 37,
     "metadata": {},
     "output_type": "execute_result"
    }
   ],
   "source": [
    "some_digit_scores = sgd_clf.decision_function([some_digit])\n",
    "some_digit_scores"
   ]
  },
  {
   "cell_type": "code",
   "execution_count": 38,
   "metadata": {
    "colab": {
     "base_uri": "https://localhost:8080/"
    },
    "executionInfo": {
     "elapsed": 231003,
     "status": "ok",
     "timestamp": 1612023269799,
     "user": {
      "displayName": "Centro de Innovación Industrial IA",
      "photoUrl": "",
      "userId": "16682900235901811455"
     },
     "user_tz": 360
    },
    "id": "dJf7yj2SBCgT",
    "outputId": "cf7f1533-6304-471e-a5b0-c1b690af2b26"
   },
   "outputs": [
    {
     "data": {
      "text/plain": [
       "5"
      ]
     },
     "execution_count": 38,
     "metadata": {},
     "output_type": "execute_result"
    }
   ],
   "source": [
    "# select the highest score, in this case is the one for class 5\n",
    "np.argmax(some_digit_scores)"
   ]
  },
  {
   "cell_type": "code",
   "execution_count": 39,
   "metadata": {
    "colab": {
     "base_uri": "https://localhost:8080/"
    },
    "executionInfo": {
     "elapsed": 231001,
     "status": "ok",
     "timestamp": 1612023269799,
     "user": {
      "displayName": "Centro de Innovación Industrial IA",
      "photoUrl": "",
      "userId": "16682900235901811455"
     },
     "user_tz": 360
    },
    "id": "ROQvHSReBCgT",
    "outputId": "7fce3138-2750-440a-f90e-afb170aeb445"
   },
   "outputs": [
    {
     "data": {
      "text/plain": [
       "array([0, 1, 2, 3, 4, 5, 6, 7, 8, 9], dtype=uint8)"
      ]
     },
     "execution_count": 39,
     "metadata": {},
     "output_type": "execute_result"
    }
   ],
   "source": [
    "sgd_clf.classes_"
   ]
  },
  {
   "cell_type": "markdown",
   "metadata": {
    "id": "oQd-Gf5_BCgT"
   },
   "source": [
    "Warning!! When a classifier is trained, it stores the list of target classes in `classes_` attribute, ordered by value. In this case, the index of each class in the array matches the class itself but it is not always the case."
   ]
  },
  {
   "cell_type": "code",
   "execution_count": 40,
   "metadata": {
    "colab": {
     "base_uri": "https://localhost:8080/"
    },
    "executionInfo": {
     "elapsed": 231001,
     "status": "ok",
     "timestamp": 1612023269800,
     "user": {
      "displayName": "Centro de Innovación Industrial IA",
      "photoUrl": "",
      "userId": "16682900235901811455"
     },
     "user_tz": 360
    },
    "id": "Cx_0rjcvBCgT",
    "outputId": "89533a9a-1456-4007-ad2d-d715336abd52"
   },
   "outputs": [
    {
     "data": {
      "text/plain": [
       "5"
      ]
     },
     "execution_count": 40,
     "metadata": {},
     "output_type": "execute_result"
    }
   ],
   "source": [
    "sgd_clf.classes_[5]"
   ]
  },
  {
   "cell_type": "markdown",
   "metadata": {
    "id": "7d94VyuSBCgT"
   },
   "source": [
    "# Datos Adicionales"
   ]
  },
  {
   "cell_type": "code",
   "execution_count": 41,
   "metadata": {
    "colab": {
     "base_uri": "https://localhost:8080/"
    },
    "executionInfo": {
     "elapsed": 230998,
     "status": "ok",
     "timestamp": 1612023269800,
     "user": {
      "displayName": "Centro de Innovación Industrial IA",
      "photoUrl": "",
      "userId": "16682900235901811455"
     },
     "user_tz": 360
    },
    "id": "6lgUZgPbBCgT",
    "outputId": "1f5c8f67-8f7a-49dd-f33e-9438e7591664"
   },
   "outputs": [
    {
     "name": "stdout",
     "output_type": "stream",
     "text": [
      "[[ 0  1]\n",
      " [ 2  3]\n",
      " [ 4  5]\n",
      " [ 6  7]\n",
      " [ 8  9]\n",
      " [10 11]]\n",
      "[0, 1, 2, 3, 4, 5]\n"
     ]
    }
   ],
   "source": [
    "import numpy as np\n",
    "from sklearn.model_selection import train_test_split\n",
    "X,y=np.arange(12).reshape((6,2)),range(6)\n",
    "print(X)\n",
    "print(list(y))"
   ]
  },
  {
   "cell_type": "code",
   "execution_count": 42,
   "metadata": {
    "colab": {
     "base_uri": "https://localhost:8080/"
    },
    "executionInfo": {
     "elapsed": 230994,
     "status": "ok",
     "timestamp": 1612023269800,
     "user": {
      "displayName": "Centro de Innovación Industrial IA",
      "photoUrl": "",
      "userId": "16682900235901811455"
     },
     "user_tz": 360
    },
    "id": "kmKnlXxUBCgT",
    "outputId": "48852dda-4767-4b3e-eccc-015eb0fa0c11"
   },
   "outputs": [
    {
     "name": "stdout",
     "output_type": "stream",
     "text": [
      "[[10 11]\n",
      " [ 4  5]\n",
      " [ 8  9]\n",
      " [ 6  7]] [5, 2, 4, 3]\n"
     ]
    }
   ],
   "source": [
    "X_train, X_test, y_train, y_test = train_test_split(X,y,random_state=42)\n",
    "print(X_train,y_train)"
   ]
  },
  {
   "cell_type": "code",
   "execution_count": null,
   "metadata": {
    "executionInfo": {
     "elapsed": 230994,
     "status": "ok",
     "timestamp": 1612023269801,
     "user": {
      "displayName": "Centro de Innovación Industrial IA",
      "photoUrl": "",
      "userId": "16682900235901811455"
     },
     "user_tz": 360
    },
    "id": "WALhatzvBCgU"
   },
   "outputs": [],
   "source": []
  },
  {
   "cell_type": "code",
   "execution_count": null,
   "metadata": {
    "executionInfo": {
     "elapsed": 230993,
     "status": "ok",
     "timestamp": 1612023269801,
     "user": {
      "displayName": "Centro de Innovación Industrial IA",
      "photoUrl": "",
      "userId": "16682900235901811455"
     },
     "user_tz": 360
    },
    "id": "_fPn5v0tBCgU"
   },
   "outputs": [],
   "source": []
  }
 ],
 "metadata": {
  "colab": {
   "name": "UVM_03_Classification.ipynb",
   "provenance": []
  },
  "kernelspec": {
   "display_name": "Python 3",
   "language": "python",
   "name": "python3"
  },
  "language_info": {
   "codemirror_mode": {
    "name": "ipython",
    "version": 3
   },
   "file_extension": ".py",
   "mimetype": "text/x-python",
   "name": "python",
   "nbconvert_exporter": "python",
   "pygments_lexer": "ipython3",
   "version": "3.7.9"
  },
  "toc": {
   "base_numbering": 1,
   "nav_menu": {},
   "number_sections": false,
   "sideBar": true,
   "skip_h1_title": false,
   "title_cell": "Table of Contents",
   "title_sidebar": "Contents",
   "toc_cell": false,
   "toc_position": {},
   "toc_section_display": true,
   "toc_window_display": false
  }
 },
 "nbformat": 4,
 "nbformat_minor": 1
}
