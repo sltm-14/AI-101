{
 "cells": [
  {
   "cell_type": "code",
   "execution_count": 1,
   "id": "correct-karma",
   "metadata": {},
   "outputs": [],
   "source": [
    "# Import libraries\n",
    "import pandas as pd\n",
    "from sklearn.tree import DecisionTreeRegressor"
   ]
  },
  {
   "cell_type": "code",
   "execution_count": 2,
   "id": "demanding-distance",
   "metadata": {},
   "outputs": [],
   "source": [
    "# Import dataset\n",
    "iowa_file_path = './Datasets/train.csv'\n",
    "home_data = pd.read_csv(iowa_file_path)"
   ]
  },
  {
   "cell_type": "code",
   "execution_count": 3,
   "id": "enabling-nothing",
   "metadata": {},
   "outputs": [],
   "source": [
    "#Select X and y\n",
    "y = home_data.SalePrice\n",
    "feature_columns = ['LotArea', 'YearBuilt', '1stFlrSF', '2ndFlrSF', 'FullBath', 'BedroomAbvGr', 'TotRmsAbvGrd']\n",
    "X = home_data[feature_columns]"
   ]
  },
  {
   "cell_type": "code",
   "execution_count": 4,
   "id": "legendary-ordinance",
   "metadata": {},
   "outputs": [],
   "source": [
    "#Select a model and and train it\n",
    "iowa_model = DecisionTreeRegressor();\n",
    "iowa_model.fit(X,y);"
   ]
  },
  {
   "cell_type": "code",
   "execution_count": 5,
   "id": "union-chambers",
   "metadata": {},
   "outputs": [
    {
     "name": "stdout",
     "output_type": "stream",
     "text": [
      "Predictions:  [208500. 181500. 223500. 140000. 250000.]\n",
      "Real results: [208500, 181500, 223500, 140000, 250000]\n"
     ]
    }
   ],
   "source": [
    "# Make predictions and compare\n",
    "print(\"Predictions: \" , iowa_model.predict(X.head()))\n",
    "print(\"Real results:\", y.head().tolist())"
   ]
  },
  {
   "cell_type": "code",
   "execution_count": null,
   "id": "thermal-teens",
   "metadata": {},
   "outputs": [],
   "source": []
  }
 ],
 "metadata": {
  "kernelspec": {
   "display_name": "Python 3",
   "language": "python",
   "name": "python3"
  },
  "language_info": {
   "codemirror_mode": {
    "name": "ipython",
    "version": 3
   },
   "file_extension": ".py",
   "mimetype": "text/x-python",
   "name": "python",
   "nbconvert_exporter": "python",
   "pygments_lexer": "ipython3",
   "version": "3.8.8"
  }
 },
 "nbformat": 4,
 "nbformat_minor": 5
}
