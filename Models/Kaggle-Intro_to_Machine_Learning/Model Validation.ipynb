{
 "cells": [
  {
   "cell_type": "code",
   "execution_count": 1,
   "id": "revised-issue",
   "metadata": {},
   "outputs": [],
   "source": [
    "# Import libraries\n",
    "import pandas as pd\n",
    "from sklearn.tree import DecisionTreeRegressor\n",
    "from sklearn.model_selection import train_test_split\n",
    "from sklearn.metrics import mean_absolute_error"
   ]
  },
  {
   "cell_type": "code",
   "execution_count": 2,
   "id": "baking-cleaners",
   "metadata": {},
   "outputs": [],
   "source": [
    "# Import dataset\n",
    "iowa_file_path = './Datasets/train.csv'\n",
    "home_data = pd.read_csv(iowa_file_path)"
   ]
  },
  {
   "cell_type": "code",
   "execution_count": 3,
   "id": "isolated-action",
   "metadata": {},
   "outputs": [],
   "source": [
    "#Select X and y\n",
    "y = home_data.SalePrice\n",
    "feature_columns = ['LotArea', 'YearBuilt', '1stFlrSF', '2ndFlrSF', 'FullBath', 'BedroomAbvGr', 'TotRmsAbvGrd']\n",
    "X = home_data[feature_columns]"
   ]
  },
  {
   "cell_type": "code",
   "execution_count": 4,
   "id": "dressed-buffer",
   "metadata": {},
   "outputs": [],
   "source": [
    "#Split the data\n",
    "train_X, val_X, train_y, val_y = train_test_split(X,y, random_state = 1)"
   ]
  },
  {
   "cell_type": "code",
   "execution_count": 5,
   "id": "conceptual-width",
   "metadata": {},
   "outputs": [],
   "source": [
    "#Select a model and and train it\n",
    "iowa_model = DecisionTreeRegressor(random_state = 1);\n",
    "iowa_model.fit(train_X,train_y);"
   ]
  },
  {
   "cell_type": "code",
   "execution_count": 6,
   "id": "honey-citation",
   "metadata": {},
   "outputs": [
    {
     "name": "stdout",
     "output_type": "stream",
     "text": [
      "Predictions:  [186500. 184000. 130000.  92000. 164500.]\n",
      "Real results: [231500, 179500, 122000, 84500, 142000]\n"
     ]
    }
   ],
   "source": [
    "# Make predictions and compare\n",
    "val_predictions = val_predictions = iowa_model.predict(val_X)\n",
    "print(\"Predictions: \" , val_predictions[:5])\n",
    "print(\"Real results:\", val_y.head().tolist())"
   ]
  },
  {
   "cell_type": "code",
   "execution_count": 7,
   "id": "excellent-valuation",
   "metadata": {},
   "outputs": [
    {
     "name": "stdout",
     "output_type": "stream",
     "text": [
      "29652.931506849316\n"
     ]
    }
   ],
   "source": [
    "# Calculate the mean absolute error in Validation data\n",
    "val_mae = mean_absolute_error(val_predictions, val_y)\n",
    "print(val_mae)"
   ]
  },
  {
   "cell_type": "code",
   "execution_count": null,
   "id": "detailed-traffic",
   "metadata": {},
   "outputs": [],
   "source": []
  }
 ],
 "metadata": {
  "kernelspec": {
   "display_name": "Python 3",
   "language": "python",
   "name": "python3"
  },
  "language_info": {
   "codemirror_mode": {
    "name": "ipython",
    "version": 3
   },
   "file_extension": ".py",
   "mimetype": "text/x-python",
   "name": "python",
   "nbconvert_exporter": "python",
   "pygments_lexer": "ipython3",
   "version": "3.8.8"
  }
 },
 "nbformat": 4,
 "nbformat_minor": 5
}
