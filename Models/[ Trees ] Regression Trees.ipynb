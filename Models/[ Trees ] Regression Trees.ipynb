{
 "cells": [
  {
   "cell_type": "markdown",
   "metadata": {},
   "source": [
    "# Regression Trees"
   ]
  },
  {
   "cell_type": "markdown",
   "metadata": {},
   "source": [
    "Generate a quadratic dataset  \n",
    "The predicted value for each region is always the average target value of the instances in that region"
   ]
  },
  {
   "cell_type": "code",
   "execution_count": 2,
   "metadata": {},
   "outputs": [],
   "source": [
    "import numpy as np \n",
    "%matplotlib inline\n",
    "import matplotlib\n",
    "import matplotlib.pyplot as plt\n",
    "\n",
    "np.random.seed(42)"
   ]
  },
  {
   "cell_type": "code",
   "execution_count": 3,
   "metadata": {},
   "outputs": [],
   "source": [
    "#Quadratic training set +  noise\n",
    "m = 200\n",
    "X = np.random.rand(m,1)\n",
    "y = 4 * (X - 0.5) ** 2\n",
    "y = y + np.random.rand(m,1)/10"
   ]
  },
  {
   "cell_type": "code",
   "execution_count": 9,
   "metadata": {},
   "outputs": [
    {
     "data": {
      "text/plain": [
       "array([[0.12716389],\n",
       "       [0.82098754],\n",
       "       [0.23144763],\n",
       "       [0.1287894 ],\n",
       "       [0.53393561],\n",
       "       [0.47427879],\n",
       "       [0.79130753],\n",
       "       [0.60269006],\n",
       "       [0.04140314],\n",
       "       [0.1892576 ],\n",
       "       [0.97423029],\n",
       "       [0.9524506 ],\n",
       "       [0.50726856],\n",
       "       [0.35342208],\n",
       "       [0.47615933],\n",
       "       [0.42465573],\n",
       "       [0.18582437],\n",
       "       [0.07710066],\n",
       "       [0.08348921],\n",
       "       [0.25926343],\n",
       "       [0.11580557],\n",
       "       [0.57668957],\n",
       "       [0.18218287],\n",
       "       [0.10820821],\n",
       "       [0.03423962],\n",
       "       [0.34970028],\n",
       "       [0.4580844 ],\n",
       "       [0.04012025],\n",
       "       [0.12336647],\n",
       "       [0.88594278],\n",
       "       [0.12574471],\n",
       "       [0.48448112],\n",
       "       [0.81441086],\n",
       "       [0.85524467],\n",
       "       [0.88677706],\n",
       "       [0.45268091],\n",
       "       [0.18078035],\n",
       "       [0.64990251],\n",
       "       [0.20031446],\n",
       "       [0.03203796],\n",
       "       [0.66546624],\n",
       "       [0.09548591],\n",
       "       [0.95866264],\n",
       "       [0.70718864],\n",
       "       [0.23429405],\n",
       "       [0.19848583],\n",
       "       [0.18462929],\n",
       "       [0.09827638],\n",
       "       [0.1050894 ],\n",
       "       [0.4825678 ],\n",
       "       [0.91148378],\n",
       "       [0.34130205],\n",
       "       [0.85775095],\n",
       "       [0.65524675],\n",
       "       [0.0552869 ],\n",
       "       [0.76759161],\n",
       "       [0.77096916],\n",
       "       [0.43930866],\n",
       "       [0.88427899],\n",
       "       [0.13175562],\n",
       "       [0.11107171],\n",
       "       [0.30813045],\n",
       "       [0.4462818 ],\n",
       "       [0.1339114 ],\n",
       "       [0.27969606],\n",
       "       [0.08136868],\n",
       "       [0.58544322],\n",
       "       [0.43554047],\n",
       "       [0.75997773],\n",
       "       [0.97759474],\n",
       "       [0.37740497],\n",
       "       [0.4441003 ],\n",
       "       [1.06474074],\n",
       "       [0.48938771],\n",
       "       [0.22229408],\n",
       "       [0.25992876],\n",
       "       [0.37417992],\n",
       "       [0.79074823],\n",
       "       [0.15032449],\n",
       "       [0.66980558],\n",
       "       [0.61637693],\n",
       "       [0.09460923],\n",
       "       [0.15194021],\n",
       "       [0.77132345],\n",
       "       [0.20073874],\n",
       "       [0.12583771],\n",
       "       [0.25743579],\n",
       "       [0.1299527 ],\n",
       "       [0.62838896],\n",
       "       [0.06217137],\n",
       "       [0.58188418],\n",
       "       [0.18562818],\n",
       "       [0.35429542],\n",
       "       [0.05103864],\n",
       "       [0.3063989 ],\n",
       "       [0.0523783 ],\n",
       "       [0.07906648],\n",
       "       [0.04258332],\n",
       "       [0.96319707],\n",
       "       [0.62353128],\n",
       "       [0.8834026 ],\n",
       "       [0.12756666],\n",
       "       [0.19191832],\n",
       "       [0.06403682],\n",
       "       [0.73705086],\n",
       "       [0.34900275],\n",
       "       [0.08375492],\n",
       "       [0.29352118],\n",
       "       [0.37372036],\n",
       "       [0.74286721],\n",
       "       [0.22071495],\n",
       "       [0.4669297 ],\n",
       "       [0.74109536],\n",
       "       [0.47601751],\n",
       "       [0.15478426],\n",
       "       [0.6215293 ],\n",
       "       [0.40976222],\n",
       "       [0.41028274],\n",
       "       [0.63205397],\n",
       "       [0.03121554],\n",
       "       [0.43300046],\n",
       "       [0.69901286],\n",
       "       [0.19851068],\n",
       "       [0.6362314 ],\n",
       "       [0.39156363],\n",
       "       [0.09504279],\n",
       "       [0.45996897],\n",
       "       [0.58167829],\n",
       "       [1.01434481],\n",
       "       [0.02523512],\n",
       "       [0.06288104],\n",
       "       [0.38468089],\n",
       "       [0.5794487 ],\n",
       "       [0.11708259],\n",
       "       [0.78927629],\n",
       "       [0.12910169],\n",
       "       [0.08695841],\n",
       "       [0.23523258],\n",
       "       [0.12180492],\n",
       "       [0.90009675],\n",
       "       [0.90459159],\n",
       "       [0.29379529],\n",
       "       [0.01735047],\n",
       "       [0.20198295],\n",
       "       [0.22502492],\n",
       "       [0.91947981],\n",
       "       [0.11152674],\n",
       "       [0.00455911],\n",
       "       [0.8421465 ],\n",
       "       [0.25857554],\n",
       "       [0.71703776],\n",
       "       [0.35696102],\n",
       "       [0.57026797],\n",
       "       [0.01673842],\n",
       "       [0.95048233],\n",
       "       [0.33038386],\n",
       "       [0.12117372],\n",
       "       [0.33235685],\n",
       "       [0.36935926],\n",
       "       [0.26587822],\n",
       "       [0.10874219],\n",
       "       [0.13434815],\n",
       "       [0.11714602],\n",
       "       [0.05968099],\n",
       "       [0.76559637],\n",
       "       [0.48832132],\n",
       "       [0.2245982 ],\n",
       "       [0.48361764],\n",
       "       [0.863129  ],\n",
       "       [0.03998224],\n",
       "       [0.13619421],\n",
       "       [0.93657149],\n",
       "       [0.01002926],\n",
       "       [0.36751892],\n",
       "       [0.09141942],\n",
       "       [0.45604645],\n",
       "       [0.23031641],\n",
       "       [0.05364272],\n",
       "       [0.84437918],\n",
       "       [0.55374974],\n",
       "       [0.1128561 ],\n",
       "       [0.66728459],\n",
       "       [0.78435296],\n",
       "       [0.65728715],\n",
       "       [0.30787613],\n",
       "       [0.18272767],\n",
       "       [0.43072315],\n",
       "       [0.02993247],\n",
       "       [0.0785781 ],\n",
       "       [0.34724443],\n",
       "       [0.76131194],\n",
       "       [0.6723832 ],\n",
       "       [0.67854029],\n",
       "       [0.14850529],\n",
       "       [0.13772599],\n",
       "       [0.18402674],\n",
       "       [0.29006515],\n",
       "       [0.67368564],\n",
       "       [0.67443071],\n",
       "       [0.38877557]])"
      ]
     },
     "execution_count": 9,
     "metadata": {},
     "output_type": "execute_result"
    }
   ],
   "source": [
    "y"
   ]
  },
  {
   "cell_type": "code",
   "execution_count": 5,
   "metadata": {},
   "outputs": [
    {
     "data": {
      "text/plain": [
       "DecisionTreeRegressor(criterion='mse', max_depth=2, max_features=None,\n",
       "                      max_leaf_nodes=None, min_impurity_decrease=0.0,\n",
       "                      min_impurity_split=None, min_samples_leaf=1,\n",
       "                      min_samples_split=2, min_weight_fraction_leaf=0.0,\n",
       "                      presort=False, random_state=None, splitter='best')"
      ]
     },
     "execution_count": 5,
     "metadata": {},
     "output_type": "execute_result"
    }
   ],
   "source": [
    " from sklearn.tree import DecisionTreeRegressor\n",
    "    \n",
    "tree_reg = DecisionTreeRegressor(max_depth = 2)\n",
    "tree_reg.fit(X,y)"
   ]
  },
  {
   "cell_type": "code",
   "execution_count": 6,
   "metadata": {},
   "outputs": [],
   "source": [
    "from sklearn.tree import export_graphviz\n",
    "\n",
    "dot_data_reg = export_graphviz(tree_reg,\n",
    "                               out_file=None,\n",
    "                               rounded=True,\n",
    "                               filled=True\n",
    "                               )"
   ]
  },
  {
   "cell_type": "code",
   "execution_count": 7,
   "metadata": {},
   "outputs": [
    {
     "data": {
      "image/png": "[encoded data removed]",
      "text/plain": [
       "<IPython.core.display.Image object>"
      ]
     },
     "execution_count": 7,
     "metadata": {},
     "output_type": "execute_result"
    }
   ],
   "source": [
    "import pydotplus\n",
    "from IPython.display import Image\n",
    "\n",
    "graph = pydotplus.graph_from_dot_data(dot_data_reg)\n",
    "graph.write_png('tree_reg.png')\n",
    "Image(filename='tree_reg.png')"
   ]
  },
  {
   "cell_type": "code",
   "execution_count": 10,
   "metadata": {},
   "outputs": [
    {
     "data": {
      "text/plain": [
       "array([0.74225232])"
      ]
     },
     "execution_count": 10,
     "metadata": {},
     "output_type": "execute_result"
    }
   ],
   "source": [
    "tree_reg.predict([[0.9]])"
   ]
  },
  {
   "cell_type": "code",
   "execution_count": null,
   "metadata": {},
   "outputs": [],
   "source": []
  }
 ],
 "metadata": {
  "kernelspec": {
   "display_name": "Python 3",
   "language": "python",
   "name": "python3"
  },
  "language_info": {
   "codemirror_mode": {
    "name": "ipython",
    "version": 3
   },
   "file_extension": ".py",
   "mimetype": "text/x-python",
   "name": "python",
   "nbconvert_exporter": "python",
   "pygments_lexer": "ipython3",
   "version": "3.7.9"
  }
 },
 "nbformat": 4,
 "nbformat_minor": 4
}
