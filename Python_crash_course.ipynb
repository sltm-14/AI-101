{
 "cells": [
  {
   "cell_type": "markdown",
   "metadata": {},
   "source": [
    "# Before to start\n",
    "\n",
    "https://www.anaconda.com/products/individual\n",
    "\n",
    "conda create -n MLenv python=3.7 scikit-learn=0.21.2 numpy matplotlib tensorflow=1.14 keras=2.2.4 pandas jupyter"
   ]
  },
  {
   "cell_type": "markdown",
   "metadata": {},
   "source": [
    "# Introduction\n",
    "\n",
    "# Python\n",
    "![python-logo](img/python-logo.png)\n",
    "* Python is a high-level programming language\n",
    "  * general-purpose\n",
    "  * multi-paradigm\n",
    "    * functional: evaluation of mathematical functions\n",
    "    * generic: dynamic data types\n",
    "    * imperative: statements change states\n",
    "    * object-oriented\n",
    "    \n",
    "  * open source\n",
    "  * community based development\n",
    "* first released in 1991 by Guido Van Rossum\n",
    "\n",
    "## The Zen of Python\n",
    "https://www.python.org/dev/peps/pep-0020/"
   ]
  },
  {
   "cell_type": "code",
   "execution_count": 1,
   "metadata": {},
   "outputs": [
    {
     "name": "stdout",
     "output_type": "stream",
     "text": [
      "The Zen of Python, by Tim Peters\n",
      "\n",
      "Beautiful is better than ugly.\n",
      "Explicit is better than implicit.\n",
      "Simple is better than complex.\n",
      "Complex is better than complicated.\n",
      "Flat is better than nested.\n",
      "Sparse is better than dense.\n",
      "Readability counts.\n",
      "Special cases aren't special enough to break the rules.\n",
      "Although practicality beats purity.\n",
      "Errors should never pass silently.\n",
      "Unless explicitly silenced.\n",
      "In the face of ambiguity, refuse the temptation to guess.\n",
      "There should be one-- and preferably only one --obvious way to do it.\n",
      "Although that way may not be obvious at first unless you're Dutch.\n",
      "Now is better than never.\n",
      "Although never is often better than *right* now.\n",
      "If the implementation is hard to explain, it's a bad idea.\n",
      "If the implementation is easy to explain, it may be a good idea.\n",
      "Namespaces are one honking great idea -- let's do more of those!\n"
     ]
    }
   ],
   "source": [
    "import this\n"
   ]
  },
  {
   "cell_type": "markdown",
   "metadata": {},
   "source": [
    "# Packages\n",
    "* A **Package** is a \"collection of modules\"\n",
    "* \"A **Module** is a file containing Python definitions and statements\"\n",
    "\n",
    "https://docs.python.org/3/tutorial/modules.html\n",
    "\n",
    "## Package Managers\n",
    "* Also **Package Management Systems*\n",
    "* Install, upgrade, update, configure, remove packages and their dependencies\n",
    "\n",
    "### Pip\n",
    "* Package management system\n",
    "* \"Pip Installs Packages\"\n",
    "* Released 2011\n",
    "* Installs packages from PyPI (Python Package Index)\n",
    "* Open source\n",
    "* Written in Python\n",
    "* Cross-platform (Linux, macOS, Windows)\n",
    "\n",
    "https://pip.pypa.io/en/stable/ and https://github.com/pypa/pip\n",
    "\n",
    "\n",
    "### Conda\n",
    "\n",
    "* Package manager and environment management system\n",
    "* Released 2012\n",
    "* Installs packages from the Anaconda repository\n",
    "* Open source\n",
    "* Written in Python\n",
    "* Cross-platform (Linux, macOS, Windows)\n",
    "* Not limited to Python packages: can also be used for e.g. R, Scala, Java, JavaScript, C/C++\n",
    "\n",
    "https://conda.io/projects/conda/en/latest/# and https://github.com/conda/conda/blob/master/docs/source/index.rst\n",
    "\n",
    "\n",
    "## Anaconda\n",
    "\n",
    "* Python and R distribution (build in packages)\n",
    "* Released 2012\n",
    "* Free and open source\n",
    "* Cross-platform\n",
    "* Uses **conda** as package management system\n",
    "* **Miniconda** is just the package management system without any pre-installed packages\n",
    "\n",
    "https://www.anaconda.com/\n",
    "\n",
    "# Integrated Development Environments (IDEs)\n",
    "\n",
    "## PyCharm\n",
    "![pycharm_logo](img/pycharm.jpg)\n",
    "* Developed by JetBrains\n",
    "* Released 2010\n",
    "* Free and open source community version\n",
    "* Paid professional version\n",
    "* Cross-platform\n",
    "* https://www.jetbrains.com/pycharm/\n",
    "\n",
    "![pycharm_screenshot](img/pycharmscreen.jpg)\n",
    "https://www.jetbrains.com/pycharm/img/screenshots/complexLook@2x.jpg\n",
    "\n",
    "## Spyder IDE\n",
    "<img src=\"img/SPYDERLOGO.png\" alt=\"Drawing\" style=\"width: 200px;\"/>\n",
    "\n",
    "* Scientific Python Development Environment\n",
    "* Released 2009\n",
    "* Free and open source\n",
    "* Cross platorm\n",
    "* Written in Python\n",
    "* https://www.spyder-ide.org/\n",
    "\n",
    "![spyder_screenshot](img/screenspyder.png)\n",
    "https://docs.spyder-ide.org/_images/mainwindow_default_1610.png\n",
    "\n",
    "# Python vs other Programming Languages\n",
    "\n",
    "### Python Compilation and Interpretation\n",
    "\n",
    "https://docs.python.org/3/glossary.html#term-bytecode\n",
    "\n",
    "\n",
    "\n",
    "### Compiler\n",
    "* Translate code from one (high level) programming language to another (lower level) language such as machine code or assembly language\n",
    "* Input: entire program\n",
    "* Output: intermediate code\n",
    "* Often used in the sense of *translating a high level programming language to machine code*\n",
    "\n",
    "### Interpreter\n",
    "* Directly executable computer program (compilation and execution happen simultaneously)\n",
    "* Input: single line of code\n",
    "* Output: no intermediate code\n",
    "* Strategies\n",
    "  * parse and execute source code directly\n",
    "  * translate source code and execute this intermediate representation (Python)\n",
    "  * execute precompiled code\n",
    "\n",
    "\n",
    "\n",
    "\n",
    "## Dynamic vs Static Types\n",
    "*How often do type errors occur?*\n",
    "\n",
    "### Statically-typed Language (e.g. Java) \n",
    "* Variables have a type and are bound to an object\n",
    "* The type of the variable has to match the type of the bound object\n",
    "* Find type errors at compile time before run-time (reliable programs)\n",
    "\n",
    "```java\n",
    "Book b = new Book();\n",
    "```\n",
    "\n",
    "### Dynamically-typed language (e.g. Python)\n",
    "* Variables are bound to objects but do not have a type\n",
    "* Reuseability\n",
    "* Types are checked during execution\n",
    "* Allows duck typing (check for the existance of methods rather than the type of the object - \"If it walks like a duck and it quacks like a duck, then it must be a duck\")\n",
    "\n",
    "```python\n",
    "b = Book()\n",
    "```\n",
    "\n",
    "What happens when executing following statements in static or dynamic typed languages?\n",
    "\n",
    "```\n",
    " a = 9\n",
    " a = 'some string'\n",
    "```\n",
    "\n",
    "https://wiki.python.org/moin/Why%20is%20Python%20a%20dynamic%20language%20and%20also%20a%20strongly%20typed%20language\n",
    "\n",
    "https://hackernoon.com/i-finally-understand-static-vs-dynamic-typing-and-you-will-too-ad0c2bd0acc7\n",
    "\n",
    "https://pythonconquerstheuniverse.wordpress.com/2009/10/03/static-vs-dynamic-typing-of-programming-languages/\n",
    "\n",
    "## Python Pros and Cons\n",
    "### Pros\n",
    "* Easy to use\n",
    "* Fast to develop\n",
    "* Libraries\n",
    "* Generic\n",
    "* Object-oriented\n",
    "* Popular\n",
    "* Free and open source\n",
    "\n",
    "### Cons\n",
    "* Slow execution\n",
    "* Multithreading\n",
    "* Weak in mobile computing and browsers (client side) due to security issues\n",
    "* Run-time errors due to dynamic types\n",
    "* DB access\n",
    "\n",
    "\n",
    "check python for c, python for javascript, python for java, python for matplotlib developers courses\n",
    "\n",
    "https://www.python.org/doc/essays/comparisons/\n",
    "\n",
    "# Coding Style\n",
    "* **PEP 8** Style Guide: https://www.python.org/dev/peps/pep-0008/\n",
    "* 4 spaces indentation (no tabs)\n",
    "* Maximum 79 characters per line\n",
    "* \"Use blank lines to separate functions and classes, and larger blocks of code inside functions\"\n",
    "* \"When possible, put comments on a line of their own\"\n",
    "* \"Use docstrings\"\n",
    "* \"Use spaces around operators and after commas, but not directly inside bracketing constructs: `a = f(1, 2) + g(3, 4)`\"\n",
    "* \"Name your classes and functions consistently; the convention is to use `CamelCase` for classes and `lower_case_with_underscores `for functions and methods. Always use `self` as the name for the first method argument.\"\n",
    "* \"Don’t use fancy encodings if your code is meant to be used in international environments. Python’s default, UTF-8, or even plain ASCII work best in any case.\"\n",
    "* \"Likewise, don’t use non-ASCII characters in identifiers if there is only the slightest chance people speaking a different language will read or maintain the code\"\n",
    "\n",
    "https://docs.python.org/3/tutorial/controlflow.html#intermezzo-coding-style\n",
    "\n",
    "Check https://docs.python-guide.org/writing/style/ for many examples of good and bad coding style."
   ]
  },
  {
   "cell_type": "markdown",
   "metadata": {},
   "source": [
    "# Python"
   ]
  },
  {
   "cell_type": "markdown",
   "metadata": {},
   "source": [
    "# Basic Data Types in Python\n",
    "\n",
    "![python_types](img/python_types.png)\n",
    "\n",
    "https://de.wikipedia.org/wiki/Datei:Python_3._The_standard_type_hierarchy.png\n",
    "\n",
    "## Boolean Values\n",
    "* \"Two constant objects `False` and `True`\"\n",
    "* \"Used to represent trueth values\"\n",
    "* \"In numeric contexts (...) they behave like the integers 0 and 1, respectively.\n",
    "* Subtype of Integers\n",
    "\n",
    "https://docs.python.org/3/library/stdtypes.html#boolean-values\n",
    "\n",
    "\n",
    "### Boolean Operations\n",
    "\n",
    "| Operation | Results | Note |\n",
    "|:----------|:--------|:-----|\n",
    "| `x or y`  | if x is false, then y, else x | short-circut operator (only evaluates the second arugment if the first one is false) |\n",
    "| `x and y` | if x is false, then x, else y | short-circut operator (only evaluates the second argument if the first one is true) |\n",
    "| `not x`   | if x is false, then `True`, else `False` | `not` has a lower priority then non-Boolean operators |\n",
    "\n",
    "https://docs.python.org/3/library/stdtypes.html#boolean-operations-and-or-not\n",
    "\n",
    "## Comparisons\n",
    "* All have the same priority (but higher than Boolean operations)\n",
    "\n",
    "| Operation | Meaning                 |\n",
    "|:----------|:------------------------|\n",
    "| `<`       | strictly less than      |\n",
    "| `<=`      | less than or equal      |\n",
    "| `>`       | strictly greater than   |\n",
    "| `>=`      | greater than or equal   |\n",
    "| `==`      | equal                   |\n",
    "| `!=`      | not equal               |\n",
    "| `is`      | object identity         |\n",
    "| `is not`  | negated object identity |\n",
    "\n",
    "https://docs.python.org/3/library/stdtypes.html#comparisons"
   ]
  },
  {
   "cell_type": "code",
   "execution_count": null,
   "metadata": {},
   "outputs": [],
   "source": [
    "5 <= 3"
   ]
  },
  {
   "cell_type": "code",
   "execution_count": null,
   "metadata": {},
   "outputs": [],
   "source": [
    "5 >= 3"
   ]
  },
  {
   "cell_type": "code",
   "execution_count": 1,
   "metadata": {},
   "outputs": [
    {
     "data": {
      "text/plain": [
       "False"
      ]
     },
     "execution_count": 1,
     "metadata": {},
     "output_type": "execute_result"
    }
   ],
   "source": [
    "# check string values\n",
    "'a' == 'b'"
   ]
  },
  {
   "cell_type": "markdown",
   "metadata": {},
   "source": [
    "## Numbers\n",
    "### Integers\n",
    "* Whole numbers\n",
    "* Positive, negative, or zero\n",
    "* Unlimited precision in Python\n",
    "\n",
    "### Float\n",
    "* Floating point numbers\n",
    "* Usually implemented as `double` in C\n",
    "* `sys.float_info` shows information about the precision of floats in your system"
   ]
  },
  {
   "cell_type": "code",
   "execution_count": 2,
   "metadata": {},
   "outputs": [
    {
     "data": {
      "text/plain": [
       "3"
      ]
     },
     "execution_count": 2,
     "metadata": {},
     "output_type": "execute_result"
    }
   ],
   "source": [
    "i = 3\n",
    "i"
   ]
  },
  {
   "cell_type": "code",
   "execution_count": null,
   "metadata": {},
   "outputs": [],
   "source": [
    "type(i)"
   ]
  },
  {
   "cell_type": "code",
   "execution_count": 5,
   "metadata": {},
   "outputs": [
    {
     "data": {
      "text/plain": [
       "3.0"
      ]
     },
     "execution_count": 5,
     "metadata": {},
     "output_type": "execute_result"
    }
   ],
   "source": [
    "f = 3.2\n",
    "f = f - 0.2\n",
    "f"
   ]
  },
  {
   "cell_type": "code",
   "execution_count": 6,
   "metadata": {},
   "outputs": [
    {
     "data": {
      "text/plain": [
       "float"
      ]
     },
     "execution_count": 6,
     "metadata": {},
     "output_type": "execute_result"
    }
   ],
   "source": [
    "type(f)"
   ]
  },
  {
   "cell_type": "markdown",
   "metadata": {},
   "source": [
    "**Operations for integers and floats**\n",
    "\n",
    "| Operation           | Result   |\n",
    "|:--------------------|:----------|\n",
    "|  `x + y`            | sum of x and y |\n",
    "|  `x - y`            | difference of x and y |\n",
    "|  `x * y`            | product of x and y |\n",
    "|  `x / y`            | quotient of x and y |\n",
    "|  `x // y`           | floored quotient of x and y (returns integer)|\n",
    "|  `x % y`            | remainder of `x / y` |\n",
    "|  `-x`               | x negated |\n",
    "|  `+x`               | x unchanged |\n",
    "|  `abs(x)`           | absolute value or magnitude of x |\n",
    "|  `int(x)`           | x converetd to integer |\n",
    "|  `float(x)`         | x converted to floating point |\n",
    "|  `complex(re, im)`  | a complex number with real part re and imaginary part im (default is zero) |\n",
    "|  `c.conjugate()`    | conjugate of the complex number c |\n",
    "|  `divmod(x, y)`     | the pair `(x // y, x % y)` |\n",
    "|  `pow(x, y)`        | x to the power of y |\n",
    "|  `x ** y`           | x to the power of y |\n",
    "| `math.trunc(x)`     | x truncated to [Integral](https://docs.python.org/3/library/numbers.html#numbers.Integral) |\n",
    "| `round(x[, n])`     | x rounded to $n$ digits, rounding half to even. $n$ defaults to 0. |\n",
    "| `math.floor(x)`     | the greatest [Integral](https://docs.python.org/3/library/numbers.html#numbers.Integral) <= x |\n",
    "| `math.ceil(x)`      | the least [Integral](https://docs.python.org/3/library/numbers.html#numbers.Integral) >= x |\n",
    "\n",
    "**Remarks**\n",
    "* \"Python defines `pow(0, 0)` and `0 ** 0` to be `1`, as is common for programming languages.\"\n",
    "* Additional numeric operations are defined in the [math](https://docs.python.org/3/library/math.html#module-math) and [cmath](https://docs.python.org/3/library/cmath.html#module-cmath) modules\n",
    "* Also see further comments and remarks at https://docs.python.org/3/library/stdtypes.html#numeric-types-int-float-complex\n",
    "\n",
    "https://es.wikipedia.org/wiki/Conjugado_(matem%C3%A1tica)\n"
   ]
  },
  {
   "cell_type": "code",
   "execution_count": 5,
   "metadata": {},
   "outputs": [
    {
     "data": {
      "text/plain": [
       "2"
      ]
     },
     "execution_count": 5,
     "metadata": {},
     "output_type": "execute_result"
    }
   ],
   "source": [
    "import math\n",
    "x=2.56\n",
    "math.floor(x)"
   ]
  },
  {
   "cell_type": "code",
   "execution_count": 6,
   "metadata": {},
   "outputs": [
    {
     "data": {
      "text/plain": [
       "3"
      ]
     },
     "execution_count": 6,
     "metadata": {},
     "output_type": "execute_result"
    }
   ],
   "source": [
    "math.ceil(x)"
   ]
  },
  {
   "cell_type": "markdown",
   "metadata": {},
   "source": [
    "## Strings\n",
    "* Textual data\n",
    "* Immutable sequences\n",
    "* Unicode encoding in Python 3 (was ASCII in Python 2)\n",
    "* Denoted with\n",
    "  * Single quotes\n",
    "  * Double quotes\n",
    "  * Tripe quoted (double quotes preferred by PEP8): span multiple lines\n",
    "* Nested quoted possible (e.g. `\"a sentence with 'quoted text'.\"`\n",
    "  \n",
    "https://docs.python.org/3/library/stdtypes.html#text-sequence-type-str"
   ]
  },
  {
   "cell_type": "code",
   "execution_count": null,
   "metadata": {},
   "outputs": [],
   "source": [
    "s = 'text'\n",
    "s"
   ]
  },
  {
   "cell_type": "code",
   "execution_count": null,
   "metadata": {},
   "outputs": [],
   "source": [
    "s = \"a sentence with 'quoted text'.\"\n",
    "print(s)"
   ]
  },
  {
   "cell_type": "markdown",
   "metadata": {},
   "source": [
    "### Common Sequence Operations\n",
    "* \"Supported by most sequence types, both mutable and immutable\"\n",
    "  * String\n",
    "  * List\n",
    "  * Tuple\n",
    "  * Range\n",
    "  * ...\n",
    "\n",
    "| Operation | Result |\n",
    "|:----------|:-------|\n",
    "| `x in s` | `True` if an item of s is equal to x, else `False` |\n",
    "| `x not in s` | `False` if an item of s is equal to x, else `True`\t|\n",
    "| `s + t` | the concatenation of s and t |\n",
    "| `s * n or n * s` | equivalent to adding s to itself n times |\n",
    "| `s[i]` | ith item of s, origin 0 |\n",
    "| `s[i:j]` | slice of s from i to j |\n",
    "| `s[i:j:k]` | slice of s from i to j with step k |\n",
    "| `len(s)` | length of s |\n",
    "| `min(s)` | smallest item of s |\n",
    "| `max(s)` | largest item of s |\n",
    "| `s.index(x[, i[, j]])` | index of the first occurrence of x in s (at or after index i and before index j) |\n",
    "| `s.count(x)` | total number of occurrences of x in s |\n",
    "\n",
    "Check https://docs.python.org/3/library/stdtypes.html#typesseq-common for more details and remarks to the common sequence operations."
   ]
  },
  {
   "cell_type": "code",
   "execution_count": null,
   "metadata": {},
   "outputs": [],
   "source": [
    "# create a list with some elements\n",
    "a = [0, 1, 2, 3]\n",
    "a"
   ]
  },
  {
   "cell_type": "code",
   "execution_count": null,
   "metadata": {},
   "outputs": [],
   "source": [
    "# check if 2 is in list a\n",
    "2 in a"
   ]
  },
  {
   "cell_type": "code",
   "execution_count": null,
   "metadata": {},
   "outputs": [],
   "source": [
    "# get element at index 1 (0-based!)\n",
    "a[1]"
   ]
  },
  {
   "cell_type": "code",
   "execution_count": null,
   "metadata": {},
   "outputs": [],
   "source": [
    "# get element from index 1 to index 3 (exclusive)\n",
    "a[1:3]"
   ]
  },
  {
   "cell_type": "code",
   "execution_count": null,
   "metadata": {},
   "outputs": [],
   "source": [
    "a[0:4:2]"
   ]
  },
  {
   "cell_type": "code",
   "execution_count": null,
   "metadata": {},
   "outputs": [],
   "source": [
    "# get the number of elements of the list\n",
    "len(a)"
   ]
  },
  {
   "cell_type": "markdown",
   "metadata": {},
   "source": [
    "### Mutable Sequence Operations\n",
    "* The following table shows operations that are defined for mutable sequence type\n",
    "  * *s*: mutable sequence type\n",
    "  * *x*: arbitrary object\n",
    "  \n",
    "\n",
    "| Operation | Result |\n",
    "|:----------|:-------|\n",
    "|`s[i] = x` | item *i* of *s* is replaced by *x* |\t \n",
    "|`s[i:j] = t` | slice of *s* from *i* to *j* is replaced by the contents of the iterable *t* |\n",
    "|`del s[i:j]` | same as `s[i:j] = []` |\n",
    "|`s[i:j:k] = t` | the elements of `s[i:j:k]` are replaced by those of *t* |\n",
    "|`del s[i:j:k]` | removes the elements of `s[i:j:k]` from the list |\n",
    "|`s.append(x)` | appends *x* to the end of the sequence (same as `s[len(s):len(s)] = [x]`) |\n",
    "|`s.clear()` | removes all items from *s* (same as `del s[:]`) |\n",
    "|`s.copy()` | creates a shallow copy of *s* (same as `s[:]`) |\n",
    "|`s.extend(t)` or `s += t` | extends *s* with the contents of *t* (for the most part the same as `s[len(s):len(s)] = t`) |\n",
    "|`s *= n` | updates *s* with its contents repeated *n* times |\n",
    "|`s.insert(i, x)` | inserts *x* into *s* at the index given by *i* (same as `s[i:i] = [x]`) |\n",
    "|`s.pop([i])` | retrieves the item at *i* and also removes it from *s* |\n",
    "|`s.remove(x)` | remove the first item from *s* where `s[i]` is equal to *x* |\n",
    "|`s.reverse()` | reverses the items of *s* in place |\n",
    "\n",
    "Check https://docs.python.org/3/library/stdtypes.html#mutable-sequence-types for more details and remarks."
   ]
  },
  {
   "cell_type": "code",
   "execution_count": null,
   "metadata": {},
   "outputs": [],
   "source": [
    "# replace element at index 2 with the new value\n",
    "a[2] = -1\n",
    "a"
   ]
  },
  {
   "cell_type": "code",
   "execution_count": null,
   "metadata": {},
   "outputs": [],
   "source": [
    "# add a new element to the list\n",
    "a.append(4)\n",
    "a"
   ]
  },
  {
   "cell_type": "code",
   "execution_count": null,
   "metadata": {},
   "outputs": [],
   "source": [
    "# add multiple new elements\n",
    "a.extend([5, 6, 7])\n",
    "a"
   ]
  },
  {
   "cell_type": "code",
   "execution_count": null,
   "metadata": {},
   "outputs": [],
   "source": [
    "# remove the first occurence of -1\n",
    "a.remove(-1)\n",
    "a"
   ]
  },
  {
   "cell_type": "code",
   "execution_count": null,
   "metadata": {},
   "outputs": [],
   "source": [
    "# insert the value 2 at index 2\n",
    "a.insert(2, 2)\n",
    "a"
   ]
  },
  {
   "cell_type": "markdown",
   "metadata": {},
   "source": [
    "### String Methods\n",
    "* All Common Sequence Operations\n",
    "* All methods defined at https://docs.python.org/3/library/stdtypes.html#string-methods such as:\n",
    "  * `str.endswith(suffix[, start[, end]])`: \"Return `True` if the string ends with the specified *suffix*, otherwise return `False`.\"\n",
    "  * `str.find(sub[, start[, end]])`: \"Return the lowest index in the string where substring *sub* is found within the slice `s[start:end]`. Optional arguments *start* and *end* are interpreted as in slice notation. Return `-1` if *sub* is not found.\"\n",
    "  * `str.format(*args, **kwargs)`: \"Perform a string formatting operation\"\n",
    "  * `str.join(iterable)`: \"Return a string which is the concatenation of the strings in *iterable*\"\n",
    "  * `str.lower()`: \"Return a copy of the string with all the cased characters converted to lowercase.\"\n",
    "  * `str.replace(old, new[, count])`: \"Return a copy of the string with all occurrences of substring *old* replaced by *new*\"\n",
    "  * `str.split(sep=None, maxsplit=-1)`: \"Return a list of the words in the string, using *sep* as the delimiter string\"\n",
    "  * `str.startswith(prefix[, start[, end]])`: \"Return `True` if string starts with the *prefix*, otherwise return `False`\"\n",
    "  * `str.upper()`: \"Return a copy of the string with all the cased characters converted to uppercase\"\n",
    "  * ..."
   ]
  },
  {
   "cell_type": "code",
   "execution_count": null,
   "metadata": {},
   "outputs": [],
   "source": [
    "\"{} {}\".format('one', 2)"
   ]
  },
  {
   "cell_type": "code",
   "execution_count": null,
   "metadata": {},
   "outputs": [],
   "source": [
    "## None\n",
    "* \"Used to represent the absence of a value\"\n",
    "* \"The sole value of the type `NoneType`\"\n",
    "\n",
    "https://docs.python.org/3.7/library/constants.html"
   ]
  },
  {
   "cell_type": "code",
   "execution_count": null,
   "metadata": {},
   "outputs": [],
   "source": [
    "n = None\n",
    "type(n)"
   ]
  },
  {
   "cell_type": "markdown",
   "metadata": {},
   "source": [
    "# Data Structures in Python\n",
    "\n",
    "## Tuples\n",
    "* Immutable sequences\n",
    "* Can be used for homogeneous and heterogeneous data\n",
    "* Constructed by:\n",
    "  * Pair of parentheses `()` for an empty tuple\n",
    "  * \"Trailing comma for a singleton tuple\" `a,` or `(a,)`\n",
    "  * \"Separating items with commas: `a, b, c` or `(a, b, c)`\n",
    "  * Using `tuple()` or `tuple(iterable)`\n",
    "* Apart from the empty tuple, the parantheses are optional: the comma makes the tuple\n",
    "  \n",
    "https://docs.python.org/3/library/stdtypes.html#tuples"
   ]
  },
  {
   "cell_type": "code",
   "execution_count": null,
   "metadata": {},
   "outputs": [],
   "source": [
    "e = ()\n",
    "e"
   ]
  },
  {
   "cell_type": "code",
   "execution_count": null,
   "metadata": {},
   "outputs": [],
   "source": [
    "type(e)"
   ]
  },
  {
   "cell_type": "code",
   "execution_count": null,
   "metadata": {},
   "outputs": [],
   "source": [
    "a = 1\n",
    "t = (a,)\n",
    "t"
   ]
  },
  {
   "cell_type": "markdown",
   "metadata": {},
   "source": [
    "## Lists\n",
    "* Mutable sequences\n",
    "* **Typically** used for homogeneous data\n",
    "  * Items in the list can have different data types\n",
    "* Constructed by:\n",
    "  * Pair of quare brackets `[]` for an empty list\n",
    "  * \"Using square brackets, separating items with commas: `[a]` or `[a, b, c]`\"\n",
    "  * \"Using a list comprehension `[x for x in iterable]`\"\n",
    "  * Using  `list()` or `list(iterable)`\n",
    "\n",
    "https://docs.python.org/3/library/stdtypes.html#lists"
   ]
  },
  {
   "cell_type": "code",
   "execution_count": null,
   "metadata": {},
   "outputs": [],
   "source": [
    "i = []\n",
    "i"
   ]
  },
  {
   "cell_type": "code",
   "execution_count": null,
   "metadata": {},
   "outputs": [],
   "source": [
    "a, b, c = 1, 2, 3\n",
    "i = [a, b, c]\n",
    "i[0] = 4\n",
    "i"
   ]
  },
  {
   "cell_type": "markdown",
   "metadata": {},
   "source": [
    "### Lists vs Tuples\n",
    "| -           | Lists                          | Tuples                       |\n",
    "|:------------|:-------------------------------|:-----------------------------|\n",
    "| Sequence    | mutable                        | imutable                     |\n",
    "| Items       | homogeneous (or heterogeneous) | homogeneous or heterogeneous |\n",
    "| Constructor | `list()`                       | `tuple()`                    |\n",
    "| Parntheses  | `[]`                           | `()`                         |\n",
    "\n",
    "\n",
    "### List Methods\n",
    "* All common and mutable sequence operations\n",
    "* The `sort(*, key=None, reverse=False)` method:\n",
    "  * \"This method sorts the list in place, using only < comparisons between items.\"\n",
    "  * \"*key* specifies a function of one argument that is used to extract a comparison key from each list element (for example, `key=str.lower`).\"\n"
   ]
  },
  {
   "cell_type": "markdown",
   "metadata": {},
   "source": [
    "## Sets\n",
    "* \"Unordered collection of distinct hashable objects\"\n",
    "* Mutable with methods that can change the contents:\n",
    "  * `add(elem)`\n",
    "  * `discard(elem)`\n",
    "  * `remove(elem)`\n",
    "  * `pop()`: \"Remove and return an arbitrary element from the set. Raises KeyError if the set is empty.\"\n",
    "  * `clear()`\n",
    "  * `update(*others)` or `set |= other | ...`: \"Update the set, adding elements from all others.\"\n",
    "  * `intersection_update(*others)` or `set &= other & ...`: \"Update the set, keeping only elements found in it and all others.\"\n",
    "  * `difference_update(*others)` or `set -= other | ...`: \"Update the set, removing elements found in others.\"\n",
    "  * `symmetric_difference_update(other)` or `set ^= other`: \"Update the set, keeping only elements found in either set, but not in both.\"\n",
    "* Common uses\n",
    "  * Membership testing\n",
    "  * Removing duplicates\n",
    "  * Mathematical operations: union, intersection, (symmetric) difference\n",
    "* No inserting order or indexing supported\n",
    "* Constructed by\n",
    "  * \"Comma-separated list of elements within braces\": `{0, 1, 2}`\n",
    "  * Using `set()` or `set(iterable)`\n",
    "  \n",
    "https://docs.python.org/3/library/stdtypes.html#set-types-set-frozenset\n",
    "\n",
    "### Frozenset\n",
    "* Immutable and hashable set\n",
    "* Can \"be used as a dictionary key or as an element of another set\"\n",
    "* Constructed by using `frozenset()` or `frozenset(iterable)`\n",
    "\n",
    "https://docs.python.org/3/library/stdtypes.html#set-types-set-frozenset\n",
    "\n",
    "\n",
    "### Set Operations\n",
    "For set and frozenset:\n",
    "* `len(s)`: Cardinality (number of elements) of s\n",
    "* `x in s`: Membership test\n",
    "* `x not in s`: Non-membership test\n",
    "* `isdisjoint(other)`\n",
    "* `issubset(other)`\n",
    "* `set <= other`: \"Test whether every element in the set s is in other\"\n",
    "* `set < other`: \"Test whether the set is a proper subset of other, that is, `set <= other` and `set != other`.\"\n",
    "* `issuperset(other)`\n",
    "* `set >= other`: \"Test whether every element in other is in the set.\"\n",
    "* `set > other`: \"Test whether the set is a proper superset of other, that is, `set >= other` and `set != other`.\"\n",
    "* `union(*others)`\n",
    "* `set | other | ...`: \"Return a new set with elements from the set and all others.\"\n",
    "* `intersection(*others)`\n",
    "* `set & other & ...`: \"Return a new set with elements common to the set and all others.\"\n",
    "* `difference(*others)`\n",
    "* `set - other - ...`: \"Return a new set with elements in the set that are not in the others.\"\n",
    "* `symmetric_difference(other)`\n",
    "* `set ^ other`: \"Return a new set with elements in either the set or other but not both.\"\n",
    "* `copy()`: \"Return a shallow copy of the set.\"\n",
    "\n",
    "https://docs.python.org/3/library/stdtypes.html#set-types-set-frozenset\n",
    "\n",
    "\n",
    "\n",
    "Set Methods\n",
    "Set Operations\n",
    "&, |, ^ ..."
   ]
  },
  {
   "cell_type": "code",
   "execution_count": null,
   "metadata": {},
   "outputs": [],
   "source": [
    "s = {1, 2, 3}\n",
    "s"
   ]
  },
  {
   "cell_type": "code",
   "execution_count": null,
   "metadata": {},
   "outputs": [],
   "source": [
    "0 in s"
   ]
  },
  {
   "cell_type": "markdown",
   "metadata": {},
   "source": [
    "## Dictonaries\n",
    "* Mutable mapping object\n",
    "* \"Maps hashable values to arbitrary objects\"\n",
    "* Created by\n",
    "  * Pair of braces `{}` for an empty dict\n",
    "  * \"Comma-separated list of `key: value` pairs within braces\": `{'a': 12, 'b': 8, 'c': 2}`\n",
    "  * Using `dict()`, `dict(mapping)`, or `dict(iterable)`\n",
    "\n",
    "https://docs.python.org/3/library/stdtypes.html#mapping-types-dict\n",
    "\n",
    "### Dictionary Operations\n",
    "\n",
    "* `len(d)`\n",
    "* `d[key]`: \"Return the item of *d* with key *key*. Raises a KeyError if *key* is not in the map.\"\n",
    "* `d[key] = value`: \"Set `d[key]` to *value*.\"\n",
    "* `del d[key]`: \"Remove `d[key]` from *d*. Raises a KeyError if *key* is not in the map.\"\n",
    "* `key in d`: \"Return `True` if *d* has a key *key*, else `False`.\"\n",
    "* `key not in d`: \"Equivalent to `not key in d`.\"\n",
    "* `iter(d)`: \"Return an iterator over the keys of the dictionary. This is a shortcut for `iter(d.keys())`.:\n",
    "* `clear()`\" \"Remove all items from the dictionary.\"\n",
    "* `copy()`: \"Return a shallow copy of the dictionary.\"\n",
    "* `fromkeys(iterable[, value])`: \"Create a new dictionary with keys from *iterable* and values set to *value*. `fromkeys()` is a class method that returns a new dictionary. *value* defaults to `None`.\"\n",
    "* `get(key[, default])`: \"Return the value for *key* if *key* is in the dictionary, else *default*. If *default* is not given, it defaults to `None`, so that this method never raises a KeyError.\"\n",
    "* `items()`: \"Return a new view of the dictionary’s items (`(key, value)` pairs). See the [documentation of view objects](https://docs.python.org/3/library/stdtypes.html#dict-views).\"\n",
    "* `keys()`: \"Return a new view of the dictionary’s keys. See the [documentation of view objects](https://docs.python.org/3/library/stdtypes.html#dict-views).\"\n",
    "* `pop(key[, default])`: \"If *key* is in the dictionary, remove it and return its value, else return *default*. If *default* is not given and *key* is not in the dictionary, a KeyError is raised.\n",
    "* `popitem()`: \"Remove and return a `(key, value)` pair from the dictionary. Pairs are returned in LIFO (Last In First Out) order. `popitem()` is useful to destructively iterate over a dictionary, as often used in set algorithms. If the dictionary is empty, calling `popitem()` raises a KeyError.\"\n",
    "* `setdefault(key[, default])`: \"If *key* is in the dictionary, return its value. If not, insert *key* with a value of *default* and return *default*. *default* defaults to `None`.\"\n",
    "* `update([other])`: \"Update the dictionary with the key/value pairs from *other*, overwriting existing keys. Return `None`. `update()` accepts either another dictionary object or an iterable of key/value pairs (as tuples or other iterables of length two). If keyword arguments are specified, the dictionary is then updated with those key/value pairs: `d.update(red=1, blue=2)`.\"\n",
    "* `values()`: \"Return a new view of the dictionary’s values. See the [documentation of view objects](https://docs.python.org/3/library/stdtypes.html#dict-views).\"\n",
    "\n",
    "https://docs.python.org/3/library/stdtypes.html#mapping-types-dict"
   ]
  },
  {
   "cell_type": "code",
   "execution_count": null,
   "metadata": {},
   "outputs": [],
   "source": [
    "d = {}\n",
    "type(d)"
   ]
  },
  {
   "cell_type": "code",
   "execution_count": null,
   "metadata": {},
   "outputs": [],
   "source": [
    "d = {\"one\": 1, \"two\": 2, \"three\": 3, \"four\": 4}\n",
    "d"
   ]
  },
  {
   "cell_type": "code",
   "execution_count": null,
   "metadata": {},
   "outputs": [],
   "source": [
    "# Converting Data Types\n",
    "and using the constructors to create data types."
   ]
  },
  {
   "cell_type": "code",
   "execution_count": null,
   "metadata": {},
   "outputs": [],
   "source": [
    "# Converting float to integer\n",
    "int(1.1)"
   ]
  },
  {
   "cell_type": "code",
   "execution_count": null,
   "metadata": {},
   "outputs": [],
   "source": [
    "# converting integer to float \n",
    "float(1)"
   ]
  },
  {
   "cell_type": "markdown",
   "metadata": {},
   "source": [
    "# Functions vs Methods\n",
    "* Functions and methods are defined using the `def` keyword.\n",
    "* \"It must be followed by the function name and the parenthesized list of parameters\".\n",
    "* Use `lower_case_with_underscores` for function and method names.\n",
    "* The function statements are indented.\n",
    "* Docstring (Documentation string) should be the first statement after the function definition.\n",
    "\n",
    "## Functions\n",
    "* Object indepdendent\n",
    "* Piece of code\n",
    "* Build-in functions https://docs.python.org/3/library/functions.html\n",
    "  * `dict()`\n",
    "  * `float()`\n",
    "  * `format()`\n",
    "  * `int()`\n",
    "  * `iter()`\n",
    "  * `len()`\n",
    "  * `list()`\n",
    "  * `max()`\n",
    "  * `min()`\n",
    "  * `next()`\n",
    "  * `open()`\n",
    "  * `print()`\n",
    "  * `range()`\n",
    "  * `round()`\n",
    "  * `set()`\n",
    "  * `sorted()`\n",
    "  * `str()`\n",
    "  * `sum()`\n",
    "  * `tuple()`\n",
    "  * `type()`\n",
    "  * `zip()`"
   ]
  },
  {
   "cell_type": "code",
   "execution_count": 7,
   "metadata": {},
   "outputs": [
    {
     "data": {
      "text/plain": [
       "function"
      ]
     },
     "execution_count": 7,
     "metadata": {},
     "output_type": "execute_result"
    }
   ],
   "source": [
    "# simple function that returns the sum of the two arguments\n",
    "def sum_numbers(a, b):\n",
    "    return a+b\n",
    "\n",
    "sum_numbers(3, 5)\n",
    "\n",
    "type(sum_numbers)"
   ]
  },
  {
   "cell_type": "markdown",
   "metadata": {},
   "source": [
    "### Arguments vs Parameters\n",
    "* **Parameters:** the names of variables in the function definition\n",
    "* **Arguments:** \"the values actually passed to a function when calling it\"\n",
    "\n",
    "`def f(x, y, z=0): \n",
    "    pass`\n",
    "\n",
    "*x*, *y*, and *z* are the parameters of `f`.\n",
    "\n",
    "`f(3, 2, 1)`\n",
    "\n",
    "the values `3`, `2`, and `1` are the arguments passed to the function `f`.\n",
    "\n",
    "https://docs.python.org/3/faq/programming.html#what-is-the-difference-between-arguments-and-parameters\n"
   ]
  },
  {
   "cell_type": "markdown",
   "metadata": {},
   "source": [
    "## Methods\n",
    "* Object dependent (linked to an object)\n",
    "* \"A function that 'belongs' to an object\" (https://docs.python.org/3/tutorial/controlflow.html#defining-functions)\n",
    "* \"Always use self as the name for the first method argument\" (https://docs.python.org/3/tutorial/controlflow.html#intermezzo-coding-style)\n",
    "\n",
    "\n",
    "https://docs.python.org/3/tutorial/controlflow.html#defining-functions\n",
    "https://www.geeksforgeeks.org/difference-method-function-python/"
   ]
  },
  {
   "cell_type": "code",
   "execution_count": null,
   "metadata": {},
   "outputs": [],
   "source": [
    "class MyClass:\n",
    "    \"\"\"\n",
    "    A simple example class\n",
    "    Example from https://docs.python.org/3/tutorial/classes.html\n",
    "    \"\"\"\n",
    "    i = 12345\n",
    "\n",
    "    def f(self):\n",
    "        return 'hello world'"
   ]
  }
 ],
 "metadata": {
  "kernelspec": {
   "display_name": "Python 3",
   "language": "python",
   "name": "python3"
  },
  "language_info": {
   "codemirror_mode": {
    "name": "ipython",
    "version": 3
   },
   "file_extension": ".py",
   "mimetype": "text/x-python",
   "name": "python",
   "nbconvert_exporter": "python",
   "pygments_lexer": "ipython3",
   "version": "3.7.9"
  }
 },
 "nbformat": 4,
 "nbformat_minor": 2
}
