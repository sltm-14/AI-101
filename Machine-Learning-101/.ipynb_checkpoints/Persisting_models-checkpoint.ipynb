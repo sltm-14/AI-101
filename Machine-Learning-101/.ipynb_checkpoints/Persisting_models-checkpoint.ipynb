{
 "cells": [
  {
   "cell_type": "code",
   "execution_count": 39,
   "metadata": {
    "scrolled": true
   },
   "outputs": [
    {
     "data": {
      "text/plain": [
       "0.75"
      ]
     },
     "execution_count": 39,
     "metadata": {},
     "output_type": "execute_result"
    }
   ],
   "source": [
    "import pandas as pd\n",
    "from sklearn.tree import DecisionTreeClassifier # Most popular machine learning library in python\n",
    "from sklearn.model_selection import train_test_split #to split our sets for trraining and test\n",
    "from sklearn.metrics import accuracy_score # to calculate the accuracy of our predictions\n",
    "\n",
    "# DecisionTreeClassifier is part of the module \"tree\", it implements the decision tree algorithm\n",
    "music_data = pd.read_csv('music.csv')\n",
    "X = music_data.drop(columns=['genre']) \n",
    "y = music_data['genre']\n",
    "X_train, X_test, y_train, y_test = train_test_split(X, y, test_size = 0.2) # we take 20% of our set for testing, returns a tupple\n",
    "\n",
    "model = DecisionTreeClassifier() # Now we have a module, we need to train it to find patterns in the data\n",
    "model.fit(X_train, y_train) #we add input and output set \n",
    "predictions = model.predict(X_test)\n",
    "\n",
    "# Now we have to ask our model to make a prediction \"What's the kind of music that a 21 year old male likes?\"\n",
    "# because of the information that we added we can assume that a 21year old male would preffer hip-hop\n",
    "\n",
    "score = accuracy_score(y_test, predictions) # Check the accuracy of our predictions, 1 = 100%\n",
    "score\n"
   ]
  },
  {
   "cell_type": "code",
   "execution_count": 4,
   "metadata": {},
   "outputs": [
    {
     "data": {
      "text/plain": [
       "array(['HipHop', 'Dance'], dtype=object)"
      ]
     },
     "execution_count": 4,
     "metadata": {},
     "output_type": "execute_result"
    }
   ],
   "source": [
    "predictions = model.predict([[21,1],[22,0]]) # here we ask about a 21yo man and a 22yo woman\n",
    "predictions"
   ]
  }
 ],
 "metadata": {
  "kernelspec": {
   "display_name": "Python 3",
   "language": "python",
   "name": "python3"
  },
  "language_info": {
   "codemirror_mode": {
    "name": "ipython",
    "version": 3
   },
   "file_extension": ".py",
   "mimetype": "text/x-python",
   "name": "python",
   "nbconvert_exporter": "python",
   "pygments_lexer": "ipython3",
   "version": "3.7.4"
  }
 },
 "nbformat": 4,
 "nbformat_minor": 2
}
