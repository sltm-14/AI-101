{
 "cells": [
  {
   "cell_type": "code",
   "execution_count": 16,
   "metadata": {
    "scrolled": true
   },
   "outputs": [
    {
     "data": {
      "text/plain": [
       "array(['HipHop', 'Dance'], dtype=object)"
      ]
     },
     "execution_count": 16,
     "metadata": {},
     "output_type": "execute_result"
    }
   ],
   "source": [
    "import pandas as pd\n",
    "from sklearn.tree import DecisionTreeClassifier # Most popular machine learning library in python\n",
    "# DecisionTreeClassifier is part of the module \"tree\", it implements the decision tree algorithm\n",
    "music_data = pd.read_csv('music.csv')\n",
    "X = music_data.drop(columns=['genre']) \n",
    "y = music_data['genre']\n",
    "\n",
    "model = DecisionTreeClassifier() # Now we have a module, we need to train it to find patterns in the data\n",
    "model.fit(X,y)#we add input and output set \n",
    "\n",
    "\n",
    "# Now we have to ask our model to make a prediction \"What's the kind of music that a 21 year old male likes?\"\n",
    "# because of the information that we added we can assume that a 21year old male would preffer hip-hop\n",
    "\n",
    "predictions = model.predict([[21,1],[22,0]]) # here we ask about a 21yo man and a 22yo woman\n",
    "predictions"
   ]
  },
  {
   "cell_type": "code",
   "execution_count": null,
   "metadata": {},
   "outputs": [],
   "source": []
  }
 ],
 "metadata": {
  "kernelspec": {
   "display_name": "Python 3",
   "language": "python",
   "name": "python3"
  },
  "language_info": {
   "codemirror_mode": {
    "name": "ipython",
    "version": 3
   },
   "file_extension": ".py",
   "mimetype": "text/x-python",
   "name": "python",
   "nbconvert_exporter": "python",
   "pygments_lexer": "ipython3",
   "version": "3.7.4"
  }
 },
 "nbformat": 4,
 "nbformat_minor": 2
}
